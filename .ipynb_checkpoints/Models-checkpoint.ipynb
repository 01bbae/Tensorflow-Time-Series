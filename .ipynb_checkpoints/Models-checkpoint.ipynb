{
 "cells": [
  {
   "cell_type": "code",
   "execution_count": 1,
   "id": "a78ef61e",
   "metadata": {},
   "outputs": [
    {
     "data": {
      "text/plain": [
       "'2.8.0'"
      ]
     },
     "execution_count": 1,
     "metadata": {},
     "output_type": "execute_result"
    }
   ],
   "source": [
    "import numpy as np\n",
    "import pandas as pd\n",
    "import tensorflow as tf\n",
    "from tensorflow.keras import datasets, layers, models, losses, optimizers, Input, optimizers\n",
    "from tensorflow.keras.callbacks import TensorBoard\n",
    "from tensorflow.keras.utils import to_categorical\n",
    "import tensorflow_addons as tfa\n",
    "from tensorboard.plugins.hparams import api as hp\n",
    "from matplotlib import pyplot as plt\n",
    "from tqdm.notebook import tqdm\n",
    "import time\n",
    "import os\n",
    "from time import sleep\n",
    "import datetime\n",
    "from sklearn.preprocessing import StandardScaler\n",
    "from sklearn.metrics import ConfusionMatrixDisplay\n",
    "import pprint\n",
    "import pywt\n",
    "tf.__version__"
   ]
  },
  {
   "cell_type": "code",
   "execution_count": 2,
   "id": "673d4244-f641-4096-bb2f-0db85fd99d54",
   "metadata": {},
   "outputs": [],
   "source": [
    "%load_ext tensorboard"
   ]
  },
  {
   "cell_type": "code",
   "execution_count": 3,
   "id": "ee1bbbbe",
   "metadata": {},
   "outputs": [],
   "source": [
    "start = time.perf_counter()"
   ]
  },
  {
   "cell_type": "code",
   "execution_count": 4,
   "id": "75a254d8",
   "metadata": {
    "scrolled": true
   },
   "outputs": [
    {
     "data": {
      "text/plain": [
       "True"
      ]
     },
     "execution_count": 4,
     "metadata": {},
     "output_type": "execute_result"
    }
   ],
   "source": [
    "len(tf.config.list_physical_devices('GPU'))>0"
   ]
  },
  {
   "cell_type": "code",
   "execution_count": 5,
   "id": "5661d1f1",
   "metadata": {},
   "outputs": [
    {
     "name": "stdout",
     "output_type": "stream",
     "text": [
      "/device:GPU:0\n"
     ]
    }
   ],
   "source": [
    "device_name = tf.test.gpu_device_name()\n",
    "print(device_name)"
   ]
  },
  {
   "cell_type": "markdown",
   "id": "27989127-a585-4d20-890a-659413bc8b82",
   "metadata": {},
   "source": [
    "### Create Log directories for Tensorboard"
   ]
  },
  {
   "cell_type": "code",
   "execution_count": 6,
   "id": "c1673c8c-13c6-481b-980d-c91e1f5752d5",
   "metadata": {},
   "outputs": [],
   "source": [
    "# try:\n",
    "#     if not os.path.exists(\"logs\"):\n",
    "#         log_path = os.path.join(\"logs\",\"fit\")\n",
    "#         os.makedirs(os.path.join(log_path,\"lstm\",\"bidirectional\"))\n",
    "#         os.mkdir(os.path.join(log_path,\"cnn\"))\n",
    "#         print(\"log files are created\")\n",
    "#     else:\n",
    "#         print(\"log files already exist\")\n",
    "# except Exception as e:\n",
    "#     print(e)\n",
    "#     print(\"Error while creating log directories. Aborted.\")"
   ]
  },
  {
   "cell_type": "code",
   "execution_count": 7,
   "id": "a2844e2a-1a60-45bb-af86-852c4208fa4d",
   "metadata": {},
   "outputs": [],
   "source": [
    "# image_path = \"images\"\n",
    "# try:\n",
    "#     os.mkdir(image_path)\n",
    "    \n",
    "# except Exception as e:\n",
    "#     print(e)\n",
    "#     print(\"Error while creating image directory. Aborted.\")"
   ]
  },
  {
   "cell_type": "markdown",
   "id": "d3cc9734-6486-4832-9ef0-e2bcb266dc90",
   "metadata": {},
   "source": [
    "### Load Data"
   ]
  },
  {
   "cell_type": "code",
   "execution_count": 8,
   "id": "96dfd861",
   "metadata": {},
   "outputs": [],
   "source": [
    "X_x_train = np.loadtxt(\"./data/X_x_train.txt\")\n",
    "X_y_train = np.loadtxt(\"./data/X_y_train.txt\")\n",
    "X_z_train = np.loadtxt(\"./data/X_z_train.txt\")\n",
    "y_train = np.loadtxt(\"./data/y_train.txt\")\n",
    "\n",
    "X_x_test = np.loadtxt(\"./data/X_x_test.txt\")\n",
    "X_y_test = np.loadtxt(\"./data/X_y_test.txt\")\n",
    "X_z_test = np.loadtxt(\"./data/X_z_test.txt\")\n",
    "y_test = np.loadtxt(\"./data/y_test.txt\")"
   ]
  },
  {
   "cell_type": "markdown",
   "id": "b039afd9-8879-46e0-98cd-c1c349d5d426",
   "metadata": {},
   "source": [
    "### Normalize Data"
   ]
  },
  {
   "cell_type": "code",
   "execution_count": 9,
   "id": "dd6bc501",
   "metadata": {
    "tags": []
   },
   "outputs": [],
   "source": [
    "norm = StandardScaler()"
   ]
  },
  {
   "cell_type": "code",
   "execution_count": 10,
   "id": "a8f685c2",
   "metadata": {
    "tags": []
   },
   "outputs": [],
   "source": [
    "X_x_train_norm = norm.fit_transform(X_x_train)\n",
    "X_y_train_norm = norm.fit_transform(X_y_train)\n",
    "X_z_train_norm = norm.fit_transform(X_z_train)\n",
    "\n",
    "X_x_test_norm = norm.fit_transform(X_x_test)\n",
    "X_y_test_norm = norm.fit_transform(X_y_test)\n",
    "X_z_test_norm = norm.fit_transform(X_z_test)"
   ]
  },
  {
   "cell_type": "markdown",
   "id": "90441925-1603-423a-907d-fa8a53232186",
   "metadata": {},
   "source": [
    "### Compile X, Y, Z data into train/test arrays"
   ]
  },
  {
   "cell_type": "code",
   "execution_count": 11,
   "id": "fbc18999",
   "metadata": {
    "tags": []
   },
   "outputs": [],
   "source": [
    "def concat_xyz(x,y,z):\n",
    "    new_arr = np.empty((x.shape[0], 3, x.shape[1]))\n",
    "    new_arr[:,0] = x\n",
    "    new_arr[:,1] = y\n",
    "    new_arr[:,2] = z\n",
    "    return new_arr"
   ]
  },
  {
   "cell_type": "code",
   "execution_count": 12,
   "id": "911dfb2f",
   "metadata": {
    "tags": []
   },
   "outputs": [],
   "source": [
    "X_xyz_norm_train =  concat_xyz(X_x_train_norm,X_y_train_norm, X_z_train_norm)\n",
    "X_xyz_norm_test = concat_xyz(X_x_test_norm,X_y_test_norm,X_z_test_norm)"
   ]
  },
  {
   "cell_type": "code",
   "execution_count": 13,
   "id": "92b7c699-1017-4ee7-b752-125a41b99baa",
   "metadata": {},
   "outputs": [
    {
     "data": {
      "text/plain": [
       "(7352, 3, 128)"
      ]
     },
     "execution_count": 13,
     "metadata": {},
     "output_type": "execute_result"
    }
   ],
   "source": [
    "X_xyz_norm_train.shape"
   ]
  },
  {
   "cell_type": "markdown",
   "id": "fc8e6bd5-46e2-4602-b8d3-214a5763181d",
   "metadata": {},
   "source": [
    "For the training data, there are 7352 different trials for 3 channels of accelerometer data (x,y,z) sampled 128 times during each trial."
   ]
  },
  {
   "cell_type": "code",
   "execution_count": 14,
   "id": "31aa19b4",
   "metadata": {},
   "outputs": [
    {
     "name": "stdout",
     "output_type": "stream",
     "text": [
      "6\n"
     ]
    }
   ],
   "source": [
    "label_names = ['Walking', 'Walking upstairs', 'Walking downstairs', 'Sitting', 'Standing', 'Laying']\n",
    "num_classes = len(label_names)\n",
    "print(num_classes)"
   ]
  },
  {
   "cell_type": "code",
   "execution_count": 15,
   "id": "adef527c",
   "metadata": {},
   "outputs": [],
   "source": [
    "# shifting y_train to values from 0 to num_classes-1 (zero indexing)\n",
    "y_train = y_train - 1\n",
    "y_test = y_test - 1"
   ]
  },
  {
   "cell_type": "markdown",
   "id": "ccd93f70-b663-4643-bd5f-d065138c52c5",
   "metadata": {},
   "source": [
    "### One hot encoding"
   ]
  },
  {
   "cell_type": "code",
   "execution_count": 16,
   "id": "c115c2ce-0ee7-4c0b-89c9-07c6a7bc3ade",
   "metadata": {},
   "outputs": [],
   "source": [
    "y_ohe_train = to_categorical(y_train,num_classes)\n",
    "y_ohe_test = to_categorical(y_test, num_classes)"
   ]
  },
  {
   "cell_type": "markdown",
   "id": "509a2bb1-4319-47f3-95d4-366bc78ba016",
   "metadata": {},
   "source": [
    "#### Here are the current shapes of each variable"
   ]
  },
  {
   "cell_type": "code",
   "execution_count": 17,
   "id": "84bcd1dc",
   "metadata": {},
   "outputs": [
    {
     "data": {
      "text/plain": [
       "(7352, 3, 128)"
      ]
     },
     "execution_count": 17,
     "metadata": {},
     "output_type": "execute_result"
    }
   ],
   "source": [
    "X_xyz_norm_train.shape"
   ]
  },
  {
   "cell_type": "code",
   "execution_count": 18,
   "id": "f51a9832-d21b-448b-a25f-54cf119c0856",
   "metadata": {},
   "outputs": [
    {
     "data": {
      "text/plain": [
       "(2947, 3, 128)"
      ]
     },
     "execution_count": 18,
     "metadata": {},
     "output_type": "execute_result"
    }
   ],
   "source": [
    "X_xyz_norm_test.shape"
   ]
  },
  {
   "cell_type": "code",
   "execution_count": 19,
   "id": "a7803cd1-e360-4d19-aaf4-3e040f7af92e",
   "metadata": {},
   "outputs": [
    {
     "data": {
      "text/plain": [
       "(7352,)"
      ]
     },
     "execution_count": 19,
     "metadata": {},
     "output_type": "execute_result"
    }
   ],
   "source": [
    "y_train.shape"
   ]
  },
  {
   "cell_type": "code",
   "execution_count": 20,
   "id": "eb077bf5-811a-4e0f-8203-8e16d866f476",
   "metadata": {},
   "outputs": [
    {
     "data": {
      "text/plain": [
       "(2947,)"
      ]
     },
     "execution_count": 20,
     "metadata": {},
     "output_type": "execute_result"
    }
   ],
   "source": [
    "y_test.shape"
   ]
  },
  {
   "cell_type": "code",
   "execution_count": 21,
   "id": "912382fb-ff2a-4380-9136-ae02a8ea572a",
   "metadata": {},
   "outputs": [
    {
     "data": {
      "text/plain": [
       "(7352, 6)"
      ]
     },
     "execution_count": 21,
     "metadata": {},
     "output_type": "execute_result"
    }
   ],
   "source": [
    "y_ohe_train.shape"
   ]
  },
  {
   "cell_type": "code",
   "execution_count": 22,
   "id": "3ef375a2-b36a-4911-969a-6c946e7095f0",
   "metadata": {},
   "outputs": [
    {
     "data": {
      "text/plain": [
       "(2947, 6)"
      ]
     },
     "execution_count": 22,
     "metadata": {},
     "output_type": "execute_result"
    }
   ],
   "source": [
    "y_ohe_test.shape"
   ]
  },
  {
   "cell_type": "markdown",
   "id": "ddcb4d1d-182c-485a-97b0-b49bb456e22e",
   "metadata": {},
   "source": [
    "# Creating Continuous Wavelet Transforms representing time series data"
   ]
  },
  {
   "cell_type": "markdown",
   "id": "76cef9f6-bf18-49e4-b0de-eb4aec1d4a28",
   "metadata": {},
   "source": [
    "### Showing the 1/7352 128-sample run"
   ]
  },
  {
   "cell_type": "code",
   "execution_count": 23,
   "id": "ca4d2958-c2be-43b9-bfec-0aea0e145f1d",
   "metadata": {
    "tags": []
   },
   "outputs": [
    {
     "data": {
      "text/plain": [
       "<function matplotlib.pyplot.show(close=None, block=None)>"
      ]
     },
     "execution_count": 23,
     "metadata": {},
     "output_type": "execute_result"
    },
    {
     "data": {
      "image/png": "[encoded data removed]",
      "text/plain": [
       "<Figure size 432x288 with 1 Axes>"
      ]
     },
     "metadata": {
      "needs_background": "light"
     },
     "output_type": "display_data"
    }
   ],
   "source": [
    "plt.title(\"Normalized Accelerometer Data for 1/7352 Runs\")\n",
    "plt.plot(X_xyz_norm_train[0][0])\n",
    "plt.plot(X_xyz_norm_train[0][1])\n",
    "plt.plot(X_xyz_norm_train[0][2])\n",
    "# plt.savefig(os.path.join(image_path,\n",
    "plt.show"
   ]
  },
  {
   "cell_type": "markdown",
   "id": "370e3b14-d92d-4d92-9234-f4318334b5a7",
   "metadata": {},
   "source": [
    "#### Convert all data to wavelets"
   ]
  },
  {
   "cell_type": "code",
   "execution_count": 24,
   "id": "9ff5dc04-60f7-4f10-889e-1156c3a183ee",
   "metadata": {},
   "outputs": [],
   "source": [
    "def find_length(a):\n",
    "    return np.sqrt(np.dot(a,a))\n",
    "    # np.sqrt((X_xyz_norm_train[0][0])**2+(X_xyz_norm_train[0][1])**2+(X_xyz_norm_train[0][2])**2)"
   ]
  },
  {
   "cell_type": "code",
   "execution_count": 25,
   "id": "a9119ca3-3831-42e1-8ca1-1cf37b9b90e0",
   "metadata": {
    "tags": []
   },
   "outputs": [],
   "source": [
    "X_xyz_norm_train_wave = np.apply_along_axis(find_length, len(X_xyz_norm_train.shape)-2 , X_xyz_norm_train)\n",
    "X_xyz_norm_test_wave = np.apply_along_axis(find_length, len(X_xyz_norm_test.shape)-2 , X_xyz_norm_test)"
   ]
  },
  {
   "cell_type": "code",
   "execution_count": 26,
   "id": "84fab5ea-7caf-4be1-b153-68f45a714d7c",
   "metadata": {
    "tags": []
   },
   "outputs": [
    {
     "data": {
      "text/plain": [
       "<function matplotlib.pyplot.show(close=None, block=None)>"
      ]
     },
     "execution_count": 26,
     "metadata": {},
     "output_type": "execute_result"
    },
    {
     "data": {
      "image/png": "[encoded data removed]",
      "text/plain": [
       "<Figure size 432x288 with 1 Axes>"
      ]
     },
     "metadata": {
      "needs_background": "light"
     },
     "output_type": "display_data"
    }
   ],
   "source": [
    "plt.plot(X_xyz_norm_train_wave[0])\n",
    "plt.show"
   ]
  },
  {
   "cell_type": "code",
   "execution_count": 27,
   "id": "fb2c3934-dc63-4c5f-b4f7-2736ad82c2df",
   "metadata": {},
   "outputs": [
    {
     "data": {
      "text/plain": [
       "<matplotlib.image.AxesImage at 0x272a487a3e0>"
      ]
     },
     "execution_count": 27,
     "metadata": {},
     "output_type": "execute_result"
    },
    {
     "data": {
      "image/png": "[encoded data removed]",
      "text/plain": [
       "<Figure size 432x288 with 1 Axes>"
      ]
     },
     "metadata": {
      "needs_background": "light"
     },
     "output_type": "display_data"
    }
   ],
   "source": [
    "# samples taken at 50hz\n",
    "coeffs, freqs = pywt.cwt(X_xyz_norm_train_wave[0],10,'morl')\n",
    "plt.imshow(coeffs, cmap = 'coolwarm', aspect = 'auto')"
   ]
  },
  {
   "cell_type": "markdown",
   "id": "6ecbe9a0-3fa0-48fc-931c-83dd8a6e52d1",
   "metadata": {},
   "source": [
    "Using Morlet wavelets"
   ]
  },
  {
   "cell_type": "markdown",
   "id": "07ebb536",
   "metadata": {},
   "source": [
    "# Implementing CNN"
   ]
  },
  {
   "cell_type": "markdown",
   "id": "52fe198e-2baa-4869-9264-1b886043d506",
   "metadata": {},
   "source": [
    "## CNN for Raw Data"
   ]
  },
  {
   "cell_type": "code",
   "execution_count": 44,
   "id": "c4e7af92-eb96-489e-8bfe-2ded7f40d788",
   "metadata": {},
   "outputs": [
    {
     "name": "stdout",
     "output_type": "stream",
     "text": [
      "(3, 128)\n"
     ]
    }
   ],
   "source": [
    "input_shape_cnn_raw = X_xyz_norm_train.shape[1:]\n",
    "print(input_shape_cnn_raw)"
   ]
  },
  {
   "cell_type": "markdown",
   "id": "602c426b",
   "metadata": {},
   "source": [
    "The original notebook used TF1 with placeholder. Here we take `(3, 128)` as input shape instead of `(None, 3, 128)`"
   ]
  },
  {
   "cell_type": "code",
   "execution_count": 45,
   "id": "06ec22ae",
   "metadata": {},
   "outputs": [],
   "source": [
    "cnn = models.Sequential()\n",
    "cnn.add(layers.Conv1D(filters=32, kernel_size=3, activation='relu', input_shape=input_shape_cnn_raw))\n",
    "# cnn.add(layers.AveragePooling1D(pool_size=2))\n",
    "cnn.add(layers.Flatten())\n",
    "cnn.add(layers.Dense(10, activation='relu'))\n",
    "cnn.add(layers.Dropout(.2))\n",
    "cnn.add(layers.Dense(10, activation='relu'))\n",
    "cnn.add(layers.Dropout(.2))\n",
    "cnn.add(layers.Dense(5, activation='relu'))\n",
    "cnn.add(layers.Dropout(.2))\n",
    "\n",
    "cnn.add(layers.Dense(num_classes,activation='softmax'))"
   ]
  },
  {
   "cell_type": "markdown",
   "id": "660a7ea5-7f8f-49f1-864e-b26dc1005252",
   "metadata": {},
   "source": [
    "Reducing Layer output and total layers solves overfitting"
   ]
  },
  {
   "cell_type": "code",
   "execution_count": 46,
   "id": "584f8db8",
   "metadata": {},
   "outputs": [
    {
     "name": "stdout",
     "output_type": "stream",
     "text": [
      "Model: \"sequential_3\"\n",
      "_________________________________________________________________\n",
      " Layer (type)                Output Shape              Param #   \n",
      "=================================================================\n",
      " conv1d_3 (Conv1D)           (None, 1, 32)             12320     \n",
      "                                                                 \n",
      " flatten_2 (Flatten)         (None, 32)                0         \n",
      "                                                                 \n",
      " dense_8 (Dense)             (None, 10)                330       \n",
      "                                                                 \n",
      " dropout_6 (Dropout)         (None, 10)                0         \n",
      "                                                                 \n",
      " dense_9 (Dense)             (None, 10)                110       \n",
      "                                                                 \n",
      " dropout_7 (Dropout)         (None, 10)                0         \n",
      "                                                                 \n",
      " dense_10 (Dense)            (None, 5)                 55        \n",
      "                                                                 \n",
      " dropout_8 (Dropout)         (None, 5)                 0         \n",
      "                                                                 \n",
      " dense_11 (Dense)            (None, 6)                 36        \n",
      "                                                                 \n",
      "=================================================================\n",
      "Total params: 12,851\n",
      "Trainable params: 12,851\n",
      "Non-trainable params: 0\n",
      "_________________________________________________________________\n"
     ]
    }
   ],
   "source": [
    "cnn.summary()"
   ]
  },
  {
   "cell_type": "code",
   "execution_count": 47,
   "id": "e6f59b08",
   "metadata": {},
   "outputs": [],
   "source": [
    "# optimizer = tf.keras.optimizers.SGD(learning_rate=0.01)\n",
    "cnn.compile(optimizer=optimizers.Adam(),\n",
    "           loss=\"categorical_crossentropy\",\n",
    "           metrics=[tf.keras.metrics.Accuracy(),\n",
    "                    tf.keras.metrics.Precision(),\n",
    "                    tf.keras.metrics.Recall(),\n",
    "                    tfa.metrics.F1Score(num_classes = num_classes, average='micro')\n",
    "                   ])"
   ]
  },
  {
   "cell_type": "markdown",
   "id": "835298f6-438d-4e85-8806-a2df9b430946",
   "metadata": {},
   "source": [
    "#### Creating Tensorboard logs, saving, and running model"
   ]
  },
  {
   "cell_type": "code",
   "execution_count": 48,
   "id": "28cfe256",
   "metadata": {
    "collapsed": true,
    "jupyter": {
     "outputs_hidden": true
    },
    "tags": []
   },
   "outputs": [
    {
     "name": "stdout",
     "output_type": "stream",
     "text": [
      "Epoch 1/100\n",
      "91/99 [==========================>...] - ETA: 0s - loss: 1.7067 - accuracy: 0.0000e+00 - precision_2: 0.4536 - recall_2: 0.0186 - f1_score: 0.3020\n",
      "Epoch 1: saving model to models/cnn/raw\\20220506-050627\n",
      "99/99 [==============================] - 1s 9ms/step - loss: 1.6999 - accuracy: 0.0000e+00 - precision_2: 0.4673 - recall_2: 0.0204 - f1_score: 0.3027 - val_loss: 1.5518 - val_accuracy: 0.0000e+00 - val_precision_2: 0.7451 - val_recall_2: 0.0129 - val_f1_score: 0.3912\n",
      "Epoch 2/100\n",
      "89/99 [=========================>....] - ETA: 0s - loss: 1.5381 - accuracy: 0.0000e+00 - precision_2: 0.5904 - recall_2: 0.0944 - f1_score: 0.3750\n",
      "Epoch 2: saving model to models/cnn/raw\\20220506-050627\n",
      "99/99 [==============================] - 1s 5ms/step - loss: 1.5306 - accuracy: 0.0000e+00 - precision_2: 0.5905 - recall_2: 0.0981 - f1_score: 0.3762 - val_loss: 1.3323 - val_accuracy: 0.0000e+00 - val_precision_2: 0.7900 - val_recall_2: 0.1442 - val_f1_score: 0.4740\n",
      "Epoch 3/100\n",
      "90/99 [==========================>...] - ETA: 0s - loss: 1.3879 - accuracy: 0.0000e+00 - precision_2: 0.6208 - recall_2: 0.1572 - f1_score: 0.4159\n",
      "Epoch 3: saving model to models/cnn/raw\\20220506-050627\n",
      "99/99 [==============================] - 1s 5ms/step - loss: 1.3785 - accuracy: 0.0000e+00 - precision_2: 0.6273 - recall_2: 0.1612 - f1_score: 0.4181 - val_loss: 1.1891 - val_accuracy: 0.0000e+00 - val_precision_2: 0.7863 - val_recall_2: 0.2460 - val_f1_score: 0.5158\n",
      "Epoch 4/100\n",
      "89/99 [=========================>....] - ETA: 0s - loss: 1.2744 - accuracy: 0.0000e+00 - precision_2: 0.6683 - recall_2: 0.2073 - f1_score: 0.4406\n",
      "Epoch 4: saving model to models/cnn/raw\\20220506-050627\n",
      "99/99 [==============================] - 1s 5ms/step - loss: 1.2747 - accuracy: 0.0000e+00 - precision_2: 0.6681 - recall_2: 0.2048 - f1_score: 0.4397 - val_loss: 1.1142 - val_accuracy: 0.0000e+00 - val_precision_2: 0.7921 - val_recall_2: 0.3000 - val_f1_score: 0.5395\n",
      "Epoch 5/100\n",
      "86/99 [=========================>....] - ETA: 0s - loss: 1.2048 - accuracy: 0.0000e+00 - precision_2: 0.6915 - recall_2: 0.2259 - f1_score: 0.4586\n",
      "Epoch 5: saving model to models/cnn/raw\\20220506-050627\n",
      "99/99 [==============================] - 1s 6ms/step - loss: 1.2011 - accuracy: 0.0000e+00 - precision_2: 0.6926 - recall_2: 0.2289 - f1_score: 0.4600 - val_loss: 1.0673 - val_accuracy: 0.0000e+00 - val_precision_2: 0.7974 - val_recall_2: 0.3325 - val_f1_score: 0.5456\n",
      "Epoch 6/100\n",
      "93/99 [===========================>..] - ETA: 0s - loss: 1.1438 - accuracy: 4.7790e-05 - precision_2: 0.7242 - recall_2: 0.2591 - f1_score: 0.4836\n",
      "Epoch 6: saving model to models/cnn/raw\\20220506-050627\n",
      "99/99 [==============================] - 1s 6ms/step - loss: 1.1429 - accuracy: 6.8009e-05 - precision_2: 0.7234 - recall_2: 0.2603 - f1_score: 0.4820 - val_loss: 1.0352 - val_accuracy: 0.0000e+00 - val_precision_2: 0.8335 - val_recall_2: 0.3634 - val_f1_score: 0.5640\n",
      "Epoch 7/100\n",
      "93/99 [===========================>..] - ETA: 0s - loss: 1.1115 - accuracy: 2.1505e-04 - precision_2: 0.7326 - recall_2: 0.2746 - f1_score: 0.4875\n",
      "Epoch 7: saving model to models/cnn/raw\\20220506-050627\n",
      "99/99 [==============================] - 1s 6ms/step - loss: 1.1125 - accuracy: 2.0403e-04 - precision_2: 0.7329 - recall_2: 0.2729 - f1_score: 0.4869 - val_loss: 1.0130 - val_accuracy: 0.0000e+00 - val_precision_2: 0.8121 - val_recall_2: 0.3638 - val_f1_score: 0.5582\n",
      "Epoch 8/100\n",
      "95/99 [===========================>..] - ETA: 0s - loss: 1.0821 - accuracy: 5.3801e-04 - precision_2: 0.7396 - recall_2: 0.2810 - f1_score: 0.4905\n",
      "Epoch 8: saving model to models/cnn/raw\\20220506-050627\n",
      "99/99 [==============================] - 1s 6ms/step - loss: 1.0818 - accuracy: 5.4407e-04 - precision_2: 0.7370 - recall_2: 0.2806 - f1_score: 0.4906 - val_loss: 0.9925 - val_accuracy: 0.0000e+00 - val_precision_2: 0.8148 - val_recall_2: 0.3733 - val_f1_score: 0.5619\n",
      "Epoch 9/100\n",
      "98/99 [============================>.] - ETA: 0s - loss: 1.0429 - accuracy: 8.1633e-04 - precision_2: 0.7569 - recall_2: 0.3004 - f1_score: 0.5041\n",
      "Epoch 9: saving model to models/cnn/raw\\20220506-050627\n",
      "99/99 [==============================] - 1s 6ms/step - loss: 1.0428 - accuracy: 8.1610e-04 - precision_2: 0.7570 - recall_2: 0.3005 - f1_score: 0.5041 - val_loss: 0.9775 - val_accuracy: 0.0000e+00 - val_precision_2: 0.8156 - val_recall_2: 0.3753 - val_f1_score: 0.5636\n",
      "Epoch 10/100\n",
      "92/99 [==========================>...] - ETA: 0s - loss: 1.0256 - accuracy: 0.0011 - precision_2: 0.7443 - recall_2: 0.3012 - f1_score: 0.5049\n",
      "Epoch 10: saving model to models/cnn/raw\\20220506-050627\n",
      "99/99 [==============================] - 1s 5ms/step - loss: 1.0246 - accuracy: 0.0011 - precision_2: 0.7454 - recall_2: 0.3006 - f1_score: 0.5034 - val_loss: 0.9876 - val_accuracy: 0.0000e+00 - val_precision_2: 0.7908 - val_recall_2: 0.3668 - val_f1_score: 0.5511\n",
      "Epoch 11/100\n",
      "87/99 [=========================>....] - ETA: 0s - loss: 1.0124 - accuracy: 0.0016 - precision_2: 0.7602 - recall_2: 0.3022 - f1_score: 0.5070\n",
      "Epoch 11: saving model to models/cnn/raw\\20220506-050627\n",
      "99/99 [==============================] - 1s 5ms/step - loss: 1.0107 - accuracy: 0.0016 - precision_2: 0.7575 - recall_2: 0.3021 - f1_score: 0.5065 - val_loss: 0.9696 - val_accuracy: 1.6966e-04 - val_precision_2: 0.8146 - val_recall_2: 0.3787 - val_f1_score: 0.5629\n",
      "Epoch 12/100\n",
      "98/99 [============================>.] - ETA: 0s - loss: 0.9917 - accuracy: 0.0018 - precision_2: 0.7650 - recall_2: 0.3114 - f1_score: 0.5101\n",
      "Epoch 12: saving model to models/cnn/raw\\20220506-050627\n",
      "99/99 [==============================] - 1s 6ms/step - loss: 0.9917 - accuracy: 0.0018 - precision_2: 0.7651 - recall_2: 0.3115 - f1_score: 0.5102 - val_loss: 0.9569 - val_accuracy: 0.0000e+00 - val_precision_2: 0.8127 - val_recall_2: 0.3784 - val_f1_score: 0.5640\n",
      "Epoch 13/100\n",
      "99/99 [==============================] - ETA: 0s - loss: 0.9827 - accuracy: 0.0027 - precision_2: 0.7802 - recall_2: 0.3172 - f1_score: 0.5135\n",
      "Epoch 13: saving model to models/cnn/raw\\20220506-050627\n",
      "99/99 [==============================] - 1s 6ms/step - loss: 0.9827 - accuracy: 0.0027 - precision_2: 0.7802 - recall_2: 0.3172 - f1_score: 0.5135 - val_loss: 0.9415 - val_accuracy: 1.1311e-04 - val_precision_2: 0.8272 - val_recall_2: 0.3865 - val_f1_score: 0.5694\n",
      "Epoch 14/100\n",
      "92/99 [==========================>...] - ETA: 0s - loss: 0.9605 - accuracy: 0.0035 - precision_2: 0.7792 - recall_2: 0.3238 - f1_score: 0.5214\n",
      "Epoch 14: saving model to models/cnn/raw\\20220506-050627\n",
      "99/99 [==============================] - 1s 6ms/step - loss: 0.9591 - accuracy: 0.0035 - precision_2: 0.7807 - recall_2: 0.3249 - f1_score: 0.5214 - val_loss: 0.9379 - val_accuracy: 0.0000e+00 - val_precision_2: 0.8327 - val_recall_2: 0.3885 - val_f1_score: 0.5714\n",
      "Epoch 15/100\n",
      "88/99 [=========================>....] - ETA: 0s - loss: 0.9460 - accuracy: 0.0053 - precision_2: 0.7886 - recall_2: 0.3295 - f1_score: 0.5270\n",
      "Epoch 15: saving model to models/cnn/raw\\20220506-050627\n",
      "99/99 [==============================] - 1s 5ms/step - loss: 0.9480 - accuracy: 0.0055 - precision_2: 0.7843 - recall_2: 0.3270 - f1_score: 0.5226 - val_loss: 0.9269 - val_accuracy: 7.9177e-04 - val_precision_2: 0.8535 - val_recall_2: 0.3994 - val_f1_score: 0.5823\n",
      "Epoch 16/100\n",
      "87/99 [=========================>....] - ETA: 0s - loss: 0.9163 - accuracy: 0.0096 - precision_2: 0.8001 - recall_2: 0.3398 - f1_score: 0.5341\n",
      "Epoch 16: saving model to models/cnn/raw\\20220506-050627\n",
      "99/99 [==============================] - 1s 5ms/step - loss: 0.9204 - accuracy: 0.0095 - precision_2: 0.7981 - recall_2: 0.3365 - f1_score: 0.5313 - val_loss: 0.9216 - val_accuracy: 0.0015 - val_precision_2: 0.8408 - val_recall_2: 0.3943 - val_f1_score: 0.5765\n",
      "Epoch 17/100\n",
      "91/99 [==========================>...] - ETA: 0s - loss: 0.9091 - accuracy: 0.0136 - precision_2: 0.8143 - recall_2: 0.3443 - f1_score: 0.5389\n",
      "Epoch 17: saving model to models/cnn/raw\\20220506-050627\n",
      "99/99 [==============================] - 1s 5ms/step - loss: 0.9071 - accuracy: 0.0141 - precision_2: 0.8182 - recall_2: 0.3458 - f1_score: 0.5401 - val_loss: 0.9139 - val_accuracy: 0.0031 - val_precision_2: 0.8576 - val_recall_2: 0.4024 - val_f1_score: 0.5853\n",
      "Epoch 18/100\n",
      "90/99 [==========================>...] - ETA: 0s - loss: 0.9071 - accuracy: 0.0183 - precision_2: 0.8167 - recall_2: 0.3459 - f1_score: 0.5407\n",
      "Epoch 18: saving model to models/cnn/raw\\20220506-050627\n",
      "99/99 [==============================] - 1s 5ms/step - loss: 0.9076 - accuracy: 0.0177 - precision_2: 0.8151 - recall_2: 0.3459 - f1_score: 0.5390 - val_loss: 0.9192 - val_accuracy: 0.0023 - val_precision_2: 0.8425 - val_recall_2: 0.3957 - val_f1_score: 0.5782\n",
      "Epoch 19/100\n",
      "89/99 [=========================>....] - ETA: 0s - loss: 0.8930 - accuracy: 0.0169 - precision_2: 0.8190 - recall_2: 0.3506 - f1_score: 0.5431\n",
      "Epoch 19: saving model to models/cnn/raw\\20220506-050627\n",
      "99/99 [==============================] - 1s 6ms/step - loss: 0.8958 - accuracy: 0.0169 - precision_2: 0.8161 - recall_2: 0.3477 - f1_score: 0.5422 - val_loss: 0.9118 - val_accuracy: 0.0036 - val_precision_2: 0.8482 - val_recall_2: 0.3980 - val_f1_score: 0.5803\n",
      "Epoch 20/100\n",
      "97/99 [============================>.] - ETA: 0s - loss: 0.8843 - accuracy: 0.0230 - precision_2: 0.8331 - recall_2: 0.3534 - f1_score: 0.5471\n",
      "Epoch 20: saving model to models/cnn/raw\\20220506-050627\n",
      "99/99 [==============================] - 1s 6ms/step - loss: 0.8844 - accuracy: 0.0230 - precision_2: 0.8327 - recall_2: 0.3534 - f1_score: 0.5479 - val_loss: 0.9119 - val_accuracy: 0.0043 - val_precision_2: 0.8309 - val_recall_2: 0.3902 - val_f1_score: 0.5724\n",
      "Epoch 21/100\n",
      "96/99 [============================>.] - ETA: 0s - loss: 0.8848 - accuracy: 0.0273 - precision_2: 0.8253 - recall_2: 0.3524 - f1_score: 0.5424\n",
      "Epoch 21: saving model to models/cnn/raw\\20220506-050627\n",
      "99/99 [==============================] - 1s 6ms/step - loss: 0.8849 - accuracy: 0.0272 - precision_2: 0.8258 - recall_2: 0.3521 - f1_score: 0.5430 - val_loss: 0.9138 - val_accuracy: 0.0064 - val_precision_2: 0.8461 - val_recall_2: 0.3974 - val_f1_score: 0.5792\n",
      "Epoch 22/100\n",
      "89/99 [=========================>....] - ETA: 0s - loss: 0.8737 - accuracy: 0.0303 - precision_2: 0.8142 - recall_2: 0.3494 - f1_score: 0.5431\n",
      "Epoch 22: saving model to models/cnn/raw\\20220506-050627\n",
      "99/99 [==============================] - 1s 6ms/step - loss: 0.8728 - accuracy: 0.0306 - precision_2: 0.8136 - recall_2: 0.3492 - f1_score: 0.5419 - val_loss: 0.9332 - val_accuracy: 0.0103 - val_precision_2: 0.8582 - val_recall_2: 0.4024 - val_f1_score: 0.5850\n",
      "Epoch 23/100\n",
      "98/99 [============================>.] - ETA: 0s - loss: 0.8637 - accuracy: 0.0332 - precision_2: 0.8334 - recall_2: 0.3566 - f1_score: 0.5501\n",
      "Epoch 23: saving model to models/cnn/raw\\20220506-050627\n",
      "99/99 [==============================] - 1s 6ms/step - loss: 0.8636 - accuracy: 0.0332 - precision_2: 0.8334 - recall_2: 0.3566 - f1_score: 0.5501 - val_loss: 0.9214 - val_accuracy: 0.0121 - val_precision_2: 0.8630 - val_recall_2: 0.4041 - val_f1_score: 0.5870\n",
      "Epoch 24/100\n",
      "90/99 [==========================>...] - ETA: 0s - loss: 0.8573 - accuracy: 0.0375 - precision_2: 0.8380 - recall_2: 0.3609 - f1_score: 0.5520\n",
      "Epoch 24: saving model to models/cnn/raw\\20220506-050627\n",
      "99/99 [==============================] - 1s 6ms/step - loss: 0.8581 - accuracy: 0.0372 - precision_2: 0.8396 - recall_2: 0.3588 - f1_score: 0.5525 - val_loss: 0.9293 - val_accuracy: 0.0179 - val_precision_2: 0.8587 - val_recall_2: 0.4041 - val_f1_score: 0.5860\n",
      "Epoch 25/100\n",
      "98/99 [============================>.] - ETA: 0s - loss: 0.8624 - accuracy: 0.0427 - precision_2: 0.8401 - recall_2: 0.3588 - f1_score: 0.5521\n",
      "Epoch 25: saving model to models/cnn/raw\\20220506-050627\n",
      "99/99 [==============================] - 1s 6ms/step - loss: 0.8622 - accuracy: 0.0427 - precision_2: 0.8402 - recall_2: 0.3589 - f1_score: 0.5522 - val_loss: 0.9177 - val_accuracy: 0.0181 - val_precision_2: 0.8592 - val_recall_2: 0.4038 - val_f1_score: 0.5860\n",
      "Epoch 26/100\n",
      "96/99 [============================>.] - ETA: 0s - loss: 0.8483 - accuracy: 0.0494 - precision_2: 0.8426 - recall_2: 0.3629 - f1_score: 0.5554\n",
      "Epoch 26: saving model to models/cnn/raw\\20220506-050627\n",
      "99/99 [==============================] - 1s 5ms/step - loss: 0.8490 - accuracy: 0.0491 - precision_2: 0.8422 - recall_2: 0.3622 - f1_score: 0.5555 - val_loss: 0.9353 - val_accuracy: 0.0221 - val_precision_2: 0.8562 - val_recall_2: 0.4041 - val_f1_score: 0.5847\n",
      "Epoch 27/100\n",
      "95/99 [===========================>..] - ETA: 0s - loss: 0.8361 - accuracy: 0.0525 - precision_2: 0.8493 - recall_2: 0.3679 - f1_score: 0.5601\n",
      "Epoch 27: saving model to models/cnn/raw\\20220506-050627\n",
      "99/99 [==============================] - 1s 6ms/step - loss: 0.8379 - accuracy: 0.0523 - precision_2: 0.8494 - recall_2: 0.3666 - f1_score: 0.5586 - val_loss: 0.9159 - val_accuracy: 0.0230 - val_precision_2: 0.8655 - val_recall_2: 0.4082 - val_f1_score: 0.5901\n",
      "Epoch 28/100\n",
      "85/99 [========================>.....] - ETA: 0s - loss: 0.8468 - accuracy: 0.0499 - precision_2: 0.8483 - recall_2: 0.3658 - f1_score: 0.5592\n",
      "Epoch 28: saving model to models/cnn/raw\\20220506-050627\n",
      "99/99 [==============================] - 1s 6ms/step - loss: 0.8490 - accuracy: 0.0493 - precision_2: 0.8492 - recall_2: 0.3653 - f1_score: 0.5581 - val_loss: 0.9166 - val_accuracy: 0.0241 - val_precision_2: 0.8570 - val_recall_2: 0.4028 - val_f1_score: 0.5843\n",
      "Epoch 29/100\n",
      "93/99 [===========================>..] - ETA: 0s - loss: 0.8372 - accuracy: 0.0553 - precision_2: 0.8557 - recall_2: 0.3682 - f1_score: 0.5634\n",
      "Epoch 29: saving model to models/cnn/raw\\20220506-050627\n",
      "99/99 [==============================] - 1s 6ms/step - loss: 0.8385 - accuracy: 0.0554 - precision_2: 0.8531 - recall_2: 0.3666 - f1_score: 0.5607 - val_loss: 0.9383 - val_accuracy: 0.0306 - val_precision_2: 0.8580 - val_recall_2: 0.4038 - val_f1_score: 0.5857\n",
      "Epoch 30/100\n",
      "90/99 [==========================>...] - ETA: 0s - loss: 0.8369 - accuracy: 0.0615 - precision_2: 0.8569 - recall_2: 0.3692 - f1_score: 0.5618\n",
      "Epoch 30: saving model to models/cnn/raw\\20220506-050627\n",
      "99/99 [==============================] - 1s 6ms/step - loss: 0.8378 - accuracy: 0.0623 - precision_2: 0.8566 - recall_2: 0.3681 - f1_score: 0.5613 - val_loss: 0.9495 - val_accuracy: 0.0348 - val_precision_2: 0.8457 - val_recall_2: 0.3980 - val_f1_score: 0.5799\n",
      "Epoch 31/100\n",
      "87/99 [=========================>....] - ETA: 0s - loss: 0.8393 - accuracy: 0.0631 - precision_2: 0.8554 - recall_2: 0.3681 - f1_score: 0.5603\n",
      "Epoch 31: saving model to models/cnn/raw\\20220506-050627\n",
      "99/99 [==============================] - 1s 6ms/step - loss: 0.8366 - accuracy: 0.0649 - precision_2: 0.8553 - recall_2: 0.3700 - f1_score: 0.5624 - val_loss: 0.9548 - val_accuracy: 0.0354 - val_precision_2: 0.8500 - val_recall_2: 0.4001 - val_f1_score: 0.5826\n",
      "Epoch 32/100\n",
      "89/99 [=========================>....] - ETA: 0s - loss: 0.8289 - accuracy: 0.0676 - precision_2: 0.8548 - recall_2: 0.3714 - f1_score: 0.5652\n",
      "Epoch 32: saving model to models/cnn/raw\\20220506-050627\n",
      "99/99 [==============================] - 1s 6ms/step - loss: 0.8311 - accuracy: 0.0683 - precision_2: 0.8575 - recall_2: 0.3700 - f1_score: 0.5628 - val_loss: 0.9448 - val_accuracy: 0.0447 - val_precision_2: 0.8573 - val_recall_2: 0.4038 - val_f1_score: 0.5860\n",
      "Epoch 33/100\n",
      "94/99 [===========================>..] - ETA: 0s - loss: 0.8243 - accuracy: 0.0677 - precision_2: 0.8626 - recall_2: 0.3723 - f1_score: 0.5662\n",
      "Epoch 33: saving model to models/cnn/raw\\20220506-050627\n",
      "99/99 [==============================] - 1s 6ms/step - loss: 0.8230 - accuracy: 0.0677 - precision_2: 0.8632 - recall_2: 0.3734 - f1_score: 0.5666 - val_loss: 0.9539 - val_accuracy: 0.0434 - val_precision_2: 0.8554 - val_recall_2: 0.4035 - val_f1_score: 0.5857\n",
      "Epoch 34/100\n",
      "89/99 [=========================>....] - ETA: 0s - loss: 0.8136 - accuracy: 0.0716 - precision_2: 0.8673 - recall_2: 0.3759 - f1_score: 0.5693\n",
      "Epoch 34: saving model to models/cnn/raw\\20220506-050627\n",
      "99/99 [==============================] - 1s 6ms/step - loss: 0.8125 - accuracy: 0.0721 - precision_2: 0.8683 - recall_2: 0.3768 - f1_score: 0.5696 - val_loss: 0.9626 - val_accuracy: 0.0507 - val_precision_2: 0.8536 - val_recall_2: 0.4018 - val_f1_score: 0.5840\n",
      "Epoch 35/100\n",
      "98/99 [============================>.] - ETA: 0s - loss: 0.8084 - accuracy: 0.0781 - precision_2: 0.8611 - recall_2: 0.3761 - f1_score: 0.5684\n",
      "Epoch 35: saving model to models/cnn/raw\\20220506-050627\n",
      "99/99 [==============================] - 1s 6ms/step - loss: 0.8085 - accuracy: 0.0781 - precision_2: 0.8611 - recall_2: 0.3760 - f1_score: 0.5683 - val_loss: 0.9822 - val_accuracy: 0.0571 - val_precision_2: 0.8595 - val_recall_2: 0.4048 - val_f1_score: 0.5867\n",
      "Epoch 36/100\n",
      "93/99 [===========================>..] - ETA: 0s - loss: 0.8021 - accuracy: 0.0875 - precision_2: 0.8728 - recall_2: 0.3827 - f1_score: 0.5765\n",
      "Epoch 36: saving model to models/cnn/raw\\20220506-050627\n",
      "99/99 [==============================] - 1s 6ms/step - loss: 0.8044 - accuracy: 0.0880 - precision_2: 0.8756 - recall_2: 0.3811 - f1_score: 0.5749 - val_loss: 1.0032 - val_accuracy: 0.0706 - val_precision_2: 0.8514 - val_recall_2: 0.4024 - val_f1_score: 0.5847\n",
      "Epoch 37/100\n",
      "85/99 [========================>.....] - ETA: 0s - loss: 0.8077 - accuracy: 0.0954 - precision_2: 0.8741 - recall_2: 0.3802 - f1_score: 0.5710\n",
      "Epoch 37: saving model to models/cnn/raw\\20220506-050627\n",
      "99/99 [==============================] - 1s 6ms/step - loss: 0.8066 - accuracy: 0.0962 - precision_2: 0.8759 - recall_2: 0.3813 - f1_score: 0.5722 - val_loss: 0.9989 - val_accuracy: 0.0727 - val_precision_2: 0.8488 - val_recall_2: 0.4001 - val_f1_score: 0.5830\n",
      "Epoch 38/100\n",
      "91/99 [==========================>...] - ETA: 0s - loss: 0.8165 - accuracy: 0.0991 - precision_2: 0.8653 - recall_2: 0.3755 - f1_score: 0.5692\n",
      "Epoch 38: saving model to models/cnn/raw\\20220506-050627\n",
      "99/99 [==============================] - 1s 7ms/step - loss: 0.8174 - accuracy: 0.0987 - precision_2: 0.8637 - recall_2: 0.3750 - f1_score: 0.5684 - val_loss: 0.9780 - val_accuracy: 0.0716 - val_precision_2: 0.8560 - val_recall_2: 0.4035 - val_f1_score: 0.5870\n",
      "Epoch 39/100\n",
      "93/99 [===========================>..] - ETA: 0s - loss: 0.7964 - accuracy: 0.0942 - precision_2: 0.8879 - recall_2: 0.3882 - f1_score: 0.5824\n",
      "Epoch 39: saving model to models/cnn/raw\\20220506-050627\n",
      "99/99 [==============================] - 1s 7ms/step - loss: 0.7964 - accuracy: 0.0941 - precision_2: 0.8861 - recall_2: 0.3872 - f1_score: 0.5811 - val_loss: 0.9866 - val_accuracy: 0.0723 - val_precision_2: 0.8489 - val_recall_2: 0.4004 - val_f1_score: 0.5847\n",
      "Epoch 40/100\n",
      "97/99 [============================>.] - ETA: 0s - loss: 0.8058 - accuracy: 0.0935 - precision_2: 0.8795 - recall_2: 0.3821 - f1_score: 0.5775\n",
      "Epoch 40: saving model to models/cnn/raw\\20220506-050627\n",
      "99/99 [==============================] - 1s 6ms/step - loss: 0.8062 - accuracy: 0.0938 - precision_2: 0.8797 - recall_2: 0.3818 - f1_score: 0.5775 - val_loss: 1.0202 - val_accuracy: 0.0791 - val_precision_2: 0.8455 - val_recall_2: 0.3994 - val_f1_score: 0.5830\n",
      "Epoch 41/100\n",
      "93/99 [===========================>..] - ETA: 0s - loss: 0.7958 - accuracy: 0.0992 - precision_2: 0.8843 - recall_2: 0.3847 - f1_score: 0.5782\n",
      "Epoch 41: saving model to models/cnn/raw\\20220506-050627\n",
      "99/99 [==============================] - 1s 6ms/step - loss: 0.7988 - accuracy: 0.0996 - precision_2: 0.8839 - recall_2: 0.3833 - f1_score: 0.5771 - val_loss: 1.0471 - val_accuracy: 0.0873 - val_precision_2: 0.8533 - val_recall_2: 0.4028 - val_f1_score: 0.5860\n",
      "Epoch 42/100\n",
      "89/99 [=========================>....] - ETA: 0s - loss: 0.7975 - accuracy: 0.1093 - precision_2: 0.8916 - recall_2: 0.3871 - f1_score: 0.5808\n",
      "Epoch 42: saving model to models/cnn/raw\\20220506-050627\n",
      "99/99 [==============================] - 1s 6ms/step - loss: 0.7996 - accuracy: 0.1087 - precision_2: 0.8896 - recall_2: 0.3859 - f1_score: 0.5800 - val_loss: 1.0290 - val_accuracy: 0.0881 - val_precision_2: 0.8598 - val_recall_2: 0.4058 - val_f1_score: 0.5901\n",
      "Epoch 43/100\n",
      "89/99 [=========================>....] - ETA: 0s - loss: 0.7894 - accuracy: 0.1059 - precision_2: 0.8949 - recall_2: 0.3930 - f1_score: 0.5865\n",
      "Epoch 43: saving model to models/cnn/raw\\20220506-050627\n",
      "99/99 [==============================] - 1s 6ms/step - loss: 0.7913 - accuracy: 0.1048 - precision_2: 0.8945 - recall_2: 0.3908 - f1_score: 0.5847 - val_loss: 1.0252 - val_accuracy: 0.0823 - val_precision_2: 0.8664 - val_recall_2: 0.4092 - val_f1_score: 0.5931\n",
      "Epoch 44/100\n",
      "89/99 [=========================>....] - ETA: 0s - loss: 0.7765 - accuracy: 0.0966 - precision_2: 0.9084 - recall_2: 0.3969 - f1_score: 0.5906\n",
      "Epoch 44: saving model to models/cnn/raw\\20220506-050627\n",
      "99/99 [==============================] - 1s 6ms/step - loss: 0.7793 - accuracy: 0.0964 - precision_2: 0.9053 - recall_2: 0.3953 - f1_score: 0.5898 - val_loss: 1.0247 - val_accuracy: 0.0750 - val_precision_2: 0.8500 - val_recall_2: 0.4001 - val_f1_score: 0.5853\n",
      "Epoch 45/100\n",
      "90/99 [==========================>...] - ETA: 0s - loss: 0.7769 - accuracy: 0.0985 - precision_2: 0.9059 - recall_2: 0.3978 - f1_score: 0.5964\n",
      "Epoch 45: saving model to models/cnn/raw\\20220506-050627\n",
      "99/99 [==============================] - 1s 6ms/step - loss: 0.7769 - accuracy: 0.0977 - precision_2: 0.9064 - recall_2: 0.3965 - f1_score: 0.5948 - val_loss: 1.0492 - val_accuracy: 0.0843 - val_precision_2: 0.8508 - val_recall_2: 0.4004 - val_f1_score: 0.5840\n",
      "Epoch 46/100\n",
      "91/99 [==========================>...] - ETA: 0s - loss: 0.7980 - accuracy: 0.0941 - precision_2: 0.8909 - recall_2: 0.3877 - f1_score: 0.5812\n",
      "Epoch 46: saving model to models/cnn/raw\\20220506-050627\n",
      "99/99 [==============================] - 1s 6ms/step - loss: 0.7974 - accuracy: 0.0943 - precision_2: 0.8925 - recall_2: 0.3886 - f1_score: 0.5820 - val_loss: 1.0571 - val_accuracy: 0.0859 - val_precision_2: 0.8596 - val_recall_2: 0.4052 - val_f1_score: 0.5898\n",
      "Epoch 47/100\n",
      "93/99 [===========================>..] - ETA: 0s - loss: 0.7729 - accuracy: 0.0998 - precision_2: 0.9113 - recall_2: 0.3991 - f1_score: 0.5901\n",
      "Epoch 47: saving model to models/cnn/raw\\20220506-050627\n",
      "99/99 [==============================] - 1s 7ms/step - loss: 0.7711 - accuracy: 0.1002 - precision_2: 0.9122 - recall_2: 0.3999 - f1_score: 0.5928 - val_loss: 1.0410 - val_accuracy: 0.0941 - val_precision_2: 0.8604 - val_recall_2: 0.4058 - val_f1_score: 0.5881\n",
      "Epoch 48/100\n",
      "98/99 [============================>.] - ETA: 0s - loss: 0.7653 - accuracy: 0.1102 - precision_2: 0.9182 - recall_2: 0.4000 - f1_score: 0.5951\n",
      "Epoch 48: saving model to models/cnn/raw\\20220506-050627\n",
      "99/99 [==============================] - 1s 6ms/step - loss: 0.7651 - accuracy: 0.1103 - precision_2: 0.9182 - recall_2: 0.4002 - f1_score: 0.5952 - val_loss: 1.0662 - val_accuracy: 0.0962 - val_precision_2: 0.8589 - val_recall_2: 0.4048 - val_f1_score: 0.5881\n",
      "Epoch 49/100\n",
      "93/99 [===========================>..] - ETA: 0s - loss: 0.7531 - accuracy: 0.1162 - precision_2: 0.9204 - recall_2: 0.4046 - f1_score: 0.6004\n",
      "Epoch 49: saving model to models/cnn/raw\\20220506-050627\n",
      "99/99 [==============================] - 1s 6ms/step - loss: 0.7562 - accuracy: 0.1161 - precision_2: 0.9182 - recall_2: 0.4029 - f1_score: 0.5975 - val_loss: 1.0640 - val_accuracy: 0.1065 - val_precision_2: 0.8542 - val_recall_2: 0.4035 - val_f1_score: 0.5860\n",
      "Epoch 50/100\n",
      "94/99 [===========================>..] - ETA: 0s - loss: 0.7628 - accuracy: 0.1216 - precision_2: 0.9174 - recall_2: 0.4031 - f1_score: 0.5983\n",
      "Epoch 50: saving model to models/cnn/raw\\20220506-050627\n",
      "99/99 [==============================] - 1s 6ms/step - loss: 0.7643 - accuracy: 0.1217 - precision_2: 0.9166 - recall_2: 0.4022 - f1_score: 0.5968 - val_loss: 1.0636 - val_accuracy: 0.1098 - val_precision_2: 0.8554 - val_recall_2: 0.4035 - val_f1_score: 0.5881\n",
      "Epoch 51/100\n",
      "90/99 [==========================>...] - ETA: 0s - loss: 0.7616 - accuracy: 0.1180 - precision_2: 0.9220 - recall_2: 0.4030 - f1_score: 0.5960\n",
      "Epoch 51: saving model to models/cnn/raw\\20220506-050627\n",
      "99/99 [==============================] - 1s 6ms/step - loss: 0.7623 - accuracy: 0.1172 - precision_2: 0.9219 - recall_2: 0.4030 - f1_score: 0.5944 - val_loss: 1.0670 - val_accuracy: 0.1064 - val_precision_2: 0.8497 - val_recall_2: 0.4011 - val_f1_score: 0.5976\n",
      "Epoch 52/100\n",
      "89/99 [=========================>....] - ETA: 0s - loss: 0.7449 - accuracy: 0.1176 - precision_2: 0.9324 - recall_2: 0.4094 - f1_score: 0.6097\n",
      "Epoch 52: saving model to models/cnn/raw\\20220506-050627\n",
      "99/99 [==============================] - 1s 6ms/step - loss: 0.7449 - accuracy: 0.1184 - precision_2: 0.9319 - recall_2: 0.4097 - f1_score: 0.6128 - val_loss: 1.0920 - val_accuracy: 0.1175 - val_precision_2: 0.8534 - val_recall_2: 0.4031 - val_f1_score: 0.5986\n",
      "Epoch 53/100\n",
      "87/99 [=========================>....] - ETA: 0s - loss: 0.7424 - accuracy: 0.1287 - precision_2: 0.9310 - recall_2: 0.4077 - f1_score: 0.6060\n",
      "Epoch 53: saving model to models/cnn/raw\\20220506-050627\n",
      "99/99 [==============================] - 1s 6ms/step - loss: 0.7405 - accuracy: 0.1298 - precision_2: 0.9327 - recall_2: 0.4093 - f1_score: 0.6079 - val_loss: 1.0805 - val_accuracy: 0.1172 - val_precision_2: 0.8489 - val_recall_2: 0.4004 - val_f1_score: 0.5881\n",
      "Epoch 54/100\n",
      "93/99 [===========================>..] - ETA: 0s - loss: 0.7367 - accuracy: 0.1257 - precision_2: 0.9302 - recall_2: 0.4108 - f1_score: 0.6099\n",
      "Epoch 54: saving model to models/cnn/raw\\20220506-050627\n",
      "99/99 [==============================] - 1s 6ms/step - loss: 0.7407 - accuracy: 0.1258 - precision_2: 0.9280 - recall_2: 0.4082 - f1_score: 0.6070 - val_loss: 1.1058 - val_accuracy: 0.1259 - val_precision_2: 0.8527 - val_recall_2: 0.4028 - val_f1_score: 0.5901\n",
      "Epoch 55/100\n",
      "93/99 [===========================>..] - ETA: 0s - loss: 0.7375 - accuracy: 0.1362 - precision_2: 0.9321 - recall_2: 0.4110 - f1_score: 0.6108\n",
      "Epoch 55: saving model to models/cnn/raw\\20220506-050627\n",
      "99/99 [==============================] - 1s 6ms/step - loss: 0.7357 - accuracy: 0.1370 - precision_2: 0.9328 - recall_2: 0.4113 - f1_score: 0.6111 - val_loss: 1.1797 - val_accuracy: 0.1344 - val_precision_2: 0.8432 - val_recall_2: 0.3977 - val_f1_score: 0.5911\n",
      "Epoch 56/100\n",
      "91/99 [==========================>...] - ETA: 0s - loss: 0.7439 - accuracy: 0.1356 - precision_2: 0.9345 - recall_2: 0.4116 - f1_score: 0.6130\n",
      "Epoch 56: saving model to models/cnn/raw\\20220506-050627\n",
      "99/99 [==============================] - 1s 6ms/step - loss: 0.7439 - accuracy: 0.1344 - precision_2: 0.9347 - recall_2: 0.4105 - f1_score: 0.6115 - val_loss: 1.1225 - val_accuracy: 0.1232 - val_precision_2: 0.8612 - val_recall_2: 0.4062 - val_f1_score: 0.5972\n",
      "Epoch 57/100\n",
      "92/99 [==========================>...] - ETA: 0s - loss: 0.7447 - accuracy: 0.1345 - precision_2: 0.9299 - recall_2: 0.4075 - f1_score: 0.6114\n",
      "Epoch 57: saving model to models/cnn/raw\\20220506-050627\n",
      "99/99 [==============================] - 1s 6ms/step - loss: 0.7436 - accuracy: 0.1336 - precision_2: 0.9310 - recall_2: 0.4093 - f1_score: 0.6134 - val_loss: 1.1607 - val_accuracy: 0.1279 - val_precision_2: 0.8452 - val_recall_2: 0.3984 - val_f1_score: 0.5993\n",
      "Epoch 58/100\n",
      "91/99 [==========================>...] - ETA: 0s - loss: 0.7508 - accuracy: 0.1334 - precision_2: 0.9262 - recall_2: 0.4066 - f1_score: 0.6094\n",
      "Epoch 58: saving model to models/cnn/raw\\20220506-050627\n",
      "99/99 [==============================] - 1s 6ms/step - loss: 0.7503 - accuracy: 0.1328 - precision_2: 0.9266 - recall_2: 0.4067 - f1_score: 0.6103 - val_loss: 1.1634 - val_accuracy: 0.1266 - val_precision_2: 0.8482 - val_recall_2: 0.4001 - val_f1_score: 0.5999\n",
      "Epoch 59/100\n",
      "92/99 [==========================>...] - ETA: 0s - loss: 0.7343 - accuracy: 0.1388 - precision_2: 0.9320 - recall_2: 0.4091 - f1_score: 0.6125\n",
      "Epoch 59: saving model to models/cnn/raw\\20220506-050627\n",
      "99/99 [==============================] - 1s 6ms/step - loss: 0.7324 - accuracy: 0.1390 - precision_2: 0.9330 - recall_2: 0.4112 - f1_score: 0.6132 - val_loss: 1.2065 - val_accuracy: 0.1415 - val_precision_2: 0.8390 - val_recall_2: 0.3960 - val_f1_score: 0.5758\n",
      "Epoch 60/100\n",
      "94/99 [===========================>..] - ETA: 0s - loss: 0.7367 - accuracy: 0.1461 - precision_2: 0.9316 - recall_2: 0.4098 - f1_score: 0.6136\n",
      "Epoch 60: saving model to models/cnn/raw\\20220506-050627\n",
      "99/99 [==============================] - 1s 6ms/step - loss: 0.7370 - accuracy: 0.1465 - precision_2: 0.9308 - recall_2: 0.4097 - f1_score: 0.6126 - val_loss: 1.2259 - val_accuracy: 0.1491 - val_precision_2: 0.8518 - val_recall_2: 0.4018 - val_f1_score: 0.6003\n",
      "Epoch 61/100\n",
      "92/99 [==========================>...] - ETA: 0s - loss: 0.7284 - accuracy: 0.1431 - precision_2: 0.9400 - recall_2: 0.4130 - f1_score: 0.6110\n",
      "Epoch 61: saving model to models/cnn/raw\\20220506-050627\n",
      "99/99 [==============================] - 1s 6ms/step - loss: 0.7235 - accuracy: 0.1440 - precision_2: 0.9418 - recall_2: 0.4158 - f1_score: 0.6147 - val_loss: 1.2854 - val_accuracy: 0.1549 - val_precision_2: 0.8558 - val_recall_2: 0.4048 - val_f1_score: 0.5979\n",
      "Epoch 62/100\n",
      "96/99 [============================>.] - ETA: 0s - loss: 0.7353 - accuracy: 0.1533 - precision_2: 0.9381 - recall_2: 0.4149 - f1_score: 0.6132\n",
      "Epoch 62: saving model to models/cnn/raw\\20220506-050627\n",
      "99/99 [==============================] - 1s 6ms/step - loss: 0.7341 - accuracy: 0.1533 - precision_2: 0.9383 - recall_2: 0.4157 - f1_score: 0.6141 - val_loss: 1.2101 - val_accuracy: 0.1544 - val_precision_2: 0.8533 - val_recall_2: 0.4028 - val_f1_score: 0.5898\n",
      "Epoch 63/100\n",
      "91/99 [==========================>...] - ETA: 0s - loss: 0.7343 - accuracy: 0.1429 - precision_2: 0.9455 - recall_2: 0.4195 - f1_score: 0.6072\n",
      "Epoch 63: saving model to models/cnn/raw\\20220506-050627\n",
      "99/99 [==============================] - 1s 6ms/step - loss: 0.7362 - accuracy: 0.1429 - precision_2: 0.9454 - recall_2: 0.4169 - f1_score: 0.6079 - val_loss: 1.1694 - val_accuracy: 0.1386 - val_precision_2: 0.8467 - val_recall_2: 0.3990 - val_f1_score: 0.5826\n",
      "Epoch 64/100\n",
      "89/99 [=========================>....] - ETA: 0s - loss: 0.7370 - accuracy: 0.1401 - precision_2: 0.9322 - recall_2: 0.4138 - f1_score: 0.6141\n",
      "Epoch 64: saving model to models/cnn/raw\\20220506-050627\n",
      "99/99 [==============================] - 1s 6ms/step - loss: 0.7404 - accuracy: 0.1394 - precision_2: 0.9330 - recall_2: 0.4109 - f1_score: 0.6114 - val_loss: 1.1550 - val_accuracy: 0.1378 - val_precision_2: 0.8438 - val_recall_2: 0.3977 - val_f1_score: 0.5986\n",
      "Epoch 65/100\n",
      "93/99 [===========================>..] - ETA: 0s - loss: 0.7268 - accuracy: 0.1463 - precision_2: 0.9446 - recall_2: 0.4155 - f1_score: 0.6199\n",
      "Epoch 65: saving model to models/cnn/raw\\20220506-050627\n",
      "99/99 [==============================] - 1s 6ms/step - loss: 0.7262 - accuracy: 0.1470 - precision_2: 0.9443 - recall_2: 0.4170 - f1_score: 0.6209 - val_loss: 1.2065 - val_accuracy: 0.1387 - val_precision_2: 0.8447 - val_recall_2: 0.3987 - val_f1_score: 0.5928\n",
      "Epoch 66/100\n",
      "92/99 [==========================>...] - ETA: 0s - loss: 0.7152 - accuracy: 0.1439 - precision_2: 0.9386 - recall_2: 0.4184 - f1_score: 0.6155\n",
      "Epoch 66: saving model to models/cnn/raw\\20220506-050627\n",
      "99/99 [==============================] - 1s 6ms/step - loss: 0.7174 - accuracy: 0.1442 - precision_2: 0.9405 - recall_2: 0.4172 - f1_score: 0.6147 - val_loss: 1.1647 - val_accuracy: 0.1440 - val_precision_2: 0.8547 - val_recall_2: 0.4031 - val_f1_score: 0.6006\n",
      "Epoch 67/100\n",
      "92/99 [==========================>...] - ETA: 0s - loss: 0.7297 - accuracy: 0.1527 - precision_2: 0.9420 - recall_2: 0.4143 - f1_score: 0.6181\n",
      "Epoch 67: saving model to models/cnn/raw\\20220506-050627\n",
      "99/99 [==============================] - 1s 6ms/step - loss: 0.7274 - accuracy: 0.1532 - precision_2: 0.9426 - recall_2: 0.4155 - f1_score: 0.6196 - val_loss: 1.2082 - val_accuracy: 0.1573 - val_precision_2: 0.8409 - val_recall_2: 0.3963 - val_f1_score: 0.5945\n",
      "Epoch 68/100\n",
      "90/99 [==========================>...] - ETA: 0s - loss: 0.7387 - accuracy: 0.1488 - precision_2: 0.9366 - recall_2: 0.4135 - f1_score: 0.6154\n",
      "Epoch 68: saving model to models/cnn/raw\\20220506-050627\n",
      "99/99 [==============================] - 1s 6ms/step - loss: 0.7355 - accuracy: 0.1494 - precision_2: 0.9383 - recall_2: 0.4159 - f1_score: 0.6189 - val_loss: 1.1651 - val_accuracy: 0.1456 - val_precision_2: 0.8467 - val_recall_2: 0.3990 - val_f1_score: 0.5976\n",
      "Epoch 69/100\n",
      "93/99 [===========================>..] - ETA: 0s - loss: 0.7350 - accuracy: 0.1493 - precision_2: 0.9260 - recall_2: 0.4093 - f1_score: 0.6146\n",
      "Epoch 69: saving model to models/cnn/raw\\20220506-050627\n",
      "99/99 [==============================] - 1s 6ms/step - loss: 0.7359 - accuracy: 0.1500 - precision_2: 0.9267 - recall_2: 0.4094 - f1_score: 0.6143 - val_loss: 1.1791 - val_accuracy: 0.1608 - val_precision_2: 0.8444 - val_recall_2: 0.3977 - val_f1_score: 0.5969\n",
      "Epoch 70/100\n",
      "94/99 [===========================>..] - ETA: 0s - loss: 0.7295 - accuracy: 0.1616 - precision_2: 0.9320 - recall_2: 0.4122 - f1_score: 0.6174\n",
      "Epoch 70: saving model to models/cnn/raw\\20220506-050627\n",
      "99/99 [==============================] - 1s 6ms/step - loss: 0.7299 - accuracy: 0.1620 - precision_2: 0.9330 - recall_2: 0.4127 - f1_score: 0.6160 - val_loss: 1.2313 - val_accuracy: 0.1703 - val_precision_2: 0.8469 - val_recall_2: 0.3997 - val_f1_score: 0.5925\n",
      "Epoch 71/100\n",
      "95/99 [===========================>..] - ETA: 0s - loss: 0.7253 - accuracy: 0.1656 - precision_2: 0.9404 - recall_2: 0.4160 - f1_score: 0.6178\n",
      "Epoch 71: saving model to models/cnn/raw\\20220506-050627\n",
      "99/99 [==============================] - 1s 6ms/step - loss: 0.7269 - accuracy: 0.1652 - precision_2: 0.9390 - recall_2: 0.4147 - f1_score: 0.6170 - val_loss: 1.2546 - val_accuracy: 0.1655 - val_precision_2: 0.8379 - val_recall_2: 0.3963 - val_f1_score: 0.5921\n",
      "Epoch 72/100\n",
      "89/99 [=========================>....] - ETA: 0s - loss: 0.7244 - accuracy: 0.1637 - precision_2: 0.9364 - recall_2: 0.4126 - f1_score: 0.6198\n",
      "Epoch 72: saving model to models/cnn/raw\\20220506-050627\n",
      "99/99 [==============================] - 1s 6ms/step - loss: 0.7227 - accuracy: 0.1651 - precision_2: 0.9355 - recall_2: 0.4144 - f1_score: 0.6193 - val_loss: 1.2384 - val_accuracy: 0.1719 - val_precision_2: 0.8400 - val_recall_2: 0.3974 - val_f1_score: 0.5938\n",
      "Epoch 73/100\n",
      "91/99 [==========================>...] - ETA: 0s - loss: 0.7153 - accuracy: 0.1688 - precision_2: 0.9360 - recall_2: 0.4155 - f1_score: 0.6127\n",
      "Epoch 73: saving model to models/cnn/raw\\20220506-050627\n",
      "99/99 [==============================] - 1s 6ms/step - loss: 0.7136 - accuracy: 0.1702 - precision_2: 0.9373 - recall_2: 0.4165 - f1_score: 0.6144 - val_loss: 1.2067 - val_accuracy: 0.1771 - val_precision_2: 0.8481 - val_recall_2: 0.4018 - val_f1_score: 0.6020\n",
      "Epoch 74/100\n",
      "91/99 [==========================>...] - ETA: 0s - loss: 0.7115 - accuracy: 0.1730 - precision_2: 0.9352 - recall_2: 0.4145 - f1_score: 0.6199\n",
      "Epoch 74: saving model to models/cnn/raw\\20220506-050627\n",
      "99/99 [==============================] - 1s 6ms/step - loss: 0.7094 - accuracy: 0.1737 - precision_2: 0.9359 - recall_2: 0.4172 - f1_score: 0.6201 - val_loss: 1.2265 - val_accuracy: 0.1772 - val_precision_2: 0.8494 - val_recall_2: 0.4018 - val_f1_score: 0.5908\n",
      "Epoch 75/100\n",
      "94/99 [===========================>..] - ETA: 0s - loss: 0.7139 - accuracy: 0.1728 - precision_2: 0.9381 - recall_2: 0.4170 - f1_score: 0.6187\n",
      "Epoch 75: saving model to models/cnn/raw\\20220506-050627\n",
      "99/99 [==============================] - 1s 6ms/step - loss: 0.7131 - accuracy: 0.1735 - precision_2: 0.9391 - recall_2: 0.4173 - f1_score: 0.6200 - val_loss: 1.2662 - val_accuracy: 0.1878 - val_precision_2: 0.8367 - val_recall_2: 0.3963 - val_f1_score: 0.5989\n",
      "Epoch 76/100\n",
      "93/99 [===========================>..] - ETA: 0s - loss: 0.7272 - accuracy: 0.1694 - precision_2: 0.9369 - recall_2: 0.4130 - f1_score: 0.6163\n",
      "Epoch 76: saving model to models/cnn/raw\\20220506-050627\n",
      "99/99 [==============================] - 1s 6ms/step - loss: 0.7243 - accuracy: 0.1714 - precision_2: 0.9370 - recall_2: 0.4150 - f1_score: 0.6187 - val_loss: 1.2653 - val_accuracy: 0.1899 - val_precision_2: 0.8443 - val_recall_2: 0.3994 - val_f1_score: 0.5962\n",
      "Epoch 77/100\n",
      "96/99 [============================>.] - ETA: 0s - loss: 0.7149 - accuracy: 0.1814 - precision_2: 0.9373 - recall_2: 0.4174 - f1_score: 0.6232\n",
      "Epoch 77: saving model to models/cnn/raw\\20220506-050627\n",
      "99/99 [==============================] - 1s 6ms/step - loss: 0.7138 - accuracy: 0.1812 - precision_2: 0.9377 - recall_2: 0.4174 - f1_score: 0.6235 - val_loss: 1.2370 - val_accuracy: 0.1818 - val_precision_2: 0.8451 - val_recall_2: 0.3997 - val_f1_score: 0.6020\n",
      "Epoch 78/100\n",
      "95/99 [===========================>..] - ETA: 0s - loss: 0.7073 - accuracy: 0.1765 - precision_2: 0.9436 - recall_2: 0.4182 - f1_score: 0.6218\n",
      "Epoch 78: saving model to models/cnn/raw\\20220506-050627\n",
      "99/99 [==============================] - 1s 6ms/step - loss: 0.7082 - accuracy: 0.1763 - precision_2: 0.9430 - recall_2: 0.4185 - f1_score: 0.6211 - val_loss: 1.2810 - val_accuracy: 0.1925 - val_precision_2: 0.8453 - val_recall_2: 0.3987 - val_f1_score: 0.5982\n",
      "Epoch 79/100\n",
      "94/99 [===========================>..] - ETA: 0s - loss: 0.7045 - accuracy: 0.1852 - precision_2: 0.9409 - recall_2: 0.4179 - f1_score: 0.6200\n",
      "Epoch 79: saving model to models/cnn/raw\\20220506-050627\n",
      "99/99 [==============================] - 1s 6ms/step - loss: 0.7067 - accuracy: 0.1848 - precision_2: 0.9405 - recall_2: 0.4169 - f1_score: 0.6211 - val_loss: 1.2647 - val_accuracy: 0.1939 - val_precision_2: 0.8440 - val_recall_2: 0.3984 - val_f1_score: 0.6016\n",
      "Epoch 80/100\n",
      "94/99 [===========================>..] - ETA: 0s - loss: 0.7163 - accuracy: 0.1826 - precision_2: 0.9397 - recall_2: 0.4111 - f1_score: 0.6207\n",
      "Epoch 80: saving model to models/cnn/raw\\20220506-050627\n",
      "99/99 [==============================] - 1s 6ms/step - loss: 0.7147 - accuracy: 0.1830 - precision_2: 0.9394 - recall_2: 0.4131 - f1_score: 0.6213 - val_loss: 1.2566 - val_accuracy: 0.2005 - val_precision_2: 0.8455 - val_recall_2: 0.3994 - val_f1_score: 0.5982\n",
      "Epoch 81/100\n",
      "93/99 [===========================>..] - ETA: 0s - loss: 0.7010 - accuracy: 0.1877 - precision_2: 0.9478 - recall_2: 0.4166 - f1_score: 0.6288\n",
      "Epoch 81: saving model to models/cnn/raw\\20220506-050627\n",
      "99/99 [==============================] - 1s 6ms/step - loss: 0.7015 - accuracy: 0.1872 - precision_2: 0.9489 - recall_2: 0.4163 - f1_score: 0.6300 - val_loss: 1.2731 - val_accuracy: 0.2016 - val_precision_2: 0.8542 - val_recall_2: 0.4035 - val_f1_score: 0.5993\n",
      "Epoch 82/100\n",
      "93/99 [===========================>..] - ETA: 0s - loss: 0.6969 - accuracy: 0.1884 - precision_2: 0.9469 - recall_2: 0.4191 - f1_score: 0.6278\n",
      "Epoch 82: saving model to models/cnn/raw\\20220506-050627\n",
      "99/99 [==============================] - 1s 6ms/step - loss: 0.6956 - accuracy: 0.1884 - precision_2: 0.9475 - recall_2: 0.4200 - f1_score: 0.6292 - val_loss: 1.3239 - val_accuracy: 0.2067 - val_precision_2: 0.8499 - val_recall_2: 0.4014 - val_f1_score: 0.6037\n",
      "Epoch 83/100\n",
      "93/99 [===========================>..] - ETA: 0s - loss: 0.6906 - accuracy: 0.1923 - precision_2: 0.9495 - recall_2: 0.4176 - f1_score: 0.6234\n",
      "Epoch 83: saving model to models/cnn/raw\\20220506-050627\n",
      "99/99 [==============================] - 1s 6ms/step - loss: 0.6897 - accuracy: 0.1919 - precision_2: 0.9511 - recall_2: 0.4177 - f1_score: 0.6265 - val_loss: 1.3762 - val_accuracy: 0.2151 - val_precision_2: 0.8505 - val_recall_2: 0.4014 - val_f1_score: 0.6026\n",
      "Epoch 84/100\n",
      "93/99 [===========================>..] - ETA: 0s - loss: 0.7036 - accuracy: 0.1954 - precision_2: 0.9466 - recall_2: 0.4169 - f1_score: 0.6284\n",
      "Epoch 84: saving model to models/cnn/raw\\20220506-050627\n",
      "99/99 [==============================] - 1s 6ms/step - loss: 0.7015 - accuracy: 0.1960 - precision_2: 0.9459 - recall_2: 0.4189 - f1_score: 0.6288 - val_loss: 1.2835 - val_accuracy: 0.1969 - val_precision_2: 0.8400 - val_recall_2: 0.3974 - val_f1_score: 0.6013\n",
      "Epoch 85/100\n",
      "95/99 [===========================>..] - ETA: 0s - loss: 0.7448 - accuracy: 0.1699 - precision_2: 0.9371 - recall_2: 0.4164 - f1_score: 0.6254\n",
      "Epoch 85: saving model to models/cnn/raw\\20220506-050627\n",
      "99/99 [==============================] - 1s 6ms/step - loss: 0.7440 - accuracy: 0.1697 - precision_2: 0.9358 - recall_2: 0.4162 - f1_score: 0.6246 - val_loss: 1.2088 - val_accuracy: 0.1619 - val_precision_2: 0.8422 - val_recall_2: 0.3967 - val_f1_score: 0.5982\n",
      "Epoch 86/100\n",
      "92/99 [==========================>...] - ETA: 0s - loss: 0.7129 - accuracy: 0.1622 - precision_2: 0.9424 - recall_2: 0.4171 - f1_score: 0.6243\n",
      "Epoch 86: saving model to models/cnn/raw\\20220506-050627\n",
      "99/99 [==============================] - 1s 6ms/step - loss: 0.7106 - accuracy: 0.1632 - precision_2: 0.9435 - recall_2: 0.4177 - f1_score: 0.6266 - val_loss: 1.2445 - val_accuracy: 0.1789 - val_precision_2: 0.8423 - val_recall_2: 0.3970 - val_f1_score: 0.5982\n",
      "Epoch 87/100\n",
      "91/99 [==========================>...] - ETA: 0s - loss: 0.7129 - accuracy: 0.1719 - precision_2: 0.9443 - recall_2: 0.4126 - f1_score: 0.6189\n",
      "Epoch 87: saving model to models/cnn/raw\\20220506-050627\n",
      "99/99 [==============================] - 1s 6ms/step - loss: 0.7132 - accuracy: 0.1715 - precision_2: 0.9423 - recall_2: 0.4135 - f1_score: 0.6183 - val_loss: 1.2430 - val_accuracy: 0.1817 - val_precision_2: 0.8468 - val_recall_2: 0.3994 - val_f1_score: 0.5962\n",
      "Epoch 88/100\n",
      "93/99 [===========================>..] - ETA: 0s - loss: 0.7468 - accuracy: 0.1587 - precision_2: 0.9175 - recall_2: 0.4020 - f1_score: 0.6106\n",
      "Epoch 88: saving model to models/cnn/raw\\20220506-050627\n",
      "99/99 [==============================] - 1s 6ms/step - loss: 0.7436 - accuracy: 0.1592 - precision_2: 0.9191 - recall_2: 0.4034 - f1_score: 0.6122 - val_loss: 1.1246 - val_accuracy: 0.1630 - val_precision_2: 0.8411 - val_recall_2: 0.3970 - val_f1_score: 0.5982\n",
      "Epoch 89/100\n",
      "94/99 [===========================>..] - ETA: 0s - loss: 0.7108 - accuracy: 0.1696 - precision_2: 0.9340 - recall_2: 0.4113 - f1_score: 0.6196\n",
      "Epoch 89: saving model to models/cnn/raw\\20220506-050627\n",
      "99/99 [==============================] - 1s 6ms/step - loss: 0.7086 - accuracy: 0.1710 - precision_2: 0.9354 - recall_2: 0.4134 - f1_score: 0.6223 - val_loss: 1.2454 - val_accuracy: 0.1891 - val_precision_2: 0.8468 - val_recall_2: 0.3994 - val_f1_score: 0.6003\n",
      "Epoch 90/100\n",
      "94/99 [===========================>..] - ETA: 0s - loss: 0.7074 - accuracy: 0.1788 - precision_2: 0.9353 - recall_2: 0.4139 - f1_score: 0.6241\n",
      "Epoch 90: saving model to models/cnn/raw\\20220506-050627\n",
      "99/99 [==============================] - 1s 6ms/step - loss: 0.7076 - accuracy: 0.1783 - precision_2: 0.9348 - recall_2: 0.4132 - f1_score: 0.6227 - val_loss: 1.2436 - val_accuracy: 0.1908 - val_precision_2: 0.8325 - val_recall_2: 0.3929 - val_f1_score: 0.5965\n",
      "Epoch 91/100\n",
      "93/99 [===========================>..] - ETA: 0s - loss: 0.7011 - accuracy: 0.1830 - precision_2: 0.9514 - recall_2: 0.4156 - f1_score: 0.6288\n",
      "Epoch 91: saving model to models/cnn/raw\\20220506-050627\n",
      "99/99 [==============================] - 1s 6ms/step - loss: 0.6992 - accuracy: 0.1843 - precision_2: 0.9498 - recall_2: 0.4166 - f1_score: 0.6296 - val_loss: 1.2451 - val_accuracy: 0.1994 - val_precision_2: 0.8342 - val_recall_2: 0.3943 - val_f1_score: 0.5996\n",
      "Epoch 92/100\n",
      "92/99 [==========================>...] - ETA: 0s - loss: 0.6963 - accuracy: 0.1932 - precision_2: 0.9433 - recall_2: 0.4172 - f1_score: 0.6278\n",
      "Epoch 92: saving model to models/cnn/raw\\20220506-050627\n",
      "99/99 [==============================] - 1s 6ms/step - loss: 0.6970 - accuracy: 0.1932 - precision_2: 0.9441 - recall_2: 0.4177 - f1_score: 0.6269 - val_loss: 1.2767 - val_accuracy: 0.2083 - val_precision_2: 0.8415 - val_recall_2: 0.3980 - val_f1_score: 0.6040\n",
      "Epoch 93/100\n",
      "96/99 [============================>.] - ETA: 0s - loss: 0.6954 - accuracy: 0.1906 - precision_2: 0.9432 - recall_2: 0.4174 - f1_score: 0.6289\n",
      "Epoch 93: saving model to models/cnn/raw\\20220506-050627\n",
      "99/99 [==============================] - 1s 6ms/step - loss: 0.6959 - accuracy: 0.1904 - precision_2: 0.9428 - recall_2: 0.4169 - f1_score: 0.6292 - val_loss: 1.3056 - val_accuracy: 0.2072 - val_precision_2: 0.8342 - val_recall_2: 0.3926 - val_f1_score: 0.5962\n",
      "Epoch 94/100\n",
      "91/99 [==========================>...] - ETA: 0s - loss: 0.6946 - accuracy: 0.1894 - precision_2: 0.9524 - recall_2: 0.4193 - f1_score: 0.6346\n",
      "Epoch 94: saving model to models/cnn/raw\\20220506-050627\n",
      "99/99 [==============================] - 1s 6ms/step - loss: 0.6921 - accuracy: 0.1907 - precision_2: 0.9546 - recall_2: 0.4204 - f1_score: 0.6356 - val_loss: 1.3406 - val_accuracy: 0.2141 - val_precision_2: 0.8398 - val_recall_2: 0.3967 - val_f1_score: 0.5972\n",
      "Epoch 95/100\n",
      "94/99 [===========================>..] - ETA: 0s - loss: 0.7018 - accuracy: 0.1956 - precision_2: 0.9491 - recall_2: 0.4176 - f1_score: 0.6333\n",
      "Epoch 95: saving model to models/cnn/raw\\20220506-050627\n",
      "99/99 [==============================] - 1s 6ms/step - loss: 0.7014 - accuracy: 0.1964 - precision_2: 0.9494 - recall_2: 0.4181 - f1_score: 0.6338 - val_loss: 1.2999 - val_accuracy: 0.2148 - val_precision_2: 0.8457 - val_recall_2: 0.3980 - val_f1_score: 0.6010\n",
      "Epoch 96/100\n",
      "93/99 [===========================>..] - ETA: 0s - loss: 0.6940 - accuracy: 0.1936 - precision_2: 0.9512 - recall_2: 0.4165 - f1_score: 0.6351\n",
      "Epoch 96: saving model to models/cnn/raw\\20220506-050627\n",
      "99/99 [==============================] - 1s 6ms/step - loss: 0.6909 - accuracy: 0.1929 - precision_2: 0.9523 - recall_2: 0.4180 - f1_score: 0.6371 - val_loss: 1.2702 - val_accuracy: 0.2089 - val_precision_2: 0.8451 - val_recall_2: 0.3980 - val_f1_score: 0.5925\n",
      "Epoch 97/100\n",
      "93/99 [===========================>..] - ETA: 0s - loss: 0.6861 - accuracy: 0.1912 - precision_2: 0.9486 - recall_2: 0.4179 - f1_score: 0.6288\n",
      "Epoch 97: saving model to models/cnn/raw\\20220506-050627\n",
      "99/99 [==============================] - 1s 6ms/step - loss: 0.6846 - accuracy: 0.1916 - precision_2: 0.9492 - recall_2: 0.4191 - f1_score: 0.6307 - val_loss: 1.3114 - val_accuracy: 0.2068 - val_precision_2: 0.8488 - val_recall_2: 0.4001 - val_f1_score: 0.6033\n",
      "Epoch 98/100\n",
      "94/99 [===========================>..] - ETA: 0s - loss: 0.6798 - accuracy: 0.2011 - precision_2: 0.9625 - recall_2: 0.4226 - f1_score: 0.6384\n",
      "Epoch 98: saving model to models/cnn/raw\\20220506-050627\n",
      "99/99 [==============================] - 1s 6ms/step - loss: 0.6787 - accuracy: 0.2016 - precision_2: 0.9619 - recall_2: 0.4227 - f1_score: 0.6398 - val_loss: 1.4112 - val_accuracy: 0.2173 - val_precision_2: 0.8360 - val_recall_2: 0.3943 - val_f1_score: 0.5959\n",
      "Epoch 99/100\n",
      "91/99 [==========================>...] - ETA: 0s - loss: 0.6796 - accuracy: 0.1982 - precision_2: 0.9562 - recall_2: 0.4221 - f1_score: 0.6391\n",
      "Epoch 99: saving model to models/cnn/raw\\20220506-050627\n",
      "99/99 [==============================] - 1s 6ms/step - loss: 0.6794 - accuracy: 0.1979 - precision_2: 0.9564 - recall_2: 0.4208 - f1_score: 0.6405 - val_loss: 1.3797 - val_accuracy: 0.2177 - val_precision_2: 0.8420 - val_recall_2: 0.3960 - val_f1_score: 0.6020\n",
      "Epoch 100/100\n",
      "93/99 [===========================>..] - ETA: 0s - loss: 0.6777 - accuracy: 0.2020 - precision_2: 0.9557 - recall_2: 0.4205 - f1_score: 0.6400\n",
      "Epoch 100: saving model to models/cnn/raw\\20220506-050627\n",
      "99/99 [==============================] - 1s 6ms/step - loss: 0.6799 - accuracy: 0.2005 - precision_2: 0.9550 - recall_2: 0.4183 - f1_score: 0.6397 - val_loss: 1.3876 - val_accuracy: 0.2189 - val_precision_2: 0.8432 - val_recall_2: 0.3977 - val_f1_score: 0.6006\n"
     ]
    }
   ],
   "source": [
    "log_dir = \"logs/fit/cnn/raw/\" + datetime.datetime.now().strftime(\"%Y%m%d-%H%M%S\")\n",
    "cnn_tensorboard_callback = TensorBoard(log_dir=log_dir, histogram_freq=1)\n",
    "\n",
    "checkpoint_path = \"models/cnn/raw/\" + datetime.datetime.now().strftime(\"%Y%m%d-%H%M%S\")\n",
    "checkpoint_dir = os.path.dirname(checkpoint_path)\n",
    "\n",
    "# Create a callback that saves the model's weights\n",
    "checkpoint_callback = tf.keras.callbacks.ModelCheckpoint(filepath=checkpoint_path,\n",
    "                                                 save_weights_only=True,\n",
    "                                                 verbose=1)\n",
    "\n",
    "cnnhistory = cnn.fit(X_xyz_norm_train, y_ohe_train, epochs=100, batch_size = 75, validation_data=(X_xyz_norm_test, y_ohe_test),callbacks=[cnn_tensorboard_callback,checkpoint_callback])"
   ]
  },
  {
   "cell_type": "code",
   "execution_count": 49,
   "id": "3e6e8c1b-dd62-48e7-b994-9e32aaeea62d",
   "metadata": {
    "tags": []
   },
   "outputs": [],
   "source": [
    "# %tensorboard --logdir logs/fit/cnn/raw"
   ]
  },
  {
   "cell_type": "markdown",
   "id": "a63c1e2a-fd4e-4074-9bb0-9883dceeb29b",
   "metadata": {},
   "source": [
    "To run tensorboard in the CLI use command ```tensorboard --logdir logs/fit/cnn/raw```"
   ]
  },
  {
   "cell_type": "code",
   "execution_count": 50,
   "id": "6e1b2fec",
   "metadata": {
    "jupyter": {
     "source_hidden": true
    },
    "tags": []
   },
   "outputs": [],
   "source": [
    "# loss_values = cnnhistory.history['loss']\n",
    "# epochs = range(1, len(loss_values)+1)\n",
    "\n",
    "# plt.plot(epochs, loss_values, label='Training Loss')\n",
    "# plt.xlabel('Epochs')\n",
    "# plt.ylabel('Loss')\n",
    "# plt.legend()\n",
    "\n",
    "# plt.show()"
   ]
  },
  {
   "cell_type": "code",
   "execution_count": 51,
   "id": "3ec887f3",
   "metadata": {
    "jupyter": {
     "source_hidden": true
    },
    "tags": []
   },
   "outputs": [],
   "source": [
    "# acc_values = cnnhistory.history['accuracy']\n",
    "# epochs = range(1, len(loss_values)+1)\n",
    "\n",
    "# plt.plot(epochs, acc_values, label='Training Accuracy')\n",
    "# plt.xlabel('Epochs')\n",
    "# plt.ylabel('Accuracy')\n",
    "# plt.legend()\n",
    "\n",
    "# plt.show()"
   ]
  },
  {
   "cell_type": "code",
   "execution_count": 52,
   "id": "4dc015f9",
   "metadata": {},
   "outputs": [
    {
     "name": "stdout",
     "output_type": "stream",
     "text": [
      "[5 5 5 ... 1 1 1]\n",
      "[4. 4. 4. ... 1. 1. 1.]\n"
     ]
    },
    {
     "data": {
      "text/plain": [
       "<sklearn.metrics._plot.confusion_matrix.ConfusionMatrixDisplay at 0x274f5d395d0>"
      ]
     },
     "execution_count": 52,
     "metadata": {},
     "output_type": "execute_result"
    },
    {
     "data": {
      "image/png": "[encoded data removed]",
      "text/plain": [
       "<Figure size 432x288 with 2 Axes>"
      ]
     },
     "metadata": {
      "needs_background": "light"
     },
     "output_type": "display_data"
    },
    {
     "data": {
      "image/png": "[encoded data removed]",
      "text/plain": [
       "<Figure size 432x288 with 2 Axes>"
      ]
     },
     "metadata": {
      "needs_background": "light"
     },
     "output_type": "display_data"
    }
   ],
   "source": [
    "y_pred = np.argmax(cnn.predict(X_xyz_norm_test),axis=1)\n",
    "print(y_pred)\n",
    "# print(y_pred.shape)\n",
    "# y_test_1D = np.argmax(y_test, axis=1).T[0]\n",
    "# print(type(y_test_1D))\n",
    "print(y_test)\n",
    "# print(y_test_1D.shape)\n",
    "conf = ConfusionMatrixDisplay.from_predictions(y_test,y_pred)\n",
    "conf.plot()"
   ]
  },
  {
   "cell_type": "markdown",
   "id": "0d7ebd16-052c-431e-b68c-7ef48e05759d",
   "metadata": {},
   "source": [
    "## CNN for Wavelet Data"
   ]
  },
  {
   "cell_type": "code",
   "execution_count": null,
   "id": "b5071bcf-d233-40d0-9afa-181b942d50f2",
   "metadata": {},
   "outputs": [],
   "source": [
    "wave_input = X_xyz_norm_train_wave.shape[1:]\n",
    "print(wave_input)"
   ]
  },
  {
   "cell_type": "code",
   "execution_count": null,
   "id": "c426f924-1a2b-4525-9d98-ae44b90aed71",
   "metadata": {},
   "outputs": [],
   "source": [
    " X_xyz_norm_train_wave"
   ]
  },
  {
   "cell_type": "code",
   "execution_count": null,
   "id": "3aade591-5809-4944-bfab-dd1f75f82b64",
   "metadata": {},
   "outputs": [],
   "source": [
    "wavecnn = models.Sequential()\n",
    "wavecnn.add(layers.Conv1D(filters=32, kernel_size=3, activation='relu', input_shape=wave_input))\n",
    "# cnn.add(layers.AveragePooling1D(pool_size=2))\n",
    "wavecnn.add(layers.Flatten())\n",
    "wavecnn.add(layers.Dense(10, activation='relu'))\n",
    "wavecnn.add(layers.Dropout(.2))\n",
    "wavecnn.add(layers.Dense(10, activation='relu'))\n",
    "wavecnn.add(layers.Dropout(.2))\n",
    "wavecnn.add(layers.Dense(5, activation='relu'))\n",
    "wavecnn.add(layers.Dropout(.2))\n",
    "\n",
    "wavecnn.add(layers.Dense(num_classes,activation='softmax'))"
   ]
  },
  {
   "cell_type": "code",
   "execution_count": null,
   "id": "f8c6dc91-77ea-4852-a86b-4e484c781b28",
   "metadata": {},
   "outputs": [],
   "source": [
    "wavecnn.summary()"
   ]
  },
  {
   "cell_type": "code",
   "execution_count": null,
   "id": "0599f735-2245-4985-95df-95855ab48702",
   "metadata": {},
   "outputs": [],
   "source": [
    "# optimizer = tf.keras.optimizers.SGD(learning_rate=0.01)\n",
    "wavecnn.compile(optimizer=optimizers.Adam(),\n",
    "           loss=\"categorical_crossentropy\",\n",
    "           metrics=[tf.keras.metrics.Accuracy(),\n",
    "                    tf.keras.metrics.Precision(),\n",
    "                    tf.keras.metrics.Recall(),\n",
    "                    tfa.metrics.F1Score(num_classes = num_classes, average='micro')\n",
    "                   ])"
   ]
  },
  {
   "cell_type": "code",
   "execution_count": null,
   "id": "f32fc2d0-3f66-4673-bfc8-bf8318054e30",
   "metadata": {},
   "outputs": [],
   "source": [
    "log_dir = \"logs/fit/cnn/wave\" + datetime.datetime.now().strftime(\"%Y%m%d-%H%M%S\")\n",
    "wavecnn_tensorboard_callback = TensorBoard(log_dir=log_dir, histogram_freq=1)\n",
    "\n",
    "checkpoint_path = \"models/cnn/wave\" + datetime.datetime.now().strftime(\"%Y%m%d-%H%M%S\")\n",
    "checkpoint_dir = os.path.dirname(checkpoint_path)\n",
    "\n",
    "# Create a callback that saves the model's weights\n",
    "wavecnn_checkpoint_callback = tf.keras.callbacks.ModelCheckpoint(filepath=checkpoint_path,\n",
    "                                                 save_weights_only=True,\n",
    "                                                 verbose=1)\n",
    "\n",
    "cnnhistory = cnn.fit(X_xyz_norm_train_wave, y_ohe_train, epochs=100, batch_size = 75, validation_data=(X_xyz_norm_test_wave, y_ohe_test),callbacks=[wavecnn_tensorboard_callback,wavecnn_checkpoint_callback])"
   ]
  },
  {
   "cell_type": "markdown",
   "id": "840f505a",
   "metadata": {
    "tags": []
   },
   "source": [
    "<H1>Implementing LSTM</H1>"
   ]
  },
  {
   "cell_type": "code",
   "execution_count": null,
   "id": "274f7f9e-551c-432e-b7dd-dd0892f9e35d",
   "metadata": {},
   "outputs": [],
   "source": [
    "# LSTM\n",
    "lstm = models.Sequential()\n",
    "lstm.add(layers.LSTM(128,input_shape=input_shape))\n",
    "lstm.add(layers.Dropout(rate=0.2))\n",
    "lstm.add(layers.Dense(6,activation=\"softmax\"))"
   ]
  },
  {
   "cell_type": "code",
   "execution_count": null,
   "id": "466356da",
   "metadata": {},
   "outputs": [],
   "source": [
    "lstm.summary()"
   ]
  },
  {
   "cell_type": "code",
   "execution_count": null,
   "id": "988ff08c",
   "metadata": {},
   "outputs": [],
   "source": [
    "lstm.compile(optimizer = \"adam\",\n",
    "            loss=\"categorical_crossentropy\",\n",
    "            metrics = \"accuracy\"\n",
    "            )"
   ]
  },
  {
   "cell_type": "code",
   "execution_count": null,
   "id": "3e3f5783-f713-49b5-a72b-07f0519aa2d5",
   "metadata": {},
   "outputs": [],
   "source": [
    "lstm_log_dir = \"logs/fit/lstm/lstm\" + datetime.datetime.now().strftime(\"%Y%m%d-%H%M%S\")\n",
    "lstm_tensorboard_callback = TensorBoard(log_dir=lstm_log_dir, histogram_freq=1)"
   ]
  },
  {
   "cell_type": "code",
   "execution_count": null,
   "id": "c3de4a86",
   "metadata": {
    "tags": []
   },
   "outputs": [],
   "source": [
    "lstmhistory = lstm.fit(X_xyz_norm_train,y_ohe_train,epochs = 50,batch_size=10,validation_data=(X_xyz_norm_test, y_ohe_test),callbacks=[lstm_tensorboard_callback])"
   ]
  },
  {
   "cell_type": "code",
   "execution_count": null,
   "id": "c445441b-4af0-472e-b4b9-de45dc7c8536",
   "metadata": {},
   "outputs": [],
   "source": [
    "# %tensorboard --logdir logs/fit/lstm/"
   ]
  },
  {
   "cell_type": "markdown",
   "id": "3546585a-53c0-4973-af92-92203a2f80a3",
   "metadata": {},
   "source": [
    "To run tensorboard in the cli use command ```tensorboard --logdir logs/fit/lstm/```"
   ]
  },
  {
   "cell_type": "code",
   "execution_count": null,
   "id": "87735797",
   "metadata": {},
   "outputs": [],
   "source": [
    "loss_values = lstmhistory.history['loss']\n",
    "epochs = range(1, len(loss_values)+1)\n",
    "\n",
    "plt.plot(epochs, loss_values, label='Training Loss')\n",
    "plt.xlabel('Epochs')\n",
    "plt.ylabel('Loss')\n",
    "plt.legend()\n",
    "\n",
    "plt.show()"
   ]
  },
  {
   "cell_type": "code",
   "execution_count": null,
   "id": "cd69e1ff",
   "metadata": {},
   "outputs": [],
   "source": [
    "acc_values = lstmhistory.history['accuracy']\n",
    "epochs = range(1, len(loss_values)+1)\n",
    "\n",
    "plt.plot(epochs, acc_values, label='Training Accuracy')\n",
    "plt.xlabel('Epochs')\n",
    "plt.ylabel('Accuracy')\n",
    "plt.legend()\n",
    "\n",
    "plt.show()"
   ]
  },
  {
   "cell_type": "code",
   "execution_count": null,
   "id": "c7b28ca8-7e57-40a1-852d-7b5ce50d5919",
   "metadata": {},
   "outputs": [],
   "source": [
    "y_pred = np.argmax(lstm.predict(X_xyz_norm_test),axis=1)\n",
    "print(y_pred)\n",
    "# print(y_pred.shape)\n",
    "# y_test_1D = np.argmax(y_test, axis=1).T[0]\n",
    "# print(type(y_test_1D))\n",
    "print(y_test)\n",
    "# print(y_test_1D.shape)\n",
    "conf = ConfusionMatrixDisplay.from_predictions(y_test,y_pred)\n",
    "conf.plot()"
   ]
  },
  {
   "cell_type": "code",
   "execution_count": null,
   "id": "a7317c6d-2700-49f3-a2f9-e9cc6e726200",
   "metadata": {},
   "outputs": [],
   "source": [
    "# %tensorboard --logdir logs/fit/lstm/"
   ]
  },
  {
   "cell_type": "markdown",
   "id": "8827ef42-e05c-4ce9-afba-07ecb4053d0c",
   "metadata": {},
   "source": [
    "To run tensorboard in the cli use command ```tensorboard --logdir logs/fit/lstm/```"
   ]
  },
  {
   "cell_type": "markdown",
   "id": "db46bcd0-963c-44a3-ae0f-af435829ff03",
   "metadata": {},
   "source": [
    "<H1>Implementing Bidirectional LSTM</H1>"
   ]
  },
  {
   "cell_type": "code",
   "execution_count": null,
   "id": "f633ae6c",
   "metadata": {
    "tags": []
   },
   "outputs": [],
   "source": [
    "# Bidirectional LSTM\n",
    "\n",
    "bidirectional_lstm = models.Sequential()\n",
    "bidirectional_lstm.add(layers.Bidirectional(\n",
    "    layers.LSTM(128),input_shape=input_shape\n",
    "))\n",
    "bidirectional_lstm.add(layers.Dropout(rate=0.2))\n",
    "bidirectional_lstm.add(layers.Dense(6,activation=\"softmax\"))"
   ]
  },
  {
   "cell_type": "code",
   "execution_count": null,
   "id": "c29e7ec7-2c33-4dff-b6ff-3ff1074f89d4",
   "metadata": {},
   "outputs": [],
   "source": [
    "bidirectional_lstm.summary()"
   ]
  },
  {
   "cell_type": "code",
   "execution_count": null,
   "id": "33eaba9f-d814-4791-9201-018ba9341e63",
   "metadata": {},
   "outputs": [],
   "source": [
    "bidirectional_lstm.compile(optimizer = \"adam\",\n",
    "            loss=\"categorical_crossentropy\",\n",
    "            metrics = \"accuracy\"\n",
    "            )"
   ]
  },
  {
   "cell_type": "code",
   "execution_count": null,
   "id": "3176d2f6-eb3b-4e4d-a798-31ff1c491d80",
   "metadata": {},
   "outputs": [],
   "source": [
    "bidirectional_lstm_log_dir = \"logs/fit/lstm/bidirectional\" + datetime.datetime.now().strftime(\"%Y%m%d-%H%M%S\")\n",
    "bidirectional_lstm_tensorboard_callback = TensorBoard(log_dir=lstm_log_dir, histogram_freq=1)"
   ]
  },
  {
   "cell_type": "code",
   "execution_count": null,
   "id": "1a4262f3-6547-49fd-9481-d18101787b34",
   "metadata": {
    "tags": []
   },
   "outputs": [],
   "source": [
    "lstmhistory = lstm.fit(X_xyz_norm_train,y_ohe_train,epochs = 50,batch_size=10,validation_data=(X_xyz_norm_test, y_ohe_test),callbacks=[bidirectional_lstm_tensorboard_callback])"
   ]
  },
  {
   "cell_type": "code",
   "execution_count": null,
   "id": "ad775d65",
   "metadata": {},
   "outputs": [],
   "source": [
    "end = time.perf_counter()\n",
    "print(f\"notebook took {end - start:0.4f} seconds to finish\")"
   ]
  },
  {
   "cell_type": "markdown",
   "id": "4eb2591b-5025-45d0-a45d-5236c7ff71d1",
   "metadata": {},
   "source": [
    "# TODO:\n",
    "1. Compare Github Accuracy Results.\n",
    "\n",
    "2. Print out Accuracy Scores and stuff.\n",
    "\n",
    "3. Fit a CNN model on the frequency transformed images. \n",
    "\n",
    "4. Tweak Hyperparameters like learning rate."
   ]
  }
 ],
 "metadata": {
  "kernelspec": {
   "display_name": "tf-timeseries-env",
   "language": "python",
   "name": "tf-timeseries-env"
  },
  "language_info": {
   "codemirror_mode": {
    "name": "ipython",
    "version": 3
   },
   "file_extension": ".py",
   "mimetype": "text/x-python",
   "name": "python",
   "nbconvert_exporter": "python",
   "pygments_lexer": "ipython3",
   "version": "3.10.2"
  }
 },
 "nbformat": 4,
 "nbformat_minor": 5
}
