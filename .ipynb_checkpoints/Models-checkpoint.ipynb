{
 "cells": [
  {
   "cell_type": "code",
   "execution_count": 1,
   "id": "a78ef61e",
   "metadata": {},
   "outputs": [
    {
     "data": {
      "text/plain": [
       "'2.8.0'"
      ]
     },
     "execution_count": 1,
     "metadata": {},
     "output_type": "execute_result"
    }
   ],
   "source": [
    "import numpy as np\n",
    "import pandas as pd\n",
    "import tensorflow as tf\n",
    "from tensorflow.keras import datasets, layers, models, losses, optimizers, Input, optimizers\n",
    "from tensorflow.keras.callbacks import TensorBoard\n",
    "from tensorflow.keras.utils import to_categorical\n",
    "from matplotlib import pyplot as plt\n",
    "from tqdm.notebook import tqdm\n",
    "import time\n",
    "import os\n",
    "from time import sleep\n",
    "import datetime\n",
    "from sklearn.preprocessing import StandardScaler\n",
    "from sklearn.metrics import ConfusionMatrixDisplay\n",
    "import pprint\n",
    "import pywt\n",
    "tf.__version__"
   ]
  },
  {
   "cell_type": "code",
   "execution_count": 2,
   "id": "673d4244-f641-4096-bb2f-0db85fd99d54",
   "metadata": {},
   "outputs": [],
   "source": [
    "%load_ext tensorboard"
   ]
  },
  {
   "cell_type": "code",
   "execution_count": 3,
   "id": "ee1bbbbe",
   "metadata": {},
   "outputs": [],
   "source": [
    "start = time.perf_counter()"
   ]
  },
  {
   "cell_type": "code",
   "execution_count": 4,
   "id": "75a254d8",
   "metadata": {
    "scrolled": true
   },
   "outputs": [
    {
     "data": {
      "text/plain": [
       "True"
      ]
     },
     "execution_count": 4,
     "metadata": {},
     "output_type": "execute_result"
    }
   ],
   "source": [
    "len(tf.config.list_physical_devices('GPU'))>0"
   ]
  },
  {
   "cell_type": "code",
   "execution_count": 5,
   "id": "5661d1f1",
   "metadata": {},
   "outputs": [
    {
     "name": "stdout",
     "output_type": "stream",
     "text": [
      "/device:GPU:0\n"
     ]
    }
   ],
   "source": [
    "device_name = tf.test.gpu_device_name()\n",
    "print(device_name)"
   ]
  },
  {
   "cell_type": "markdown",
   "id": "27989127-a585-4d20-890a-659413bc8b82",
   "metadata": {},
   "source": [
    "### Create Log directories for Tensorboard"
   ]
  },
  {
   "cell_type": "code",
   "execution_count": 6,
   "id": "c1673c8c-13c6-481b-980d-c91e1f5752d5",
   "metadata": {},
   "outputs": [
    {
     "name": "stdout",
     "output_type": "stream",
     "text": [
      "module 'os' has no attribute 'mkdirs'\n",
      "Error while creating log directories. Aborted.\n"
     ]
    }
   ],
   "source": [
    "try:\n",
    "    if not os.path.exists(\"logs\"):\n",
    "        log_path = os.path.join(\"logs\",\"fit\")\n",
    "        os.makedirs(os.path.join(log_path,\"lstm\",\"bidirectional\"))\n",
    "        os.mkdir(os.path.join(log_path,\"cnn\"))\n",
    "        print(\"log files are created\")\n",
    "    else:\n",
    "        print(\"log files already exist\")\n",
    "except Exception as e:\n",
    "    print(e)\n",
    "    print(\"Error while creating log directories. Aborted.\")"
   ]
  },
  {
   "cell_type": "code",
   "execution_count": 7,
   "id": "96dfd861",
   "metadata": {},
   "outputs": [],
   "source": [
    "X_x_train = np.loadtxt(\"./data/X_x_train.txt\")\n",
    "X_y_train = np.loadtxt(\"./data/X_y_train.txt\")\n",
    "X_z_train = np.loadtxt(\"./data/X_z_train.txt\")\n",
    "y_train = np.loadtxt(\"./data/y_train.txt\")\n",
    "\n",
    "X_x_test = np.loadtxt(\"./data/X_x_test.txt\")\n",
    "X_y_test = np.loadtxt(\"./data/X_y_test.txt\")\n",
    "X_z_test = np.loadtxt(\"./data/X_z_test.txt\")\n",
    "y_test = np.loadtxt(\"./data/y_test.txt\")"
   ]
  },
  {
   "cell_type": "code",
   "execution_count": 8,
   "id": "8d025576",
   "metadata": {
    "scrolled": true,
    "tags": []
   },
   "outputs": [],
   "source": [
    "# for i, r in tqdm(X_x_train[:], total=X_x_train.shape[0], desc=\"printing graphs...\"):\n",
    "#     print(\"plot\" +str(i))\n",
    "#     row = X_x_train[i,:-1]\n",
    "#     y = X_x_train[i,-1:]\n",
    "#     print(label_names[int(y)-1])\n",
    "#     plt.plot(row)\n",
    "#     plt.show()\n"
   ]
  },
  {
   "cell_type": "code",
   "execution_count": 9,
   "id": "26ded89b",
   "metadata": {
    "tags": []
   },
   "outputs": [],
   "source": [
    "def standard_score_normalization(x):\n",
    "    x_m = np.mean(x, axis=1).reshape(-1,1)\n",
    "    x_std = np.std(x,axis=1).reshape(-1,1)\n",
    "    return (x-x_m)/x_std"
   ]
  },
  {
   "cell_type": "code",
   "execution_count": 10,
   "id": "dd6bc501",
   "metadata": {
    "tags": []
   },
   "outputs": [],
   "source": [
    "norm = StandardScaler()"
   ]
  },
  {
   "cell_type": "code",
   "execution_count": 11,
   "id": "a8f685c2",
   "metadata": {
    "tags": []
   },
   "outputs": [],
   "source": [
    "X_x_train_norm = norm.fit_transform(X_x_train)\n",
    "X_y_train_norm = norm.fit_transform(X_y_train)\n",
    "X_z_train_norm = norm.fit_transform(X_z_train)\n",
    "\n",
    "X_x_test_norm = norm.fit_transform(X_x_test)\n",
    "X_y_test_norm = norm.fit_transform(X_y_test)\n",
    "X_z_test_norm = norm.fit_transform(X_z_test)"
   ]
  },
  {
   "cell_type": "markdown",
   "id": "dd67c753",
   "metadata": {},
   "source": [
    "### Below I'm testing two different concatenation functions for performance.\n",
    "\n",
    "concat_xyz is vectorizing calculations while concat2_xyz is iterating"
   ]
  },
  {
   "cell_type": "code",
   "execution_count": 12,
   "id": "fbc18999",
   "metadata": {
    "tags": []
   },
   "outputs": [],
   "source": [
    "def concat_xyz(x,y,z):\n",
    "    data = np.empty((x.shape[0],x.shape[1],3))\n",
    "#     x = np.expand_dims(x, axis=1) # same as x = x[:,np.newaxis,:]\n",
    "#     y = np.expand_dims(y, axis=1)\n",
    "#     z = np.expand_dims(z, axis=1)\n",
    "    data[:,:,0] = x\n",
    "    data[:,:,1] = y\n",
    "    data[:,:,2] = z\n",
    "    return data"
   ]
  },
  {
   "cell_type": "code",
   "execution_count": 13,
   "id": "5957825d",
   "metadata": {
    "tags": []
   },
   "outputs": [],
   "source": [
    "#speed test purposes\n",
    "def concat2_xyz(x,y,z):\n",
    "    data = np.empty((x.shape[0],x.shape[1],3))\n",
    "    for i, rowx,rowy, rowz in zip(range(x.shape[0]),x,y,z):\n",
    "        data[i,:,0] = rowx.reshape(1,-1)\n",
    "        data[i,:,1] = rowy.reshape(1,-1)\n",
    "        data[i,:,2] = rowz.reshape(1,-1)\n",
    "    return data"
   ]
  },
  {
   "cell_type": "code",
   "execution_count": 14,
   "id": "911dfb2f",
   "metadata": {
    "tags": []
   },
   "outputs": [
    {
     "name": "stdout",
     "output_type": "stream",
     "text": [
      "concat_xyz in 0.0074 seconds\n"
     ]
    }
   ],
   "source": [
    "tic = time.perf_counter()\n",
    "X_xyz_norm_train =  concat_xyz(X_x_train_norm,X_y_train_norm, X_z_train_norm)\n",
    "X_xyz_norm_test = concat_xyz(X_x_test_norm,X_y_test_norm,X_z_test_norm)\n",
    "toc = time.perf_counter()\n",
    "print(f\"concat_xyz in {toc - tic:0.4f} seconds\")"
   ]
  },
  {
   "cell_type": "code",
   "execution_count": 15,
   "id": "06f8b17c",
   "metadata": {
    "tags": []
   },
   "outputs": [
    {
     "name": "stdout",
     "output_type": "stream",
     "text": [
      "concat2_xyz in 0.0154 seconds\n"
     ]
    }
   ],
   "source": [
    "#speed test purposes\n",
    "tic = time.perf_counter()\n",
    "concat2_xyz(X_x_train_norm,X_y_train_norm, X_z_train_norm)\n",
    "concat_xyz(X_x_test_norm,X_y_test_norm,X_z_test_norm)\n",
    "toc = time.perf_counter()\n",
    "print(f\"concat2_xyz in {toc - tic:0.4f} seconds\")"
   ]
  },
  {
   "cell_type": "markdown",
   "id": "57b58b94",
   "metadata": {},
   "source": [
    "Vectorizing calculations improves performance from original github notebook linked in README"
   ]
  },
  {
   "cell_type": "code",
   "execution_count": 16,
   "id": "31aa19b4",
   "metadata": {},
   "outputs": [],
   "source": [
    "label_names = ['Walking', 'Walking upstairs', 'Walking downstairs', 'Sitting', 'Standing', 'Laying']\n",
    "num_classes = len(label_names)"
   ]
  },
  {
   "cell_type": "markdown",
   "id": "9b3a70e8-9672-4513-b8e0-8615aeb43ff7",
   "metadata": {},
   "source": [
    "First I tried this model with one hot encoded y values with catagorical cross entropy but for the confusion matrix I needed the multiclass values instead so during my second iteration I reformatted the model and the data."
   ]
  },
  {
   "cell_type": "code",
   "execution_count": 17,
   "id": "adef527c",
   "metadata": {},
   "outputs": [],
   "source": [
    "# shifting y_train to values from 0 to num_classes-1\n",
    "y_train = y_train - 1\n",
    "y_test = y_test - 1"
   ]
  },
  {
   "cell_type": "code",
   "execution_count": 18,
   "id": "c115c2ce-0ee7-4c0b-89c9-07c6a7bc3ade",
   "metadata": {},
   "outputs": [],
   "source": [
    "# one hot encoding\n",
    "y_ohe_train = to_categorical(y_train,num_classes)\n",
    "y_ohe_test = to_categorical(y_test, num_classes)"
   ]
  },
  {
   "cell_type": "code",
   "execution_count": 19,
   "id": "84bcd1dc",
   "metadata": {},
   "outputs": [
    {
     "data": {
      "text/plain": [
       "(7352, 128, 3)"
      ]
     },
     "execution_count": 19,
     "metadata": {},
     "output_type": "execute_result"
    }
   ],
   "source": [
    "X_xyz_norm_train.shape"
   ]
  },
  {
   "cell_type": "code",
   "execution_count": 20,
   "id": "f51a9832-d21b-448b-a25f-54cf119c0856",
   "metadata": {},
   "outputs": [
    {
     "data": {
      "text/plain": [
       "(2947, 128, 3)"
      ]
     },
     "execution_count": 20,
     "metadata": {},
     "output_type": "execute_result"
    }
   ],
   "source": [
    "X_xyz_norm_test.shape"
   ]
  },
  {
   "cell_type": "code",
   "execution_count": 21,
   "id": "a7803cd1-e360-4d19-aaf4-3e040f7af92e",
   "metadata": {},
   "outputs": [
    {
     "data": {
      "text/plain": [
       "(7352,)"
      ]
     },
     "execution_count": 21,
     "metadata": {},
     "output_type": "execute_result"
    }
   ],
   "source": [
    "y_train.shape"
   ]
  },
  {
   "cell_type": "code",
   "execution_count": 22,
   "id": "eb077bf5-811a-4e0f-8203-8e16d866f476",
   "metadata": {},
   "outputs": [
    {
     "data": {
      "text/plain": [
       "(2947,)"
      ]
     },
     "execution_count": 22,
     "metadata": {},
     "output_type": "execute_result"
    }
   ],
   "source": [
    "y_test.shape"
   ]
  },
  {
   "cell_type": "code",
   "execution_count": 23,
   "id": "912382fb-ff2a-4380-9136-ae02a8ea572a",
   "metadata": {},
   "outputs": [
    {
     "data": {
      "text/plain": [
       "(7352, 6)"
      ]
     },
     "execution_count": 23,
     "metadata": {},
     "output_type": "execute_result"
    }
   ],
   "source": [
    "y_ohe_train.shape"
   ]
  },
  {
   "cell_type": "code",
   "execution_count": 24,
   "id": "d6d23581",
   "metadata": {},
   "outputs": [],
   "source": [
    "input_shape = X_xyz_norm_train.shape[1:]"
   ]
  },
  {
   "cell_type": "markdown",
   "id": "602c426b",
   "metadata": {},
   "source": [
    "In TF1, placeholder would be needed to get input shape of `(None, 128, 3)` but here we take `(128, 3)` as input shape instead"
   ]
  },
  {
   "cell_type": "markdown",
   "id": "ddcb4d1d-182c-485a-97b0-b49bb456e22e",
   "metadata": {},
   "source": [
    "# Creating Continuous Wavelet Transforms representing time series data"
   ]
  },
  {
   "cell_type": "code",
   "execution_count": 25,
   "id": "a1320c94-c447-4bb0-8a99-0a50c149f698",
   "metadata": {},
   "outputs": [],
   "source": [
    "X_xyz_norm_train_swap = np.swapaxes(X_xyz_norm_train,1,2)"
   ]
  },
  {
   "cell_type": "code",
   "execution_count": 26,
   "id": "b125a3b0-ac7a-4540-bb7f-121309198480",
   "metadata": {},
   "outputs": [
    {
     "data": {
      "text/plain": [
       "(7352, 128, 3)"
      ]
     },
     "execution_count": 26,
     "metadata": {},
     "output_type": "execute_result"
    }
   ],
   "source": [
    "X_xyz_norm_train.shape"
   ]
  },
  {
   "cell_type": "code",
   "execution_count": 27,
   "id": "b32f0a0c-0181-4e69-8259-dff89992c680",
   "metadata": {},
   "outputs": [
    {
     "data": {
      "text/plain": [
       "(7352, 3, 128)"
      ]
     },
     "execution_count": 27,
     "metadata": {},
     "output_type": "execute_result"
    }
   ],
   "source": [
    "X_xyz_norm_train_swap.shape"
   ]
  },
  {
   "cell_type": "markdown",
   "id": "76cef9f6-bf18-49e4-b0de-eb4aec1d4a28",
   "metadata": {},
   "source": [
    "### Showing the 1/7352 128-sample run"
   ]
  },
  {
   "cell_type": "code",
   "execution_count": 28,
   "id": "ca4d2958-c2be-43b9-bfec-0aea0e145f1d",
   "metadata": {
    "tags": []
   },
   "outputs": [
    {
     "data": {
      "text/plain": [
       "<function matplotlib.pyplot.show(close=None, block=None)>"
      ]
     },
     "execution_count": 28,
     "metadata": {},
     "output_type": "execute_result"
    },
    {
     "data": {
      "image/png": "[encoded data removed]",
      "text/plain": [
       "<Figure size 432x288 with 1 Axes>"
      ]
     },
     "metadata": {
      "needs_background": "light"
     },
     "output_type": "display_data"
    }
   ],
   "source": [
    "plt.plot(X_xyz_norm_train_swap[0][0])\n",
    "plt.plot(X_xyz_norm_train_swap[0][1])\n",
    "plt.plot(X_xyz_norm_train_swap[0][2])\n",
    "plt.show"
   ]
  },
  {
   "cell_type": "code",
   "execution_count": 29,
   "id": "4d86e234-6aba-4436-9746-a36c79e4745e",
   "metadata": {},
   "outputs": [],
   "source": [
    "signal = np.sqrt((X_xyz_norm_train_swap[0][0])**2+(X_xyz_norm_train_swap[0][1])**2+(X_xyz_norm_train_swap[0][2])**2)"
   ]
  },
  {
   "cell_type": "code",
   "execution_count": 30,
   "id": "84fab5ea-7caf-4be1-b153-68f45a714d7c",
   "metadata": {
    "tags": []
   },
   "outputs": [
    {
     "data": {
      "text/plain": [
       "<function matplotlib.pyplot.show(close=None, block=None)>"
      ]
     },
     "execution_count": 30,
     "metadata": {},
     "output_type": "execute_result"
    },
    {
     "data": {
      "image/png": "[encoded data removed]",
      "text/plain": [
       "<Figure size 432x288 with 1 Axes>"
      ]
     },
     "metadata": {
      "needs_background": "light"
     },
     "output_type": "display_data"
    }
   ],
   "source": [
    "plt.plot(signal)\n",
    "plt.show"
   ]
  },
  {
   "cell_type": "code",
   "execution_count": 31,
   "id": "fb2c3934-dc63-4c5f-b4f7-2736ad82c2df",
   "metadata": {},
   "outputs": [
    {
     "data": {
      "text/plain": [
       "<matplotlib.image.AxesImage at 0x2091cc51330>"
      ]
     },
     "execution_count": 31,
     "metadata": {},
     "output_type": "execute_result"
    },
    {
     "data": {
      "image/png": "[encoded data removed]",
      "text/plain": [
       "<Figure size 432x288 with 1 Axes>"
      ]
     },
     "metadata": {
      "needs_background": "light"
     },
     "output_type": "display_data"
    }
   ],
   "source": [
    "# samples taken at 50hz\n",
    "coeffs, freqs = pywt.cwt(signal,10,'morl')\n",
    "plt.imshow(coeffs, cmap = 'coolwarm', aspect = 'auto')"
   ]
  },
  {
   "cell_type": "markdown",
   "id": "6ecbe9a0-3fa0-48fc-931c-83dd8a6e52d1",
   "metadata": {},
   "source": [
    "Using Morlet wavelets"
   ]
  },
  {
   "cell_type": "markdown",
   "id": "07ebb536",
   "metadata": {},
   "source": [
    "<H1>Implementing CNN</H1>"
   ]
  },
  {
   "cell_type": "code",
   "execution_count": 32,
   "id": "06ec22ae",
   "metadata": {},
   "outputs": [],
   "source": [
    "cnn = models.Sequential()\n",
    "cnn.add(layers.Conv1D(filters=64, kernel_size=2, activation='relu', input_shape=input_shape))\n",
    "# cnn.add(layers.MaxPool1D(pool_size=2))\n",
    "cnn.add(layers.Flatten())\n",
    "cnn.add(layers.Dense(100, activation='relu'))\n",
    "cnn.add(layers.Dense(30, activation='relu'))\n",
    "cnn.add(layers.Dense(num_classes,activation='softmax'))"
   ]
  },
  {
   "cell_type": "code",
   "execution_count": 33,
   "id": "584f8db8",
   "metadata": {},
   "outputs": [
    {
     "name": "stdout",
     "output_type": "stream",
     "text": [
      "Model: \"sequential\"\n",
      "_________________________________________________________________\n",
      " Layer (type)                Output Shape              Param #   \n",
      "=================================================================\n",
      " conv1d (Conv1D)             (None, 127, 64)           448       \n",
      "                                                                 \n",
      " flatten (Flatten)           (None, 8128)              0         \n",
      "                                                                 \n",
      " dense (Dense)               (None, 100)               812900    \n",
      "                                                                 \n",
      " dense_1 (Dense)             (None, 30)                3030      \n",
      "                                                                 \n",
      " dense_2 (Dense)             (None, 6)                 186       \n",
      "                                                                 \n",
      "=================================================================\n",
      "Total params: 816,564\n",
      "Trainable params: 816,564\n",
      "Non-trainable params: 0\n",
      "_________________________________________________________________\n"
     ]
    }
   ],
   "source": [
    "cnn.summary()"
   ]
  },
  {
   "cell_type": "code",
   "execution_count": 34,
   "id": "e6f59b08",
   "metadata": {},
   "outputs": [],
   "source": [
    "# optimizer = tf.keras.optimizers.SGD(learning_rate=0.01)\n",
    "cnn.compile(optimizer=\"adam\",\n",
    "           loss=\"categorical_crossentropy\",\n",
    "           metrics=\"accuracy\")"
   ]
  },
  {
   "cell_type": "markdown",
   "id": "835298f6-438d-4e85-8806-a2df9b430946",
   "metadata": {},
   "source": [
    "### Creating Tensorboard Logs and running CNN model"
   ]
  },
  {
   "cell_type": "code",
   "execution_count": null,
   "id": "28cfe256",
   "metadata": {
    "tags": []
   },
   "outputs": [
    {
     "name": "stdout",
     "output_type": "stream",
     "text": [
      "Epoch 1/50\n",
      "736/736 [==============================] - 9s 2ms/step - loss: 0.9052 - accuracy: 0.5652 - val_loss: 0.7473 - val_accuracy: 0.6430\n",
      "Epoch 2/50\n",
      "736/736 [==============================] - 2s 2ms/step - loss: 0.5960 - accuracy: 0.7214 - val_loss: 0.6730 - val_accuracy: 0.6722\n",
      "Epoch 3/50\n",
      "736/736 [==============================] - 1s 2ms/step - loss: 0.4798 - accuracy: 0.7765 - val_loss: 0.5929 - val_accuracy: 0.7391\n",
      "Epoch 4/50\n",
      "736/736 [==============================] - 2s 2ms/step - loss: 0.4331 - accuracy: 0.7995 - val_loss: 0.5829 - val_accuracy: 0.7710\n",
      "Epoch 5/50\n",
      "736/736 [==============================] - 1s 2ms/step - loss: 0.3985 - accuracy: 0.8169 - val_loss: 0.5416 - val_accuracy: 0.7947\n",
      "Epoch 6/50\n",
      "736/736 [==============================] - 1s 2ms/step - loss: 0.3910 - accuracy: 0.8244 - val_loss: 0.6819 - val_accuracy: 0.7438\n",
      "Epoch 7/50\n",
      "736/736 [==============================] - 1s 2ms/step - loss: 0.3545 - accuracy: 0.8391 - val_loss: 0.8053 - val_accuracy: 0.7506\n",
      "Epoch 8/50\n",
      "736/736 [==============================] - 1s 2ms/step - loss: 0.3360 - accuracy: 0.8528 - val_loss: 0.8230 - val_accuracy: 0.7418\n",
      "Epoch 9/50\n",
      "736/736 [==============================] - 1s 2ms/step - loss: 0.3183 - accuracy: 0.8643 - val_loss: 0.6799 - val_accuracy: 0.7900\n",
      "Epoch 10/50\n",
      "736/736 [==============================] - 2s 2ms/step - loss: 0.2992 - accuracy: 0.8750 - val_loss: 0.9471 - val_accuracy: 0.7479\n",
      "Epoch 11/50\n",
      "736/736 [==============================] - 1s 2ms/step - loss: 0.2695 - accuracy: 0.8871 - val_loss: 1.2044 - val_accuracy: 0.7438\n",
      "Epoch 12/50\n",
      "736/736 [==============================] - 1s 2ms/step - loss: 0.2748 - accuracy: 0.8881 - val_loss: 1.0881 - val_accuracy: 0.7394\n",
      "Epoch 13/50\n",
      "736/736 [==============================] - 1s 2ms/step - loss: 0.2373 - accuracy: 0.9052 - val_loss: 0.8584 - val_accuracy: 0.7472\n",
      "Epoch 14/50\n",
      "736/736 [==============================] - 1s 2ms/step - loss: 0.2099 - accuracy: 0.9127 - val_loss: 1.1156 - val_accuracy: 0.7333\n",
      "Epoch 15/50\n",
      "736/736 [==============================] - 1s 2ms/step - loss: 0.1984 - accuracy: 0.9196 - val_loss: 1.2308 - val_accuracy: 0.7296\n",
      "Epoch 16/50\n",
      "736/736 [==============================] - 1s 2ms/step - loss: 0.2391 - accuracy: 0.9105 - val_loss: 1.1934 - val_accuracy: 0.7428\n",
      "Epoch 17/50\n",
      "434/736 [================>.............] - ETA: 0s - loss: 0.1758 - accuracy: 0.9332"
     ]
    }
   ],
   "source": [
    "log_dir = \"logs/fit/cnn/\" + datetime.datetime.now().strftime(\"%Y%m%d-%H%M%S\")\n",
    "cnn_tensorboard_callback = TensorBoard(log_dir=log_dir, histogram_freq=1)\n",
    "cnnhistory = cnn.fit(X_xyz_norm_train, y_ohe_train, epochs=50, batch_size = 10, validation_data=(X_xyz_norm_test, y_ohe_test),callbacks=[cnn_tensorboard_callback])"
   ]
  },
  {
   "cell_type": "code",
   "execution_count": null,
   "id": "3e6e8c1b-dd62-48e7-b994-9e32aaeea62d",
   "metadata": {
    "tags": []
   },
   "outputs": [],
   "source": [
    "# %tensorboard --logdir logs/fit/cnn/"
   ]
  },
  {
   "cell_type": "markdown",
   "id": "a63c1e2a-fd4e-4074-9bb0-9883dceeb29b",
   "metadata": {},
   "source": [
    "To run tensorboard in the cli use command ```tensorboard --logdir logs/fit/cnn/```"
   ]
  },
  {
   "cell_type": "code",
   "execution_count": null,
   "id": "914130fb",
   "metadata": {
    "jupyter": {
     "source_hidden": true
    },
    "tags": []
   },
   "outputs": [],
   "source": [
    "# cnn.save(\"my_model\")\n",
    "# tensorflow_graph = tf.saved_model.load(\"my_model\")\n",
    "# x = np.random.uniform(size=(4, 32)).astype(np.float32)\n",
    "# predicted = tensorflow_graph(x).numpy()"
   ]
  },
  {
   "cell_type": "code",
   "execution_count": null,
   "id": "6e1b2fec",
   "metadata": {
    "jupyter": {
     "source_hidden": true
    },
    "tags": []
   },
   "outputs": [],
   "source": [
    "# loss_values = cnnhistory.history['loss']\n",
    "# epochs = range(1, len(loss_values)+1)\n",
    "\n",
    "# plt.plot(epochs, loss_values, label='Training Loss')\n",
    "# plt.xlabel('Epochs')\n",
    "# plt.ylabel('Loss')\n",
    "# plt.legend()\n",
    "\n",
    "# plt.show()"
   ]
  },
  {
   "cell_type": "code",
   "execution_count": null,
   "id": "3ec887f3",
   "metadata": {
    "jupyter": {
     "source_hidden": true
    },
    "tags": []
   },
   "outputs": [],
   "source": [
    "# acc_values = cnnhistory.history['accuracy']\n",
    "# epochs = range(1, len(loss_values)+1)\n",
    "\n",
    "# plt.plot(epochs, acc_values, label='Training Accuracy')\n",
    "# plt.xlabel('Epochs')\n",
    "# plt.ylabel('Accuracy')\n",
    "# plt.legend()\n",
    "\n",
    "# plt.show()"
   ]
  },
  {
   "cell_type": "code",
   "execution_count": null,
   "id": "4dc015f9",
   "metadata": {},
   "outputs": [],
   "source": [
    "y_pred = np.argmax(cnn.predict(X_xyz_norm_test),axis=1)\n",
    "print(y_pred)\n",
    "# print(y_pred.shape)\n",
    "# y_test_1D = np.argmax(y_test, axis=1).T[0]\n",
    "# print(type(y_test_1D))\n",
    "print(y_test)\n",
    "# print(y_test_1D.shape)\n",
    "ConfusionMatrixDisplay.from_predictions(y_test,y_pred)"
   ]
  },
  {
   "cell_type": "markdown",
   "id": "840f505a",
   "metadata": {},
   "source": [
    "<H1>Implementing LSTM</H1>"
   ]
  },
  {
   "cell_type": "code",
   "execution_count": null,
   "id": "274f7f9e-551c-432e-b7dd-dd0892f9e35d",
   "metadata": {},
   "outputs": [],
   "source": [
    "# LSTM\n",
    "lstm = models.Sequential()\n",
    "lstm.add(layers.LSTM(128,input_shape=input_shape))\n",
    "lstm.add(layers.Dropout(rate=0.2))\n",
    "lstm.add(layers.Dense(6,activation=\"softmax\"))"
   ]
  },
  {
   "cell_type": "code",
   "execution_count": null,
   "id": "466356da",
   "metadata": {},
   "outputs": [],
   "source": [
    "lstm.summary()"
   ]
  },
  {
   "cell_type": "code",
   "execution_count": null,
   "id": "988ff08c",
   "metadata": {},
   "outputs": [],
   "source": [
    "lstm.compile(optimizer = \"adam\",\n",
    "            loss=\"categorical_crossentropy\",\n",
    "            metrics = \"accuracy\"\n",
    "            )"
   ]
  },
  {
   "cell_type": "code",
   "execution_count": null,
   "id": "3e3f5783-f713-49b5-a72b-07f0519aa2d5",
   "metadata": {},
   "outputs": [],
   "source": [
    "lstm_log_dir = \"logs/fit/lstm/lstm\" + datetime.datetime.now().strftime(\"%Y%m%d-%H%M%S\")\n",
    "lstm_tensorboard_callback = TensorBoard(log_dir=lstm_log_dir, histogram_freq=1)"
   ]
  },
  {
   "cell_type": "code",
   "execution_count": null,
   "id": "c3de4a86",
   "metadata": {
    "tags": []
   },
   "outputs": [],
   "source": [
    "lstmhistory = lstm.fit(X_xyz_norm_train,y_ohe_train,epochs = 50,batch_size=10,validation_data=(X_xyz_norm_test, y_ohe_test),callbacks=[lstm_tensorboard_callback])"
   ]
  },
  {
   "cell_type": "code",
   "execution_count": null,
   "id": "c445441b-4af0-472e-b4b9-de45dc7c8536",
   "metadata": {},
   "outputs": [],
   "source": [
    "# %tensorboard --logdir logs/fit/lstm/"
   ]
  },
  {
   "cell_type": "markdown",
   "id": "3546585a-53c0-4973-af92-92203a2f80a3",
   "metadata": {},
   "source": [
    "To run tensorboard in the cli use command ```tensorboard --logdir logs/fit/lstm/```"
   ]
  },
  {
   "cell_type": "code",
   "execution_count": null,
   "id": "87735797",
   "metadata": {},
   "outputs": [],
   "source": [
    "loss_values = lstmhistory.history['loss']\n",
    "epochs = range(1, len(loss_values)+1)\n",
    "\n",
    "plt.plot(epochs, loss_values, label='Training Loss')\n",
    "plt.xlabel('Epochs')\n",
    "plt.ylabel('Loss')\n",
    "plt.legend()\n",
    "\n",
    "plt.show()"
   ]
  },
  {
   "cell_type": "code",
   "execution_count": null,
   "id": "cd69e1ff",
   "metadata": {},
   "outputs": [],
   "source": [
    "acc_values = lstmhistory.history['accuracy']\n",
    "epochs = range(1, len(loss_values)+1)\n",
    "\n",
    "plt.plot(epochs, acc_values, label='Training Accuracy')\n",
    "plt.xlabel('Epochs')\n",
    "plt.ylabel('Accuracy')\n",
    "plt.legend()\n",
    "\n",
    "plt.show()"
   ]
  },
  {
   "cell_type": "code",
   "execution_count": null,
   "id": "c7b28ca8-7e57-40a1-852d-7b5ce50d5919",
   "metadata": {},
   "outputs": [],
   "source": [
    "y_pred = np.argmax(lstm.predict(X_xyz_norm_test),axis=1)\n",
    "print(y_pred)\n",
    "# print(y_pred.shape)\n",
    "# y_test_1D = np.argmax(y_test, axis=1).T[0]\n",
    "# print(type(y_test_1D))\n",
    "print(y_test)\n",
    "# print(y_test_1D.shape)\n",
    "ConfusionMatrixDisplay.from_predictions(y_test,y_pred)"
   ]
  },
  {
   "cell_type": "code",
   "execution_count": null,
   "id": "a7317c6d-2700-49f3-a2f9-e9cc6e726200",
   "metadata": {},
   "outputs": [],
   "source": [
    "# %tensorboard --logdir logs/fit/lstm/"
   ]
  },
  {
   "cell_type": "markdown",
   "id": "8827ef42-e05c-4ce9-afba-07ecb4053d0c",
   "metadata": {},
   "source": [
    "To run tensorboard in the cli use command ```tensorboard --logdir logs/fit/lstm/```"
   ]
  },
  {
   "cell_type": "markdown",
   "id": "db46bcd0-963c-44a3-ae0f-af435829ff03",
   "metadata": {},
   "source": [
    "<H1>Implementing Bidirectional LSTM</H1>"
   ]
  },
  {
   "cell_type": "code",
   "execution_count": null,
   "id": "f633ae6c",
   "metadata": {
    "tags": []
   },
   "outputs": [],
   "source": [
    "# Bidirectional LSTM\n",
    "\n",
    "bidirectional_lstm = models.Sequential()\n",
    "bidirectional_lstm.add(layers.Bidirectional(\n",
    "    layers.LSTM(128),input_shape=input_shape\n",
    "))\n",
    "bidirectional_lstm.add(layers.Dropout(rate=0.2))\n",
    "bidirectional_lstm.add(layers.Dense(6,activation=\"softmax\"))"
   ]
  },
  {
   "cell_type": "code",
   "execution_count": null,
   "id": "c29e7ec7-2c33-4dff-b6ff-3ff1074f89d4",
   "metadata": {},
   "outputs": [],
   "source": [
    "bidirectional_lstm.summary()"
   ]
  },
  {
   "cell_type": "code",
   "execution_count": null,
   "id": "33eaba9f-d814-4791-9201-018ba9341e63",
   "metadata": {},
   "outputs": [],
   "source": [
    "bidirectional_lstm.compile(optimizer = \"adam\",\n",
    "            loss=\"categorical_crossentropy\",\n",
    "            metrics = \"accuracy\"\n",
    "            )"
   ]
  },
  {
   "cell_type": "code",
   "execution_count": null,
   "id": "3176d2f6-eb3b-4e4d-a798-31ff1c491d80",
   "metadata": {},
   "outputs": [],
   "source": [
    "bidirectional_lstm_log_dir = \"logs/fit/lstm/bidirectional\" + datetime.datetime.now().strftime(\"%Y%m%d-%H%M%S\")\n",
    "bidirectional_lstm_tensorboard_callback = TensorBoard(log_dir=lstm_log_dir, histogram_freq=1)"
   ]
  },
  {
   "cell_type": "code",
   "execution_count": null,
   "id": "1a4262f3-6547-49fd-9481-d18101787b34",
   "metadata": {
    "tags": []
   },
   "outputs": [],
   "source": [
    "lstmhistory = lstm.fit(X_xyz_norm_train,y_ohe_train,epochs = 50,batch_size=10,validation_data=(X_xyz_norm_test, y_ohe_test),callbacks=[bidirectional_lstm_tensorboard_callback])"
   ]
  },
  {
   "cell_type": "code",
   "execution_count": null,
   "id": "ad775d65",
   "metadata": {},
   "outputs": [],
   "source": [
    "end = time.perf_counter()\n",
    "print(f\"notebook took {end - start:0.4f} seconds to finish\")"
   ]
  },
  {
   "cell_type": "markdown",
   "id": "4eb2591b-5025-45d0-a45d-5236c7ff71d1",
   "metadata": {},
   "source": [
    "# TODO:\n",
    "1. Compare Github Accuracy Results.\n",
    "\n",
    "2. Print out Accuracy Scores and stuff.\n",
    "\n",
    "3. Fit a CNN model on the frequency transformed images. \n",
    "\n",
    "4. Tweak Hyperparameters like learning rate."
   ]
  },
  {
   "cell_type": "code",
   "execution_count": null,
   "id": "8735f6de-8fbb-470b-825c-c63007208419",
   "metadata": {},
   "outputs": [],
   "source": []
  }
 ],
 "metadata": {
  "kernelspec": {
   "display_name": "tf-timeseries-env",
   "language": "python",
   "name": "tf-timeseries-env"
  },
  "language_info": {
   "codemirror_mode": {
    "name": "ipython",
    "version": 3
   },
   "file_extension": ".py",
   "mimetype": "text/x-python",
   "name": "python",
   "nbconvert_exporter": "python",
   "pygments_lexer": "ipython3",
   "version": "3.10.2"
  }
 },
 "nbformat": 4,
 "nbformat_minor": 5
}
