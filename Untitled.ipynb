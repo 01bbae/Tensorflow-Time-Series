{
 "cells": [
  {
   "cell_type": "code",
   "execution_count": 1,
   "id": "a78ef61e",
   "metadata": {},
   "outputs": [
    {
     "data": {
      "text/plain": [
       "'2.7.0'"
      ]
     },
     "execution_count": 1,
     "metadata": {},
     "output_type": "execute_result"
    }
   ],
   "source": [
    "import numpy as np\n",
    "import pandas as pd\n",
    "import tensorflow as tf\n",
    "from tensorflow.keras import datasets, layers, models, losses, optimizers, Input, optimizers\n",
    "from matplotlib import pyplot as plt\n",
    "from tqdm.notebook import tqdm\n",
    "from time import sleep\n",
    "from sklearn.preprocessing import StandardScaler\n",
    "import time\n",
    "import pprint\n",
    "import keras\n",
    "tf.__version__"
   ]
  },
  {
   "cell_type": "code",
   "execution_count": 2,
   "id": "96dfd861",
   "metadata": {},
   "outputs": [],
   "source": [
    "X_x_train = np.loadtxt(\"./data/X_x_train.txt\")\n",
    "X_y_train = np.loadtxt(\"./data/X_y_train.txt\")\n",
    "X_z_train = np.loadtxt(\"./data/X_z_train.txt\")\n",
    "y_train = np.loadtxt(\"./data/y_train.txt\")\n",
    "\n",
    "X_x_test = np.loadtxt(\"./data/X_x_train.txt\")\n",
    "X_y_test = np.loadtxt(\"./data/X_y_train.txt\")\n",
    "X_z_test = np.loadtxt(\"./data/X_z_train.txt\")\n",
    "y_test = np.loadtxt(\"./data/y_train.txt\")"
   ]
  },
  {
   "cell_type": "code",
   "execution_count": 3,
   "id": "8d025576",
   "metadata": {
    "scrolled": true
   },
   "outputs": [],
   "source": [
    "# for i, r in tqdm(X_x_train[:], total=X_x_train.shape[0], desc=\"printing graphs...\"):\n",
    "#     print(\"plot\" +str(i))\n",
    "#     row = X_x_train[i,:-1]\n",
    "#     y = X_x_train[i,-1:]\n",
    "#     print(label_names[int(y)-1])\n",
    "#     plt.plot(row)\n",
    "#     plt.show()\n"
   ]
  },
  {
   "cell_type": "code",
   "execution_count": 4,
   "id": "26ded89b",
   "metadata": {},
   "outputs": [],
   "source": [
    "def standard_score_normalization(x):\n",
    "    x_m = np.mean(x, axis=1).reshape(-1,1)\n",
    "    x_std = np.std(x,axis=1).reshape(-1,1)\n",
    "    return (x-x_m)/x_std"
   ]
  },
  {
   "cell_type": "code",
   "execution_count": 5,
   "id": "dd6bc501",
   "metadata": {},
   "outputs": [],
   "source": [
    "norm = StandardScaler()"
   ]
  },
  {
   "cell_type": "code",
   "execution_count": 6,
   "id": "a8f685c2",
   "metadata": {},
   "outputs": [],
   "source": [
    "X_x_train_norm = norm.fit_transform(X_x_train)\n",
    "X_y_train_norm = norm.fit_transform(X_y_train)\n",
    "X_z_train_norm = norm.fit_transform(X_y_train)\n",
    "\n",
    "X_x_test_norm = norm.fit_transform(X_x_test)\n",
    "X_y_test_norm = norm.fit_transform(X_y_test)\n",
    "X_z_test_norm = norm.fit_transform(X_z_test)"
   ]
  },
  {
   "cell_type": "code",
   "execution_count": 7,
   "id": "fbc18999",
   "metadata": {},
   "outputs": [],
   "source": [
    "def concat_xyz(x,y,z):\n",
    "    data = np.empty((x.shape[0],x.shape[1],3))\n",
    "#     x = np.expand_dims(x, axis=1) # same as x = x[:,np.newaxis,:]\n",
    "#     y = np.expand_dims(y, axis=1)\n",
    "#     z = np.expand_dims(z, axis=1)\n",
    "    data[:,:,0] = x\n",
    "    data[:,:,1] = y\n",
    "    data[:,:,2] = z\n",
    "    return data"
   ]
  },
  {
   "cell_type": "code",
   "execution_count": 8,
   "id": "5957825d",
   "metadata": {},
   "outputs": [],
   "source": [
    "def concat2_xyz(x,y,z):\n",
    "    data = np.empty((x.shape[0],x.shape[1],3))\n",
    "    for i, rowx,rowy, rowz in zip(range(x.shape[0]),x,y,z):\n",
    "        data[i,:,0] = rowx.reshape(1,-1)\n",
    "        data[i,:,1] = rowy.reshape(1,-1)\n",
    "        data[i,:,2] = rowz.reshape(1,-1)\n",
    "    return data"
   ]
  },
  {
   "cell_type": "code",
   "execution_count": 9,
   "id": "911dfb2f",
   "metadata": {},
   "outputs": [
    {
     "name": "stdout",
     "output_type": "stream",
     "text": [
      "concat_xyz in 0.0072 seconds\n"
     ]
    }
   ],
   "source": [
    "tic = time.perf_counter()\n",
    "X_xyz_norm_train =  concat_xyz(X_x_train_norm,X_y_train_norm, X_z_train_norm)\n",
    "X_xyz_norm_test = concat_xyz(X_x_test_norm,X_y_test_norm,X_z_test_norm)\n",
    "toc = time.perf_counter()\n",
    "print(f\"concat_xyz in {toc - tic:0.4f} seconds\")"
   ]
  },
  {
   "cell_type": "code",
   "execution_count": 10,
   "id": "06f8b17c",
   "metadata": {},
   "outputs": [
    {
     "name": "stdout",
     "output_type": "stream",
     "text": [
      "concat2_xyz in 0.0159 seconds\n"
     ]
    }
   ],
   "source": [
    "tic = time.perf_counter()\n",
    "concat2_xyz(X_x_train_norm,X_y_train_norm, X_z_train_norm)\n",
    "concat_xyz(X_x_test_norm,X_y_test_norm,X_z_test_norm)\n",
    "toc = time.perf_counter()\n",
    "print(f\"concat2_xyz in {toc - tic:0.4f} seconds\")"
   ]
  },
  {
   "cell_type": "code",
   "execution_count": 11,
   "id": "31aa19b4",
   "metadata": {},
   "outputs": [],
   "source": [
    "label_names = ['Walking', 'Walking upstairs', 'Walking downstairs', 'Sitting', 'Standing', 'Laying']\n",
    "num_outputs = len(label_names)"
   ]
  },
  {
   "cell_type": "code",
   "execution_count": 12,
   "id": "adef527c",
   "metadata": {},
   "outputs": [],
   "source": [
    "# one hot encoding\n",
    "y_train = np.eye(len(label_names))[(y_train-1).astype(int)]\n",
    "\n",
    "y_test = np.eye(len(label_names))[(y_train-1).astype(int)]\n",
    "# pprint.pprint(y_train)\n",
    "# pprint.pprint(y_test)"
   ]
  },
  {
   "cell_type": "code",
   "execution_count": 13,
   "id": "84bcd1dc",
   "metadata": {},
   "outputs": [
    {
     "data": {
      "text/plain": [
       "(7352, 128, 3)"
      ]
     },
     "execution_count": 13,
     "metadata": {},
     "output_type": "execute_result"
    }
   ],
   "source": [
    "X_xyz_norm_train.shape"
   ]
  },
  {
   "cell_type": "code",
   "execution_count": 14,
   "id": "d6d23581",
   "metadata": {},
   "outputs": [],
   "source": [
    "input_shape = X_xyz_norm_train.shape[1:]"
   ]
  },
  {
   "cell_type": "code",
   "execution_count": 15,
   "id": "06ec22ae",
   "metadata": {},
   "outputs": [
    {
     "name": "stdout",
     "output_type": "stream",
     "text": [
      "Metal device set to: Apple M1 Pro\n"
     ]
    },
    {
     "name": "stderr",
     "output_type": "stream",
     "text": [
      "2022-04-01 04:41:31.218538: I tensorflow/core/common_runtime/pluggable_device/pluggable_device_factory.cc:305] Could not identify NUMA node of platform GPU ID 0, defaulting to 0. Your kernel may not have been built with NUMA support.\n",
      "2022-04-01 04:41:31.218637: I tensorflow/core/common_runtime/pluggable_device/pluggable_device_factory.cc:271] Created TensorFlow device (/job:localhost/replica:0/task:0/device:GPU:0 with 0 MB memory) -> physical PluggableDevice (device: 0, name: METAL, pci bus id: <undefined>)\n"
     ]
    }
   ],
   "source": [
    "cnn = models.Sequential()\n",
    "cnn.add(layers.Conv1D(filters=64, kernel_size=2, activation='relu', input_shape=input_shape))\n",
    "cnn.add(layers.MaxPool1D(pool_size=2))\n",
    "cnn.add(layers.Flatten())\n",
    "cnn.add(layers.Dense(200, activation='relu'))\n",
    "cnn.add(layers.Dense(100, activation='relu'))\n",
    "cnn.add(layers.Dense(50, activation='relu'))\n",
    "cnn.add(layers.Dense(40, activation='relu'))\n",
    "cnn.add(layers.Dense(30, activation='relu'))\n",
    "cnn.add(layers.Dense(num_outputs))"
   ]
  },
  {
   "cell_type": "code",
   "execution_count": 16,
   "id": "584f8db8",
   "metadata": {},
   "outputs": [
    {
     "name": "stdout",
     "output_type": "stream",
     "text": [
      "Model: \"sequential\"\n",
      "_________________________________________________________________\n",
      " Layer (type)                Output Shape              Param #   \n",
      "=================================================================\n",
      " conv1d (Conv1D)             (None, 127, 64)           448       \n",
      "                                                                 \n",
      " max_pooling1d (MaxPooling1D  (None, 63, 64)           0         \n",
      " )                                                               \n",
      "                                                                 \n",
      " flatten (Flatten)           (None, 4032)              0         \n",
      "                                                                 \n",
      " dense (Dense)               (None, 200)               806600    \n",
      "                                                                 \n",
      " dense_1 (Dense)             (None, 100)               20100     \n",
      "                                                                 \n",
      " dense_2 (Dense)             (None, 50)                5050      \n",
      "                                                                 \n",
      " dense_3 (Dense)             (None, 40)                2040      \n",
      "                                                                 \n",
      " dense_4 (Dense)             (None, 30)                1230      \n",
      "                                                                 \n",
      " dense_5 (Dense)             (None, 6)                 186       \n",
      "                                                                 \n",
      "=================================================================\n",
      "Total params: 835,654\n",
      "Trainable params: 835,654\n",
      "Non-trainable params: 0\n",
      "_________________________________________________________________\n"
     ]
    }
   ],
   "source": [
    "cnn.summary()"
   ]
  },
  {
   "cell_type": "code",
   "execution_count": 17,
   "id": "e6f59b08",
   "metadata": {},
   "outputs": [],
   "source": [
    "# optimizer = tf.keras.optimizers.Adam(0.001)\n",
    "# optimizer.learning_rate.assign(0.000001)\n",
    "cnn.compile(optimizer=\"adam\",\n",
    "           loss=\"categorical_crossentropy\",\n",
    "           metrics=\"accuracy\")"
   ]
  },
  {
   "cell_type": "code",
   "execution_count": 18,
   "id": "a5bfe0ac",
   "metadata": {},
   "outputs": [],
   "source": [
    "n_steps = X_xyz_norm_train.shape[1]\n",
    "n_features = X_xyz_norm_train.shape[2]"
   ]
  },
  {
   "cell_type": "code",
   "execution_count": 19,
   "id": "ae2e6ed7",
   "metadata": {},
   "outputs": [
    {
     "data": {
      "text/plain": [
       "(7352, 128, 3)"
      ]
     },
     "execution_count": 19,
     "metadata": {},
     "output_type": "execute_result"
    }
   ],
   "source": [
    "X_xyz_norm_train.shape"
   ]
  },
  {
   "cell_type": "code",
   "execution_count": 20,
   "id": "2743c727",
   "metadata": {},
   "outputs": [
    {
     "data": {
      "text/plain": [
       "(7352, 6)"
      ]
     },
     "execution_count": 20,
     "metadata": {},
     "output_type": "execute_result"
    }
   ],
   "source": [
    "y_train.shape"
   ]
  },
  {
   "cell_type": "code",
   "execution_count": 21,
   "id": "28cfe256",
   "metadata": {},
   "outputs": [
    {
     "name": "stdout",
     "output_type": "stream",
     "text": [
      "Epoch 1/10\n"
     ]
    },
    {
     "name": "stderr",
     "output_type": "stream",
     "text": [
      "2022-04-01 04:41:31.345145: W tensorflow/core/platform/profile_utils/cpu_utils.cc:128] Failed to get CPU frequency: 0 Hz\n"
     ]
    },
    {
     "name": "stdout",
     "output_type": "stream",
     "text": [
      "\r",
      "  1/736 [..............................] - ETA: 4:52 - loss: 5.4726 - accuracy: 0.1000"
     ]
    },
    {
     "name": "stderr",
     "output_type": "stream",
     "text": [
      "2022-04-01 04:41:31.557590: I tensorflow/core/grappler/optimizers/custom_graph_optimizer_registry.cc:112] Plugin optimizer for device_type GPU is enabled.\n"
     ]
    },
    {
     "name": "stdout",
     "output_type": "stream",
     "text": [
      "736/736 [==============================] - 7s 8ms/step - loss: 7.2079 - accuracy: 0.0645\n",
      "Epoch 2/10\n",
      "736/736 [==============================] - 6s 8ms/step - loss: 7.1799 - accuracy: 0.0586\n",
      "Epoch 3/10\n",
      "736/736 [==============================] - 6s 8ms/step - loss: 7.1799 - accuracy: 0.0586\n",
      "Epoch 4/10\n",
      "736/736 [==============================] - 6s 8ms/step - loss: 7.1799 - accuracy: 0.0586\n",
      "Epoch 5/10\n",
      "736/736 [==============================] - 6s 8ms/step - loss: 7.1799 - accuracy: 0.0586\n",
      "Epoch 6/10\n",
      "736/736 [==============================] - 6s 8ms/step - loss: 7.1799 - accuracy: 0.0586\n",
      "Epoch 7/10\n",
      "736/736 [==============================] - 6s 8ms/step - loss: 7.1799 - accuracy: 0.0586\n",
      "Epoch 8/10\n",
      "736/736 [==============================] - 6s 8ms/step - loss: 7.1799 - accuracy: 0.0586\n",
      "Epoch 9/10\n",
      "736/736 [==============================] - 6s 8ms/step - loss: 7.1799 - accuracy: 0.0586\n",
      "Epoch 10/10\n",
      "736/736 [==============================] - 6s 8ms/step - loss: 7.1799 - accuracy: 0.0586\n"
     ]
    }
   ],
   "source": [
    "history = cnn.fit(X_xyz_norm_train, y_train, epochs=10, batch_size = 10)"
   ]
  },
  {
   "cell_type": "code",
   "execution_count": 22,
   "id": "914130fb",
   "metadata": {},
   "outputs": [],
   "source": [
    "# cnn.save(\"my_model\")\n",
    "# tensorflow_graph = tf.saved_model.load(\"my_model\")\n",
    "# x = np.random.uniform(size=(4, 32)).astype(np.float32)\n",
    "# predicted = tensorflow_graph(x).numpy()"
   ]
  },
  {
   "cell_type": "code",
   "execution_count": 23,
   "id": "6e1b2fec",
   "metadata": {},
   "outputs": [
    {
     "data": {
      "image/png": "[encoded data removed]",
      "text/plain": [
       "<Figure size 432x288 with 1 Axes>"
      ]
     },
     "metadata": {
      "needs_background": "light"
     },
     "output_type": "display_data"
    }
   ],
   "source": [
    "loss_values = history.history['loss']\n",
    "epochs = range(1, len(loss_values)+1)\n",
    "\n",
    "plt.plot(epochs, loss_values, label='Training Loss')\n",
    "plt.xlabel('Epochs')\n",
    "plt.ylabel('Loss')\n",
    "plt.legend()\n",
    "\n",
    "plt.show()"
   ]
  },
  {
   "cell_type": "code",
   "execution_count": 24,
   "id": "3ec887f3",
   "metadata": {},
   "outputs": [
    {
     "data": {
      "image/png": "[encoded data removed]",
      "text/plain": [
       "<Figure size 432x288 with 1 Axes>"
      ]
     },
     "metadata": {
      "needs_background": "light"
     },
     "output_type": "display_data"
    }
   ],
   "source": [
    "acc_values = history.history['accuracy']\n",
    "epochs = range(1, len(loss_values)+1)\n",
    "\n",
    "plt.plot(epochs, acc_values, label='Training Accuracy')\n",
    "plt.xlabel('Epochs')\n",
    "plt.ylabel('Accuracy')\n",
    "plt.legend()\n",
    "\n",
    "plt.show()"
   ]
  },
  {
   "cell_type": "code",
   "execution_count": 25,
   "id": "43881807",
   "metadata": {},
   "outputs": [
    {
     "name": "stderr",
     "output_type": "stream",
     "text": [
      "2022-04-01 04:42:33.578071: I tensorflow/core/grappler/optimizers/custom_graph_optimizer_registry.cc:112] Plugin optimizer for device_type GPU is enabled.\n"
     ]
    },
    {
     "name": "stdout",
     "output_type": "stream",
     "text": [
      "[[-0.08339906  0.2639229   0.14841738 -0.27402005 -0.2699554   0.26585978]\n",
      " [-0.04951455  0.17873526  0.10446097 -0.20253107 -0.18615985  0.1761072 ]\n",
      " [-0.06752136  0.21000157  0.12226496 -0.22165969 -0.22352225  0.20674077]\n",
      " ...\n",
      " [-1.2148222   3.6632185   2.9223511  -4.0513015  -3.4897208   4.216832  ]\n",
      " [-1.1607984   3.5356572   2.9003775  -4.061427   -3.3652725   4.1855145 ]\n",
      " [-1.4458452   4.1301923   2.6943924  -4.0813966  -4.0067124   4.5602417 ]]\n",
      "[[[0. 0. 0. 0. 0. 1.]\n",
      "  [0. 0. 0. 0. 0. 1.]\n",
      "  [0. 0. 0. 0. 0. 1.]\n",
      "  [0. 0. 0. 0. 0. 1.]\n",
      "  [1. 0. 0. 0. 0. 0.]\n",
      "  [0. 0. 0. 0. 0. 1.]]\n",
      "\n",
      " [[0. 0. 0. 0. 0. 1.]\n",
      "  [0. 0. 0. 0. 0. 1.]\n",
      "  [0. 0. 0. 0. 0. 1.]\n",
      "  [0. 0. 0. 0. 0. 1.]\n",
      "  [1. 0. 0. 0. 0. 0.]\n",
      "  [0. 0. 0. 0. 0. 1.]]\n",
      "\n",
      " [[0. 0. 0. 0. 0. 1.]\n",
      "  [0. 0. 0. 0. 0. 1.]\n",
      "  [0. 0. 0. 0. 0. 1.]\n",
      "  [0. 0. 0. 0. 0. 1.]\n",
      "  [1. 0. 0. 0. 0. 0.]\n",
      "  [0. 0. 0. 0. 0. 1.]]\n",
      "\n",
      " ...\n",
      "\n",
      " [[0. 0. 0. 0. 0. 1.]\n",
      "  [1. 0. 0. 0. 0. 0.]\n",
      "  [0. 0. 0. 0. 0. 1.]\n",
      "  [0. 0. 0. 0. 0. 1.]\n",
      "  [0. 0. 0. 0. 0. 1.]\n",
      "  [0. 0. 0. 0. 0. 1.]]\n",
      "\n",
      " [[0. 0. 0. 0. 0. 1.]\n",
      "  [1. 0. 0. 0. 0. 0.]\n",
      "  [0. 0. 0. 0. 0. 1.]\n",
      "  [0. 0. 0. 0. 0. 1.]\n",
      "  [0. 0. 0. 0. 0. 1.]\n",
      "  [0. 0. 0. 0. 0. 1.]]\n",
      "\n",
      " [[0. 0. 0. 0. 0. 1.]\n",
      "  [1. 0. 0. 0. 0. 0.]\n",
      "  [0. 0. 0. 0. 0. 1.]\n",
      "  [0. 0. 0. 0. 0. 1.]\n",
      "  [0. 0. 0. 0. 0. 1.]\n",
      "  [0. 0. 0. 0. 0. 1.]]]\n"
     ]
    }
   ],
   "source": [
    "# X_test = X_xyz_norm_test.reshape((None, n_steps, n_features))\n",
    "yhat = cnn.predict(X_xyz_norm_test)\n",
    "print(yhat)\n",
    "print(y_test)"
   ]
  },
  {
   "cell_type": "code",
   "execution_count": null,
   "id": "d03159d6",
   "metadata": {},
   "outputs": [],
   "source": []
  },
  {
   "cell_type": "code",
   "execution_count": 26,
   "id": "f633ae6c",
   "metadata": {},
   "outputs": [],
   "source": [
    "# LSTM\n",
    "lstm = tf.keras.layers.LSTM(4)\n"
   ]
  },
  {
   "cell_type": "code",
   "execution_count": null,
   "id": "988ff08c",
   "metadata": {},
   "outputs": [],
   "source": []
  },
  {
   "cell_type": "code",
   "execution_count": null,
   "id": "a86d5bdb",
   "metadata": {},
   "outputs": [],
   "source": []
  },
  {
   "cell_type": "code",
   "execution_count": null,
   "id": "87735797",
   "metadata": {},
   "outputs": [],
   "source": []
  },
  {
   "cell_type": "code",
   "execution_count": null,
   "id": "cd69e1ff",
   "metadata": {},
   "outputs": [],
   "source": []
  },
  {
   "cell_type": "code",
   "execution_count": null,
   "id": "46eb13c5",
   "metadata": {},
   "outputs": [],
   "source": []
  },
  {
   "cell_type": "code",
   "execution_count": null,
   "id": "f95db285",
   "metadata": {},
   "outputs": [],
   "source": []
  }
 ],
 "metadata": {
  "kernelspec": {
   "display_name": "Python 3 (ipykernel)",
   "language": "python",
   "name": "python3"
  },
  "language_info": {
   "codemirror_mode": {
    "name": "ipython",
    "version": 3
   },
   "file_extension": ".py",
   "mimetype": "text/x-python",
   "name": "python",
   "nbconvert_exporter": "python",
   "pygments_lexer": "ipython3",
   "version": "3.9.7"
  }
 },
 "nbformat": 4,
 "nbformat_minor": 5
}
