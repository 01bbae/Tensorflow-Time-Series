{
 "cells": [
  {
   "cell_type": "code",
   "execution_count": 1,
   "id": "a78ef61e",
   "metadata": {},
   "outputs": [
    {
     "data": {
      "text/plain": [
       "'2.8.0'"
      ]
     },
     "execution_count": 1,
     "metadata": {},
     "output_type": "execute_result"
    }
   ],
   "source": [
    "import numpy as np\n",
    "import pandas as pd\n",
    "import tensorflow as tf\n",
    "from tensorflow.keras import datasets, layers, models, losses, optimizers, Input, optimizers\n",
    "from tensorflow.keras.callbacks import TensorBoard\n",
    "from tensorflow.keras.utils import to_categorical\n",
    "from matplotlib import pyplot as plt\n",
    "from tqdm.notebook import tqdm\n",
    "import time\n",
    "import os\n",
    "from time import sleep\n",
    "import datetime\n",
    "from sklearn.preprocessing import StandardScaler\n",
    "from sklearn.metrics import ConfusionMatrixDisplay\n",
    "import pprint\n",
    "import pywt\n",
    "tf.__version__"
   ]
  },
  {
   "cell_type": "code",
   "execution_count": 2,
   "id": "673d4244-f641-4096-bb2f-0db85fd99d54",
   "metadata": {},
   "outputs": [],
   "source": [
    "%load_ext tensorboard"
   ]
  },
  {
   "cell_type": "code",
   "execution_count": 3,
   "id": "ee1bbbbe",
   "metadata": {},
   "outputs": [],
   "source": [
    "start = time.perf_counter()"
   ]
  },
  {
   "cell_type": "code",
   "execution_count": 4,
   "id": "75a254d8",
   "metadata": {
    "scrolled": true
   },
   "outputs": [
    {
     "data": {
      "text/plain": [
       "True"
      ]
     },
     "execution_count": 4,
     "metadata": {},
     "output_type": "execute_result"
    }
   ],
   "source": [
    "len(tf.config.list_physical_devices('GPU'))>0"
   ]
  },
  {
   "cell_type": "code",
   "execution_count": 5,
   "id": "5661d1f1",
   "metadata": {},
   "outputs": [
    {
     "name": "stdout",
     "output_type": "stream",
     "text": [
      "/device:GPU:0\n"
     ]
    }
   ],
   "source": [
    "device_name = tf.test.gpu_device_name()\n",
    "print(device_name)"
   ]
  },
  {
   "cell_type": "markdown",
   "id": "27989127-a585-4d20-890a-659413bc8b82",
   "metadata": {},
   "source": [
    "### Create Log directories for Tensorboard"
   ]
  },
  {
   "cell_type": "code",
   "execution_count": 6,
   "id": "c1673c8c-13c6-481b-980d-c91e1f5752d5",
   "metadata": {},
   "outputs": [
    {
     "name": "stdout",
     "output_type": "stream",
     "text": [
      "log files are created\n"
     ]
    }
   ],
   "source": [
    "try:\n",
    "    if not os.path.exists(\"logs\"):\n",
    "        log_path = os.path.join(\"logs\",\"fit\")\n",
    "        os.makedirs(os.path.join(log_path,\"lstm\",\"bidirectional\"))\n",
    "        os.mkdir(os.path.join(log_path,\"cnn\"))\n",
    "        print(\"log files are created\")\n",
    "    else:\n",
    "        print(\"log files already exist\")\n",
    "except Exception as e:\n",
    "    print(e)\n",
    "    print(\"Error while creating log directories. Aborted.\")"
   ]
  },
  {
   "cell_type": "code",
   "execution_count": null,
   "id": "a2844e2a-1a60-45bb-af86-852c4208fa4d",
   "metadata": {},
   "outputs": [],
   "source": [
    "image_path = \"images\"\n",
    "try:\n",
    "    os.mkdir(image_path)\n",
    "    \n",
    "except Exception as e:\n",
    "    print(e)\n",
    "    print(\"Error while creating image directory. Aborted.\")\n"
   ]
  },
  {
   "cell_type": "code",
   "execution_count": 7,
   "id": "96dfd861",
   "metadata": {},
   "outputs": [],
   "source": [
    "X_x_train = np.loadtxt(\"./data/X_x_train.txt\")\n",
    "X_y_train = np.loadtxt(\"./data/X_y_train.txt\")\n",
    "X_z_train = np.loadtxt(\"./data/X_z_train.txt\")\n",
    "y_train = np.loadtxt(\"./data/y_train.txt\")\n",
    "\n",
    "X_x_test = np.loadtxt(\"./data/X_x_test.txt\")\n",
    "X_y_test = np.loadtxt(\"./data/X_y_test.txt\")\n",
    "X_z_test = np.loadtxt(\"./data/X_z_test.txt\")\n",
    "y_test = np.loadtxt(\"./data/y_test.txt\")"
   ]
  },
  {
   "cell_type": "code",
   "execution_count": 9,
   "id": "26ded89b",
   "metadata": {
    "tags": []
   },
   "outputs": [],
   "source": [
    "def standard_score_normalization(x):\n",
    "    x_m = np.mean(x, axis=1).reshape(-1,1)\n",
    "    x_std = np.std(x,axis=1).reshape(-1,1)\n",
    "    return (x-x_m)/x_std"
   ]
  },
  {
   "cell_type": "code",
   "execution_count": 10,
   "id": "dd6bc501",
   "metadata": {
    "tags": []
   },
   "outputs": [],
   "source": [
    "norm = StandardScaler()"
   ]
  },
  {
   "cell_type": "code",
   "execution_count": 11,
   "id": "a8f685c2",
   "metadata": {
    "tags": []
   },
   "outputs": [],
   "source": [
    "X_x_train_norm = norm.fit_transform(X_x_train)\n",
    "X_y_train_norm = norm.fit_transform(X_y_train)\n",
    "X_z_train_norm = norm.fit_transform(X_z_train)\n",
    "\n",
    "X_x_test_norm = norm.fit_transform(X_x_test)\n",
    "X_y_test_norm = norm.fit_transform(X_y_test)\n",
    "X_z_test_norm = norm.fit_transform(X_z_test)"
   ]
  },
  {
   "cell_type": "markdown",
   "id": "dd67c753",
   "metadata": {},
   "source": [
    "### Below I'm testing two different concatenation functions for performance.\n",
    "\n",
    "concat_xyz is vectorizing calculations while concat2_xyz is iterating"
   ]
  },
  {
   "cell_type": "code",
   "execution_count": 12,
   "id": "fbc18999",
   "metadata": {
    "tags": []
   },
   "outputs": [],
   "source": [
    "def concat_xyz(x,y,z):\n",
    "    data = np.empty((x.shape[0],x.shape[1],3))\n",
    "#     x = np.expand_dims(x, axis=1) # same as x = x[:,np.newaxis,:]\n",
    "#     y = np.expand_dims(y, axis=1)\n",
    "#     z = np.expand_dims(z, axis=1)\n",
    "    data[:,:,0] = x\n",
    "    data[:,:,1] = y\n",
    "    data[:,:,2] = z\n",
    "    return data"
   ]
  },
  {
   "cell_type": "code",
   "execution_count": 13,
   "id": "5957825d",
   "metadata": {
    "tags": []
   },
   "outputs": [],
   "source": [
    "#speed test purposes\n",
    "def concat2_xyz(x,y,z):\n",
    "    data = np.empty((x.shape[0],x.shape[1],3))\n",
    "    for i, rowx,rowy, rowz in zip(range(x.shape[0]),x,y,z):\n",
    "        data[i,:,0] = rowx.reshape(1,-1)\n",
    "        data[i,:,1] = rowy.reshape(1,-1)\n",
    "        data[i,:,2] = rowz.reshape(1,-1)\n",
    "    return data"
   ]
  },
  {
   "cell_type": "code",
   "execution_count": 14,
   "id": "911dfb2f",
   "metadata": {
    "tags": []
   },
   "outputs": [
    {
     "name": "stdout",
     "output_type": "stream",
     "text": [
      "concat_xyz in 0.0073 seconds\n"
     ]
    }
   ],
   "source": [
    "tic = time.perf_counter()\n",
    "X_xyz_norm_train =  concat_xyz(X_x_train_norm,X_y_train_norm, X_z_train_norm)\n",
    "X_xyz_norm_test = concat_xyz(X_x_test_norm,X_y_test_norm,X_z_test_norm)\n",
    "toc = time.perf_counter()\n",
    "print(f\"concat_xyz in {toc - tic:0.4f} seconds\")"
   ]
  },
  {
   "cell_type": "code",
   "execution_count": 15,
   "id": "06f8b17c",
   "metadata": {
    "tags": []
   },
   "outputs": [
    {
     "name": "stdout",
     "output_type": "stream",
     "text": [
      "concat2_xyz in 0.0152 seconds\n"
     ]
    }
   ],
   "source": [
    "#speed test purposes\n",
    "tic = time.perf_counter()\n",
    "concat2_xyz(X_x_train_norm,X_y_train_norm, X_z_train_norm)\n",
    "concat_xyz(X_x_test_norm,X_y_test_norm,X_z_test_norm)\n",
    "toc = time.perf_counter()\n",
    "print(f\"concat2_xyz in {toc - tic:0.4f} seconds\")"
   ]
  },
  {
   "cell_type": "markdown",
   "id": "57b58b94",
   "metadata": {},
   "source": [
    "Vectorizing calculations improves performance from original github notebook linked in README"
   ]
  },
  {
   "cell_type": "code",
   "execution_count": 16,
   "id": "31aa19b4",
   "metadata": {},
   "outputs": [],
   "source": [
    "label_names = ['Walking', 'Walking upstairs', 'Walking downstairs', 'Sitting', 'Standing', 'Laying']\n",
    "num_classes = len(label_names)"
   ]
  },
  {
   "cell_type": "markdown",
   "id": "9b3a70e8-9672-4513-b8e0-8615aeb43ff7",
   "metadata": {},
   "source": [
    "First I tried this model with one hot encoded y values with catagorical cross entropy but for the confusion matrix I needed the multiclass values instead so during my second iteration I reformatted the model and the data."
   ]
  },
  {
   "cell_type": "code",
   "execution_count": 17,
   "id": "adef527c",
   "metadata": {},
   "outputs": [],
   "source": [
    "# shifting y_train to values from 0 to num_classes-1\n",
    "y_train = y_train - 1\n",
    "y_test = y_test - 1"
   ]
  },
  {
   "cell_type": "code",
   "execution_count": 18,
   "id": "c115c2ce-0ee7-4c0b-89c9-07c6a7bc3ade",
   "metadata": {},
   "outputs": [],
   "source": [
    "# one hot encoding\n",
    "y_ohe_train = to_categorical(y_train,num_classes)\n",
    "y_ohe_test = to_categorical(y_test, num_classes)"
   ]
  },
  {
   "cell_type": "code",
   "execution_count": 19,
   "id": "84bcd1dc",
   "metadata": {},
   "outputs": [
    {
     "data": {
      "text/plain": [
       "(7352, 128, 3)"
      ]
     },
     "execution_count": 19,
     "metadata": {},
     "output_type": "execute_result"
    }
   ],
   "source": [
    "X_xyz_norm_train.shape"
   ]
  },
  {
   "cell_type": "code",
   "execution_count": 20,
   "id": "f51a9832-d21b-448b-a25f-54cf119c0856",
   "metadata": {},
   "outputs": [
    {
     "data": {
      "text/plain": [
       "(2947, 128, 3)"
      ]
     },
     "execution_count": 20,
     "metadata": {},
     "output_type": "execute_result"
    }
   ],
   "source": [
    "X_xyz_norm_test.shape"
   ]
  },
  {
   "cell_type": "code",
   "execution_count": 21,
   "id": "a7803cd1-e360-4d19-aaf4-3e040f7af92e",
   "metadata": {},
   "outputs": [
    {
     "data": {
      "text/plain": [
       "(7352,)"
      ]
     },
     "execution_count": 21,
     "metadata": {},
     "output_type": "execute_result"
    }
   ],
   "source": [
    "y_train.shape"
   ]
  },
  {
   "cell_type": "code",
   "execution_count": 22,
   "id": "eb077bf5-811a-4e0f-8203-8e16d866f476",
   "metadata": {},
   "outputs": [
    {
     "data": {
      "text/plain": [
       "(2947,)"
      ]
     },
     "execution_count": 22,
     "metadata": {},
     "output_type": "execute_result"
    }
   ],
   "source": [
    "y_test.shape"
   ]
  },
  {
   "cell_type": "code",
   "execution_count": 23,
   "id": "912382fb-ff2a-4380-9136-ae02a8ea572a",
   "metadata": {},
   "outputs": [
    {
     "data": {
      "text/plain": [
       "(7352, 6)"
      ]
     },
     "execution_count": 23,
     "metadata": {},
     "output_type": "execute_result"
    }
   ],
   "source": [
    "y_ohe_train.shape"
   ]
  },
  {
   "cell_type": "code",
   "execution_count": 24,
   "id": "d6d23581",
   "metadata": {},
   "outputs": [],
   "source": [
    "input_shape = X_xyz_norm_train.shape[1:]"
   ]
  },
  {
   "cell_type": "markdown",
   "id": "602c426b",
   "metadata": {},
   "source": [
    "In TF1, placeholder would be needed to get input shape of `(None, 128, 3)` but here we take `(128, 3)` as input shape instead"
   ]
  },
  {
   "cell_type": "markdown",
   "id": "ddcb4d1d-182c-485a-97b0-b49bb456e22e",
   "metadata": {},
   "source": [
    "# Creating Continuous Wavelet Transforms representing time series data"
   ]
  },
  {
   "cell_type": "code",
   "execution_count": 25,
   "id": "a1320c94-c447-4bb0-8a99-0a50c149f698",
   "metadata": {},
   "outputs": [],
   "source": [
    "X_xyz_norm_train_swap = np.swapaxes(X_xyz_norm_train,1,2)"
   ]
  },
  {
   "cell_type": "code",
   "execution_count": 26,
   "id": "b125a3b0-ac7a-4540-bb7f-121309198480",
   "metadata": {},
   "outputs": [
    {
     "data": {
      "text/plain": [
       "(7352, 128, 3)"
      ]
     },
     "execution_count": 26,
     "metadata": {},
     "output_type": "execute_result"
    }
   ],
   "source": [
    "X_xyz_norm_train.shape"
   ]
  },
  {
   "cell_type": "code",
   "execution_count": 27,
   "id": "b32f0a0c-0181-4e69-8259-dff89992c680",
   "metadata": {},
   "outputs": [
    {
     "data": {
      "text/plain": [
       "(7352, 3, 128)"
      ]
     },
     "execution_count": 27,
     "metadata": {},
     "output_type": "execute_result"
    }
   ],
   "source": [
    "X_xyz_norm_train_swap.shape"
   ]
  },
  {
   "cell_type": "markdown",
   "id": "76cef9f6-bf18-49e4-b0de-eb4aec1d4a28",
   "metadata": {},
   "source": [
    "### Showing the 1/7352 128-sample run"
   ]
  },
  {
   "cell_type": "code",
   "execution_count": 2,
   "id": "ca4d2958-c2be-43b9-bfec-0aea0e145f1d",
   "metadata": {
    "tags": []
   },
   "outputs": [
    {
     "ename": "SyntaxError",
     "evalue": "'(' was never closed (1561152710.py, line 5)",
     "output_type": "error",
     "traceback": [
      "\u001b[1;36m  Input \u001b[1;32mIn [2]\u001b[1;36m\u001b[0m\n\u001b[1;33m    plt.savefig(os.path.join(image_path,\u001b[0m\n\u001b[1;37m                            ^\u001b[0m\n\u001b[1;31mSyntaxError\u001b[0m\u001b[1;31m:\u001b[0m '(' was never closed\n"
     ]
    }
   ],
   "source": [
    "plt.title(\"Normalized Accelerometer Data for 1/7352 Runs\")\n",
    "plt.plot(X_xyz_norm_train_swap[0][0])\n",
    "plt.plot(X_xyz_norm_train_swap[0][1])\n",
    "plt.plot(X_xyz_norm_train_swap[0][2])\n",
    "plt.savefig(os.path.join(image_path,\n",
    "plt.show"
   ]
  },
  {
   "cell_type": "code",
   "execution_count": 29,
   "id": "4d86e234-6aba-4436-9746-a36c79e4745e",
   "metadata": {},
   "outputs": [],
   "source": [
    "signal = np.sqrt((X_xyz_norm_train_swap[0][0])**2+(X_xyz_norm_train_swap[0][1])**2+(X_xyz_norm_train_swap[0][2])**2)"
   ]
  },
  {
   "cell_type": "code",
   "execution_count": 30,
   "id": "84fab5ea-7caf-4be1-b153-68f45a714d7c",
   "metadata": {
    "tags": []
   },
   "outputs": [
    {
     "data": {
      "text/plain": [
       "<function matplotlib.pyplot.show(close=None, block=None)>"
      ]
     },
     "execution_count": 30,
     "metadata": {},
     "output_type": "execute_result"
    },
    {
     "data": {
      "image/png": "[encoded data removed]",
      "text/plain": [
       "<Figure size 432x288 with 1 Axes>"
      ]
     },
     "metadata": {
      "needs_background": "light"
     },
     "output_type": "display_data"
    }
   ],
   "source": [
    "plt.plot(signal)\n",
    "plt.show"
   ]
  },
  {
   "cell_type": "code",
   "execution_count": 31,
   "id": "fb2c3934-dc63-4c5f-b4f7-2736ad82c2df",
   "metadata": {},
   "outputs": [
    {
     "data": {
      "text/plain": [
       "<matplotlib.image.AxesImage at 0x226210df760>"
      ]
     },
     "execution_count": 31,
     "metadata": {},
     "output_type": "execute_result"
    },
    {
     "data": {
      "image/png": "[encoded data removed]",
      "text/plain": [
       "<Figure size 432x288 with 1 Axes>"
      ]
     },
     "metadata": {
      "needs_background": "light"
     },
     "output_type": "display_data"
    }
   ],
   "source": [
    "# samples taken at 50hz\n",
    "coeffs, freqs = pywt.cwt(signal,10,'morl')\n",
    "plt.imshow(coeffs, cmap = 'coolwarm', aspect = 'auto')"
   ]
  },
  {
   "cell_type": "markdown",
   "id": "6ecbe9a0-3fa0-48fc-931c-83dd8a6e52d1",
   "metadata": {},
   "source": [
    "Using Morlet wavelets"
   ]
  },
  {
   "cell_type": "markdown",
   "id": "07ebb536",
   "metadata": {},
   "source": [
    "<H1>Implementing CNN</H1>"
   ]
  },
  {
   "cell_type": "code",
   "execution_count": 32,
   "id": "06ec22ae",
   "metadata": {},
   "outputs": [],
   "source": [
    "cnn = models.Sequential()\n",
    "cnn.add(layers.Conv1D(filters=64, kernel_size=2, activation='relu', input_shape=input_shape))\n",
    "# cnn.add(layers.MaxPool1D(pool_size=2))\n",
    "cnn.add(layers.Flatten())\n",
    "cnn.add(layers.Dense(100, activation='relu'))\n",
    "cnn.add(layers.Dense(30, activation='relu'))\n",
    "cnn.add(layers.Dense(num_classes,activation='softmax'))"
   ]
  },
  {
   "cell_type": "code",
   "execution_count": 33,
   "id": "584f8db8",
   "metadata": {},
   "outputs": [
    {
     "name": "stdout",
     "output_type": "stream",
     "text": [
      "Model: \"sequential\"\n",
      "_________________________________________________________________\n",
      " Layer (type)                Output Shape              Param #   \n",
      "=================================================================\n",
      " conv1d (Conv1D)             (None, 127, 64)           448       \n",
      "                                                                 \n",
      " flatten (Flatten)           (None, 8128)              0         \n",
      "                                                                 \n",
      " dense (Dense)               (None, 100)               812900    \n",
      "                                                                 \n",
      " dense_1 (Dense)             (None, 30)                3030      \n",
      "                                                                 \n",
      " dense_2 (Dense)             (None, 6)                 186       \n",
      "                                                                 \n",
      "=================================================================\n",
      "Total params: 816,564\n",
      "Trainable params: 816,564\n",
      "Non-trainable params: 0\n",
      "_________________________________________________________________\n"
     ]
    }
   ],
   "source": [
    "cnn.summary()"
   ]
  },
  {
   "cell_type": "code",
   "execution_count": 34,
   "id": "e6f59b08",
   "metadata": {},
   "outputs": [],
   "source": [
    "# optimizer = tf.keras.optimizers.SGD(learning_rate=0.01)\n",
    "cnn.compile(optimizer=\"adam\",\n",
    "           loss=\"categorical_crossentropy\",\n",
    "           metrics=\"accuracy\")"
   ]
  },
  {
   "cell_type": "markdown",
   "id": "835298f6-438d-4e85-8806-a2df9b430946",
   "metadata": {},
   "source": [
    "### Creating Tensorboard Logs and running CNN model"
   ]
  },
  {
   "cell_type": "code",
   "execution_count": 35,
   "id": "28cfe256",
   "metadata": {
    "tags": []
   },
   "outputs": [
    {
     "name": "stdout",
     "output_type": "stream",
     "text": [
      "Epoch 1/50\n",
      "736/736 [==============================] - 3s 2ms/step - loss: 0.9039 - accuracy: 0.5857 - val_loss: 0.7548 - val_accuracy: 0.6790\n",
      "Epoch 2/50\n",
      "736/736 [==============================] - 1s 2ms/step - loss: 0.5673 - accuracy: 0.7367 - val_loss: 0.7227 - val_accuracy: 0.7044\n",
      "Epoch 3/50\n",
      "736/736 [==============================] - 1s 2ms/step - loss: 0.4763 - accuracy: 0.7738 - val_loss: 0.7021 - val_accuracy: 0.7302\n",
      "Epoch 4/50\n",
      "736/736 [==============================] - 1s 2ms/step - loss: 0.4384 - accuracy: 0.7996 - val_loss: 0.7765 - val_accuracy: 0.7180\n",
      "Epoch 5/50\n",
      "736/736 [==============================] - 1s 2ms/step - loss: 0.3973 - accuracy: 0.8199 - val_loss: 0.6862 - val_accuracy: 0.7214\n",
      "Epoch 6/50\n",
      "736/736 [==============================] - 1s 2ms/step - loss: 0.3767 - accuracy: 0.8290 - val_loss: 0.6257 - val_accuracy: 0.7825\n",
      "Epoch 7/50\n",
      "736/736 [==============================] - 1s 2ms/step - loss: 0.3534 - accuracy: 0.8428 - val_loss: 0.8491 - val_accuracy: 0.7421\n",
      "Epoch 8/50\n",
      "736/736 [==============================] - 1s 2ms/step - loss: 0.3347 - accuracy: 0.8562 - val_loss: 0.8568 - val_accuracy: 0.7438\n",
      "Epoch 9/50\n",
      "736/736 [==============================] - 1s 2ms/step - loss: 0.3262 - accuracy: 0.8606 - val_loss: 0.8105 - val_accuracy: 0.7391\n",
      "Epoch 10/50\n",
      "736/736 [==============================] - 1s 2ms/step - loss: 0.3065 - accuracy: 0.8753 - val_loss: 1.0138 - val_accuracy: 0.7228\n",
      "Epoch 11/50\n",
      "736/736 [==============================] - 1s 2ms/step - loss: 0.2800 - accuracy: 0.8822 - val_loss: 0.8710 - val_accuracy: 0.7329\n",
      "Epoch 12/50\n",
      "736/736 [==============================] - 2s 2ms/step - loss: 0.2578 - accuracy: 0.8915 - val_loss: 0.9719 - val_accuracy: 0.7289\n",
      "Epoch 13/50\n",
      "736/736 [==============================] - 2s 2ms/step - loss: 0.2486 - accuracy: 0.8976 - val_loss: 0.9665 - val_accuracy: 0.7377\n",
      "Epoch 14/50\n",
      "736/736 [==============================] - 2s 2ms/step - loss: 0.2531 - accuracy: 0.9011 - val_loss: 1.1466 - val_accuracy: 0.7255\n",
      "Epoch 15/50\n",
      "736/736 [==============================] - 1s 2ms/step - loss: 0.2196 - accuracy: 0.9135 - val_loss: 1.1961 - val_accuracy: 0.7275\n",
      "Epoch 16/50\n",
      "736/736 [==============================] - 1s 2ms/step - loss: 0.1961 - accuracy: 0.9208 - val_loss: 1.2494 - val_accuracy: 0.7367\n",
      "Epoch 17/50\n",
      "736/736 [==============================] - 2s 2ms/step - loss: 0.2111 - accuracy: 0.9219 - val_loss: 1.3259 - val_accuracy: 0.7387\n",
      "Epoch 18/50\n",
      "736/736 [==============================] - 2s 2ms/step - loss: 0.1838 - accuracy: 0.9295 - val_loss: 1.3876 - val_accuracy: 0.7336\n",
      "Epoch 19/50\n",
      "736/736 [==============================] - 2s 2ms/step - loss: 0.1598 - accuracy: 0.9411 - val_loss: 1.2268 - val_accuracy: 0.7401\n",
      "Epoch 20/50\n",
      "736/736 [==============================] - 2s 3ms/step - loss: 0.1357 - accuracy: 0.9472 - val_loss: 1.5144 - val_accuracy: 0.7279\n",
      "Epoch 21/50\n",
      "736/736 [==============================] - 2s 2ms/step - loss: 0.1349 - accuracy: 0.9493 - val_loss: 1.4820 - val_accuracy: 0.7333\n",
      "Epoch 22/50\n",
      "736/736 [==============================] - 2s 2ms/step - loss: 0.1550 - accuracy: 0.9486 - val_loss: 1.4612 - val_accuracy: 0.7340\n",
      "Epoch 23/50\n",
      "736/736 [==============================] - 1s 2ms/step - loss: 0.1301 - accuracy: 0.9521 - val_loss: 1.7077 - val_accuracy: 0.7272\n",
      "Epoch 24/50\n",
      "736/736 [==============================] - 1s 2ms/step - loss: 0.1175 - accuracy: 0.9623 - val_loss: 1.7391 - val_accuracy: 0.7377\n",
      "Epoch 25/50\n",
      "736/736 [==============================] - 2s 2ms/step - loss: 0.0928 - accuracy: 0.9668 - val_loss: 1.7043 - val_accuracy: 0.7428\n",
      "Epoch 26/50\n",
      "736/736 [==============================] - 2s 2ms/step - loss: 0.0811 - accuracy: 0.9694 - val_loss: 2.0108 - val_accuracy: 0.7397\n",
      "Epoch 27/50\n",
      "736/736 [==============================] - 2s 2ms/step - loss: 0.0691 - accuracy: 0.9785 - val_loss: 1.9295 - val_accuracy: 0.7394\n",
      "Epoch 28/50\n",
      "736/736 [==============================] - 2s 2ms/step - loss: 0.1008 - accuracy: 0.9713 - val_loss: 2.3618 - val_accuracy: 0.7384\n",
      "Epoch 29/50\n",
      "736/736 [==============================] - 1s 2ms/step - loss: 0.0660 - accuracy: 0.9777 - val_loss: 2.4014 - val_accuracy: 0.7384\n",
      "Epoch 30/50\n",
      "736/736 [==============================] - 2s 2ms/step - loss: 0.0491 - accuracy: 0.9860 - val_loss: 2.1343 - val_accuracy: 0.7486\n",
      "Epoch 31/50\n",
      "736/736 [==============================] - 2s 2ms/step - loss: 0.0707 - accuracy: 0.9796 - val_loss: 2.5300 - val_accuracy: 0.7275\n",
      "Epoch 32/50\n",
      "736/736 [==============================] - 1s 2ms/step - loss: 0.0769 - accuracy: 0.9822 - val_loss: 2.2889 - val_accuracy: 0.7486\n",
      "Epoch 33/50\n",
      "736/736 [==============================] - 1s 2ms/step - loss: 0.0433 - accuracy: 0.9884 - val_loss: 2.4681 - val_accuracy: 0.7479\n",
      "Epoch 34/50\n",
      "736/736 [==============================] - 2s 2ms/step - loss: 0.0327 - accuracy: 0.9916 - val_loss: 2.9477 - val_accuracy: 0.7357\n",
      "Epoch 35/50\n",
      "736/736 [==============================] - 2s 2ms/step - loss: 0.0560 - accuracy: 0.9860 - val_loss: 2.4531 - val_accuracy: 0.7384\n",
      "Epoch 36/50\n",
      "736/736 [==============================] - 2s 2ms/step - loss: 0.0595 - accuracy: 0.9874 - val_loss: 2.5030 - val_accuracy: 0.7428\n",
      "Epoch 37/50\n",
      "736/736 [==============================] - 1s 2ms/step - loss: 0.0647 - accuracy: 0.9856 - val_loss: 3.4635 - val_accuracy: 0.7007\n",
      "Epoch 38/50\n",
      "736/736 [==============================] - 1s 2ms/step - loss: 0.0347 - accuracy: 0.9901 - val_loss: 2.5783 - val_accuracy: 0.7462\n",
      "Epoch 39/50\n",
      "736/736 [==============================] - 1s 2ms/step - loss: 0.0122 - accuracy: 0.9977 - val_loss: 2.9862 - val_accuracy: 0.7462\n",
      "Epoch 40/50\n",
      "736/736 [==============================] - 2s 2ms/step - loss: 0.0353 - accuracy: 0.9894 - val_loss: 2.8096 - val_accuracy: 0.7122\n",
      "Epoch 41/50\n",
      "736/736 [==============================] - 2s 2ms/step - loss: 0.0721 - accuracy: 0.9823 - val_loss: 2.2770 - val_accuracy: 0.7441\n",
      "Epoch 42/50\n",
      "736/736 [==============================] - 2s 3ms/step - loss: 0.0478 - accuracy: 0.9909 - val_loss: 2.6689 - val_accuracy: 0.7479\n",
      "Epoch 43/50\n",
      "736/736 [==============================] - 2s 2ms/step - loss: 0.0185 - accuracy: 0.9959 - val_loss: 2.7153 - val_accuracy: 0.7404\n",
      "Epoch 44/50\n",
      "736/736 [==============================] - 2s 2ms/step - loss: 0.0164 - accuracy: 0.9971 - val_loss: 2.8018 - val_accuracy: 0.7370\n",
      "Epoch 45/50\n",
      "736/736 [==============================] - 2s 2ms/step - loss: 0.0240 - accuracy: 0.9943 - val_loss: 2.5202 - val_accuracy: 0.7455\n",
      "Epoch 46/50\n",
      "736/736 [==============================] - 2s 2ms/step - loss: 0.0259 - accuracy: 0.9933 - val_loss: 3.2985 - val_accuracy: 0.7004\n",
      "Epoch 47/50\n",
      "736/736 [==============================] - 2s 2ms/step - loss: 0.0523 - accuracy: 0.9879 - val_loss: 2.6841 - val_accuracy: 0.7394\n",
      "Epoch 48/50\n",
      "736/736 [==============================] - 2s 2ms/step - loss: 0.0326 - accuracy: 0.9920 - val_loss: 3.1757 - val_accuracy: 0.7408\n",
      "Epoch 49/50\n",
      "736/736 [==============================] - 2s 2ms/step - loss: 0.0187 - accuracy: 0.9963 - val_loss: 2.7447 - val_accuracy: 0.7520\n",
      "Epoch 50/50\n",
      "736/736 [==============================] - 2s 2ms/step - loss: 0.0051 - accuracy: 0.9995 - val_loss: 2.8574 - val_accuracy: 0.7533\n"
     ]
    }
   ],
   "source": [
    "log_dir = \"logs/fit/cnn/\" + datetime.datetime.now().strftime(\"%Y%m%d-%H%M%S\")\n",
    "cnn_tensorboard_callback = TensorBoard(log_dir=log_dir, histogram_freq=1)\n",
    "cnnhistory = cnn.fit(X_xyz_norm_train, y_ohe_train, epochs=50, batch_size = 10, validation_data=(X_xyz_norm_test, y_ohe_test),callbacks=[cnn_tensorboard_callback])"
   ]
  },
  {
   "cell_type": "code",
   "execution_count": 36,
   "id": "3e6e8c1b-dd62-48e7-b994-9e32aaeea62d",
   "metadata": {
    "tags": []
   },
   "outputs": [],
   "source": [
    "# %tensorboard --logdir logs/fit/cnn/"
   ]
  },
  {
   "cell_type": "markdown",
   "id": "a63c1e2a-fd4e-4074-9bb0-9883dceeb29b",
   "metadata": {},
   "source": [
    "To run tensorboard in the cli use command ```tensorboard --logdir logs/fit/cnn/```"
   ]
  },
  {
   "cell_type": "code",
   "execution_count": 37,
   "id": "914130fb",
   "metadata": {
    "jupyter": {
     "source_hidden": true
    },
    "tags": []
   },
   "outputs": [],
   "source": [
    "# cnn.save(\"my_model\")\n",
    "# tensorflow_graph = tf.saved_model.load(\"my_model\")\n",
    "# x = np.random.uniform(size=(4, 32)).astype(np.float32)\n",
    "# predicted = tensorflow_graph(x).numpy()"
   ]
  },
  {
   "cell_type": "code",
   "execution_count": 38,
   "id": "6e1b2fec",
   "metadata": {
    "jupyter": {
     "source_hidden": true
    },
    "tags": []
   },
   "outputs": [],
   "source": [
    "# loss_values = cnnhistory.history['loss']\n",
    "# epochs = range(1, len(loss_values)+1)\n",
    "\n",
    "# plt.plot(epochs, loss_values, label='Training Loss')\n",
    "# plt.xlabel('Epochs')\n",
    "# plt.ylabel('Loss')\n",
    "# plt.legend()\n",
    "\n",
    "# plt.show()"
   ]
  },
  {
   "cell_type": "code",
   "execution_count": 39,
   "id": "3ec887f3",
   "metadata": {
    "jupyter": {
     "source_hidden": true
    },
    "tags": []
   },
   "outputs": [],
   "source": [
    "# acc_values = cnnhistory.history['accuracy']\n",
    "# epochs = range(1, len(loss_values)+1)\n",
    "\n",
    "# plt.plot(epochs, acc_values, label='Training Accuracy')\n",
    "# plt.xlabel('Epochs')\n",
    "# plt.ylabel('Accuracy')\n",
    "# plt.legend()\n",
    "\n",
    "# plt.show()"
   ]
  },
  {
   "cell_type": "code",
   "execution_count": 40,
   "id": "4dc015f9",
   "metadata": {},
   "outputs": [
    {
     "name": "stdout",
     "output_type": "stream",
     "text": [
      "[4 5 4 ... 1 1 1]\n",
      "[4. 4. 4. ... 1. 1. 1.]\n"
     ]
    },
    {
     "data": {
      "text/plain": [
       "<sklearn.metrics._plot.confusion_matrix.ConfusionMatrixDisplay at 0x2280f0a01c0>"
      ]
     },
     "execution_count": 40,
     "metadata": {},
     "output_type": "execute_result"
    },
    {
     "data": {
      "image/png": "[encoded data removed]",
      "text/plain": [
       "<Figure size 432x288 with 2 Axes>"
      ]
     },
     "metadata": {
      "needs_background": "light"
     },
     "output_type": "display_data"
    }
   ],
   "source": [
    "y_pred = np.argmax(cnn.predict(X_xyz_norm_test),axis=1)\n",
    "print(y_pred)\n",
    "# print(y_pred.shape)\n",
    "# y_test_1D = np.argmax(y_test, axis=1).T[0]\n",
    "# print(type(y_test_1D))\n",
    "print(y_test)\n",
    "# print(y_test_1D.shape)\n",
    "conf = ConfusionMatrixDisplay.from_predictions(y_test,y_pred)\n",
    "conf.plot()"
   ]
  },
  {
   "cell_type": "markdown",
   "id": "840f505a",
   "metadata": {},
   "source": [
    "<H1>Implementing LSTM</H1>"
   ]
  },
  {
   "cell_type": "code",
   "execution_count": 41,
   "id": "274f7f9e-551c-432e-b7dd-dd0892f9e35d",
   "metadata": {},
   "outputs": [],
   "source": [
    "# LSTM\n",
    "lstm = models.Sequential()\n",
    "lstm.add(layers.LSTM(128,input_shape=input_shape))\n",
    "lstm.add(layers.Dropout(rate=0.2))\n",
    "lstm.add(layers.Dense(6,activation=\"softmax\"))"
   ]
  },
  {
   "cell_type": "code",
   "execution_count": 42,
   "id": "466356da",
   "metadata": {},
   "outputs": [
    {
     "name": "stdout",
     "output_type": "stream",
     "text": [
      "Model: \"sequential_1\"\n",
      "_________________________________________________________________\n",
      " Layer (type)                Output Shape              Param #   \n",
      "=================================================================\n",
      " lstm (LSTM)                 (None, 128)               67584     \n",
      "                                                                 \n",
      " dropout (Dropout)           (None, 128)               0         \n",
      "                                                                 \n",
      " dense_3 (Dense)             (None, 6)                 774       \n",
      "                                                                 \n",
      "=================================================================\n",
      "Total params: 68,358\n",
      "Trainable params: 68,358\n",
      "Non-trainable params: 0\n",
      "_________________________________________________________________\n"
     ]
    }
   ],
   "source": [
    "lstm.summary()"
   ]
  },
  {
   "cell_type": "code",
   "execution_count": 43,
   "id": "988ff08c",
   "metadata": {},
   "outputs": [],
   "source": [
    "lstm.compile(optimizer = \"adam\",\n",
    "            loss=\"categorical_crossentropy\",\n",
    "            metrics = \"accuracy\"\n",
    "            )"
   ]
  },
  {
   "cell_type": "code",
   "execution_count": 44,
   "id": "3e3f5783-f713-49b5-a72b-07f0519aa2d5",
   "metadata": {},
   "outputs": [],
   "source": [
    "lstm_log_dir = \"logs/fit/lstm/lstm\" + datetime.datetime.now().strftime(\"%Y%m%d-%H%M%S\")\n",
    "lstm_tensorboard_callback = TensorBoard(log_dir=lstm_log_dir, histogram_freq=1)"
   ]
  },
  {
   "cell_type": "code",
   "execution_count": 45,
   "id": "c3de4a86",
   "metadata": {
    "tags": []
   },
   "outputs": [
    {
     "name": "stdout",
     "output_type": "stream",
     "text": [
      "Epoch 1/50\n",
      "736/736 [==============================] - 11s 11ms/step - loss: 1.2011 - accuracy: 0.4119 - val_loss: 0.8835 - val_accuracy: 0.5232\n",
      "Epoch 2/50\n",
      "736/736 [==============================] - 8s 10ms/step - loss: 0.8574 - accuracy: 0.5314 - val_loss: 1.2067 - val_accuracy: 0.4272\n",
      "Epoch 3/50\n",
      "736/736 [==============================] - 8s 11ms/step - loss: 0.7271 - accuracy: 0.5973 - val_loss: 0.8839 - val_accuracy: 0.5114\n",
      "Epoch 4/50\n",
      "736/736 [==============================] - 8s 11ms/step - loss: 0.6849 - accuracy: 0.6069 - val_loss: 0.7765 - val_accuracy: 0.6030\n",
      "Epoch 5/50\n",
      "736/736 [==============================] - 8s 10ms/step - loss: 0.6713 - accuracy: 0.6125 - val_loss: 0.6755 - val_accuracy: 0.6264\n",
      "Epoch 6/50\n",
      "736/736 [==============================] - 7s 10ms/step - loss: 0.7145 - accuracy: 0.6053 - val_loss: 0.6844 - val_accuracy: 0.6077\n",
      "Epoch 7/50\n",
      "736/736 [==============================] - 7s 9ms/step - loss: 0.6382 - accuracy: 0.6270 - val_loss: 0.6631 - val_accuracy: 0.6271\n",
      "Epoch 8/50\n",
      "736/736 [==============================] - 7s 10ms/step - loss: 0.6400 - accuracy: 0.6265 - val_loss: 0.6392 - val_accuracy: 0.6278\n",
      "Epoch 9/50\n",
      "736/736 [==============================] - 8s 11ms/step - loss: 0.6237 - accuracy: 0.6313 - val_loss: 0.6526 - val_accuracy: 0.6318\n",
      "Epoch 10/50\n",
      "736/736 [==============================] - 8s 11ms/step - loss: 0.6310 - accuracy: 0.6303 - val_loss: 0.6422 - val_accuracy: 0.6386\n",
      "Epoch 11/50\n",
      "736/736 [==============================] - 8s 11ms/step - loss: 0.6389 - accuracy: 0.6303 - val_loss: 0.7395 - val_accuracy: 0.5911\n",
      "Epoch 12/50\n",
      "736/736 [==============================] - 8s 11ms/step - loss: 0.6271 - accuracy: 0.6287 - val_loss: 0.6378 - val_accuracy: 0.6189\n",
      "Epoch 13/50\n",
      "736/736 [==============================] - 8s 11ms/step - loss: 0.6101 - accuracy: 0.6383 - val_loss: 0.6638 - val_accuracy: 0.6196\n",
      "Epoch 14/50\n",
      "736/736 [==============================] - 8s 11ms/step - loss: 0.6521 - accuracy: 0.6254 - val_loss: 0.6480 - val_accuracy: 0.6362\n",
      "Epoch 15/50\n",
      "736/736 [==============================] - 8s 11ms/step - loss: 0.6159 - accuracy: 0.6379 - val_loss: 0.6287 - val_accuracy: 0.6495\n",
      "Epoch 16/50\n",
      "736/736 [==============================] - 8s 11ms/step - loss: 0.6180 - accuracy: 0.6379 - val_loss: 0.6444 - val_accuracy: 0.6369\n",
      "Epoch 17/50\n",
      "736/736 [==============================] - 8s 11ms/step - loss: 0.6255 - accuracy: 0.6398 - val_loss: 0.7099 - val_accuracy: 0.6308\n",
      "Epoch 18/50\n",
      "736/736 [==============================] - 8s 11ms/step - loss: 0.6319 - accuracy: 0.6336 - val_loss: 0.6731 - val_accuracy: 0.6288\n",
      "Epoch 19/50\n",
      "736/736 [==============================] - 8s 11ms/step - loss: 0.6133 - accuracy: 0.6367 - val_loss: 0.6956 - val_accuracy: 0.6383\n",
      "Epoch 20/50\n",
      "736/736 [==============================] - 9s 12ms/step - loss: 0.6062 - accuracy: 0.6498 - val_loss: 0.7035 - val_accuracy: 0.6247\n",
      "Epoch 21/50\n",
      "736/736 [==============================] - 8s 11ms/step - loss: 0.6141 - accuracy: 0.6436 - val_loss: 0.7108 - val_accuracy: 0.6193\n",
      "Epoch 22/50\n",
      "736/736 [==============================] - 8s 11ms/step - loss: 0.6086 - accuracy: 0.6430 - val_loss: 0.6491 - val_accuracy: 0.6359\n",
      "Epoch 23/50\n",
      "736/736 [==============================] - 8s 11ms/step - loss: 0.6332 - accuracy: 0.6325 - val_loss: 0.7359 - val_accuracy: 0.6552\n",
      "Epoch 24/50\n",
      "736/736 [==============================] - 8s 11ms/step - loss: 0.6475 - accuracy: 0.6342 - val_loss: 0.8508 - val_accuracy: 0.6047\n",
      "Epoch 25/50\n",
      "736/736 [==============================] - 8s 11ms/step - loss: 0.6465 - accuracy: 0.6302 - val_loss: 0.7168 - val_accuracy: 0.6362\n",
      "Epoch 26/50\n",
      "736/736 [==============================] - 8s 11ms/step - loss: 0.6131 - accuracy: 0.6487 - val_loss: 0.7134 - val_accuracy: 0.6162\n",
      "Epoch 27/50\n",
      "736/736 [==============================] - 8s 11ms/step - loss: 0.6085 - accuracy: 0.6461 - val_loss: 0.7351 - val_accuracy: 0.6169\n",
      "Epoch 28/50\n",
      "736/736 [==============================] - 8s 11ms/step - loss: 0.6141 - accuracy: 0.6298 - val_loss: 0.8602 - val_accuracy: 0.5993\n",
      "Epoch 29/50\n",
      "736/736 [==============================] - 8s 11ms/step - loss: 0.6122 - accuracy: 0.6386 - val_loss: 0.7013 - val_accuracy: 0.6261\n",
      "Epoch 30/50\n",
      "736/736 [==============================] - 8s 11ms/step - loss: 0.6085 - accuracy: 0.6366 - val_loss: 0.6975 - val_accuracy: 0.6271\n",
      "Epoch 31/50\n",
      "736/736 [==============================] - 8s 11ms/step - loss: 0.6060 - accuracy: 0.6425 - val_loss: 0.7124 - val_accuracy: 0.6328\n",
      "Epoch 32/50\n",
      "736/736 [==============================] - 8s 11ms/step - loss: 0.6667 - accuracy: 0.6326 - val_loss: 0.7883 - val_accuracy: 0.5972\n",
      "Epoch 33/50\n",
      "736/736 [==============================] - 8s 11ms/step - loss: 0.6182 - accuracy: 0.6383 - val_loss: 0.7267 - val_accuracy: 0.6301\n",
      "Epoch 34/50\n",
      "736/736 [==============================] - 8s 11ms/step - loss: 0.6122 - accuracy: 0.6367 - val_loss: 0.7371 - val_accuracy: 0.6152\n",
      "Epoch 35/50\n",
      "736/736 [==============================] - 8s 11ms/step - loss: 0.6152 - accuracy: 0.6386 - val_loss: 0.7903 - val_accuracy: 0.6193\n",
      "Epoch 36/50\n",
      "736/736 [==============================] - 8s 11ms/step - loss: 0.6060 - accuracy: 0.6522 - val_loss: 0.7358 - val_accuracy: 0.6322\n",
      "Epoch 37/50\n",
      "736/736 [==============================] - 8s 11ms/step - loss: 0.6047 - accuracy: 0.6537 - val_loss: 0.7589 - val_accuracy: 0.6318\n",
      "Epoch 38/50\n",
      "736/736 [==============================] - 8s 11ms/step - loss: 0.5899 - accuracy: 0.6712 - val_loss: 0.6828 - val_accuracy: 0.7333\n",
      "Epoch 39/50\n",
      "736/736 [==============================] - 8s 11ms/step - loss: 0.5969 - accuracy: 0.6680 - val_loss: 0.6861 - val_accuracy: 0.7058\n",
      "Epoch 40/50\n",
      "736/736 [==============================] - 8s 11ms/step - loss: 0.5752 - accuracy: 0.7012 - val_loss: 0.7321 - val_accuracy: 0.6573\n",
      "Epoch 41/50\n",
      "736/736 [==============================] - 8s 11ms/step - loss: 0.5628 - accuracy: 0.7084 - val_loss: 0.7071 - val_accuracy: 0.6379\n",
      "Epoch 42/50\n",
      "736/736 [==============================] - 8s 10ms/step - loss: 0.5653 - accuracy: 0.7044 - val_loss: 0.6059 - val_accuracy: 0.7475\n",
      "Epoch 43/50\n",
      "736/736 [==============================] - 8s 11ms/step - loss: 0.5629 - accuracy: 0.7131 - val_loss: 0.7634 - val_accuracy: 0.6576\n",
      "Epoch 44/50\n",
      "736/736 [==============================] - 8s 11ms/step - loss: 0.5506 - accuracy: 0.7116 - val_loss: 0.7658 - val_accuracy: 0.6820\n",
      "Epoch 45/50\n",
      "736/736 [==============================] - 8s 11ms/step - loss: 0.4848 - accuracy: 0.7573 - val_loss: 0.6455 - val_accuracy: 0.7326\n",
      "Epoch 46/50\n",
      "736/736 [==============================] - 8s 11ms/step - loss: 0.4907 - accuracy: 0.7697 - val_loss: 0.5943 - val_accuracy: 0.7642\n",
      "Epoch 47/50\n",
      "736/736 [==============================] - 8s 11ms/step - loss: 0.4443 - accuracy: 0.7780 - val_loss: 0.5628 - val_accuracy: 0.7662\n",
      "Epoch 48/50\n",
      "736/736 [==============================] - 8s 10ms/step - loss: 0.4667 - accuracy: 0.7639 - val_loss: 0.5711 - val_accuracy: 0.7608\n",
      "Epoch 49/50\n",
      "736/736 [==============================] - 8s 10ms/step - loss: 0.4364 - accuracy: 0.7841 - val_loss: 0.6080 - val_accuracy: 0.7401\n",
      "Epoch 50/50\n",
      "736/736 [==============================] - 7s 10ms/step - loss: 0.4341 - accuracy: 0.7832 - val_loss: 0.5170 - val_accuracy: 0.7784\n"
     ]
    }
   ],
   "source": [
    "lstmhistory = lstm.fit(X_xyz_norm_train,y_ohe_train,epochs = 50,batch_size=10,validation_data=(X_xyz_norm_test, y_ohe_test),callbacks=[lstm_tensorboard_callback])"
   ]
  },
  {
   "cell_type": "code",
   "execution_count": 46,
   "id": "c445441b-4af0-472e-b4b9-de45dc7c8536",
   "metadata": {},
   "outputs": [],
   "source": [
    "# %tensorboard --logdir logs/fit/lstm/"
   ]
  },
  {
   "cell_type": "markdown",
   "id": "3546585a-53c0-4973-af92-92203a2f80a3",
   "metadata": {},
   "source": [
    "To run tensorboard in the cli use command ```tensorboard --logdir logs/fit/lstm/```"
   ]
  },
  {
   "cell_type": "code",
   "execution_count": 47,
   "id": "87735797",
   "metadata": {},
   "outputs": [
    {
     "data": {
      "image/png": "[encoded data removed]",
      "text/plain": [
       "<Figure size 432x288 with 1 Axes>"
      ]
     },
     "metadata": {
      "needs_background": "light"
     },
     "output_type": "display_data"
    }
   ],
   "source": [
    "loss_values = lstmhistory.history['loss']\n",
    "epochs = range(1, len(loss_values)+1)\n",
    "\n",
    "plt.plot(epochs, loss_values, label='Training Loss')\n",
    "plt.xlabel('Epochs')\n",
    "plt.ylabel('Loss')\n",
    "plt.legend()\n",
    "\n",
    "plt.show()"
   ]
  },
  {
   "cell_type": "code",
   "execution_count": 48,
   "id": "cd69e1ff",
   "metadata": {},
   "outputs": [
    {
     "data": {
      "image/png": "[encoded data removed]",
      "text/plain": [
       "<Figure size 432x288 with 1 Axes>"
      ]
     },
     "metadata": {
      "needs_background": "light"
     },
     "output_type": "display_data"
    }
   ],
   "source": [
    "acc_values = lstmhistory.history['accuracy']\n",
    "epochs = range(1, len(loss_values)+1)\n",
    "\n",
    "plt.plot(epochs, acc_values, label='Training Accuracy')\n",
    "plt.xlabel('Epochs')\n",
    "plt.ylabel('Accuracy')\n",
    "plt.legend()\n",
    "\n",
    "plt.show()"
   ]
  },
  {
   "cell_type": "code",
   "execution_count": 49,
   "id": "c7b28ca8-7e57-40a1-852d-7b5ce50d5919",
   "metadata": {},
   "outputs": [
    {
     "name": "stdout",
     "output_type": "stream",
     "text": [
      "[4 4 4 ... 1 1 1]\n",
      "[4. 4. 4. ... 1. 1. 1.]\n"
     ]
    },
    {
     "data": {
      "text/plain": [
       "<sklearn.metrics._plot.confusion_matrix.ConfusionMatrixDisplay at 0x2280b9b85e0>"
      ]
     },
     "execution_count": 49,
     "metadata": {},
     "output_type": "execute_result"
    },
    {
     "data": {
      "image/png": "[encoded data removed]",
      "text/plain": [
       "<Figure size 432x288 with 2 Axes>"
      ]
     },
     "metadata": {
      "needs_background": "light"
     },
     "output_type": "display_data"
    }
   ],
   "source": [
    "y_pred = np.argmax(lstm.predict(X_xyz_norm_test),axis=1)\n",
    "print(y_pred)\n",
    "# print(y_pred.shape)\n",
    "# y_test_1D = np.argmax(y_test, axis=1).T[0]\n",
    "# print(type(y_test_1D))\n",
    "print(y_test)\n",
    "# print(y_test_1D.shape)\n",
    "conf = ConfusionMatrixDisplay.from_predictions(y_test,y_pred)\n",
    "conf.plot()"
   ]
  },
  {
   "cell_type": "code",
   "execution_count": 50,
   "id": "a7317c6d-2700-49f3-a2f9-e9cc6e726200",
   "metadata": {},
   "outputs": [],
   "source": [
    "# %tensorboard --logdir logs/fit/lstm/"
   ]
  },
  {
   "cell_type": "markdown",
   "id": "8827ef42-e05c-4ce9-afba-07ecb4053d0c",
   "metadata": {},
   "source": [
    "To run tensorboard in the cli use command ```tensorboard --logdir logs/fit/lstm/```"
   ]
  },
  {
   "cell_type": "markdown",
   "id": "db46bcd0-963c-44a3-ae0f-af435829ff03",
   "metadata": {},
   "source": [
    "<H1>Implementing Bidirectional LSTM</H1>"
   ]
  },
  {
   "cell_type": "code",
   "execution_count": 51,
   "id": "f633ae6c",
   "metadata": {
    "tags": []
   },
   "outputs": [],
   "source": [
    "# Bidirectional LSTM\n",
    "\n",
    "bidirectional_lstm = models.Sequential()\n",
    "bidirectional_lstm.add(layers.Bidirectional(\n",
    "    layers.LSTM(128),input_shape=input_shape\n",
    "))\n",
    "bidirectional_lstm.add(layers.Dropout(rate=0.2))\n",
    "bidirectional_lstm.add(layers.Dense(6,activation=\"softmax\"))"
   ]
  },
  {
   "cell_type": "code",
   "execution_count": 52,
   "id": "c29e7ec7-2c33-4dff-b6ff-3ff1074f89d4",
   "metadata": {},
   "outputs": [
    {
     "name": "stdout",
     "output_type": "stream",
     "text": [
      "Model: \"sequential_2\"\n",
      "_________________________________________________________________\n",
      " Layer (type)                Output Shape              Param #   \n",
      "=================================================================\n",
      " bidirectional (Bidirectiona  (None, 256)              135168    \n",
      " l)                                                              \n",
      "                                                                 \n",
      " dropout_1 (Dropout)         (None, 256)               0         \n",
      "                                                                 \n",
      " dense_4 (Dense)             (None, 6)                 1542      \n",
      "                                                                 \n",
      "=================================================================\n",
      "Total params: 136,710\n",
      "Trainable params: 136,710\n",
      "Non-trainable params: 0\n",
      "_________________________________________________________________\n"
     ]
    }
   ],
   "source": [
    "bidirectional_lstm.summary()"
   ]
  },
  {
   "cell_type": "code",
   "execution_count": 53,
   "id": "33eaba9f-d814-4791-9201-018ba9341e63",
   "metadata": {},
   "outputs": [],
   "source": [
    "bidirectional_lstm.compile(optimizer = \"adam\",\n",
    "            loss=\"categorical_crossentropy\",\n",
    "            metrics = \"accuracy\"\n",
    "            )"
   ]
  },
  {
   "cell_type": "code",
   "execution_count": 54,
   "id": "3176d2f6-eb3b-4e4d-a798-31ff1c491d80",
   "metadata": {},
   "outputs": [],
   "source": [
    "bidirectional_lstm_log_dir = \"logs/fit/lstm/bidirectional\" + datetime.datetime.now().strftime(\"%Y%m%d-%H%M%S\")\n",
    "bidirectional_lstm_tensorboard_callback = TensorBoard(log_dir=lstm_log_dir, histogram_freq=1)"
   ]
  },
  {
   "cell_type": "code",
   "execution_count": 55,
   "id": "1a4262f3-6547-49fd-9481-d18101787b34",
   "metadata": {
    "tags": []
   },
   "outputs": [
    {
     "name": "stdout",
     "output_type": "stream",
     "text": [
      "Epoch 1/50\n",
      "736/736 [==============================] - 8s 10ms/step - loss: 0.4234 - accuracy: 0.7878 - val_loss: 0.6021 - val_accuracy: 0.7465\n",
      "Epoch 2/50\n",
      "736/736 [==============================] - 8s 11ms/step - loss: 0.4064 - accuracy: 0.8017 - val_loss: 0.5050 - val_accuracy: 0.7686\n",
      "Epoch 3/50\n",
      "736/736 [==============================] - 8s 10ms/step - loss: 0.4130 - accuracy: 0.7943 - val_loss: 0.4983 - val_accuracy: 0.7743\n",
      "Epoch 4/50\n",
      "736/736 [==============================] - 8s 10ms/step - loss: 0.4132 - accuracy: 0.7905 - val_loss: 0.5034 - val_accuracy: 0.7777\n",
      "Epoch 5/50\n",
      "736/736 [==============================] - 8s 10ms/step - loss: 0.3936 - accuracy: 0.8060 - val_loss: 0.4924 - val_accuracy: 0.7866\n",
      "Epoch 6/50\n",
      "736/736 [==============================] - 8s 11ms/step - loss: 0.3979 - accuracy: 0.8086 - val_loss: 0.5571 - val_accuracy: 0.7771\n",
      "Epoch 7/50\n",
      "736/736 [==============================] - 7s 10ms/step - loss: 0.3914 - accuracy: 0.8142 - val_loss: 0.5551 - val_accuracy: 0.7564\n",
      "Epoch 8/50\n",
      "736/736 [==============================] - 7s 9ms/step - loss: 0.3919 - accuracy: 0.8137 - val_loss: 0.5232 - val_accuracy: 0.7774\n",
      "Epoch 9/50\n",
      "736/736 [==============================] - 7s 9ms/step - loss: 0.3799 - accuracy: 0.8258 - val_loss: 0.5360 - val_accuracy: 0.7906\n",
      "Epoch 10/50\n",
      "736/736 [==============================] - 7s 9ms/step - loss: 0.3685 - accuracy: 0.8309 - val_loss: 0.5366 - val_accuracy: 0.7869\n",
      "Epoch 11/50\n",
      "736/736 [==============================] - 7s 9ms/step - loss: 0.3599 - accuracy: 0.8407 - val_loss: 0.6125 - val_accuracy: 0.7771\n",
      "Epoch 12/50\n",
      "736/736 [==============================] - 7s 9ms/step - loss: 0.3460 - accuracy: 0.8459 - val_loss: 0.5323 - val_accuracy: 0.7940\n",
      "Epoch 13/50\n",
      "736/736 [==============================] - 7s 9ms/step - loss: 0.3382 - accuracy: 0.8513 - val_loss: 0.5289 - val_accuracy: 0.7984\n",
      "Epoch 14/50\n",
      "736/736 [==============================] - 7s 9ms/step - loss: 0.3302 - accuracy: 0.8568 - val_loss: 0.5118 - val_accuracy: 0.7893\n",
      "Epoch 15/50\n",
      "736/736 [==============================] - 7s 10ms/step - loss: 0.3271 - accuracy: 0.8534 - val_loss: 0.5213 - val_accuracy: 0.7828\n",
      "Epoch 16/50\n",
      "736/736 [==============================] - 7s 10ms/step - loss: 0.3243 - accuracy: 0.8561 - val_loss: 0.5411 - val_accuracy: 0.7825\n",
      "Epoch 17/50\n",
      "736/736 [==============================] - 7s 10ms/step - loss: 0.3200 - accuracy: 0.8602 - val_loss: 0.5391 - val_accuracy: 0.8029\n",
      "Epoch 18/50\n",
      "736/736 [==============================] - 7s 10ms/step - loss: 0.3221 - accuracy: 0.8569 - val_loss: 0.4727 - val_accuracy: 0.8117\n",
      "Epoch 19/50\n",
      "736/736 [==============================] - 7s 9ms/step - loss: 0.3001 - accuracy: 0.8692 - val_loss: 0.5767 - val_accuracy: 0.7767\n",
      "Epoch 20/50\n",
      "736/736 [==============================] - 7s 10ms/step - loss: 0.2926 - accuracy: 0.8721 - val_loss: 0.5427 - val_accuracy: 0.7967\n",
      "Epoch 21/50\n",
      "736/736 [==============================] - 7s 9ms/step - loss: 0.3012 - accuracy: 0.8724 - val_loss: 0.5878 - val_accuracy: 0.7845\n",
      "Epoch 22/50\n",
      "736/736 [==============================] - 7s 9ms/step - loss: 0.2858 - accuracy: 0.8795 - val_loss: 0.6331 - val_accuracy: 0.7631\n",
      "Epoch 23/50\n",
      "736/736 [==============================] - 7s 9ms/step - loss: 0.2917 - accuracy: 0.8735 - val_loss: 0.5182 - val_accuracy: 0.8069\n",
      "Epoch 24/50\n",
      "736/736 [==============================] - 7s 9ms/step - loss: 0.2807 - accuracy: 0.8776 - val_loss: 0.5942 - val_accuracy: 0.7866\n",
      "Epoch 25/50\n",
      "736/736 [==============================] - 7s 10ms/step - loss: 0.2712 - accuracy: 0.8819 - val_loss: 0.6786 - val_accuracy: 0.7771\n",
      "Epoch 26/50\n",
      "736/736 [==============================] - 7s 10ms/step - loss: 0.2645 - accuracy: 0.8864 - val_loss: 0.5994 - val_accuracy: 0.8015\n",
      "Epoch 27/50\n",
      "736/736 [==============================] - 7s 9ms/step - loss: 0.2627 - accuracy: 0.8852 - val_loss: 0.6027 - val_accuracy: 0.7957\n",
      "Epoch 28/50\n",
      "736/736 [==============================] - 7s 9ms/step - loss: 0.2597 - accuracy: 0.8898 - val_loss: 0.6317 - val_accuracy: 0.7910\n",
      "Epoch 29/50\n",
      "736/736 [==============================] - 7s 9ms/step - loss: 0.2551 - accuracy: 0.8889 - val_loss: 0.6834 - val_accuracy: 0.7781\n",
      "Epoch 30/50\n",
      "736/736 [==============================] - 7s 9ms/step - loss: 0.2532 - accuracy: 0.8913 - val_loss: 0.5774 - val_accuracy: 0.8151\n",
      "Epoch 31/50\n",
      "736/736 [==============================] - 7s 9ms/step - loss: 0.6048 - accuracy: 0.7013 - val_loss: 0.7111 - val_accuracy: 0.6291\n",
      "Epoch 32/50\n",
      "736/736 [==============================] - 7s 10ms/step - loss: 0.5608 - accuracy: 0.7099 - val_loss: 0.6073 - val_accuracy: 0.7357\n",
      "Epoch 33/50\n",
      "736/736 [==============================] - 7s 9ms/step - loss: 0.4571 - accuracy: 0.7782 - val_loss: 0.5963 - val_accuracy: 0.7346\n",
      "Epoch 34/50\n",
      "736/736 [==============================] - 7s 10ms/step - loss: 0.3921 - accuracy: 0.8175 - val_loss: 0.5545 - val_accuracy: 0.7825\n",
      "Epoch 35/50\n",
      "736/736 [==============================] - 7s 10ms/step - loss: 0.3625 - accuracy: 0.8351 - val_loss: 0.5829 - val_accuracy: 0.7703\n",
      "Epoch 36/50\n",
      "736/736 [==============================] - 7s 9ms/step - loss: 0.3480 - accuracy: 0.8447 - val_loss: 0.5979 - val_accuracy: 0.7706\n",
      "Epoch 37/50\n",
      "736/736 [==============================] - 8s 11ms/step - loss: 0.3429 - accuracy: 0.8473 - val_loss: 0.5898 - val_accuracy: 0.7896\n",
      "Epoch 38/50\n",
      "736/736 [==============================] - 8s 11ms/step - loss: 0.3323 - accuracy: 0.8500 - val_loss: 0.6556 - val_accuracy: 0.7713\n",
      "Epoch 39/50\n",
      "736/736 [==============================] - 7s 10ms/step - loss: 0.6172 - accuracy: 0.7738 - val_loss: 0.7436 - val_accuracy: 0.6132\n",
      "Epoch 40/50\n",
      "736/736 [==============================] - 7s 9ms/step - loss: 0.6621 - accuracy: 0.6487 - val_loss: 0.6997 - val_accuracy: 0.6654\n",
      "Epoch 41/50\n",
      "736/736 [==============================] - 7s 9ms/step - loss: 0.5755 - accuracy: 0.6998 - val_loss: 0.6143 - val_accuracy: 0.7411\n",
      "Epoch 42/50\n",
      "736/736 [==============================] - 7s 9ms/step - loss: 0.4613 - accuracy: 0.7773 - val_loss: 0.5881 - val_accuracy: 0.7655\n",
      "Epoch 43/50\n",
      "736/736 [==============================] - 8s 11ms/step - loss: 0.3540 - accuracy: 0.8455 - val_loss: 0.5446 - val_accuracy: 0.7937\n",
      "Epoch 44/50\n",
      "736/736 [==============================] - 7s 10ms/step - loss: 0.3157 - accuracy: 0.8640 - val_loss: 0.5786 - val_accuracy: 0.7957\n",
      "Epoch 45/50\n",
      "736/736 [==============================] - 7s 10ms/step - loss: 0.2876 - accuracy: 0.8806 - val_loss: 0.5246 - val_accuracy: 0.8090\n",
      "Epoch 46/50\n",
      "736/736 [==============================] - 7s 9ms/step - loss: 0.2790 - accuracy: 0.8795 - val_loss: 0.5056 - val_accuracy: 0.8096\n",
      "Epoch 47/50\n",
      "736/736 [==============================] - 7s 10ms/step - loss: 0.2654 - accuracy: 0.8859 - val_loss: 0.6076 - val_accuracy: 0.7893\n",
      "Epoch 48/50\n",
      "736/736 [==============================] - 8s 11ms/step - loss: 0.2579 - accuracy: 0.8889 - val_loss: 0.5977 - val_accuracy: 0.7984\n",
      "Epoch 49/50\n",
      "736/736 [==============================] - 8s 11ms/step - loss: 0.2556 - accuracy: 0.8894 - val_loss: 0.5663 - val_accuracy: 0.7944\n",
      "Epoch 50/50\n",
      "736/736 [==============================] - 8s 11ms/step - loss: 0.2486 - accuracy: 0.8987 - val_loss: 0.5956 - val_accuracy: 0.8208\n"
     ]
    }
   ],
   "source": [
    "lstmhistory = lstm.fit(X_xyz_norm_train,y_ohe_train,epochs = 50,batch_size=10,validation_data=(X_xyz_norm_test, y_ohe_test),callbacks=[bidirectional_lstm_tensorboard_callback])"
   ]
  },
  {
   "cell_type": "code",
   "execution_count": 56,
   "id": "ad775d65",
   "metadata": {},
   "outputs": [
    {
     "name": "stdout",
     "output_type": "stream",
     "text": [
      "notebook took 839.4720 seconds to finish\n"
     ]
    }
   ],
   "source": [
    "end = time.perf_counter()\n",
    "print(f\"notebook took {end - start:0.4f} seconds to finish\")"
   ]
  },
  {
   "cell_type": "markdown",
   "id": "4eb2591b-5025-45d0-a45d-5236c7ff71d1",
   "metadata": {},
   "source": [
    "# TODO:\n",
    "1. Compare Github Accuracy Results.\n",
    "\n",
    "2. Print out Accuracy Scores and stuff.\n",
    "\n",
    "3. Fit a CNN model on the frequency transformed images. \n",
    "\n",
    "4. Tweak Hyperparameters like learning rate."
   ]
  },
  {
   "cell_type": "code",
   "execution_count": null,
   "id": "8735f6de-8fbb-470b-825c-c63007208419",
   "metadata": {},
   "outputs": [],
   "source": []
  }
 ],
 "metadata": {
  "kernelspec": {
   "display_name": "tf-timeseries-env",
   "language": "python",
   "name": "tf-timeseries-env"
  },
  "language_info": {
   "codemirror_mode": {
    "name": "ipython",
    "version": 3
   },
   "file_extension": ".py",
   "mimetype": "text/x-python",
   "name": "python",
   "nbconvert_exporter": "python",
   "pygments_lexer": "ipython3",
   "version": "3.10.2"
  }
 },
 "nbformat": 4,
 "nbformat_minor": 5
}
