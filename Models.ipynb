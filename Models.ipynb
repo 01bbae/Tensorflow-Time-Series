{
 "cells": [
  {
   "cell_type": "code",
   "execution_count": 134,
   "id": "a78ef61e",
   "metadata": {},
   "outputs": [
    {
     "data": {
      "text/plain": [
       "'2.8.0'"
      ]
     },
     "execution_count": 134,
     "metadata": {},
     "output_type": "execute_result"
    }
   ],
   "source": [
    "import numpy as np\n",
    "import pandas as pd\n",
    "import tensorflow as tf\n",
    "from tensorflow.keras import datasets, layers, models, losses, optimizers, Input, regularizers\n",
    "from tensorflow.keras.callbacks import TensorBoard\n",
    "from tensorflow.keras.utils import to_categorical\n",
    "import tensorflow_addons as tfa\n",
    "from tensorboard.plugins.hparams import api as hp\n",
    "from matplotlib import pyplot as plt\n",
    "from tqdm.notebook import tqdm\n",
    "import time\n",
    "import os\n",
    "from time import sleep\n",
    "import datetime\n",
    "from sklearn.preprocessing import StandardScaler\n",
    "from sklearn.metrics import ConfusionMatrixDisplay\n",
    "import pprint\n",
    "import pywt\n",
    "tf.__version__"
   ]
  },
  {
   "cell_type": "code",
   "execution_count": 2,
   "id": "673d4244-f641-4096-bb2f-0db85fd99d54",
   "metadata": {},
   "outputs": [],
   "source": [
    "%load_ext tensorboard"
   ]
  },
  {
   "cell_type": "code",
   "execution_count": 3,
   "id": "ee1bbbbe",
   "metadata": {},
   "outputs": [],
   "source": [
    "start = time.perf_counter()"
   ]
  },
  {
   "cell_type": "code",
   "execution_count": 4,
   "id": "75a254d8",
   "metadata": {
    "scrolled": true
   },
   "outputs": [
    {
     "data": {
      "text/plain": [
       "True"
      ]
     },
     "execution_count": 4,
     "metadata": {},
     "output_type": "execute_result"
    }
   ],
   "source": [
    "len(tf.config.list_physical_devices('GPU'))>0"
   ]
  },
  {
   "cell_type": "code",
   "execution_count": 5,
   "id": "5661d1f1",
   "metadata": {},
   "outputs": [
    {
     "name": "stdout",
     "output_type": "stream",
     "text": [
      "/device:GPU:0\n"
     ]
    }
   ],
   "source": [
    "device_name = tf.test.gpu_device_name()\n",
    "print(device_name)"
   ]
  },
  {
   "cell_type": "markdown",
   "id": "27989127-a585-4d20-890a-659413bc8b82",
   "metadata": {},
   "source": [
    "### Create Log directories for Tensorboard"
   ]
  },
  {
   "cell_type": "code",
   "execution_count": 6,
   "id": "c1673c8c-13c6-481b-980d-c91e1f5752d5",
   "metadata": {},
   "outputs": [],
   "source": [
    "# try:\n",
    "#     if not os.path.exists(\"logs\"):\n",
    "#         log_path = os.path.join(\"logs\",\"fit\")\n",
    "#         os.makedirs(os.path.join(log_path,\"lstm\",\"bidirectional\"))\n",
    "#         os.mkdir(os.path.join(log_path,\"cnn\"))\n",
    "#         print(\"log files are created\")\n",
    "#     else:\n",
    "#         print(\"log files already exist\")\n",
    "# except Exception as e:\n",
    "#     print(e)\n",
    "#     print(\"Error while creating log directories. Aborted.\")"
   ]
  },
  {
   "cell_type": "code",
   "execution_count": 7,
   "id": "a2844e2a-1a60-45bb-af86-852c4208fa4d",
   "metadata": {},
   "outputs": [],
   "source": [
    "# image_path = \"images\"\n",
    "# try:\n",
    "#     os.mkdir(image_path)\n",
    "    \n",
    "# except Exception as e:\n",
    "#     print(e)\n",
    "#     print(\"Error while creating image directory. Aborted.\")"
   ]
  },
  {
   "cell_type": "markdown",
   "id": "d3cc9734-6486-4832-9ef0-e2bcb266dc90",
   "metadata": {},
   "source": [
    "### Load Data"
   ]
  },
  {
   "cell_type": "code",
   "execution_count": 8,
   "id": "96dfd861",
   "metadata": {},
   "outputs": [],
   "source": [
    "X_x_train = np.loadtxt(\"./data/X_x_train.txt\")\n",
    "X_y_train = np.loadtxt(\"./data/X_y_train.txt\")\n",
    "X_z_train = np.loadtxt(\"./data/X_z_train.txt\")\n",
    "y_train = np.loadtxt(\"./data/y_train.txt\")\n",
    "\n",
    "X_x_test = np.loadtxt(\"./data/X_x_test.txt\")\n",
    "X_y_test = np.loadtxt(\"./data/X_y_test.txt\")\n",
    "X_z_test = np.loadtxt(\"./data/X_z_test.txt\")\n",
    "y_test = np.loadtxt(\"./data/y_test.txt\")"
   ]
  },
  {
   "cell_type": "markdown",
   "id": "b039afd9-8879-46e0-98cd-c1c349d5d426",
   "metadata": {},
   "source": [
    "### Normalize Data"
   ]
  },
  {
   "cell_type": "code",
   "execution_count": 9,
   "id": "dd6bc501",
   "metadata": {
    "tags": []
   },
   "outputs": [],
   "source": [
    "norm = StandardScaler()"
   ]
  },
  {
   "cell_type": "code",
   "execution_count": 10,
   "id": "a8f685c2",
   "metadata": {
    "tags": []
   },
   "outputs": [],
   "source": [
    "X_x_train_norm = norm.fit_transform(X_x_train)\n",
    "X_y_train_norm = norm.fit_transform(X_y_train)\n",
    "X_z_train_norm = norm.fit_transform(X_z_train)\n",
    "\n",
    "X_x_test_norm = norm.fit_transform(X_x_test)\n",
    "X_y_test_norm = norm.fit_transform(X_y_test)\n",
    "X_z_test_norm = norm.fit_transform(X_z_test)"
   ]
  },
  {
   "cell_type": "markdown",
   "id": "90441925-1603-423a-907d-fa8a53232186",
   "metadata": {},
   "source": [
    "### Compile X, Y, Z data into train/test arrays"
   ]
  },
  {
   "cell_type": "code",
   "execution_count": 11,
   "id": "fbc18999",
   "metadata": {
    "tags": []
   },
   "outputs": [],
   "source": [
    "def concat_xyz(x,y,z):\n",
    "    new_arr = np.empty((x.shape[0], 3, x.shape[1]))\n",
    "    new_arr[:,0] = x\n",
    "    new_arr[:,1] = y\n",
    "    new_arr[:,2] = z\n",
    "    return new_arr"
   ]
  },
  {
   "cell_type": "code",
   "execution_count": 12,
   "id": "911dfb2f",
   "metadata": {
    "tags": []
   },
   "outputs": [],
   "source": [
    "X_xyz_norm_train =  concat_xyz(X_x_train_norm,X_y_train_norm, X_z_train_norm)\n",
    "X_xyz_norm_test = concat_xyz(X_x_test_norm,X_y_test_norm,X_z_test_norm)"
   ]
  },
  {
   "cell_type": "code",
   "execution_count": 13,
   "id": "92b7c699-1017-4ee7-b752-125a41b99baa",
   "metadata": {},
   "outputs": [
    {
     "data": {
      "text/plain": [
       "(7352, 3, 128)"
      ]
     },
     "execution_count": 13,
     "metadata": {},
     "output_type": "execute_result"
    }
   ],
   "source": [
    "X_xyz_norm_train.shape"
   ]
  },
  {
   "cell_type": "markdown",
   "id": "fc8e6bd5-46e2-4602-b8d3-214a5763181d",
   "metadata": {},
   "source": [
    "For the training data, there are 7352 different trials for 3 channels of accelerometer data (x,y,z) sampled 128 times during each trial."
   ]
  },
  {
   "cell_type": "code",
   "execution_count": 14,
   "id": "31aa19b4",
   "metadata": {},
   "outputs": [
    {
     "name": "stdout",
     "output_type": "stream",
     "text": [
      "6\n"
     ]
    }
   ],
   "source": [
    "label_names = ['Walking', 'Walking upstairs', 'Walking downstairs', 'Sitting', 'Standing', 'Laying']\n",
    "num_classes = len(label_names)\n",
    "print(num_classes)"
   ]
  },
  {
   "cell_type": "code",
   "execution_count": 15,
   "id": "adef527c",
   "metadata": {},
   "outputs": [],
   "source": [
    "# shifting y_train to values from 0 to num_classes-1 (zero indexing)\n",
    "y_train = y_train - 1\n",
    "y_test = y_test - 1"
   ]
  },
  {
   "cell_type": "markdown",
   "id": "ccd93f70-b663-4643-bd5f-d065138c52c5",
   "metadata": {},
   "source": [
    "### One hot encoding"
   ]
  },
  {
   "cell_type": "code",
   "execution_count": 16,
   "id": "c115c2ce-0ee7-4c0b-89c9-07c6a7bc3ade",
   "metadata": {},
   "outputs": [],
   "source": [
    "y_ohe_train = to_categorical(y_train,num_classes)\n",
    "y_ohe_test = to_categorical(y_test, num_classes)"
   ]
  },
  {
   "cell_type": "markdown",
   "id": "509a2bb1-4319-47f3-95d4-366bc78ba016",
   "metadata": {},
   "source": [
    "#### Here are the current shapes of each variable"
   ]
  },
  {
   "cell_type": "code",
   "execution_count": 17,
   "id": "84bcd1dc",
   "metadata": {},
   "outputs": [
    {
     "data": {
      "text/plain": [
       "(7352, 3, 128)"
      ]
     },
     "execution_count": 17,
     "metadata": {},
     "output_type": "execute_result"
    }
   ],
   "source": [
    "X_xyz_norm_train.shape"
   ]
  },
  {
   "cell_type": "code",
   "execution_count": 18,
   "id": "f51a9832-d21b-448b-a25f-54cf119c0856",
   "metadata": {},
   "outputs": [
    {
     "data": {
      "text/plain": [
       "(2947, 3, 128)"
      ]
     },
     "execution_count": 18,
     "metadata": {},
     "output_type": "execute_result"
    }
   ],
   "source": [
    "X_xyz_norm_test.shape"
   ]
  },
  {
   "cell_type": "code",
   "execution_count": 19,
   "id": "a7803cd1-e360-4d19-aaf4-3e040f7af92e",
   "metadata": {},
   "outputs": [
    {
     "data": {
      "text/plain": [
       "(7352,)"
      ]
     },
     "execution_count": 19,
     "metadata": {},
     "output_type": "execute_result"
    }
   ],
   "source": [
    "y_train.shape"
   ]
  },
  {
   "cell_type": "code",
   "execution_count": 20,
   "id": "eb077bf5-811a-4e0f-8203-8e16d866f476",
   "metadata": {},
   "outputs": [
    {
     "data": {
      "text/plain": [
       "(2947,)"
      ]
     },
     "execution_count": 20,
     "metadata": {},
     "output_type": "execute_result"
    }
   ],
   "source": [
    "y_test.shape"
   ]
  },
  {
   "cell_type": "code",
   "execution_count": 21,
   "id": "912382fb-ff2a-4380-9136-ae02a8ea572a",
   "metadata": {},
   "outputs": [
    {
     "data": {
      "text/plain": [
       "(7352, 6)"
      ]
     },
     "execution_count": 21,
     "metadata": {},
     "output_type": "execute_result"
    }
   ],
   "source": [
    "y_ohe_train.shape"
   ]
  },
  {
   "cell_type": "code",
   "execution_count": 22,
   "id": "3ef375a2-b36a-4911-969a-6c946e7095f0",
   "metadata": {},
   "outputs": [
    {
     "data": {
      "text/plain": [
       "(2947, 6)"
      ]
     },
     "execution_count": 22,
     "metadata": {},
     "output_type": "execute_result"
    }
   ],
   "source": [
    "y_ohe_test.shape"
   ]
  },
  {
   "cell_type": "markdown",
   "id": "ddcb4d1d-182c-485a-97b0-b49bb456e22e",
   "metadata": {},
   "source": [
    "# Creating Continuous Wavelet Transforms representing time series data"
   ]
  },
  {
   "cell_type": "markdown",
   "id": "76cef9f6-bf18-49e4-b0de-eb4aec1d4a28",
   "metadata": {},
   "source": [
    "### Showing the 1/7352 128-sample run"
   ]
  },
  {
   "cell_type": "code",
   "execution_count": 23,
   "id": "ca4d2958-c2be-43b9-bfec-0aea0e145f1d",
   "metadata": {
    "tags": []
   },
   "outputs": [
    {
     "data": {
      "text/plain": [
       "<function matplotlib.pyplot.show(close=None, block=None)>"
      ]
     },
     "execution_count": 23,
     "metadata": {},
     "output_type": "execute_result"
    },
    {
     "data": {
      "image/png": "[encoded data removed]",
      "text/plain": [
       "<Figure size 432x288 with 1 Axes>"
      ]
     },
     "metadata": {
      "needs_background": "light"
     },
     "output_type": "display_data"
    }
   ],
   "source": [
    "plt.title(\"Normalized Accelerometer Data for 1/7352 Runs\")\n",
    "plt.plot(X_xyz_norm_train[0][0])\n",
    "plt.plot(X_xyz_norm_train[0][1])\n",
    "plt.plot(X_xyz_norm_train[0][2])\n",
    "# plt.savefig(os.path.join(image_path,\n",
    "plt.show"
   ]
  },
  {
   "cell_type": "markdown",
   "id": "370e3b14-d92d-4d92-9234-f4318334b5a7",
   "metadata": {},
   "source": [
    "#### Convert all data to wavelets"
   ]
  },
  {
   "cell_type": "code",
   "execution_count": 24,
   "id": "9ff5dc04-60f7-4f10-889e-1156c3a183ee",
   "metadata": {},
   "outputs": [],
   "source": [
    "def find_length(a):\n",
    "    return np.sqrt(np.dot(a,a))\n",
    "    # np.sqrt((X_xyz_norm_train[0][0])**2+(X_xyz_norm_train[0][1])**2+(X_xyz_norm_train[0][2])**2)"
   ]
  },
  {
   "cell_type": "code",
   "execution_count": 25,
   "id": "a9119ca3-3831-42e1-8ca1-1cf37b9b90e0",
   "metadata": {
    "tags": []
   },
   "outputs": [],
   "source": [
    "X_xyz_norm_train_wave = np.apply_along_axis(find_length, len(X_xyz_norm_train.shape)-2 , X_xyz_norm_train)\n",
    "X_xyz_norm_test_wave = np.apply_along_axis(find_length, len(X_xyz_norm_test.shape)-2 , X_xyz_norm_test)"
   ]
  },
  {
   "cell_type": "code",
   "execution_count": 26,
   "id": "84fab5ea-7caf-4be1-b153-68f45a714d7c",
   "metadata": {
    "tags": []
   },
   "outputs": [
    {
     "data": {
      "text/plain": [
       "<function matplotlib.pyplot.show(close=None, block=None)>"
      ]
     },
     "execution_count": 26,
     "metadata": {},
     "output_type": "execute_result"
    },
    {
     "data": {
      "image/png": "[encoded data removed]",
      "text/plain": [
       "<Figure size 432x288 with 1 Axes>"
      ]
     },
     "metadata": {
      "needs_background": "light"
     },
     "output_type": "display_data"
    }
   ],
   "source": [
    "plt.plot(X_xyz_norm_train_wave[0])\n",
    "plt.show"
   ]
  },
  {
   "cell_type": "code",
   "execution_count": 27,
   "id": "fb2c3934-dc63-4c5f-b4f7-2736ad82c2df",
   "metadata": {},
   "outputs": [
    {
     "data": {
      "text/plain": [
       "<matplotlib.image.AxesImage at 0x272a487a3e0>"
      ]
     },
     "execution_count": 27,
     "metadata": {},
     "output_type": "execute_result"
    },
    {
     "data": {
      "image/png": "[encoded data removed]",
      "text/plain": [
       "<Figure size 432x288 with 1 Axes>"
      ]
     },
     "metadata": {
      "needs_background": "light"
     },
     "output_type": "display_data"
    }
   ],
   "source": [
    "# samples taken at 50hz\n",
    "coeffs, freqs = pywt.cwt(X_xyz_norm_train_wave[0],10,'morl')\n",
    "plt.imshow(coeffs, cmap = 'coolwarm', aspect = 'auto')"
   ]
  },
  {
   "cell_type": "markdown",
   "id": "6ecbe9a0-3fa0-48fc-931c-83dd8a6e52d1",
   "metadata": {},
   "source": [
    "Using Morlet wavelets"
   ]
  },
  {
   "cell_type": "markdown",
   "id": "07ebb536",
   "metadata": {},
   "source": [
    "# Implementing CNN"
   ]
  },
  {
   "cell_type": "markdown",
   "id": "52fe198e-2baa-4869-9264-1b886043d506",
   "metadata": {},
   "source": [
    "## CNN for Raw Data"
   ]
  },
  {
   "cell_type": "code",
   "execution_count": 113,
   "id": "c4e7af92-eb96-489e-8bfe-2ded7f40d788",
   "metadata": {},
   "outputs": [
    {
     "name": "stdout",
     "output_type": "stream",
     "text": [
      "(3, 128)\n"
     ]
    }
   ],
   "source": [
    "input_shape_cnn_raw = X_xyz_norm_train.shape[1:]\n",
    "print(input_shape_cnn_raw)"
   ]
  },
  {
   "cell_type": "markdown",
   "id": "602c426b",
   "metadata": {},
   "source": [
    "The original notebook used TF1 with placeholder. Here we take `(3, 128)` as input shape instead of `(None, 3, 128)`"
   ]
  },
  {
   "cell_type": "code",
   "execution_count": 177,
   "id": "06ec22ae",
   "metadata": {},
   "outputs": [],
   "source": [
    "cnn = models.Sequential()\n",
    "cnn.add(layers.Conv1D(filters=32, kernel_size=3, activation='relu', input_shape=input_shape_cnn_raw))\n",
    "# cnn.add(layers.AveragePooling1D(pool_size=4))\n",
    "cnn.add(layers.Flatten())\n",
    "cnn.add(layers.Dense(5,kernel_regularizer=regularizers.l2(0.0001), activation='relu'))\n",
    "cnn.add(layers.Dropout(.2))\n",
    "cnn.add(layers.Dense(5, kernel_regularizer=regularizers.l2(0.0001), activation='relu'))\n",
    "cnn.add(layers.Dropout(.2))\n",
    "cnn.add(layers.Dense(5, kernel_regularizer=regularizers.l2(0.0001), activation='relu'))\n",
    "cnn.add(layers.Dropout(.2))\n",
    "cnn.add(layers.Dense(5, kernel_regularizer=regularizers.l2(0.0001), activation='relu'))\n",
    "cnn.add(layers.Dropout(.2))\n",
    "cnn.add(layers.Dense(5, kernel_regularizer=regularizers.l2(0.0001), activation='relu'))\n",
    "cnn.add(layers.Dropout(.2))\n",
    "cnn.add(layers.Dense(5, kernel_regularizer=regularizers.l2(0.0001), activation='relu'))\n",
    "cnn.add(layers.Dropout(.2))\n",
    "cnn.add(layers.Dense(5, kernel_regularizer=regularizers.l2(0.0001), activation='relu'))\n",
    "cnn.add(layers.Dropout(.2))\n",
    "cnn.add(layers.Dense(5, kernel_regularizer=regularizers.l2(0.0001), activation='relu'))\n",
    "cnn.add(layers.Dropout(.2))\n",
    "cnn.add(layers.Dense(5, activation='relu'))\n",
    "cnn.add(layers.Dropout(.2))\n",
    "\n",
    "cnn.add(layers.Dense(num_classes,activation='softmax'))"
   ]
  },
  {
   "cell_type": "markdown",
   "id": "660a7ea5-7f8f-49f1-864e-b26dc1005252",
   "metadata": {},
   "source": [
    "Reducing Layer output and total layers solves overfitting"
   ]
  },
  {
   "cell_type": "code",
   "execution_count": 178,
   "id": "584f8db8",
   "metadata": {},
   "outputs": [
    {
     "name": "stdout",
     "output_type": "stream",
     "text": [
      "Model: \"sequential_36\"\n",
      "_________________________________________________________________\n",
      " Layer (type)                Output Shape              Param #   \n",
      "=================================================================\n",
      " conv1d_39 (Conv1D)          (None, 1, 32)             12320     \n",
      "                                                                 \n",
      " flatten_29 (Flatten)        (None, 32)                0         \n",
      "                                                                 \n",
      " dense_166 (Dense)           (None, 5)                 165       \n",
      "                                                                 \n",
      " dropout_137 (Dropout)       (None, 5)                 0         \n",
      "                                                                 \n",
      " dense_167 (Dense)           (None, 5)                 30        \n",
      "                                                                 \n",
      " dropout_138 (Dropout)       (None, 5)                 0         \n",
      "                                                                 \n",
      " dense_168 (Dense)           (None, 5)                 30        \n",
      "                                                                 \n",
      " dropout_139 (Dropout)       (None, 5)                 0         \n",
      "                                                                 \n",
      " dense_169 (Dense)           (None, 5)                 30        \n",
      "                                                                 \n",
      " dropout_140 (Dropout)       (None, 5)                 0         \n",
      "                                                                 \n",
      " dense_170 (Dense)           (None, 5)                 30        \n",
      "                                                                 \n",
      " dropout_141 (Dropout)       (None, 5)                 0         \n",
      "                                                                 \n",
      " dense_171 (Dense)           (None, 5)                 30        \n",
      "                                                                 \n",
      " dropout_142 (Dropout)       (None, 5)                 0         \n",
      "                                                                 \n",
      " dense_172 (Dense)           (None, 5)                 30        \n",
      "                                                                 \n",
      " dropout_143 (Dropout)       (None, 5)                 0         \n",
      "                                                                 \n",
      " dense_173 (Dense)           (None, 5)                 30        \n",
      "                                                                 \n",
      " dropout_144 (Dropout)       (None, 5)                 0         \n",
      "                                                                 \n",
      " dense_174 (Dense)           (None, 5)                 30        \n",
      "                                                                 \n",
      " dropout_145 (Dropout)       (None, 5)                 0         \n",
      "                                                                 \n",
      " dense_175 (Dense)           (None, 6)                 36        \n",
      "                                                                 \n",
      "=================================================================\n",
      "Total params: 12,761\n",
      "Trainable params: 12,761\n",
      "Non-trainable params: 0\n",
      "_________________________________________________________________\n"
     ]
    }
   ],
   "source": [
    "cnn.summary()"
   ]
  },
  {
   "cell_type": "code",
   "execution_count": 179,
   "id": "e6f59b08",
   "metadata": {},
   "outputs": [],
   "source": [
    "# optimizer = tf.keras.optimizers.SGD(learning_rate=0.01)\n",
    "cnn.compile(optimizer=optimizers.Adam(),\n",
    "           loss=\"categorical_crossentropy\",\n",
    "           metrics=[tf.keras.metrics.Accuracy(),\n",
    "                    tf.keras.metrics.Precision(),\n",
    "                    tf.keras.metrics.Recall(),\n",
    "                    tfa.metrics.F1Score(num_classes = num_classes, average='micro')\n",
    "                   ])"
   ]
  },
  {
   "cell_type": "markdown",
   "id": "835298f6-438d-4e85-8806-a2df9b430946",
   "metadata": {},
   "source": [
    "#### Creating Tensorboard logs, saving, and running model"
   ]
  },
  {
   "cell_type": "code",
   "execution_count": 180,
   "id": "28cfe256",
   "metadata": {
    "collapsed": true,
    "jupyter": {
     "outputs_hidden": true
    },
    "tags": []
   },
   "outputs": [
    {
     "name": "stdout",
     "output_type": "stream",
     "text": [
      "Epoch 1/100\n",
      "74/74 [==============================] - ETA: 0s - loss: 1.7863 - accuracy: 0.0000e+00 - precision_24: 0.5000 - recall_24: 2.7203e-04 - f1_score: 0.2180    \n",
      "Epoch 1: saving model to models/cnn/raw\\20220506-062923\n",
      "74/74 [==============================] - 2s 14ms/step - loss: 1.7863 - accuracy: 0.0000e+00 - precision_24: 0.5000 - recall_24: 2.7203e-04 - f1_score: 0.2180 - val_loss: 1.7692 - val_accuracy: 0.0000e+00 - val_precision_24: 0.0000e+00 - val_recall_24: 0.0000e+00 - val_f1_score: 0.2874\n",
      "Epoch 2/100\n",
      "66/74 [=========================>....] - ETA: 0s - loss: 1.7259 - accuracy: 0.0000e+00 - precision_24: 0.4360 - recall_24: 0.0139 - f1_score: 0.2586\n",
      "Epoch 2: saving model to models/cnn/raw\\20220506-062923\n",
      "74/74 [==============================] - 1s 8ms/step - loss: 1.7245 - accuracy: 0.0000e+00 - precision_24: 0.4454 - recall_24: 0.0144 - f1_score: 0.2603 - val_loss: 1.6516 - val_accuracy: 0.0000e+00 - val_precision_24: 0.0000e+00 - val_recall_24: 0.0000e+00 - val_f1_score: 0.3359\n",
      "Epoch 3/100\n",
      "74/74 [==============================] - ETA: 0s - loss: 1.6541 - accuracy: 0.0000e+00 - precision_24: 0.4752 - recall_24: 0.0248 - f1_score: 0.2733\n",
      "Epoch 3: saving model to models/cnn/raw\\20220506-062923\n",
      "74/74 [==============================] - 1s 8ms/step - loss: 1.6541 - accuracy: 0.0000e+00 - precision_24: 0.4752 - recall_24: 0.0248 - f1_score: 0.2733 - val_loss: 1.5382 - val_accuracy: 0.0000e+00 - val_precision_24: 0.0000e+00 - val_recall_24: 0.0000e+00 - val_f1_score: 0.3390\n",
      "Epoch 4/100\n",
      "72/74 [============================>.] - ETA: 0s - loss: 1.6065 - accuracy: 0.0000e+00 - precision_24: 0.4441 - recall_24: 0.0226 - f1_score: 0.2792\n",
      "Epoch 4: saving model to models/cnn/raw\\20220506-062923\n",
      "74/74 [==============================] - 1s 8ms/step - loss: 1.6048 - accuracy: 0.0000e+00 - precision_24: 0.4468 - recall_24: 0.0229 - f1_score: 0.2791 - val_loss: 1.4617 - val_accuracy: 0.0000e+00 - val_precision_24: 0.0000e+00 - val_recall_24: 0.0000e+00 - val_f1_score: 0.3397\n",
      "Epoch 5/100\n",
      "72/74 [============================>.] - ETA: 0s - loss: 1.5597 - accuracy: 2.5463e-04 - precision_24: 0.4864 - recall_24: 0.0324 - f1_score: 0.2897\n",
      "Epoch 5: saving model to models/cnn/raw\\20220506-062923\n",
      "74/74 [==============================] - 1s 8ms/step - loss: 1.5592 - accuracy: 2.9470e-04 - precision_24: 0.4879 - recall_24: 0.0328 - f1_score: 0.2905 - val_loss: 1.3911 - val_accuracy: 0.0000e+00 - val_precision_24: 0.0000e+00 - val_recall_24: 0.0000e+00 - val_f1_score: 0.3607\n",
      "Epoch 6/100\n",
      "67/74 [==========================>...] - ETA: 0s - loss: 1.5227 - accuracy: 0.0033 - precision_24: 0.5116 - recall_24: 0.0363 - f1_score: 0.2961\n",
      "Epoch 6: saving model to models/cnn/raw\\20220506-062923\n",
      "74/74 [==============================] - 1s 8ms/step - loss: 1.5214 - accuracy: 0.0036 - precision_24: 0.5027 - recall_24: 0.0384 - f1_score: 0.2976 - val_loss: 1.3503 - val_accuracy: 0.0000e+00 - val_precision_24: 0.0000e+00 - val_recall_24: 0.0000e+00 - val_f1_score: 0.3770\n",
      "Epoch 7/100\n",
      "73/74 [============================>.] - ETA: 0s - loss: 1.4979 - accuracy: 0.0062 - precision_24: 0.4930 - recall_24: 0.0288 - f1_score: 0.3118\n",
      "Epoch 7: saving model to models/cnn/raw\\20220506-062923\n",
      "74/74 [==============================] - 1s 8ms/step - loss: 1.4971 - accuracy: 0.0063 - precision_24: 0.4941 - recall_24: 0.0287 - f1_score: 0.3115 - val_loss: 1.3292 - val_accuracy: 0.0000e+00 - val_precision_24: 0.0000e+00 - val_recall_24: 0.0000e+00 - val_f1_score: 0.4299\n",
      "Epoch 8/100\n",
      "68/74 [==========================>...] - ETA: 0s - loss: 1.4760 - accuracy: 0.0136 - precision_24: 0.5110 - recall_24: 0.0376 - f1_score: 0.3122\n",
      "Epoch 8: saving model to models/cnn/raw\\20220506-062923\n",
      "74/74 [==============================] - 1s 9ms/step - loss: 1.4735 - accuracy: 0.0137 - precision_24: 0.5064 - recall_24: 0.0377 - f1_score: 0.3126 - val_loss: 1.2949 - val_accuracy: 0.0000e+00 - val_precision_24: 0.0000e+00 - val_recall_24: 0.0000e+00 - val_f1_score: 0.3980\n",
      "Epoch 9/100\n",
      "72/74 [============================>.] - ETA: 0s - loss: 1.4462 - accuracy: 0.0187 - precision_24: 0.5172 - recall_24: 0.0500 - f1_score: 0.3212\n",
      "Epoch 9: saving model to models/cnn/raw\\20220506-062923\n",
      "74/74 [==============================] - 1s 8ms/step - loss: 1.4468 - accuracy: 0.0190 - precision_24: 0.5175 - recall_24: 0.0502 - f1_score: 0.3207 - val_loss: 1.2794 - val_accuracy: 0.0000e+00 - val_precision_24: 0.0000e+00 - val_recall_24: 0.0000e+00 - val_f1_score: 0.4306\n",
      "Epoch 10/100\n",
      "71/74 [===========================>..] - ETA: 0s - loss: 1.4373 - accuracy: 0.0262 - precision_24: 0.4985 - recall_24: 0.0465 - f1_score: 0.3285\n",
      "Epoch 10: saving model to models/cnn/raw\\20220506-062923\n",
      "74/74 [==============================] - 1s 8ms/step - loss: 1.4372 - accuracy: 0.0261 - precision_24: 0.4985 - recall_24: 0.0462 - f1_score: 0.3279 - val_loss: 1.2688 - val_accuracy: 1.1311e-04 - val_precision_24: 0.0000e+00 - val_recall_24: 0.0000e+00 - val_f1_score: 0.4394\n",
      "Epoch 11/100\n",
      "74/74 [==============================] - ETA: 0s - loss: 1.4173 - accuracy: 0.0292 - precision_24: 0.5199 - recall_24: 0.0408 - f1_score: 0.3331\n",
      "Epoch 11: saving model to models/cnn/raw\\20220506-062923\n",
      "74/74 [==============================] - 1s 8ms/step - loss: 1.4173 - accuracy: 0.0292 - precision_24: 0.5199 - recall_24: 0.0408 - f1_score: 0.3331 - val_loss: 1.2643 - val_accuracy: 0.0018 - val_precision_24: 0.0000e+00 - val_recall_24: 0.0000e+00 - val_f1_score: 0.4231\n",
      "Epoch 12/100\n",
      "70/74 [===========================>..] - ETA: 0s - loss: 1.4052 - accuracy: 0.0378 - precision_24: 0.4805 - recall_24: 0.0474 - f1_score: 0.3394\n",
      "Epoch 12: saving model to models/cnn/raw\\20220506-062923\n",
      "74/74 [==============================] - 1s 8ms/step - loss: 1.4081 - accuracy: 0.0372 - precision_24: 0.4808 - recall_24: 0.0477 - f1_score: 0.3381 - val_loss: 1.2442 - val_accuracy: 0.0020 - val_precision_24: 0.0000e+00 - val_recall_24: 0.0000e+00 - val_f1_score: 0.4523\n",
      "Epoch 13/100\n",
      "74/74 [==============================] - ETA: 0s - loss: 1.3632 - accuracy: 0.0431 - precision_24: 0.4954 - recall_24: 0.0664 - f1_score: 0.3492\n",
      "Epoch 13: saving model to models/cnn/raw\\20220506-062923\n",
      "74/74 [==============================] - 1s 8ms/step - loss: 1.3632 - accuracy: 0.0431 - precision_24: 0.4954 - recall_24: 0.0664 - f1_score: 0.3492 - val_loss: 1.2196 - val_accuracy: 0.0068 - val_precision_24: 0.5568 - val_recall_24: 0.0333 - val_f1_score: 0.4360\n",
      "Epoch 14/100\n",
      "67/74 [==========================>...] - ETA: 0s - loss: 1.3049 - accuracy: 0.0497 - precision_24: 0.4956 - recall_24: 0.0593 - f1_score: 0.3697\n",
      "Epoch 14: saving model to models/cnn/raw\\20220506-062923\n",
      "74/74 [==============================] - 1s 8ms/step - loss: 1.3034 - accuracy: 0.0500 - precision_24: 0.5046 - recall_24: 0.0594 - f1_score: 0.3678 - val_loss: 1.2063 - val_accuracy: 0.0107 - val_precision_24: 0.3167 - val_recall_24: 0.0064 - val_f1_score: 0.4425\n",
      "Epoch 15/100\n",
      "69/74 [==========================>...] - ETA: 0s - loss: 1.2784 - accuracy: 0.0558 - precision_24: 0.5180 - recall_24: 0.0543 - f1_score: 0.3758\n",
      "Epoch 15: saving model to models/cnn/raw\\20220506-062923\n",
      "74/74 [==============================] - 1s 8ms/step - loss: 1.2794 - accuracy: 0.0562 - precision_24: 0.5123 - recall_24: 0.0540 - f1_score: 0.3750 - val_loss: 1.1820 - val_accuracy: 0.0648 - val_precision_24: 1.0000 - val_recall_24: 3.3933e-04 - val_f1_score: 0.4211\n",
      "Epoch 16/100\n",
      "68/74 [==========================>...] - ETA: 0s - loss: 1.2656 - accuracy: 0.0717 - precision_24: 0.4848 - recall_24: 0.0588 - f1_score: 0.3882\n",
      "Epoch 16: saving model to models/cnn/raw\\20220506-062923\n",
      "74/74 [==============================] - 1s 8ms/step - loss: 1.2664 - accuracy: 0.0713 - precision_24: 0.4892 - recall_24: 0.0586 - f1_score: 0.3887 - val_loss: 1.1679 - val_accuracy: 0.0734 - val_precision_24: 0.4831 - val_recall_24: 0.0146 - val_f1_score: 0.4234\n",
      "Epoch 17/100\n",
      "64/74 [========================>.....] - ETA: 0s - loss: 1.2609 - accuracy: 0.0690 - precision_24: 0.5292 - recall_24: 0.0722 - f1_score: 0.3875\n",
      "Epoch 17: saving model to models/cnn/raw\\20220506-062923\n",
      "74/74 [==============================] - 1s 8ms/step - loss: 1.2588 - accuracy: 0.0695 - precision_24: 0.5299 - recall_24: 0.0724 - f1_score: 0.3862 - val_loss: 1.1407 - val_accuracy: 0.0803 - val_precision_24: 0.6263 - val_recall_24: 0.1001 - val_f1_score: 0.4527\n",
      "Epoch 18/100\n",
      "74/74 [==============================] - ETA: 0s - loss: 1.2455 - accuracy: 0.0743 - precision_24: 0.4876 - recall_24: 0.0639 - f1_score: 0.3912\n",
      "Epoch 18: saving model to models/cnn/raw\\20220506-062923\n",
      "74/74 [==============================] - 1s 8ms/step - loss: 1.2455 - accuracy: 0.0743 - precision_24: 0.4876 - recall_24: 0.0639 - f1_score: 0.3912 - val_loss: 1.1498 - val_accuracy: 0.0978 - val_precision_24: 0.4463 - val_recall_24: 0.0183 - val_f1_score: 0.4411\n",
      "Epoch 19/100\n",
      "73/74 [============================>.] - ETA: 0s - loss: 1.2437 - accuracy: 0.0773 - precision_24: 0.5016 - recall_24: 0.0630 - f1_score: 0.3822\n",
      "Epoch 19: saving model to models/cnn/raw\\20220506-062923\n",
      "74/74 [==============================] - 1s 8ms/step - loss: 1.2438 - accuracy: 0.0773 - precision_24: 0.5005 - recall_24: 0.0628 - f1_score: 0.3828 - val_loss: 1.1378 - val_accuracy: 0.0972 - val_precision_24: 0.3347 - val_recall_24: 0.0278 - val_f1_score: 0.4455\n",
      "Epoch 20/100\n",
      "65/74 [=========================>....] - ETA: 0s - loss: 1.2180 - accuracy: 0.0812 - precision_24: 0.5051 - recall_24: 0.0614 - f1_score: 0.3935\n",
      "Epoch 20: saving model to models/cnn/raw\\20220506-062923\n",
      "74/74 [==============================] - 1s 8ms/step - loss: 1.2174 - accuracy: 0.0821 - precision_24: 0.5165 - recall_24: 0.0638 - f1_score: 0.3955 - val_loss: 1.1161 - val_accuracy: 0.1227 - val_precision_24: 0.6832 - val_recall_24: 0.0747 - val_f1_score: 0.4571\n",
      "Epoch 21/100\n",
      "72/74 [============================>.] - ETA: 0s - loss: 1.2147 - accuracy: 0.0935 - precision_24: 0.4923 - recall_24: 0.0665 - f1_score: 0.4001\n",
      "Epoch 21: saving model to models/cnn/raw\\20220506-062923\n",
      "74/74 [==============================] - 1s 9ms/step - loss: 1.2140 - accuracy: 0.0939 - precision_24: 0.4914 - recall_24: 0.0664 - f1_score: 0.4006 - val_loss: 1.1183 - val_accuracy: 0.1291 - val_precision_24: 0.7500 - val_recall_24: 0.0020 - val_f1_score: 0.4245\n",
      "Epoch 22/100\n",
      "67/74 [==========================>...] - ETA: 0s - loss: 1.2006 - accuracy: 0.0918 - precision_24: 0.5427 - recall_24: 0.0834 - f1_score: 0.4063\n",
      "Epoch 22: saving model to models/cnn/raw\\20220506-062923\n",
      "74/74 [==============================] - 1s 7ms/step - loss: 1.2006 - accuracy: 0.0926 - precision_24: 0.5399 - recall_24: 0.0828 - f1_score: 0.4063 - val_loss: 1.1022 - val_accuracy: 0.1384 - val_precision_24: 0.6459 - val_recall_24: 0.1127 - val_f1_score: 0.4639\n",
      "Epoch 23/100\n",
      "68/74 [==========================>...] - ETA: 0s - loss: 1.1944 - accuracy: 0.0945 - precision_24: 0.5159 - recall_24: 0.0813 - f1_score: 0.4103\n",
      "Epoch 23: saving model to models/cnn/raw\\20220506-062923\n",
      "74/74 [==============================] - 1s 8ms/step - loss: 1.1948 - accuracy: 0.0935 - precision_24: 0.5118 - recall_24: 0.0796 - f1_score: 0.4105 - val_loss: 1.0899 - val_accuracy: 0.1283 - val_precision_24: 0.6033 - val_recall_24: 0.0248 - val_f1_score: 0.4669\n",
      "Epoch 24/100\n",
      "65/74 [=========================>....] - ETA: 0s - loss: 1.1840 - accuracy: 0.1013 - precision_24: 0.5220 - recall_24: 0.0802 - f1_score: 0.4068\n",
      "Epoch 24: saving model to models/cnn/raw\\20220506-062923\n",
      "74/74 [==============================] - 1s 8ms/step - loss: 1.1826 - accuracy: 0.1007 - precision_24: 0.5363 - recall_24: 0.0843 - f1_score: 0.4085 - val_loss: 1.0781 - val_accuracy: 0.1457 - val_precision_24: 0.7159 - val_recall_24: 0.1086 - val_f1_score: 0.4642\n",
      "Epoch 25/100\n",
      "65/74 [=========================>....] - ETA: 0s - loss: 1.1612 - accuracy: 0.1052 - precision_24: 0.5677 - recall_24: 0.1012 - f1_score: 0.4180\n",
      "Epoch 25: saving model to models/cnn/raw\\20220506-062923\n",
      "74/74 [==============================] - 1s 8ms/step - loss: 1.1637 - accuracy: 0.1039 - precision_24: 0.5691 - recall_24: 0.1013 - f1_score: 0.4177 - val_loss: 1.0745 - val_accuracy: 0.1418 - val_precision_24: 0.4714 - val_recall_24: 0.0838 - val_f1_score: 0.4516\n",
      "Epoch 26/100\n",
      "64/74 [========================>.....] - ETA: 0s - loss: 1.1590 - accuracy: 0.1117 - precision_24: 0.5572 - recall_24: 0.1020 - f1_score: 0.4245\n",
      "Epoch 26: saving model to models/cnn/raw\\20220506-062923\n",
      "74/74 [==============================] - 1s 8ms/step - loss: 1.1585 - accuracy: 0.1128 - precision_24: 0.5564 - recall_24: 0.1041 - f1_score: 0.4233 - val_loss: 1.0773 - val_accuracy: 0.1515 - val_precision_24: 0.6918 - val_recall_24: 0.1965 - val_f1_score: 0.4652\n",
      "Epoch 27/100\n",
      "71/74 [===========================>..] - ETA: 0s - loss: 1.1659 - accuracy: 0.1127 - precision_24: 0.5890 - recall_24: 0.1225 - f1_score: 0.4180\n",
      "Epoch 27: saving model to models/cnn/raw\\20220506-062923\n",
      "74/74 [==============================] - 1s 8ms/step - loss: 1.1643 - accuracy: 0.1125 - precision_24: 0.5910 - recall_24: 0.1228 - f1_score: 0.4211 - val_loss: 1.0531 - val_accuracy: 0.1516 - val_precision_24: 0.6887 - val_recall_24: 0.0954 - val_f1_score: 0.4337\n",
      "Epoch 28/100\n",
      "70/74 [===========================>..] - ETA: 0s - loss: 1.1562 - accuracy: 0.1107 - precision_24: 0.5703 - recall_24: 0.1304 - f1_score: 0.4154\n",
      "Epoch 28: saving model to models/cnn/raw\\20220506-062923\n",
      "74/74 [==============================] - 1s 8ms/step - loss: 1.1542 - accuracy: 0.1102 - precision_24: 0.5748 - recall_24: 0.1317 - f1_score: 0.4166 - val_loss: 1.0474 - val_accuracy: 0.1407 - val_precision_24: 0.6577 - val_recall_24: 0.2250 - val_f1_score: 0.4683\n",
      "Epoch 29/100\n",
      "74/74 [==============================] - ETA: 0s - loss: 1.1356 - accuracy: 0.1072 - precision_24: 0.6101 - recall_24: 0.1345 - f1_score: 0.4293\n",
      "Epoch 29: saving model to models/cnn/raw\\20220506-062923\n",
      "74/74 [==============================] - 1s 8ms/step - loss: 1.1356 - accuracy: 0.1072 - precision_24: 0.6101 - recall_24: 0.1345 - f1_score: 0.4293 - val_loss: 1.0600 - val_accuracy: 0.1534 - val_precision_24: 0.5743 - val_recall_24: 0.1259 - val_f1_score: 0.4520\n",
      "Epoch 30/100\n",
      "71/74 [===========================>..] - ETA: 0s - loss: 1.1206 - accuracy: 0.1215 - precision_24: 0.5799 - recall_24: 0.1365 - f1_score: 0.4224\n",
      "Epoch 30: saving model to models/cnn/raw\\20220506-062923\n",
      "74/74 [==============================] - 1s 8ms/step - loss: 1.1208 - accuracy: 0.1214 - precision_24: 0.5771 - recall_24: 0.1359 - f1_score: 0.4208 - val_loss: 1.0363 - val_accuracy: 0.1539 - val_precision_24: 0.6849 - val_recall_24: 0.2338 - val_f1_score: 0.4696\n",
      "Epoch 31/100\n",
      "68/74 [==========================>...] - ETA: 0s - loss: 1.1172 - accuracy: 0.1215 - precision_24: 0.5831 - recall_24: 0.1419 - f1_score: 0.4259\n",
      "Epoch 31: saving model to models/cnn/raw\\20220506-062923\n",
      "74/74 [==============================] - 1s 7ms/step - loss: 1.1157 - accuracy: 0.1227 - precision_24: 0.5857 - recall_24: 0.1440 - f1_score: 0.4268 - val_loss: 1.0349 - val_accuracy: 0.1514 - val_precision_24: 0.5446 - val_recall_24: 0.1615 - val_f1_score: 0.4523\n",
      "Epoch 32/100\n",
      "66/74 [=========================>....] - ETA: 0s - loss: 1.1019 - accuracy: 0.1231 - precision_24: 0.6083 - recall_24: 0.1621 - f1_score: 0.4397\n",
      "Epoch 32: saving model to models/cnn/raw\\20220506-062923\n",
      "74/74 [==============================] - 1s 8ms/step - loss: 1.1019 - accuracy: 0.1228 - precision_24: 0.6070 - recall_24: 0.1613 - f1_score: 0.4365 - val_loss: 1.0200 - val_accuracy: 0.1511 - val_precision_24: 0.7558 - val_recall_24: 0.2195 - val_f1_score: 0.4700\n",
      "Epoch 33/100\n",
      "72/74 [============================>.] - ETA: 0s - loss: 1.1031 - accuracy: 0.1215 - precision_24: 0.6157 - recall_24: 0.1629 - f1_score: 0.4364\n",
      "Epoch 33: saving model to models/cnn/raw\\20220506-062923\n",
      "74/74 [==============================] - 1s 8ms/step - loss: 1.1014 - accuracy: 0.1221 - precision_24: 0.6151 - recall_24: 0.1639 - f1_score: 0.4369 - val_loss: 1.0146 - val_accuracy: 0.1525 - val_precision_24: 0.6947 - val_recall_24: 0.2409 - val_f1_score: 0.4710\n",
      "Epoch 34/100\n",
      "74/74 [==============================] - ETA: 0s - loss: 1.0989 - accuracy: 0.1227 - precision_24: 0.6220 - recall_24: 0.1751 - f1_score: 0.4365\n",
      "Epoch 34: saving model to models/cnn/raw\\20220506-062923\n",
      "74/74 [==============================] - 1s 8ms/step - loss: 1.0989 - accuracy: 0.1227 - precision_24: 0.6220 - recall_24: 0.1751 - f1_score: 0.4365 - val_loss: 1.0197 - val_accuracy: 0.1526 - val_precision_24: 0.5683 - val_recall_24: 0.1907 - val_f1_score: 0.4581\n",
      "Epoch 35/100\n",
      "73/74 [============================>.] - ETA: 0s - loss: 1.0862 - accuracy: 0.1252 - precision_24: 0.6360 - recall_24: 0.1778 - f1_score: 0.4386\n",
      "Epoch 35: saving model to models/cnn/raw\\20220506-062923\n",
      "74/74 [==============================] - 1s 8ms/step - loss: 1.0873 - accuracy: 0.1254 - precision_24: 0.6344 - recall_24: 0.1775 - f1_score: 0.4380 - val_loss: 1.0125 - val_accuracy: 0.1554 - val_precision_24: 0.6774 - val_recall_24: 0.2579 - val_f1_score: 0.4696\n",
      "Epoch 36/100\n",
      "68/74 [==========================>...] - ETA: 0s - loss: 1.0850 - accuracy: 0.1297 - precision_24: 0.6041 - recall_24: 0.1775 - f1_score: 0.4276\n",
      "Epoch 36: saving model to models/cnn/raw\\20220506-062923\n",
      "74/74 [==============================] - 1s 8ms/step - loss: 1.0840 - accuracy: 0.1293 - precision_24: 0.6054 - recall_24: 0.1770 - f1_score: 0.4290 - val_loss: 1.0178 - val_accuracy: 0.1557 - val_precision_24: 0.5713 - val_recall_24: 0.2175 - val_f1_score: 0.4567\n",
      "Epoch 37/100\n",
      "74/74 [==============================] - ETA: 0s - loss: 1.0782 - accuracy: 0.1294 - precision_24: 0.6214 - recall_24: 0.1866 - f1_score: 0.4403\n",
      "Epoch 37: saving model to models/cnn/raw\\20220506-062923\n",
      "74/74 [==============================] - 1s 8ms/step - loss: 1.0782 - accuracy: 0.1294 - precision_24: 0.6214 - recall_24: 0.1866 - f1_score: 0.4403 - val_loss: 1.0063 - val_accuracy: 0.1568 - val_precision_24: 0.6931 - val_recall_24: 0.2552 - val_f1_score: 0.4700\n",
      "Epoch 38/100\n",
      "70/74 [===========================>..] - ETA: 0s - loss: 1.0772 - accuracy: 0.1265 - precision_24: 0.6343 - recall_24: 0.1910 - f1_score: 0.4403\n",
      "Epoch 38: saving model to models/cnn/raw\\20220506-062923\n",
      "74/74 [==============================] - 1s 10ms/step - loss: 1.0770 - accuracy: 0.1272 - precision_24: 0.6327 - recall_24: 0.1900 - f1_score: 0.4403 - val_loss: 1.0061 - val_accuracy: 0.1572 - val_precision_24: 0.7025 - val_recall_24: 0.2525 - val_f1_score: 0.4757\n",
      "Epoch 39/100\n",
      "72/74 [============================>.] - ETA: 0s - loss: 1.0688 - accuracy: 0.1331 - precision_24: 0.6169 - recall_24: 0.1883 - f1_score: 0.4378\n",
      "Epoch 39: saving model to models/cnn/raw\\20220506-062923\n",
      "74/74 [==============================] - 1s 9ms/step - loss: 1.0693 - accuracy: 0.1327 - precision_24: 0.6186 - recall_24: 0.1884 - f1_score: 0.4374 - val_loss: 1.0001 - val_accuracy: 0.1584 - val_precision_24: 0.7898 - val_recall_24: 0.1836 - val_f1_score: 0.5031\n",
      "Epoch 40/100\n",
      "70/74 [===========================>..] - ETA: 0s - loss: 1.0779 - accuracy: 0.1330 - precision_24: 0.6173 - recall_24: 0.1943 - f1_score: 0.4381\n",
      "Epoch 40: saving model to models/cnn/raw\\20220506-062923\n",
      "74/74 [==============================] - 1s 9ms/step - loss: 1.0774 - accuracy: 0.1323 - precision_24: 0.6175 - recall_24: 0.1926 - f1_score: 0.4395 - val_loss: 0.9921 - val_accuracy: 0.1556 - val_precision_24: 0.5764 - val_recall_24: 0.2253 - val_f1_score: 0.4608\n",
      "Epoch 41/100\n",
      "66/74 [=========================>....] - ETA: 0s - loss: 1.0598 - accuracy: 0.1273 - precision_24: 0.6341 - recall_24: 0.1959 - f1_score: 0.4480\n",
      "Epoch 41: saving model to models/cnn/raw\\20220506-062923\n",
      "74/74 [==============================] - 1s 9ms/step - loss: 1.0597 - accuracy: 0.1270 - precision_24: 0.6380 - recall_24: 0.1959 - f1_score: 0.4474 - val_loss: 0.9859 - val_accuracy: 0.1576 - val_precision_24: 0.6712 - val_recall_24: 0.2654 - val_f1_score: 0.4717\n",
      "Epoch 42/100\n",
      "67/74 [==========================>...] - ETA: 0s - loss: 1.0584 - accuracy: 0.1311 - precision_24: 0.6255 - recall_24: 0.1934 - f1_score: 0.4419\n",
      "Epoch 42: saving model to models/cnn/raw\\20220506-062923\n",
      "74/74 [==============================] - 1s 9ms/step - loss: 1.0580 - accuracy: 0.1318 - precision_24: 0.6312 - recall_24: 0.1970 - f1_score: 0.4444 - val_loss: 0.9883 - val_accuracy: 0.1576 - val_precision_24: 0.5805 - val_recall_24: 0.2399 - val_f1_score: 0.4615\n",
      "Epoch 43/100\n",
      "70/74 [===========================>..] - ETA: 0s - loss: 1.0518 - accuracy: 0.1360 - precision_24: 0.6277 - recall_24: 0.2043 - f1_score: 0.4416\n",
      "Epoch 43: saving model to models/cnn/raw\\20220506-062923\n",
      "74/74 [==============================] - 1s 9ms/step - loss: 1.0512 - accuracy: 0.1359 - precision_24: 0.6294 - recall_24: 0.2051 - f1_score: 0.4434 - val_loss: 0.9782 - val_accuracy: 0.1577 - val_precision_24: 0.6820 - val_recall_24: 0.2721 - val_f1_score: 0.4730\n",
      "Epoch 44/100\n",
      "73/74 [============================>.] - ETA: 0s - loss: 1.0457 - accuracy: 0.1350 - precision_24: 0.6365 - recall_24: 0.2079 - f1_score: 0.4459\n",
      "Epoch 44: saving model to models/cnn/raw\\20220506-062923\n",
      "74/74 [==============================] - 1s 9ms/step - loss: 1.0455 - accuracy: 0.1352 - precision_24: 0.6368 - recall_24: 0.2080 - f1_score: 0.4460 - val_loss: 0.9791 - val_accuracy: 0.1585 - val_precision_24: 0.6514 - val_recall_24: 0.2752 - val_f1_score: 0.4717\n",
      "Epoch 45/100\n",
      "71/74 [===========================>..] - ETA: 0s - loss: 1.0384 - accuracy: 0.1389 - precision_24: 0.6417 - recall_24: 0.2134 - f1_score: 0.4517\n",
      "Epoch 45: saving model to models/cnn/raw\\20220506-062923\n",
      "74/74 [==============================] - 1s 9ms/step - loss: 1.0369 - accuracy: 0.1391 - precision_24: 0.6439 - recall_24: 0.2142 - f1_score: 0.4523 - val_loss: 0.9901 - val_accuracy: 0.1627 - val_precision_24: 0.5886 - val_recall_24: 0.2491 - val_f1_score: 0.4584\n",
      "Epoch 46/100\n",
      "68/74 [==========================>...] - ETA: 0s - loss: 1.0314 - accuracy: 0.1395 - precision_24: 0.6408 - recall_24: 0.2175 - f1_score: 0.4515\n",
      "Epoch 46: saving model to models/cnn/raw\\20220506-062923\n",
      "74/74 [==============================] - 1s 9ms/step - loss: 1.0305 - accuracy: 0.1398 - precision_24: 0.6362 - recall_24: 0.2169 - f1_score: 0.4513 - val_loss: 0.9879 - val_accuracy: 0.1624 - val_precision_24: 0.6489 - val_recall_24: 0.2772 - val_f1_score: 0.4717\n",
      "Epoch 47/100\n",
      "71/74 [===========================>..] - ETA: 0s - loss: 1.0375 - accuracy: 0.1396 - precision_24: 0.6347 - recall_24: 0.2210 - f1_score: 0.4503\n",
      "Epoch 47: saving model to models/cnn/raw\\20220506-062923\n",
      "74/74 [==============================] - 1s 9ms/step - loss: 1.0382 - accuracy: 0.1393 - precision_24: 0.6352 - recall_24: 0.2212 - f1_score: 0.4508 - val_loss: 0.9881 - val_accuracy: 0.1599 - val_precision_24: 0.5937 - val_recall_24: 0.2569 - val_f1_score: 0.4595\n",
      "Epoch 48/100\n",
      "73/74 [============================>.] - ETA: 0s - loss: 1.0243 - accuracy: 0.1388 - precision_24: 0.6432 - recall_24: 0.2292 - f1_score: 0.4560\n",
      "Epoch 48: saving model to models/cnn/raw\\20220506-062923\n",
      "74/74 [==============================] - 1s 9ms/step - loss: 1.0247 - accuracy: 0.1389 - precision_24: 0.6422 - recall_24: 0.2288 - f1_score: 0.4561 - val_loss: 0.9757 - val_accuracy: 0.1576 - val_precision_24: 0.5955 - val_recall_24: 0.2592 - val_f1_score: 0.4625\n",
      "Epoch 49/100\n",
      "72/74 [============================>.] - ETA: 0s - loss: 1.0157 - accuracy: 0.1396 - precision_24: 0.6500 - recall_24: 0.2281 - f1_score: 0.4613\n",
      "Epoch 49: saving model to models/cnn/raw\\20220506-062923\n",
      "74/74 [==============================] - 1s 9ms/step - loss: 1.0170 - accuracy: 0.1392 - precision_24: 0.6482 - recall_24: 0.2273 - f1_score: 0.4587 - val_loss: 0.9848 - val_accuracy: 0.1616 - val_precision_24: 0.5859 - val_recall_24: 0.2535 - val_f1_score: 0.4574\n",
      "Epoch 50/100\n",
      "72/74 [============================>.] - ETA: 0s - loss: 1.0120 - accuracy: 0.1407 - precision_24: 0.6385 - recall_24: 0.2269 - f1_score: 0.4567\n",
      "Epoch 50: saving model to models/cnn/raw\\20220506-062923\n",
      "74/74 [==============================] - 1s 9ms/step - loss: 1.0124 - accuracy: 0.1405 - precision_24: 0.6374 - recall_24: 0.2262 - f1_score: 0.4557 - val_loss: 1.0026 - val_accuracy: 0.1617 - val_precision_24: 0.5951 - val_recall_24: 0.2643 - val_f1_score: 0.4605\n",
      "Epoch 51/100\n",
      "67/74 [==========================>...] - ETA: 0s - loss: 1.0272 - accuracy: 0.1415 - precision_24: 0.6448 - recall_24: 0.2287 - f1_score: 0.4578\n",
      "Epoch 51: saving model to models/cnn/raw\\20220506-062923\n",
      "74/74 [==============================] - 1s 9ms/step - loss: 1.0265 - accuracy: 0.1406 - precision_24: 0.6453 - recall_24: 0.2271 - f1_score: 0.4566 - val_loss: 0.9679 - val_accuracy: 0.1594 - val_precision_24: 0.5942 - val_recall_24: 0.2579 - val_f1_score: 0.4639\n",
      "Epoch 52/100\n",
      "66/74 [=========================>....] - ETA: 0s - loss: 1.0167 - accuracy: 0.1421 - precision_24: 0.6473 - recall_24: 0.2264 - f1_score: 0.4594\n",
      "Epoch 52: saving model to models/cnn/raw\\20220506-062923\n",
      "74/74 [==============================] - 1s 9ms/step - loss: 1.0154 - accuracy: 0.1428 - precision_24: 0.6507 - recall_24: 0.2285 - f1_score: 0.4599 - val_loss: 0.9706 - val_accuracy: 0.1557 - val_precision_24: 0.5946 - val_recall_24: 0.2592 - val_f1_score: 0.4645\n",
      "Epoch 53/100\n",
      "71/74 [===========================>..] - ETA: 0s - loss: 1.0142 - accuracy: 0.1387 - precision_24: 0.6437 - recall_24: 0.2275 - f1_score: 0.4544\n",
      "Epoch 53: saving model to models/cnn/raw\\20220506-062923\n",
      "74/74 [==============================] - 1s 9ms/step - loss: 1.0139 - accuracy: 0.1388 - precision_24: 0.6436 - recall_24: 0.2274 - f1_score: 0.4553 - val_loss: 0.9760 - val_accuracy: 0.1600 - val_precision_24: 0.6435 - val_recall_24: 0.2823 - val_f1_score: 0.4727\n",
      "Epoch 54/100\n",
      "65/74 [=========================>....] - ETA: 0s - loss: 1.0112 - accuracy: 0.1410 - precision_24: 0.6311 - recall_24: 0.2314 - f1_score: 0.4523\n",
      "Epoch 54: saving model to models/cnn/raw\\20220506-062923\n",
      "74/74 [==============================] - 1s 9ms/step - loss: 1.0120 - accuracy: 0.1422 - precision_24: 0.6325 - recall_24: 0.2322 - f1_score: 0.4535 - val_loss: 0.9966 - val_accuracy: 0.1614 - val_precision_24: 0.5921 - val_recall_24: 0.2586 - val_f1_score: 0.4598\n",
      "Epoch 55/100\n",
      "73/74 [============================>.] - ETA: 0s - loss: 1.0451 - accuracy: 0.1372 - precision_24: 0.6325 - recall_24: 0.2223 - f1_score: 0.4492\n",
      "Epoch 55: saving model to models/cnn/raw\\20220506-062923\n",
      "74/74 [==============================] - 1s 9ms/step - loss: 1.0449 - accuracy: 0.1373 - precision_24: 0.6331 - recall_24: 0.2225 - f1_score: 0.4491 - val_loss: 0.9809 - val_accuracy: 0.1619 - val_precision_24: 0.7131 - val_recall_24: 0.2901 - val_f1_score: 0.5134\n",
      "Epoch 56/100\n",
      "71/74 [===========================>..] - ETA: 0s - loss: 1.0194 - accuracy: 0.1418 - precision_24: 0.6482 - recall_24: 0.2230 - f1_score: 0.4554\n",
      "Epoch 56: saving model to models/cnn/raw\\20220506-062923\n",
      "74/74 [==============================] - 1s 9ms/step - loss: 1.0188 - accuracy: 0.1413 - precision_24: 0.6505 - recall_24: 0.2237 - f1_score: 0.4563 - val_loss: 0.9632 - val_accuracy: 0.1600 - val_precision_24: 0.6601 - val_recall_24: 0.2854 - val_f1_score: 0.4781\n",
      "Epoch 57/100\n",
      "74/74 [==============================] - ETA: 0s - loss: 0.9982 - accuracy: 0.1448 - precision_24: 0.6445 - recall_24: 0.2284 - f1_score: 0.4608\n",
      "Epoch 57: saving model to models/cnn/raw\\20220506-062923\n",
      "74/74 [==============================] - 1s 10ms/step - loss: 0.9982 - accuracy: 0.1448 - precision_24: 0.6445 - recall_24: 0.2284 - f1_score: 0.4608 - val_loss: 0.9767 - val_accuracy: 0.1607 - val_precision_24: 0.6413 - val_recall_24: 0.2827 - val_f1_score: 0.4754\n",
      "Epoch 58/100\n",
      "66/74 [=========================>....] - ETA: 0s - loss: 1.0082 - accuracy: 0.1439 - precision_24: 0.6487 - recall_24: 0.2350 - f1_score: 0.4636\n",
      "Epoch 58: saving model to models/cnn/raw\\20220506-062923\n",
      "74/74 [==============================] - 1s 9ms/step - loss: 1.0063 - accuracy: 0.1433 - precision_24: 0.6512 - recall_24: 0.2354 - f1_score: 0.4642 - val_loss: 0.9616 - val_accuracy: 0.1590 - val_precision_24: 0.6488 - val_recall_24: 0.2878 - val_f1_score: 0.4764\n",
      "Epoch 59/100\n",
      "70/74 [===========================>..] - ETA: 0s - loss: 0.9949 - accuracy: 0.1435 - precision_24: 0.6473 - recall_24: 0.2351 - f1_score: 0.4623\n",
      "Epoch 59: saving model to models/cnn/raw\\20220506-062923\n",
      "74/74 [==============================] - 1s 8ms/step - loss: 0.9953 - accuracy: 0.1432 - precision_24: 0.6491 - recall_24: 0.2357 - f1_score: 0.4625 - val_loss: 0.9819 - val_accuracy: 0.1592 - val_precision_24: 0.5992 - val_recall_24: 0.2664 - val_f1_score: 0.4642\n",
      "Epoch 60/100\n",
      "66/74 [=========================>....] - ETA: 0s - loss: 0.9985 - accuracy: 0.1460 - precision_24: 0.6530 - recall_24: 0.2347 - f1_score: 0.4639\n",
      "Epoch 60: saving model to models/cnn/raw\\20220506-062923\n",
      "74/74 [==============================] - 1s 9ms/step - loss: 0.9971 - accuracy: 0.1461 - precision_24: 0.6529 - recall_24: 0.2349 - f1_score: 0.4637 - val_loss: 0.9886 - val_accuracy: 0.1614 - val_precision_24: 0.5988 - val_recall_24: 0.2684 - val_f1_score: 0.4639\n",
      "Epoch 61/100\n",
      "71/74 [===========================>..] - ETA: 0s - loss: 1.0024 - accuracy: 0.1454 - precision_24: 0.6378 - recall_24: 0.2413 - f1_score: 0.4562\n",
      "Epoch 61: saving model to models/cnn/raw\\20220506-062923\n",
      "74/74 [==============================] - 1s 8ms/step - loss: 1.0018 - accuracy: 0.1454 - precision_24: 0.6390 - recall_24: 0.2417 - f1_score: 0.4574 - val_loss: 0.9634 - val_accuracy: 0.1593 - val_precision_24: 0.7233 - val_recall_24: 0.3166 - val_f1_score: 0.5175\n",
      "Epoch 62/100\n",
      "74/74 [==============================] - ETA: 0s - loss: 0.9977 - accuracy: 0.1444 - precision_24: 0.6406 - recall_24: 0.2395 - f1_score: 0.4623\n",
      "Epoch 62: saving model to models/cnn/raw\\20220506-062923\n",
      "74/74 [==============================] - 1s 8ms/step - loss: 0.9977 - accuracy: 0.1444 - precision_24: 0.6406 - recall_24: 0.2395 - f1_score: 0.4623 - val_loss: 0.9663 - val_accuracy: 0.1615 - val_precision_24: 0.6374 - val_recall_24: 0.2857 - val_f1_score: 0.4727\n",
      "Epoch 63/100\n",
      "73/74 [============================>.] - ETA: 0s - loss: 0.9941 - accuracy: 0.1479 - precision_24: 0.6511 - recall_24: 0.2414 - f1_score: 0.4632\n",
      "Epoch 63: saving model to models/cnn/raw\\20220506-062923\n",
      "74/74 [==============================] - 1s 8ms/step - loss: 0.9937 - accuracy: 0.1479 - precision_24: 0.6507 - recall_24: 0.2414 - f1_score: 0.4634 - val_loss: 0.9608 - val_accuracy: 0.1619 - val_precision_24: 0.7285 - val_recall_24: 0.3132 - val_f1_score: 0.5232\n",
      "Epoch 64/100\n",
      "73/74 [============================>.] - ETA: 0s - loss: 0.9985 - accuracy: 0.1462 - precision_24: 0.6407 - recall_24: 0.2389 - f1_score: 0.4589\n",
      "Epoch 64: saving model to models/cnn/raw\\20220506-062923\n",
      "74/74 [==============================] - 1s 8ms/step - loss: 0.9990 - accuracy: 0.1459 - precision_24: 0.6415 - recall_24: 0.2390 - f1_score: 0.4597 - val_loss: 0.9498 - val_accuracy: 0.1593 - val_precision_24: 0.6664 - val_recall_24: 0.2888 - val_f1_score: 0.4893\n",
      "Epoch 65/100\n",
      "69/74 [==========================>...] - ETA: 0s - loss: 0.9878 - accuracy: 0.1475 - precision_24: 0.6538 - recall_24: 0.2477 - f1_score: 0.4681\n",
      "Epoch 65: saving model to models/cnn/raw\\20220506-062923\n",
      "74/74 [==============================] - 1s 9ms/step - loss: 0.9880 - accuracy: 0.1474 - precision_24: 0.6505 - recall_24: 0.2469 - f1_score: 0.4660 - val_loss: 0.9535 - val_accuracy: 0.1599 - val_precision_24: 0.6704 - val_recall_24: 0.2864 - val_f1_score: 0.4934\n",
      "Epoch 66/100\n",
      "68/74 [==========================>...] - ETA: 0s - loss: 0.9870 - accuracy: 0.1473 - precision_24: 0.6597 - recall_24: 0.2506 - f1_score: 0.4688\n",
      "Epoch 66: saving model to models/cnn/raw\\20220506-062923\n",
      "74/74 [==============================] - 1s 9ms/step - loss: 0.9863 - accuracy: 0.1473 - precision_24: 0.6580 - recall_24: 0.2504 - f1_score: 0.4668 - val_loss: 0.9558 - val_accuracy: 0.1604 - val_precision_24: 0.6947 - val_recall_24: 0.3027 - val_f1_score: 0.5080\n",
      "Epoch 67/100\n",
      "71/74 [===========================>..] - ETA: 0s - loss: 0.9780 - accuracy: 0.1482 - precision_24: 0.6499 - recall_24: 0.2497 - f1_score: 0.4639\n",
      "Epoch 67: saving model to models/cnn/raw\\20220506-062923\n",
      "74/74 [==============================] - 1s 9ms/step - loss: 0.9788 - accuracy: 0.1490 - precision_24: 0.6471 - recall_24: 0.2484 - f1_score: 0.4640 - val_loss: 0.9800 - val_accuracy: 0.1627 - val_precision_24: 0.5998 - val_recall_24: 0.2711 - val_f1_score: 0.4649\n",
      "Epoch 68/100\n",
      "66/74 [=========================>....] - ETA: 0s - loss: 0.9864 - accuracy: 0.1481 - precision_24: 0.6440 - recall_24: 0.2467 - f1_score: 0.4664\n",
      "Epoch 68: saving model to models/cnn/raw\\20220506-062923\n",
      "74/74 [==============================] - 1s 10ms/step - loss: 0.9857 - accuracy: 0.1471 - precision_24: 0.6477 - recall_24: 0.2481 - f1_score: 0.4646 - val_loss: 0.9816 - val_accuracy: 0.1620 - val_precision_24: 0.6409 - val_recall_24: 0.2864 - val_f1_score: 0.4747\n",
      "Epoch 69/100\n",
      "66/74 [=========================>....] - ETA: 0s - loss: 0.9829 - accuracy: 0.1469 - precision_24: 0.6336 - recall_24: 0.2455 - f1_score: 0.4565\n",
      "Epoch 69: saving model to models/cnn/raw\\20220506-062923\n",
      "74/74 [==============================] - 1s 9ms/step - loss: 0.9828 - accuracy: 0.1471 - precision_24: 0.6335 - recall_24: 0.2440 - f1_score: 0.4593 - val_loss: 0.9650 - val_accuracy: 0.1611 - val_precision_24: 0.6950 - val_recall_24: 0.3084 - val_f1_score: 0.5063\n",
      "Epoch 70/100\n",
      "67/74 [==========================>...] - ETA: 0s - loss: 0.9859 - accuracy: 0.1479 - precision_24: 0.6531 - recall_24: 0.2476 - f1_score: 0.4648\n",
      "Epoch 70: saving model to models/cnn/raw\\20220506-062923\n",
      "74/74 [==============================] - 1s 9ms/step - loss: 0.9863 - accuracy: 0.1476 - precision_24: 0.6536 - recall_24: 0.2474 - f1_score: 0.4645 - val_loss: 0.9828 - val_accuracy: 0.1616 - val_precision_24: 0.7421 - val_recall_24: 0.3339 - val_f1_score: 0.5287\n",
      "Epoch 71/100\n",
      "69/74 [==========================>...] - ETA: 0s - loss: 0.9828 - accuracy: 0.1487 - precision_24: 0.6304 - recall_24: 0.2445 - f1_score: 0.4612\n",
      "Epoch 71: saving model to models/cnn/raw\\20220506-062923\n",
      "74/74 [==============================] - 1s 8ms/step - loss: 0.9824 - accuracy: 0.1489 - precision_24: 0.6304 - recall_24: 0.2452 - f1_score: 0.4611 - val_loss: 1.0000 - val_accuracy: 0.1632 - val_precision_24: 0.6867 - val_recall_24: 0.3020 - val_f1_score: 0.5005\n",
      "Epoch 72/100\n",
      "74/74 [==============================] - ETA: 0s - loss: 0.9824 - accuracy: 0.1472 - precision_24: 0.6597 - recall_24: 0.2518 - f1_score: 0.4703\n",
      "Epoch 72: saving model to models/cnn/raw\\20220506-062923\n",
      "74/74 [==============================] - 1s 9ms/step - loss: 0.9824 - accuracy: 0.1472 - precision_24: 0.6597 - recall_24: 0.2518 - f1_score: 0.4703 - val_loss: 0.9629 - val_accuracy: 0.1599 - val_precision_24: 0.6042 - val_recall_24: 0.2755 - val_f1_score: 0.4652\n",
      "Epoch 73/100\n",
      "74/74 [==============================] - ETA: 0s - loss: 0.9672 - accuracy: 0.1490 - precision_24: 0.6483 - recall_24: 0.2480 - f1_score: 0.4660\n",
      "Epoch 73: saving model to models/cnn/raw\\20220506-062923\n",
      "74/74 [==============================] - 1s 9ms/step - loss: 0.9672 - accuracy: 0.1490 - precision_24: 0.6483 - recall_24: 0.2480 - f1_score: 0.4660 - val_loss: 0.9522 - val_accuracy: 0.1615 - val_precision_24: 0.6062 - val_recall_24: 0.2742 - val_f1_score: 0.4656\n",
      "Epoch 74/100\n",
      "66/74 [=========================>....] - ETA: 0s - loss: 0.9817 - accuracy: 0.1493 - precision_24: 0.6480 - recall_24: 0.2488 - f1_score: 0.4674\n",
      "Epoch 74: saving model to models/cnn/raw\\20220506-062923\n",
      "74/74 [==============================] - 1s 9ms/step - loss: 0.9820 - accuracy: 0.1493 - precision_24: 0.6477 - recall_24: 0.2493 - f1_score: 0.4667 - val_loss: 0.9567 - val_accuracy: 0.1600 - val_precision_24: 0.6067 - val_recall_24: 0.2759 - val_f1_score: 0.4693\n",
      "Epoch 75/100\n",
      "72/74 [============================>.] - ETA: 0s - loss: 0.9769 - accuracy: 0.1488 - precision_24: 0.6381 - recall_24: 0.2496 - f1_score: 0.4642\n",
      "Epoch 75: saving model to models/cnn/raw\\20220506-062923\n",
      "74/74 [==============================] - 1s 9ms/step - loss: 0.9763 - accuracy: 0.1491 - precision_24: 0.6380 - recall_24: 0.2493 - f1_score: 0.4642 - val_loss: 0.9453 - val_accuracy: 0.1604 - val_precision_24: 0.6530 - val_recall_24: 0.2874 - val_f1_score: 0.4866\n",
      "Epoch 76/100\n",
      "66/74 [=========================>....] - ETA: 0s - loss: 0.9664 - accuracy: 0.1495 - precision_24: 0.6525 - recall_24: 0.2518 - f1_score: 0.4679\n",
      "Epoch 76: saving model to models/cnn/raw\\20220506-062923\n",
      "74/74 [==============================] - 1s 9ms/step - loss: 0.9652 - accuracy: 0.1501 - precision_24: 0.6479 - recall_24: 0.2530 - f1_score: 0.4676 - val_loss: 0.9562 - val_accuracy: 0.1607 - val_precision_24: 0.6733 - val_recall_24: 0.2993 - val_f1_score: 0.4971\n",
      "Epoch 77/100\n",
      "74/74 [==============================] - ETA: 0s - loss: 0.9651 - accuracy: 0.1496 - precision_24: 0.6652 - recall_24: 0.2618 - f1_score: 0.4739\n",
      "Epoch 77: saving model to models/cnn/raw\\20220506-062923\n",
      "74/74 [==============================] - 1s 9ms/step - loss: 0.9651 - accuracy: 0.1496 - precision_24: 0.6652 - recall_24: 0.2618 - f1_score: 0.4739 - val_loss: 0.9707 - val_accuracy: 0.1625 - val_precision_24: 0.6497 - val_recall_24: 0.2857 - val_f1_score: 0.4859\n",
      "Epoch 78/100\n",
      "67/74 [==========================>...] - ETA: 0s - loss: 0.9703 - accuracy: 0.1529 - precision_24: 0.6614 - recall_24: 0.2618 - f1_score: 0.4707\n",
      "Epoch 78: saving model to models/cnn/raw\\20220506-062923\n",
      "74/74 [==============================] - 1s 9ms/step - loss: 0.9749 - accuracy: 0.1504 - precision_24: 0.6606 - recall_24: 0.2582 - f1_score: 0.4709 - val_loss: 0.9581 - val_accuracy: 0.1604 - val_precision_24: 0.7595 - val_recall_24: 0.3376 - val_f1_score: 0.5361\n",
      "Epoch 79/100\n",
      "67/74 [==========================>...] - ETA: 0s - loss: 0.9558 - accuracy: 0.1491 - precision_24: 0.6499 - recall_24: 0.2543 - f1_score: 0.4697\n",
      "Epoch 79: saving model to models/cnn/raw\\20220506-062923\n",
      "74/74 [==============================] - 1s 9ms/step - loss: 0.9576 - accuracy: 0.1491 - precision_24: 0.6524 - recall_24: 0.2558 - f1_score: 0.4697 - val_loss: 0.9714 - val_accuracy: 0.1626 - val_precision_24: 0.6980 - val_recall_24: 0.3146 - val_f1_score: 0.5093\n",
      "Epoch 80/100\n",
      "66/74 [=========================>....] - ETA: 0s - loss: 0.9587 - accuracy: 0.1515 - precision_24: 0.6636 - recall_24: 0.2609 - f1_score: 0.4727\n",
      "Epoch 80: saving model to models/cnn/raw\\20220506-062923\n",
      "74/74 [==============================] - 1s 8ms/step - loss: 0.9610 - accuracy: 0.1515 - precision_24: 0.6596 - recall_24: 0.2597 - f1_score: 0.4725 - val_loss: 0.9717 - val_accuracy: 0.1601 - val_precision_24: 0.6040 - val_recall_24: 0.2769 - val_f1_score: 0.4673\n",
      "Epoch 81/100\n",
      "66/74 [=========================>....] - ETA: 0s - loss: 0.9594 - accuracy: 0.1493 - precision_24: 0.6679 - recall_24: 0.2648 - f1_score: 0.4745\n",
      "Epoch 81: saving model to models/cnn/raw\\20220506-062923\n",
      "74/74 [==============================] - 1s 9ms/step - loss: 0.9619 - accuracy: 0.1507 - precision_24: 0.6628 - recall_24: 0.2636 - f1_score: 0.4732 - val_loss: 1.0050 - val_accuracy: 0.1633 - val_precision_24: 0.6043 - val_recall_24: 0.2772 - val_f1_score: 0.4652\n",
      "Epoch 82/100\n",
      "73/74 [============================>.] - ETA: 0s - loss: 0.9653 - accuracy: 0.1508 - precision_24: 0.6554 - recall_24: 0.2571 - f1_score: 0.4707\n",
      "Epoch 82: saving model to models/cnn/raw\\20220506-062923\n",
      "74/74 [==============================] - 1s 9ms/step - loss: 0.9646 - accuracy: 0.1506 - precision_24: 0.6565 - recall_24: 0.2579 - f1_score: 0.4713 - val_loss: 0.9573 - val_accuracy: 0.1614 - val_precision_24: 0.7446 - val_recall_24: 0.3403 - val_f1_score: 0.5324\n",
      "Epoch 83/100\n",
      "67/74 [==========================>...] - ETA: 0s - loss: 0.9636 - accuracy: 0.1526 - precision_24: 0.6539 - recall_24: 0.2594 - f1_score: 0.4701\n",
      "Epoch 83: saving model to models/cnn/raw\\20220506-062923\n",
      "74/74 [==============================] - 1s 8ms/step - loss: 0.9626 - accuracy: 0.1513 - precision_24: 0.6567 - recall_24: 0.2602 - f1_score: 0.4716 - val_loss: 0.9740 - val_accuracy: 0.1631 - val_precision_24: 0.7414 - val_recall_24: 0.3366 - val_f1_score: 0.5273\n",
      "Epoch 84/100\n",
      "66/74 [=========================>....] - ETA: 0s - loss: 0.9568 - accuracy: 0.1512 - precision_24: 0.6456 - recall_24: 0.2597 - f1_score: 0.4689\n",
      "Epoch 84: saving model to models/cnn/raw\\20220506-062923\n",
      "74/74 [==============================] - 1s 9ms/step - loss: 0.9578 - accuracy: 0.1514 - precision_24: 0.6482 - recall_24: 0.2599 - f1_score: 0.4697 - val_loss: 0.9615 - val_accuracy: 0.1621 - val_precision_24: 0.6592 - val_recall_24: 0.2901 - val_f1_score: 0.4930\n",
      "Epoch 85/100\n",
      "73/74 [============================>.] - ETA: 0s - loss: 0.9729 - accuracy: 0.1517 - precision_24: 0.6444 - recall_24: 0.2542 - f1_score: 0.4647\n",
      "Epoch 85: saving model to models/cnn/raw\\20220506-062923\n",
      "74/74 [==============================] - 1s 10ms/step - loss: 0.9726 - accuracy: 0.1517 - precision_24: 0.6444 - recall_24: 0.2544 - f1_score: 0.4649 - val_loss: 0.9683 - val_accuracy: 0.1608 - val_precision_24: 0.6012 - val_recall_24: 0.2742 - val_f1_score: 0.4659\n",
      "Epoch 86/100\n",
      "70/74 [===========================>..] - ETA: 0s - loss: 0.9643 - accuracy: 0.1538 - precision_24: 0.6526 - recall_24: 0.2579 - f1_score: 0.4691\n",
      "Epoch 86: saving model to models/cnn/raw\\20220506-062923\n",
      "74/74 [==============================] - 1s 10ms/step - loss: 0.9628 - accuracy: 0.1534 - precision_24: 0.6536 - recall_24: 0.2579 - f1_score: 0.4697 - val_loss: 0.9922 - val_accuracy: 0.1653 - val_precision_24: 0.7433 - val_recall_24: 0.3370 - val_f1_score: 0.5277\n",
      "Epoch 87/100\n",
      "69/74 [==========================>...] - ETA: 0s - loss: 0.9659 - accuracy: 0.1533 - precision_24: 0.6520 - recall_24: 0.2620 - f1_score: 0.4729\n",
      "Epoch 87: saving model to models/cnn/raw\\20220506-062923\n",
      "74/74 [==============================] - 1s 9ms/step - loss: 0.9656 - accuracy: 0.1511 - precision_24: 0.6548 - recall_24: 0.2609 - f1_score: 0.4714 - val_loss: 0.9616 - val_accuracy: 0.1622 - val_precision_24: 0.7483 - val_recall_24: 0.3390 - val_f1_score: 0.5334\n",
      "Epoch 88/100\n",
      "66/74 [=========================>....] - ETA: 0s - loss: 0.9715 - accuracy: 0.1511 - precision_24: 0.6627 - recall_24: 0.2635 - f1_score: 0.4767\n",
      "Epoch 88: saving model to models/cnn/raw\\20220506-062923\n",
      "74/74 [==============================] - 1s 9ms/step - loss: 0.9724 - accuracy: 0.1502 - precision_24: 0.6597 - recall_24: 0.2610 - f1_score: 0.4731 - val_loss: 0.9707 - val_accuracy: 0.1650 - val_precision_24: 0.5943 - val_recall_24: 0.2704 - val_f1_score: 0.4615\n",
      "Epoch 89/100\n",
      "74/74 [==============================] - ETA: 0s - loss: 0.9728 - accuracy: 0.1522 - precision_24: 0.6692 - recall_24: 0.2625 - f1_score: 0.4742\n",
      "Epoch 89: saving model to models/cnn/raw\\20220506-062923\n",
      "74/74 [==============================] - 1s 9ms/step - loss: 0.9728 - accuracy: 0.1522 - precision_24: 0.6692 - recall_24: 0.2625 - f1_score: 0.4742 - val_loss: 0.9623 - val_accuracy: 0.1629 - val_precision_24: 0.6568 - val_recall_24: 0.2864 - val_f1_score: 0.4907\n",
      "Epoch 90/100\n",
      "71/74 [===========================>..] - ETA: 0s - loss: 0.9528 - accuracy: 0.1556 - precision_24: 0.6633 - recall_24: 0.2628 - f1_score: 0.4777\n",
      "Epoch 90: saving model to models/cnn/raw\\20220506-062923\n",
      "74/74 [==============================] - 1s 9ms/step - loss: 0.9520 - accuracy: 0.1554 - precision_24: 0.6627 - recall_24: 0.2632 - f1_score: 0.4774 - val_loss: 0.9612 - val_accuracy: 0.1613 - val_precision_24: 0.6057 - val_recall_24: 0.2762 - val_f1_score: 0.4676\n",
      "Epoch 91/100\n",
      "74/74 [==============================] - ETA: 0s - loss: 0.9537 - accuracy: 0.1552 - precision_24: 0.6720 - recall_24: 0.2686 - f1_score: 0.4792\n",
      "Epoch 91: saving model to models/cnn/raw\\20220506-062923\n",
      "74/74 [==============================] - 1s 9ms/step - loss: 0.9537 - accuracy: 0.1552 - precision_24: 0.6720 - recall_24: 0.2686 - f1_score: 0.4792 - val_loss: 0.9804 - val_accuracy: 0.1627 - val_precision_24: 0.6500 - val_recall_24: 0.2918 - val_f1_score: 0.4880\n",
      "Epoch 92/100\n",
      "66/74 [=========================>....] - ETA: 0s - loss: 0.9505 - accuracy: 0.1555 - precision_24: 0.6550 - recall_24: 0.2658 - f1_score: 0.4777\n",
      "Epoch 92: saving model to models/cnn/raw\\20220506-062923\n",
      "74/74 [==============================] - 1s 9ms/step - loss: 0.9512 - accuracy: 0.1555 - precision_24: 0.6497 - recall_24: 0.2633 - f1_score: 0.4739 - val_loss: 0.9770 - val_accuracy: 0.1618 - val_precision_24: 0.6443 - val_recall_24: 0.2901 - val_f1_score: 0.4835\n",
      "Epoch 93/100\n",
      "67/74 [==========================>...] - ETA: 0s - loss: 0.9533 - accuracy: 0.1549 - precision_24: 0.6494 - recall_24: 0.2631 - f1_score: 0.4722\n",
      "Epoch 93: saving model to models/cnn/raw\\20220506-062923\n",
      "74/74 [==============================] - 1s 9ms/step - loss: 0.9535 - accuracy: 0.1543 - precision_24: 0.6463 - recall_24: 0.2607 - f1_score: 0.4699 - val_loss: 0.9638 - val_accuracy: 0.1617 - val_precision_24: 0.6900 - val_recall_24: 0.3173 - val_f1_score: 0.5059\n",
      "Epoch 94/100\n",
      "71/74 [===========================>..] - ETA: 0s - loss: 0.9422 - accuracy: 0.1535 - precision_24: 0.6588 - recall_24: 0.2700 - f1_score: 0.4756\n",
      "Epoch 94: saving model to models/cnn/raw\\20220506-062923\n",
      "74/74 [==============================] - 1s 9ms/step - loss: 0.9434 - accuracy: 0.1541 - precision_24: 0.6594 - recall_24: 0.2704 - f1_score: 0.4755 - val_loss: 0.9867 - val_accuracy: 0.1636 - val_precision_24: 0.6687 - val_recall_24: 0.3034 - val_f1_score: 0.4964\n",
      "Epoch 95/100\n",
      "65/74 [=========================>....] - ETA: 0s - loss: 0.9557 - accuracy: 0.1555 - precision_24: 0.6439 - recall_24: 0.2606 - f1_score: 0.4660\n",
      "Epoch 95: saving model to models/cnn/raw\\20220506-062923\n",
      "74/74 [==============================] - 1s 9ms/step - loss: 0.9557 - accuracy: 0.1543 - precision_24: 0.6474 - recall_24: 0.2617 - f1_score: 0.4687 - val_loss: 0.9354 - val_accuracy: 0.1612 - val_precision_24: 0.6555 - val_recall_24: 0.2911 - val_f1_score: 0.4913\n",
      "Epoch 96/100\n",
      "72/74 [============================>.] - ETA: 0s - loss: 0.9509 - accuracy: 0.1526 - precision_24: 0.6546 - recall_24: 0.2656 - f1_score: 0.4751\n",
      "Epoch 96: saving model to models/cnn/raw\\20220506-062923\n",
      "74/74 [==============================] - 1s 9ms/step - loss: 0.9516 - accuracy: 0.1526 - precision_24: 0.6522 - recall_24: 0.2640 - f1_score: 0.4736 - val_loss: 0.9888 - val_accuracy: 0.1631 - val_precision_24: 0.6034 - val_recall_24: 0.2782 - val_f1_score: 0.4656\n",
      "Epoch 97/100\n",
      "72/74 [============================>.] - ETA: 0s - loss: 0.9477 - accuracy: 0.1543 - precision_24: 0.6652 - recall_24: 0.2696 - f1_score: 0.4764\n",
      "Epoch 97: saving model to models/cnn/raw\\20220506-062923\n",
      "74/74 [==============================] - 1s 9ms/step - loss: 0.9485 - accuracy: 0.1542 - precision_24: 0.6648 - recall_24: 0.2695 - f1_score: 0.4759 - val_loss: 0.9504 - val_accuracy: 0.1619 - val_precision_24: 0.7049 - val_recall_24: 0.3210 - val_f1_score: 0.5110\n",
      "Epoch 98/100\n",
      "66/74 [=========================>....] - ETA: 0s - loss: 0.9520 - accuracy: 0.1533 - precision_24: 0.6518 - recall_24: 0.2648 - f1_score: 0.4733\n",
      "Epoch 98: saving model to models/cnn/raw\\20220506-062923\n",
      "74/74 [==============================] - 1s 9ms/step - loss: 0.9486 - accuracy: 0.1537 - precision_24: 0.6553 - recall_24: 0.2677 - f1_score: 0.4737 - val_loss: 0.9765 - val_accuracy: 0.1622 - val_precision_24: 0.6040 - val_recall_24: 0.2789 - val_f1_score: 0.4662\n",
      "Epoch 99/100\n",
      "66/74 [=========================>....] - ETA: 0s - loss: 0.9433 - accuracy: 0.1559 - precision_24: 0.6508 - recall_24: 0.2668 - f1_score: 0.4742\n",
      "Epoch 99: saving model to models/cnn/raw\\20220506-062923\n",
      "74/74 [==============================] - 1s 9ms/step - loss: 0.9439 - accuracy: 0.1545 - precision_24: 0.6556 - recall_24: 0.2667 - f1_score: 0.4750 - val_loss: 0.9582 - val_accuracy: 0.1607 - val_precision_24: 0.6755 - val_recall_24: 0.3044 - val_f1_score: 0.4988\n",
      "Epoch 100/100\n",
      "66/74 [=========================>....] - ETA: 0s - loss: 0.9446 - accuracy: 0.1529 - precision_24: 0.6681 - recall_24: 0.2736 - f1_score: 0.4814\n",
      "Epoch 100: saving model to models/cnn/raw\\20220506-062923\n",
      "74/74 [==============================] - 1s 9ms/step - loss: 0.9463 - accuracy: 0.1533 - precision_24: 0.6631 - recall_24: 0.2709 - f1_score: 0.4781 - val_loss: 1.0008 - val_accuracy: 0.1628 - val_precision_24: 0.7318 - val_recall_24: 0.3380 - val_f1_score: 0.5246\n"
     ]
    }
   ],
   "source": [
    "log_dir = \"logs/fit/cnn/raw/\" + datetime.datetime.now().strftime(\"%Y%m%d-%H%M%S\")\n",
    "cnn_tensorboard_callback = TensorBoard(log_dir=log_dir, histogram_freq=1)\n",
    "\n",
    "checkpoint_path = \"models/cnn/raw/\" + datetime.datetime.now().strftime(\"%Y%m%d-%H%M%S\")\n",
    "checkpoint_dir = os.path.dirname(checkpoint_path)\n",
    "\n",
    "# Create a callback that saves the model's weights\n",
    "checkpoint_callback = tf.keras.callbacks.ModelCheckpoint(filepath=checkpoint_path,\n",
    "                                                 save_weights_only=True,\n",
    "                                                 verbose=1)\n",
    "\n",
    "cnnhistory = cnn.fit(X_xyz_norm_train, y_ohe_train, epochs=100, batch_size = 100, validation_data=(X_xyz_norm_test, y_ohe_test),callbacks=[cnn_tensorboard_callback,checkpoint_callback])"
   ]
  },
  {
   "cell_type": "code",
   "execution_count": 181,
   "id": "3e6e8c1b-dd62-48e7-b994-9e32aaeea62d",
   "metadata": {
    "tags": []
   },
   "outputs": [],
   "source": [
    "# %tensorboard --logdir logs/fit/cnn/raw"
   ]
  },
  {
   "cell_type": "markdown",
   "id": "a63c1e2a-fd4e-4074-9bb0-9883dceeb29b",
   "metadata": {},
   "source": [
    "To run tensorboard in the CLI use command ```tensorboard --logdir logs/fit/cnn/raw```"
   ]
  },
  {
   "cell_type": "code",
   "execution_count": null,
   "id": "6e1b2fec",
   "metadata": {
    "jupyter": {
     "source_hidden": true
    },
    "tags": []
   },
   "outputs": [],
   "source": [
    "# loss_values = cnnhistory.history['loss']\n",
    "# epochs = range(1, len(loss_values)+1)\n",
    "\n",
    "# plt.plot(epochs, loss_values, label='Training Loss')\n",
    "# plt.xlabel('Epochs')\n",
    "# plt.ylabel('Loss')\n",
    "# plt.legend()\n",
    "\n",
    "# plt.show()"
   ]
  },
  {
   "cell_type": "code",
   "execution_count": 149,
   "id": "3ec887f3",
   "metadata": {
    "jupyter": {
     "source_hidden": true
    },
    "tags": []
   },
   "outputs": [],
   "source": [
    "# acc_values = cnnhistory.history['accuracy']\n",
    "# epochs = range(1, len(loss_values)+1)\n",
    "\n",
    "# plt.plot(epochs, acc_values, label='Training Accuracy')\n",
    "# plt.xlabel('Epochs')\n",
    "# plt.ylabel('Accuracy')\n",
    "# plt.legend()\n",
    "\n",
    "# plt.show()"
   ]
  },
  {
   "cell_type": "code",
   "execution_count": 182,
   "id": "4dc015f9",
   "metadata": {},
   "outputs": [
    {
     "name": "stdout",
     "output_type": "stream",
     "text": [
      "[5 5 5 ... 1 1 1]\n",
      "[4. 4. 4. ... 1. 1. 1.]\n"
     ]
    },
    {
     "data": {
      "text/plain": [
       "<sklearn.metrics._plot.confusion_matrix.ConfusionMatrixDisplay at 0x2748fb94af0>"
      ]
     },
     "execution_count": 182,
     "metadata": {},
     "output_type": "execute_result"
    },
    {
     "data": {
      "image/png": "[encoded data removed]",
      "text/plain": [
       "<Figure size 432x288 with 2 Axes>"
      ]
     },
     "metadata": {
      "needs_background": "light"
     },
     "output_type": "display_data"
    },
    {
     "data": {
      "image/png": "[encoded data removed]",
      "text/plain": [
       "<Figure size 432x288 with 2 Axes>"
      ]
     },
     "metadata": {
      "needs_background": "light"
     },
     "output_type": "display_data"
    }
   ],
   "source": [
    "y_pred = np.argmax(cnn.predict(X_xyz_norm_test),axis=1)\n",
    "print(y_pred)\n",
    "# print(y_pred.shape)\n",
    "# y_test_1D = np.argmax(y_test, axis=1).T[0]\n",
    "# print(type(y_test_1D))\n",
    "print(y_test)\n",
    "# print(y_test_1D.shape)\n",
    "conf = ConfusionMatrixDisplay.from_predictions(y_test,y_pred)\n",
    "conf.plot()"
   ]
  },
  {
   "cell_type": "markdown",
   "id": "0d7ebd16-052c-431e-b68c-7ef48e05759d",
   "metadata": {},
   "source": [
    "## CNN for Wavelet Data (Everything after this point is not implemented yet)"
   ]
  },
  {
   "cell_type": "code",
   "execution_count": 183,
   "id": "b5071bcf-d233-40d0-9afa-181b942d50f2",
   "metadata": {},
   "outputs": [
    {
     "name": "stdout",
     "output_type": "stream",
     "text": [
      "(128,)\n"
     ]
    }
   ],
   "source": [
    "input_shape_cnn_wave = X_xyz_norm_train_wave.shape[1:]\n",
    "print(input_shape_cnn_wave)"
   ]
  },
  {
   "cell_type": "code",
   "execution_count": 184,
   "id": "c426f924-1a2b-4525-9d98-ae44b90aed71",
   "metadata": {},
   "outputs": [
    {
     "data": {
      "text/plain": [
       "array([[0.46497809, 0.46056655, 0.40328126, ..., 0.01841033, 0.03108204,\n",
       "        0.05733563],\n",
       "       [0.28809958, 0.27120431, 0.27913218, ..., 0.04833091, 0.06211145,\n",
       "        0.06126569],\n",
       "       [0.11004671, 0.08830186, 0.05559407, ..., 0.13230104, 0.13193443,\n",
       "        0.13573401],\n",
       "       ...,\n",
       "       [2.35307348, 2.69820664, 2.88168575, ..., 1.77236511, 1.74065471,\n",
       "        2.23211901],\n",
       "       [2.76421729, 3.04361971, 3.42086075, ..., 2.29477835, 2.60264385,\n",
       "        2.74023814],\n",
       "       [2.16760845, 2.21070024, 2.98753595, ..., 2.03165587, 1.64946923,\n",
       "        1.45769199]])"
      ]
     },
     "execution_count": 184,
     "metadata": {},
     "output_type": "execute_result"
    }
   ],
   "source": [
    " X_xyz_norm_train_wave"
   ]
  },
  {
   "cell_type": "code",
   "execution_count": 185,
   "id": "3aade591-5809-4944-bfab-dd1f75f82b64",
   "metadata": {},
   "outputs": [
    {
     "ename": "ValueError",
     "evalue": "Input 0 of layer \"conv1d_40\" is incompatible with the layer: expected min_ndim=3, found ndim=2. Full shape received: (None, 128)",
     "output_type": "error",
     "traceback": [
      "\u001b[1;31m---------------------------------------------------------------------------\u001b[0m",
      "\u001b[1;31mValueError\u001b[0m                                Traceback (most recent call last)",
      "Input \u001b[1;32mIn [185]\u001b[0m, in \u001b[0;36m<cell line: 2>\u001b[1;34m()\u001b[0m\n\u001b[0;32m      1\u001b[0m wavecnn \u001b[38;5;241m=\u001b[39m models\u001b[38;5;241m.\u001b[39mSequential()\n\u001b[1;32m----> 2\u001b[0m \u001b[43mwavecnn\u001b[49m\u001b[38;5;241;43m.\u001b[39;49m\u001b[43madd\u001b[49m\u001b[43m(\u001b[49m\u001b[43mlayers\u001b[49m\u001b[38;5;241;43m.\u001b[39;49m\u001b[43mConv1D\u001b[49m\u001b[43m(\u001b[49m\u001b[43mfilters\u001b[49m\u001b[38;5;241;43m=\u001b[39;49m\u001b[38;5;241;43m32\u001b[39;49m\u001b[43m,\u001b[49m\u001b[43m \u001b[49m\u001b[43mkernel_size\u001b[49m\u001b[38;5;241;43m=\u001b[39;49m\u001b[38;5;241;43m3\u001b[39;49m\u001b[43m,\u001b[49m\u001b[43m \u001b[49m\u001b[43mactivation\u001b[49m\u001b[38;5;241;43m=\u001b[39;49m\u001b[38;5;124;43m'\u001b[39;49m\u001b[38;5;124;43mrelu\u001b[39;49m\u001b[38;5;124;43m'\u001b[39;49m\u001b[43m,\u001b[49m\u001b[43m \u001b[49m\u001b[43minput_shape\u001b[49m\u001b[38;5;241;43m=\u001b[39;49m\u001b[43minput_shape_cnn_wave\u001b[49m\u001b[43m)\u001b[49m\u001b[43m)\u001b[49m\n\u001b[0;32m      3\u001b[0m \u001b[38;5;66;03m# cnn.add(layers.AveragePooling1D(pool_size=2))\u001b[39;00m\n\u001b[0;32m      4\u001b[0m wavecnn\u001b[38;5;241m.\u001b[39madd(layers\u001b[38;5;241m.\u001b[39mFlatten())\n",
      "File \u001b[1;32m~\\Desktop\\Personal\\code\\Tensorflow-Time-Series\\tf-timeseries-env\\lib\\site-packages\\tensorflow\\python\\training\\tracking\\base.py:629\u001b[0m, in \u001b[0;36mno_automatic_dependency_tracking.<locals>._method_wrapper\u001b[1;34m(self, *args, **kwargs)\u001b[0m\n\u001b[0;32m    627\u001b[0m \u001b[38;5;28mself\u001b[39m\u001b[38;5;241m.\u001b[39m_self_setattr_tracking \u001b[38;5;241m=\u001b[39m \u001b[38;5;28;01mFalse\u001b[39;00m  \u001b[38;5;66;03m# pylint: disable=protected-access\u001b[39;00m\n\u001b[0;32m    628\u001b[0m \u001b[38;5;28;01mtry\u001b[39;00m:\n\u001b[1;32m--> 629\u001b[0m   result \u001b[38;5;241m=\u001b[39m method(\u001b[38;5;28mself\u001b[39m, \u001b[38;5;241m*\u001b[39margs, \u001b[38;5;241m*\u001b[39m\u001b[38;5;241m*\u001b[39mkwargs)\n\u001b[0;32m    630\u001b[0m \u001b[38;5;28;01mfinally\u001b[39;00m:\n\u001b[0;32m    631\u001b[0m   \u001b[38;5;28mself\u001b[39m\u001b[38;5;241m.\u001b[39m_self_setattr_tracking \u001b[38;5;241m=\u001b[39m previous_value  \u001b[38;5;66;03m# pylint: disable=protected-access\u001b[39;00m\n",
      "File \u001b[1;32m~\\Desktop\\Personal\\code\\Tensorflow-Time-Series\\tf-timeseries-env\\lib\\site-packages\\keras\\utils\\traceback_utils.py:67\u001b[0m, in \u001b[0;36mfilter_traceback.<locals>.error_handler\u001b[1;34m(*args, **kwargs)\u001b[0m\n\u001b[0;32m     65\u001b[0m \u001b[38;5;28;01mexcept\u001b[39;00m \u001b[38;5;167;01mException\u001b[39;00m \u001b[38;5;28;01mas\u001b[39;00m e:  \u001b[38;5;66;03m# pylint: disable=broad-except\u001b[39;00m\n\u001b[0;32m     66\u001b[0m   filtered_tb \u001b[38;5;241m=\u001b[39m _process_traceback_frames(e\u001b[38;5;241m.\u001b[39m__traceback__)\n\u001b[1;32m---> 67\u001b[0m   \u001b[38;5;28;01mraise\u001b[39;00m e\u001b[38;5;241m.\u001b[39mwith_traceback(filtered_tb) \u001b[38;5;28;01mfrom\u001b[39;00m \u001b[38;5;28mNone\u001b[39m\n\u001b[0;32m     68\u001b[0m \u001b[38;5;28;01mfinally\u001b[39;00m:\n\u001b[0;32m     69\u001b[0m   \u001b[38;5;28;01mdel\u001b[39;00m filtered_tb\n",
      "File \u001b[1;32m~\\Desktop\\Personal\\code\\Tensorflow-Time-Series\\tf-timeseries-env\\lib\\site-packages\\keras\\engine\\input_spec.py:228\u001b[0m, in \u001b[0;36massert_input_compatibility\u001b[1;34m(input_spec, inputs, layer_name)\u001b[0m\n\u001b[0;32m    226\u001b[0m   ndim \u001b[38;5;241m=\u001b[39m x\u001b[38;5;241m.\u001b[39mshape\u001b[38;5;241m.\u001b[39mrank\n\u001b[0;32m    227\u001b[0m   \u001b[38;5;28;01mif\u001b[39;00m ndim \u001b[38;5;129;01mis\u001b[39;00m \u001b[38;5;129;01mnot\u001b[39;00m \u001b[38;5;28;01mNone\u001b[39;00m \u001b[38;5;129;01mand\u001b[39;00m ndim \u001b[38;5;241m<\u001b[39m spec\u001b[38;5;241m.\u001b[39mmin_ndim:\n\u001b[1;32m--> 228\u001b[0m     \u001b[38;5;28;01mraise\u001b[39;00m \u001b[38;5;167;01mValueError\u001b[39;00m(\u001b[38;5;124mf\u001b[39m\u001b[38;5;124m'\u001b[39m\u001b[38;5;124mInput \u001b[39m\u001b[38;5;132;01m{\u001b[39;00minput_index\u001b[38;5;132;01m}\u001b[39;00m\u001b[38;5;124m of layer \u001b[39m\u001b[38;5;124m\"\u001b[39m\u001b[38;5;132;01m{\u001b[39;00mlayer_name\u001b[38;5;132;01m}\u001b[39;00m\u001b[38;5;124m\"\u001b[39m\u001b[38;5;124m \u001b[39m\u001b[38;5;124m'\u001b[39m\n\u001b[0;32m    229\u001b[0m                      \u001b[38;5;124m'\u001b[39m\u001b[38;5;124mis incompatible with the layer: \u001b[39m\u001b[38;5;124m'\u001b[39m\n\u001b[0;32m    230\u001b[0m                      \u001b[38;5;124mf\u001b[39m\u001b[38;5;124m'\u001b[39m\u001b[38;5;124mexpected min_ndim=\u001b[39m\u001b[38;5;132;01m{\u001b[39;00mspec\u001b[38;5;241m.\u001b[39mmin_ndim\u001b[38;5;132;01m}\u001b[39;00m\u001b[38;5;124m, \u001b[39m\u001b[38;5;124m'\u001b[39m\n\u001b[0;32m    231\u001b[0m                      \u001b[38;5;124mf\u001b[39m\u001b[38;5;124m'\u001b[39m\u001b[38;5;124mfound ndim=\u001b[39m\u001b[38;5;132;01m{\u001b[39;00mndim\u001b[38;5;132;01m}\u001b[39;00m\u001b[38;5;124m. \u001b[39m\u001b[38;5;124m'\u001b[39m\n\u001b[0;32m    232\u001b[0m                      \u001b[38;5;124mf\u001b[39m\u001b[38;5;124m'\u001b[39m\u001b[38;5;124mFull shape received: \u001b[39m\u001b[38;5;132;01m{\u001b[39;00m\u001b[38;5;28mtuple\u001b[39m(shape)\u001b[38;5;132;01m}\u001b[39;00m\u001b[38;5;124m'\u001b[39m)\n\u001b[0;32m    233\u001b[0m \u001b[38;5;66;03m# Check dtype.\u001b[39;00m\n\u001b[0;32m    234\u001b[0m \u001b[38;5;28;01mif\u001b[39;00m spec\u001b[38;5;241m.\u001b[39mdtype \u001b[38;5;129;01mis\u001b[39;00m \u001b[38;5;129;01mnot\u001b[39;00m \u001b[38;5;28;01mNone\u001b[39;00m:\n",
      "\u001b[1;31mValueError\u001b[0m: Input 0 of layer \"conv1d_40\" is incompatible with the layer: expected min_ndim=3, found ndim=2. Full shape received: (None, 128)"
     ]
    }
   ],
   "source": [
    "wavecnn = models.Sequential()\n",
    "wavecnn.add(layers.Conv1D(filters=32, kernel_size=3, activation='relu', input_shape=input_shape_cnn_wave))\n",
    "# cnn.add(layers.AveragePooling1D(pool_size=2))\n",
    "wavecnn.add(layers.Flatten())\n",
    "wavecnn.add(layers.Dense(10, activation='relu'))\n",
    "wavecnn.add(layers.Dropout(.2))\n",
    "wavecnn.add(layers.Dense(10, activation='relu'))\n",
    "wavecnn.add(layers.Dropout(.2))\n",
    "wavecnn.add(layers.Dense(5, activation='relu'))\n",
    "wavecnn.add(layers.Dropout(.2))\n",
    "\n",
    "wavecnn.add(layers.Dense(num_classes,activation='softmax'))"
   ]
  },
  {
   "cell_type": "code",
   "execution_count": null,
   "id": "f8c6dc91-77ea-4852-a86b-4e484c781b28",
   "metadata": {},
   "outputs": [],
   "source": [
    "wavecnn.summary()"
   ]
  },
  {
   "cell_type": "code",
   "execution_count": null,
   "id": "0599f735-2245-4985-95df-95855ab48702",
   "metadata": {},
   "outputs": [],
   "source": [
    "# optimizer = tf.keras.optimizers.SGD(learning_rate=0.01)\n",
    "wavecnn.compile(optimizer=optimizers.Adam(),\n",
    "           loss=\"categorical_crossentropy\",\n",
    "           metrics=[tf.keras.metrics.Accuracy(),\n",
    "                    tf.keras.metrics.Precision(),\n",
    "                    tf.keras.metrics.Recall(),\n",
    "                    tfa.metrics.F1Score(num_classes = num_classes, average='micro')\n",
    "                   ])"
   ]
  },
  {
   "cell_type": "code",
   "execution_count": null,
   "id": "f32fc2d0-3f66-4673-bfc8-bf8318054e30",
   "metadata": {},
   "outputs": [],
   "source": [
    "log_dir = \"logs/fit/cnn/wave\" + datetime.datetime.now().strftime(\"%Y%m%d-%H%M%S\")\n",
    "wavecnn_tensorboard_callback = TensorBoard(log_dir=log_dir, histogram_freq=1)\n",
    "\n",
    "checkpoint_path = \"models/cnn/wave\" + datetime.datetime.now().strftime(\"%Y%m%d-%H%M%S\")\n",
    "checkpoint_dir = os.path.dirname(checkpoint_path)\n",
    "\n",
    "# Create a callback that saves the model's weights\n",
    "wavecnn_checkpoint_callback = tf.keras.callbacks.ModelCheckpoint(filepath=checkpoint_path,\n",
    "                                                 save_weights_only=True,\n",
    "                                                 verbose=1)\n",
    "\n",
    "cnnhistory = cnn.fit(X_xyz_norm_train_wave, y_ohe_train, epochs=100, batch_size = 75, validation_data=(X_xyz_norm_test_wave, y_ohe_test),callbacks=[wavecnn_tensorboard_callback,wavecnn_checkpoint_callback])"
   ]
  },
  {
   "cell_type": "markdown",
   "id": "840f505a",
   "metadata": {
    "tags": []
   },
   "source": [
    "<H1>Implementing LSTM</H1>"
   ]
  },
  {
   "cell_type": "code",
   "execution_count": null,
   "id": "274f7f9e-551c-432e-b7dd-dd0892f9e35d",
   "metadata": {},
   "outputs": [],
   "source": [
    "# LSTM\n",
    "lstm = models.Sequential()\n",
    "lstm.add(layers.LSTM(128,input_shape=input_shape))\n",
    "lstm.add(layers.Dropout(rate=0.2))\n",
    "lstm.add(layers.Dense(6,activation=\"softmax\"))"
   ]
  },
  {
   "cell_type": "code",
   "execution_count": null,
   "id": "466356da",
   "metadata": {},
   "outputs": [],
   "source": [
    "lstm.summary()"
   ]
  },
  {
   "cell_type": "code",
   "execution_count": null,
   "id": "988ff08c",
   "metadata": {},
   "outputs": [],
   "source": [
    "lstm.compile(optimizer = \"adam\",\n",
    "            loss=\"categorical_crossentropy\",\n",
    "            metrics = \"accuracy\"\n",
    "            )"
   ]
  },
  {
   "cell_type": "code",
   "execution_count": null,
   "id": "3e3f5783-f713-49b5-a72b-07f0519aa2d5",
   "metadata": {},
   "outputs": [],
   "source": [
    "lstm_log_dir = \"logs/fit/lstm/lstm\" + datetime.datetime.now().strftime(\"%Y%m%d-%H%M%S\")\n",
    "lstm_tensorboard_callback = TensorBoard(log_dir=lstm_log_dir, histogram_freq=1)"
   ]
  },
  {
   "cell_type": "code",
   "execution_count": null,
   "id": "c3de4a86",
   "metadata": {
    "tags": []
   },
   "outputs": [],
   "source": [
    "lstmhistory = lstm.fit(X_xyz_norm_train,y_ohe_train,epochs = 50,batch_size=10,validation_data=(X_xyz_norm_test, y_ohe_test),callbacks=[lstm_tensorboard_callback])"
   ]
  },
  {
   "cell_type": "code",
   "execution_count": null,
   "id": "c445441b-4af0-472e-b4b9-de45dc7c8536",
   "metadata": {},
   "outputs": [],
   "source": [
    "# %tensorboard --logdir logs/fit/lstm/"
   ]
  },
  {
   "cell_type": "markdown",
   "id": "3546585a-53c0-4973-af92-92203a2f80a3",
   "metadata": {},
   "source": [
    "To run tensorboard in the cli use command ```tensorboard --logdir logs/fit/lstm/```"
   ]
  },
  {
   "cell_type": "code",
   "execution_count": null,
   "id": "87735797",
   "metadata": {},
   "outputs": [],
   "source": [
    "loss_values = lstmhistory.history['loss']\n",
    "epochs = range(1, len(loss_values)+1)\n",
    "\n",
    "plt.plot(epochs, loss_values, label='Training Loss')\n",
    "plt.xlabel('Epochs')\n",
    "plt.ylabel('Loss')\n",
    "plt.legend()\n",
    "\n",
    "plt.show()"
   ]
  },
  {
   "cell_type": "code",
   "execution_count": null,
   "id": "cd69e1ff",
   "metadata": {},
   "outputs": [],
   "source": [
    "acc_values = lstmhistory.history['accuracy']\n",
    "epochs = range(1, len(loss_values)+1)\n",
    "\n",
    "plt.plot(epochs, acc_values, label='Training Accuracy')\n",
    "plt.xlabel('Epochs')\n",
    "plt.ylabel('Accuracy')\n",
    "plt.legend()\n",
    "\n",
    "plt.show()"
   ]
  },
  {
   "cell_type": "code",
   "execution_count": null,
   "id": "c7b28ca8-7e57-40a1-852d-7b5ce50d5919",
   "metadata": {},
   "outputs": [],
   "source": [
    "y_pred = np.argmax(lstm.predict(X_xyz_norm_test),axis=1)\n",
    "print(y_pred)\n",
    "# print(y_pred.shape)\n",
    "# y_test_1D = np.argmax(y_test, axis=1).T[0]\n",
    "# print(type(y_test_1D))\n",
    "print(y_test)\n",
    "# print(y_test_1D.shape)\n",
    "conf = ConfusionMatrixDisplay.from_predictions(y_test,y_pred)\n",
    "conf.plot()"
   ]
  },
  {
   "cell_type": "code",
   "execution_count": null,
   "id": "a7317c6d-2700-49f3-a2f9-e9cc6e726200",
   "metadata": {},
   "outputs": [],
   "source": [
    "# %tensorboard --logdir logs/fit/lstm/"
   ]
  },
  {
   "cell_type": "markdown",
   "id": "8827ef42-e05c-4ce9-afba-07ecb4053d0c",
   "metadata": {},
   "source": [
    "To run tensorboard in the cli use command ```tensorboard --logdir logs/fit/lstm/```"
   ]
  },
  {
   "cell_type": "markdown",
   "id": "db46bcd0-963c-44a3-ae0f-af435829ff03",
   "metadata": {},
   "source": [
    "<H1>Implementing Bidirectional LSTM</H1>"
   ]
  },
  {
   "cell_type": "code",
   "execution_count": null,
   "id": "f633ae6c",
   "metadata": {
    "tags": []
   },
   "outputs": [],
   "source": [
    "# Bidirectional LSTM\n",
    "\n",
    "bidirectional_lstm = models.Sequential()\n",
    "bidirectional_lstm.add(layers.Bidirectional(\n",
    "    layers.LSTM(128),input_shape=input_shape\n",
    "))\n",
    "bidirectional_lstm.add(layers.Dropout(rate=0.2))\n",
    "bidirectional_lstm.add(layers.Dense(6,activation=\"softmax\"))"
   ]
  },
  {
   "cell_type": "code",
   "execution_count": null,
   "id": "c29e7ec7-2c33-4dff-b6ff-3ff1074f89d4",
   "metadata": {},
   "outputs": [],
   "source": [
    "bidirectional_lstm.summary()"
   ]
  },
  {
   "cell_type": "code",
   "execution_count": null,
   "id": "33eaba9f-d814-4791-9201-018ba9341e63",
   "metadata": {},
   "outputs": [],
   "source": [
    "bidirectional_lstm.compile(optimizer = \"adam\",\n",
    "            loss=\"categorical_crossentropy\",\n",
    "            metrics = \"accuracy\"\n",
    "            )"
   ]
  },
  {
   "cell_type": "code",
   "execution_count": null,
   "id": "3176d2f6-eb3b-4e4d-a798-31ff1c491d80",
   "metadata": {},
   "outputs": [],
   "source": [
    "bidirectional_lstm_log_dir = \"logs/fit/lstm/bidirectional\" + datetime.datetime.now().strftime(\"%Y%m%d-%H%M%S\")\n",
    "bidirectional_lstm_tensorboard_callback = TensorBoard(log_dir=lstm_log_dir, histogram_freq=1)"
   ]
  },
  {
   "cell_type": "code",
   "execution_count": null,
   "id": "1a4262f3-6547-49fd-9481-d18101787b34",
   "metadata": {
    "tags": []
   },
   "outputs": [],
   "source": [
    "lstmhistory = lstm.fit(X_xyz_norm_train,y_ohe_train,epochs = 50,batch_size=10,validation_data=(X_xyz_norm_test, y_ohe_test),callbacks=[bidirectional_lstm_tensorboard_callback])"
   ]
  },
  {
   "cell_type": "code",
   "execution_count": null,
   "id": "ad775d65",
   "metadata": {},
   "outputs": [],
   "source": [
    "end = time.perf_counter()\n",
    "print(f\"notebook took {end - start:0.4f} seconds to finish\")"
   ]
  },
  {
   "cell_type": "markdown",
   "id": "4eb2591b-5025-45d0-a45d-5236c7ff71d1",
   "metadata": {},
   "source": [
    "# TODO:\n",
    "1. Compare Github Accuracy Results.\n",
    "\n",
    "2. Print out Accuracy Scores and stuff.\n",
    "\n",
    "3. Fit a CNN model on the frequency transformed images. \n",
    "\n",
    "4. Tweak Hyperparameters like learning rate."
   ]
  }
 ],
 "metadata": {
  "kernelspec": {
   "display_name": "tf-timeseries-env",
   "language": "python",
   "name": "tf-timeseries-env"
  },
  "language_info": {
   "codemirror_mode": {
    "name": "ipython",
    "version": 3
   },
   "file_extension": ".py",
   "mimetype": "text/x-python",
   "name": "python",
   "nbconvert_exporter": "python",
   "pygments_lexer": "ipython3",
   "version": "3.10.2"
  }
 },
 "nbformat": 4,
 "nbformat_minor": 5
}
