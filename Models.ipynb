{
 "cells": [
  {
   "cell_type": "code",
   "execution_count": 1,
   "id": "a78ef61e",
   "metadata": {},
   "outputs": [
    {
     "data": {
      "text/plain": [
       "'2.8.0'"
      ]
     },
     "execution_count": 1,
     "metadata": {},
     "output_type": "execute_result"
    }
   ],
   "source": [
    "import numpy as np\n",
    "import pandas as pd\n",
    "import tensorflow as tf\n",
    "from tensorflow.keras import datasets, layers, models, losses, optimizers, Input, optimizers\n",
    "from tensorflow.keras.callbacks import TensorBoard\n",
    "from tensorflow.keras.utils import to_categorical\n",
    "from matplotlib import pyplot as plt\n",
    "from tqdm.notebook import tqdm\n",
    "import time\n",
    "import os\n",
    "from time import sleep\n",
    "import datetime\n",
    "from sklearn.preprocessing import StandardScaler\n",
    "from sklearn.metrics import ConfusionMatrixDisplay\n",
    "import pprint\n",
    "import pywt\n",
    "tf.__version__"
   ]
  },
  {
   "cell_type": "code",
   "execution_count": 2,
   "id": "673d4244-f641-4096-bb2f-0db85fd99d54",
   "metadata": {},
   "outputs": [],
   "source": [
    "%load_ext tensorboard"
   ]
  },
  {
   "cell_type": "code",
   "execution_count": 3,
   "id": "ee1bbbbe",
   "metadata": {},
   "outputs": [],
   "source": [
    "start = time.perf_counter()"
   ]
  },
  {
   "cell_type": "code",
   "execution_count": 4,
   "id": "75a254d8",
   "metadata": {
    "scrolled": true
   },
   "outputs": [
    {
     "data": {
      "text/plain": [
       "True"
      ]
     },
     "execution_count": 4,
     "metadata": {},
     "output_type": "execute_result"
    }
   ],
   "source": [
    "len(tf.config.list_physical_devices('GPU'))>0"
   ]
  },
  {
   "cell_type": "code",
   "execution_count": 5,
   "id": "5661d1f1",
   "metadata": {},
   "outputs": [
    {
     "name": "stdout",
     "output_type": "stream",
     "text": [
      "/device:GPU:0\n"
     ]
    }
   ],
   "source": [
    "device_name = tf.test.gpu_device_name()\n",
    "print(device_name)"
   ]
  },
  {
   "cell_type": "code",
   "execution_count": 6,
   "id": "96dfd861",
   "metadata": {},
   "outputs": [],
   "source": [
    "X_x_train = np.loadtxt(\"./data/X_x_train.txt\")\n",
    "X_y_train = np.loadtxt(\"./data/X_y_train.txt\")\n",
    "X_z_train = np.loadtxt(\"./data/X_z_train.txt\")\n",
    "y_train = np.loadtxt(\"./data/y_train.txt\")\n",
    "\n",
    "X_x_test = np.loadtxt(\"./data/X_x_test.txt\")\n",
    "X_y_test = np.loadtxt(\"./data/X_y_test.txt\")\n",
    "X_z_test = np.loadtxt(\"./data/X_z_test.txt\")\n",
    "y_test = np.loadtxt(\"./data/y_test.txt\")"
   ]
  },
  {
   "cell_type": "code",
   "execution_count": 7,
   "id": "8d025576",
   "metadata": {
    "scrolled": true,
    "tags": []
   },
   "outputs": [],
   "source": [
    "# for i, r in tqdm(X_x_train[:], total=X_x_train.shape[0], desc=\"printing graphs...\"):\n",
    "#     print(\"plot\" +str(i))\n",
    "#     row = X_x_train[i,:-1]\n",
    "#     y = X_x_train[i,-1:]\n",
    "#     print(label_names[int(y)-1])\n",
    "#     plt.plot(row)\n",
    "#     plt.show()\n"
   ]
  },
  {
   "cell_type": "code",
   "execution_count": 8,
   "id": "26ded89b",
   "metadata": {
    "tags": []
   },
   "outputs": [],
   "source": [
    "def standard_score_normalization(x):\n",
    "    x_m = np.mean(x, axis=1).reshape(-1,1)\n",
    "    x_std = np.std(x,axis=1).reshape(-1,1)\n",
    "    return (x-x_m)/x_std"
   ]
  },
  {
   "cell_type": "code",
   "execution_count": 9,
   "id": "dd6bc501",
   "metadata": {
    "tags": []
   },
   "outputs": [],
   "source": [
    "norm = StandardScaler()"
   ]
  },
  {
   "cell_type": "code",
   "execution_count": 10,
   "id": "a8f685c2",
   "metadata": {
    "tags": []
   },
   "outputs": [],
   "source": [
    "X_x_train_norm = norm.fit_transform(X_x_train)\n",
    "X_y_train_norm = norm.fit_transform(X_y_train)\n",
    "X_z_train_norm = norm.fit_transform(X_z_train)\n",
    "\n",
    "X_x_test_norm = norm.fit_transform(X_x_test)\n",
    "X_y_test_norm = norm.fit_transform(X_y_test)\n",
    "X_z_test_norm = norm.fit_transform(X_z_test)"
   ]
  },
  {
   "cell_type": "markdown",
   "id": "dd67c753",
   "metadata": {},
   "source": [
    "### Below I'm comparing two different concatenation functions.\n",
    "\n",
    "concat_xyz is vectorizing calculations while concat2_xyz is iterating"
   ]
  },
  {
   "cell_type": "code",
   "execution_count": 11,
   "id": "fbc18999",
   "metadata": {
    "tags": []
   },
   "outputs": [],
   "source": [
    "def concat_xyz(x,y,z):\n",
    "    data = np.empty((x.shape[0],x.shape[1],3))\n",
    "#     x = np.expand_dims(x, axis=1) # same as x = x[:,np.newaxis,:]\n",
    "#     y = np.expand_dims(y, axis=1)\n",
    "#     z = np.expand_dims(z, axis=1)\n",
    "    data[:,:,0] = x\n",
    "    data[:,:,1] = y\n",
    "    data[:,:,2] = z\n",
    "    return data"
   ]
  },
  {
   "cell_type": "code",
   "execution_count": 12,
   "id": "5957825d",
   "metadata": {
    "tags": []
   },
   "outputs": [],
   "source": [
    "#speed test purposes\n",
    "def concat2_xyz(x,y,z):\n",
    "    data = np.empty((x.shape[0],x.shape[1],3))\n",
    "    for i, rowx,rowy, rowz in zip(range(x.shape[0]),x,y,z):\n",
    "        data[i,:,0] = rowx.reshape(1,-1)\n",
    "        data[i,:,1] = rowy.reshape(1,-1)\n",
    "        data[i,:,2] = rowz.reshape(1,-1)\n",
    "    return data"
   ]
  },
  {
   "cell_type": "code",
   "execution_count": 13,
   "id": "911dfb2f",
   "metadata": {
    "tags": []
   },
   "outputs": [
    {
     "name": "stdout",
     "output_type": "stream",
     "text": [
      "concat_xyz in 0.0084 seconds\n"
     ]
    }
   ],
   "source": [
    "tic = time.perf_counter()\n",
    "X_xyz_norm_train =  concat_xyz(X_x_train_norm,X_y_train_norm, X_z_train_norm)\n",
    "X_xyz_norm_test = concat_xyz(X_x_test_norm,X_y_test_norm,X_z_test_norm)\n",
    "toc = time.perf_counter()\n",
    "print(f\"concat_xyz in {toc - tic:0.4f} seconds\")"
   ]
  },
  {
   "cell_type": "code",
   "execution_count": 14,
   "id": "06f8b17c",
   "metadata": {
    "tags": []
   },
   "outputs": [
    {
     "name": "stdout",
     "output_type": "stream",
     "text": [
      "concat2_xyz in 0.0150 seconds\n"
     ]
    }
   ],
   "source": [
    "#speed test purposes\n",
    "tic = time.perf_counter()\n",
    "concat2_xyz(X_x_train_norm,X_y_train_norm, X_z_train_norm)\n",
    "concat_xyz(X_x_test_norm,X_y_test_norm,X_z_test_norm)\n",
    "toc = time.perf_counter()\n",
    "print(f\"concat2_xyz in {toc - tic:0.4f} seconds\")"
   ]
  },
  {
   "cell_type": "markdown",
   "id": "57b58b94",
   "metadata": {},
   "source": [
    "#### Vectorizing calculations is faster\n"
   ]
  },
  {
   "cell_type": "code",
   "execution_count": 15,
   "id": "31aa19b4",
   "metadata": {},
   "outputs": [],
   "source": [
    "label_names = ['Walking', 'Walking upstairs', 'Walking downstairs', 'Sitting', 'Standing', 'Laying']\n",
    "num_classes = len(label_names)"
   ]
  },
  {
   "cell_type": "markdown",
   "id": "9b3a70e8-9672-4513-b8e0-8615aeb43ff7",
   "metadata": {},
   "source": [
    "First I tried this model with one hot encoded y values with catagorical cross entropy but for the confusion matrix I needed the multiclass values instead so during my second iteration I reformatted the model and the data."
   ]
  },
  {
   "cell_type": "code",
   "execution_count": 16,
   "id": "adef527c",
   "metadata": {},
   "outputs": [],
   "source": [
    "# shifting y_train to values from 0 to num_classes-1\n",
    "y_train = y_train - 1\n",
    "y_test = y_test - 1"
   ]
  },
  {
   "cell_type": "code",
   "execution_count": 17,
   "id": "c115c2ce-0ee7-4c0b-89c9-07c6a7bc3ade",
   "metadata": {},
   "outputs": [],
   "source": [
    "# one hot encoding\n",
    "y_ohe_train = to_categorical(y_train,num_classes)\n",
    "y_ohe_test = to_categorical(y_test, num_classes)"
   ]
  },
  {
   "cell_type": "code",
   "execution_count": 18,
   "id": "84bcd1dc",
   "metadata": {},
   "outputs": [
    {
     "data": {
      "text/plain": [
       "(7352, 128, 3)"
      ]
     },
     "execution_count": 18,
     "metadata": {},
     "output_type": "execute_result"
    }
   ],
   "source": [
    "X_xyz_norm_train.shape"
   ]
  },
  {
   "cell_type": "code",
   "execution_count": 19,
   "id": "f51a9832-d21b-448b-a25f-54cf119c0856",
   "metadata": {},
   "outputs": [
    {
     "data": {
      "text/plain": [
       "(2947, 128, 3)"
      ]
     },
     "execution_count": 19,
     "metadata": {},
     "output_type": "execute_result"
    }
   ],
   "source": [
    "X_xyz_norm_test.shape"
   ]
  },
  {
   "cell_type": "code",
   "execution_count": 20,
   "id": "a7803cd1-e360-4d19-aaf4-3e040f7af92e",
   "metadata": {},
   "outputs": [
    {
     "data": {
      "text/plain": [
       "(7352,)"
      ]
     },
     "execution_count": 20,
     "metadata": {},
     "output_type": "execute_result"
    }
   ],
   "source": [
    "y_train.shape"
   ]
  },
  {
   "cell_type": "code",
   "execution_count": 21,
   "id": "eb077bf5-811a-4e0f-8203-8e16d866f476",
   "metadata": {},
   "outputs": [
    {
     "data": {
      "text/plain": [
       "(2947,)"
      ]
     },
     "execution_count": 21,
     "metadata": {},
     "output_type": "execute_result"
    }
   ],
   "source": [
    "y_test.shape"
   ]
  },
  {
   "cell_type": "code",
   "execution_count": 22,
   "id": "912382fb-ff2a-4380-9136-ae02a8ea572a",
   "metadata": {},
   "outputs": [
    {
     "data": {
      "text/plain": [
       "(7352, 6)"
      ]
     },
     "execution_count": 22,
     "metadata": {},
     "output_type": "execute_result"
    }
   ],
   "source": [
    "y_ohe_train.shape"
   ]
  },
  {
   "cell_type": "code",
   "execution_count": 23,
   "id": "d6d23581",
   "metadata": {},
   "outputs": [],
   "source": [
    "input_shape = X_xyz_norm_train.shape[1:]"
   ]
  },
  {
   "cell_type": "markdown",
   "id": "602c426b",
   "metadata": {},
   "source": [
    "In TF1, placeholder would be needed to get input shape of `(None, 128, 3)` but here we take `(128, 3)` as input shape instead"
   ]
  },
  {
   "cell_type": "markdown",
   "id": "ddcb4d1d-182c-485a-97b0-b49bb456e22e",
   "metadata": {},
   "source": [
    "# Creating Images representing time series data"
   ]
  },
  {
   "cell_type": "code",
   "execution_count": 24,
   "id": "a1320c94-c447-4bb0-8a99-0a50c149f698",
   "metadata": {},
   "outputs": [],
   "source": [
    "X_xyz_norm_train_swap = np.swapaxes(X_xyz_norm_train,1,2)"
   ]
  },
  {
   "cell_type": "code",
   "execution_count": 25,
   "id": "b125a3b0-ac7a-4540-bb7f-121309198480",
   "metadata": {},
   "outputs": [
    {
     "data": {
      "text/plain": [
       "(7352, 128, 3)"
      ]
     },
     "execution_count": 25,
     "metadata": {},
     "output_type": "execute_result"
    }
   ],
   "source": [
    "X_xyz_norm_train.shape"
   ]
  },
  {
   "cell_type": "code",
   "execution_count": 26,
   "id": "b32f0a0c-0181-4e69-8259-dff89992c680",
   "metadata": {},
   "outputs": [
    {
     "data": {
      "text/plain": [
       "(7352, 3, 128)"
      ]
     },
     "execution_count": 26,
     "metadata": {},
     "output_type": "execute_result"
    }
   ],
   "source": [
    "X_xyz_norm_train_swap.shape"
   ]
  },
  {
   "cell_type": "markdown",
   "id": "76cef9f6-bf18-49e4-b0de-eb4aec1d4a28",
   "metadata": {},
   "source": [
    "### Showing the 1/7352 128-sample run"
   ]
  },
  {
   "cell_type": "code",
   "execution_count": 27,
   "id": "ca4d2958-c2be-43b9-bfec-0aea0e145f1d",
   "metadata": {},
   "outputs": [
    {
     "data": {
      "text/plain": [
       "<function matplotlib.pyplot.show(close=None, block=None)>"
      ]
     },
     "execution_count": 27,
     "metadata": {},
     "output_type": "execute_result"
    },
    {
     "data": {
      "image/png": "[encoded data removed]",
      "text/plain": [
       "<Figure size 432x288 with 1 Axes>"
      ]
     },
     "metadata": {
      "needs_background": "light"
     },
     "output_type": "display_data"
    }
   ],
   "source": [
    "plt.plot(X_xyz_norm_train_swap[0][0])\n",
    "plt.plot(X_xyz_norm_train_swap[0][1])\n",
    "plt.plot(X_xyz_norm_train_swap[0][2])\n",
    "plt.show"
   ]
  },
  {
   "cell_type": "code",
   "execution_count": 28,
   "id": "fb2c3934-dc63-4c5f-b4f7-2736ad82c2df",
   "metadata": {},
   "outputs": [
    {
     "data": {
      "text/plain": [
       "<matplotlib.image.AxesImage at 0x1b7238a8fa0>"
      ]
     },
     "execution_count": 28,
     "metadata": {},
     "output_type": "execute_result"
    },
    {
     "data": {
      "image/png": "[encoded data removed]",
      "text/plain": [
       "<Figure size 432x288 with 1 Axes>"
      ]
     },
     "metadata": {
      "needs_background": "light"
     },
     "output_type": "display_data"
    }
   ],
   "source": [
    "signal = np.sqrt((X_xyz_norm_train_swap[0][0])**2+(X_xyz_norm_train_swap[0][1])**2+(X_xyz_norm_train_swap[0][2])**2)\n",
    "# samples taken at 50hz\n",
    "coeffs, freqs = pywt.cwt(signal,50,'morl')\n",
    "plt.imshow(coeffs, cmap = 'coolwarm', aspect = 'auto')"
   ]
  },
  {
   "cell_type": "markdown",
   "id": "07ebb536",
   "metadata": {},
   "source": [
    "<H1>Implementing CNN</H1>"
   ]
  },
  {
   "cell_type": "code",
   "execution_count": 29,
   "id": "06ec22ae",
   "metadata": {},
   "outputs": [],
   "source": [
    "cnn = models.Sequential()\n",
    "cnn.add(layers.Conv1D(filters=64, kernel_size=2, activation='relu', input_shape=input_shape))\n",
    "# cnn.add(layers.MaxPool1D(pool_size=2))\n",
    "cnn.add(layers.Flatten())\n",
    "cnn.add(layers.Dense(100, activation='relu'))\n",
    "cnn.add(layers.Dense(30, activation='relu'))\n",
    "cnn.add(layers.Dense(num_classes,activation='softmax'))"
   ]
  },
  {
   "cell_type": "code",
   "execution_count": 30,
   "id": "584f8db8",
   "metadata": {},
   "outputs": [
    {
     "name": "stdout",
     "output_type": "stream",
     "text": [
      "Model: \"sequential\"\n",
      "_________________________________________________________________\n",
      " Layer (type)                Output Shape              Param #   \n",
      "=================================================================\n",
      " conv1d (Conv1D)             (None, 127, 64)           448       \n",
      "                                                                 \n",
      " flatten (Flatten)           (None, 8128)              0         \n",
      "                                                                 \n",
      " dense (Dense)               (None, 100)               812900    \n",
      "                                                                 \n",
      " dense_1 (Dense)             (None, 30)                3030      \n",
      "                                                                 \n",
      " dense_2 (Dense)             (None, 6)                 186       \n",
      "                                                                 \n",
      "=================================================================\n",
      "Total params: 816,564\n",
      "Trainable params: 816,564\n",
      "Non-trainable params: 0\n",
      "_________________________________________________________________\n"
     ]
    }
   ],
   "source": [
    "cnn.summary()"
   ]
  },
  {
   "cell_type": "code",
   "execution_count": 31,
   "id": "e6f59b08",
   "metadata": {},
   "outputs": [],
   "source": [
    "# optimizer = tf.keras.optimizers.SGD(learning_rate=0.01)\n",
    "cnn.compile(optimizer=\"adam\",\n",
    "           loss=\"categorical_crossentropy\",\n",
    "           metrics=\"accuracy\")"
   ]
  },
  {
   "cell_type": "code",
   "execution_count": 32,
   "id": "dc86d6ce-d4e7-4def-b9ef-e49f638e3979",
   "metadata": {},
   "outputs": [],
   "source": [
    "log_dir = \"logs/fit/cnn/\" + datetime.datetime.now().strftime(\"%Y%m%d-%H%M%S\")\n",
    "cnn_tensorboard_callback = TensorBoard(log_dir=log_dir, histogram_freq=1)"
   ]
  },
  {
   "cell_type": "code",
   "execution_count": 33,
   "id": "28cfe256",
   "metadata": {
    "collapsed": true,
    "jupyter": {
     "outputs_hidden": true
    },
    "tags": []
   },
   "outputs": [
    {
     "name": "stdout",
     "output_type": "stream",
     "text": [
      "Epoch 1/50\n",
      "736/736 [==============================] - 10s 2ms/step - loss: 0.9097 - accuracy: 0.5706 - val_loss: 0.6878 - val_accuracy: 0.7190\n",
      "Epoch 2/50\n",
      "736/736 [==============================] - 1s 2ms/step - loss: 0.5716 - accuracy: 0.7371 - val_loss: 0.6209 - val_accuracy: 0.7435\n",
      "Epoch 3/50\n",
      "736/736 [==============================] - 1s 2ms/step - loss: 0.4559 - accuracy: 0.7905 - val_loss: 0.7063 - val_accuracy: 0.7234\n",
      "Epoch 4/50\n",
      "736/736 [==============================] - 1s 2ms/step - loss: 0.4155 - accuracy: 0.8088 - val_loss: 1.1204 - val_accuracy: 0.6810\n",
      "Epoch 5/50\n",
      "736/736 [==============================] - 1s 2ms/step - loss: 0.3877 - accuracy: 0.8271 - val_loss: 0.6088 - val_accuracy: 0.7679\n",
      "Epoch 6/50\n",
      "736/736 [==============================] - 1s 2ms/step - loss: 0.3553 - accuracy: 0.8402 - val_loss: 0.7496 - val_accuracy: 0.7340\n",
      "Epoch 7/50\n",
      "736/736 [==============================] - 1s 2ms/step - loss: 0.3435 - accuracy: 0.8505 - val_loss: 0.7874 - val_accuracy: 0.7448\n",
      "Epoch 8/50\n",
      "736/736 [==============================] - 1s 2ms/step - loss: 0.3189 - accuracy: 0.8611 - val_loss: 0.8801 - val_accuracy: 0.7530\n",
      "Epoch 9/50\n",
      "736/736 [==============================] - 1s 2ms/step - loss: 0.2885 - accuracy: 0.8774 - val_loss: 1.1001 - val_accuracy: 0.7180\n",
      "Epoch 10/50\n",
      "736/736 [==============================] - 1s 2ms/step - loss: 0.2676 - accuracy: 0.8872 - val_loss: 0.7761 - val_accuracy: 0.7608\n",
      "Epoch 11/50\n",
      "736/736 [==============================] - 1s 2ms/step - loss: 0.2440 - accuracy: 0.9002 - val_loss: 0.9932 - val_accuracy: 0.7367\n",
      "Epoch 12/50\n",
      "736/736 [==============================] - 1s 2ms/step - loss: 0.2546 - accuracy: 0.9022 - val_loss: 0.9880 - val_accuracy: 0.7503\n",
      "Epoch 13/50\n",
      "736/736 [==============================] - 1s 2ms/step - loss: 0.2316 - accuracy: 0.9101 - val_loss: 1.1147 - val_accuracy: 0.7319\n",
      "Epoch 14/50\n",
      "736/736 [==============================] - 1s 2ms/step - loss: 0.1958 - accuracy: 0.9238 - val_loss: 1.2069 - val_accuracy: 0.7224\n",
      "Epoch 15/50\n",
      "736/736 [==============================] - 1s 2ms/step - loss: 0.1935 - accuracy: 0.9255 - val_loss: 1.2735 - val_accuracy: 0.7275\n",
      "Epoch 16/50\n",
      "736/736 [==============================] - 1s 2ms/step - loss: 0.1712 - accuracy: 0.9350 - val_loss: 1.4206 - val_accuracy: 0.7313\n",
      "Epoch 17/50\n",
      "736/736 [==============================] - 1s 2ms/step - loss: 0.1434 - accuracy: 0.9461 - val_loss: 1.2593 - val_accuracy: 0.7503\n",
      "Epoch 18/50\n",
      "736/736 [==============================] - 1s 2ms/step - loss: 0.1245 - accuracy: 0.9527 - val_loss: 1.6892 - val_accuracy: 0.7438\n",
      "Epoch 19/50\n",
      "736/736 [==============================] - 1s 2ms/step - loss: 0.1623 - accuracy: 0.9452 - val_loss: 1.8849 - val_accuracy: 0.7150\n",
      "Epoch 20/50\n",
      "736/736 [==============================] - 1s 2ms/step - loss: 0.1315 - accuracy: 0.9554 - val_loss: 1.6732 - val_accuracy: 0.7401\n",
      "Epoch 21/50\n",
      "736/736 [==============================] - 1s 2ms/step - loss: 0.1050 - accuracy: 0.9653 - val_loss: 1.6226 - val_accuracy: 0.7472\n",
      "Epoch 22/50\n",
      "736/736 [==============================] - 1s 2ms/step - loss: 0.0883 - accuracy: 0.9718 - val_loss: 2.2494 - val_accuracy: 0.7363\n",
      "Epoch 23/50\n",
      "736/736 [==============================] - 1s 2ms/step - loss: 0.0843 - accuracy: 0.9737 - val_loss: 2.2712 - val_accuracy: 0.7231\n",
      "Epoch 24/50\n",
      "736/736 [==============================] - 1s 2ms/step - loss: 0.0975 - accuracy: 0.9716 - val_loss: 2.4188 - val_accuracy: 0.7122\n",
      "Epoch 25/50\n",
      "736/736 [==============================] - 1s 2ms/step - loss: 0.0810 - accuracy: 0.9755 - val_loss: 2.0973 - val_accuracy: 0.7431\n",
      "Epoch 26/50\n",
      "736/736 [==============================] - 1s 2ms/step - loss: 0.0564 - accuracy: 0.9856 - val_loss: 2.7414 - val_accuracy: 0.7357\n",
      "Epoch 27/50\n",
      "736/736 [==============================] - 1s 2ms/step - loss: 0.0700 - accuracy: 0.9812 - val_loss: 2.4723 - val_accuracy: 0.7326\n",
      "Epoch 28/50\n",
      "736/736 [==============================] - 1s 2ms/step - loss: 0.0405 - accuracy: 0.9887 - val_loss: 3.4196 - val_accuracy: 0.7160\n",
      "Epoch 29/50\n",
      "736/736 [==============================] - 2s 2ms/step - loss: 0.0389 - accuracy: 0.9882 - val_loss: 3.6178 - val_accuracy: 0.7231\n",
      "Epoch 30/50\n",
      "736/736 [==============================] - 2s 2ms/step - loss: 0.0386 - accuracy: 0.9882 - val_loss: 3.5364 - val_accuracy: 0.7211\n",
      "Epoch 31/50\n",
      "736/736 [==============================] - 2s 2ms/step - loss: 0.0743 - accuracy: 0.9800 - val_loss: 2.6431 - val_accuracy: 0.7231\n",
      "Epoch 32/50\n",
      "736/736 [==============================] - 2s 2ms/step - loss: 0.0293 - accuracy: 0.9924 - val_loss: 3.2336 - val_accuracy: 0.7251\n",
      "Epoch 33/50\n",
      "736/736 [==============================] - 2s 2ms/step - loss: 0.0419 - accuracy: 0.9871 - val_loss: 3.3738 - val_accuracy: 0.7234\n",
      "Epoch 34/50\n",
      "736/736 [==============================] - 2s 2ms/step - loss: 0.0728 - accuracy: 0.9857 - val_loss: 2.7461 - val_accuracy: 0.7377\n",
      "Epoch 35/50\n",
      "736/736 [==============================] - 1s 2ms/step - loss: 0.0381 - accuracy: 0.9903 - val_loss: 3.1953 - val_accuracy: 0.7340\n",
      "Epoch 36/50\n",
      "736/736 [==============================] - 2s 2ms/step - loss: 0.0155 - accuracy: 0.9967 - val_loss: 3.2771 - val_accuracy: 0.7268\n",
      "Epoch 37/50\n",
      "736/736 [==============================] - 1s 2ms/step - loss: 0.0265 - accuracy: 0.9944 - val_loss: 3.6061 - val_accuracy: 0.7313\n",
      "Epoch 38/50\n",
      "736/736 [==============================] - 2s 2ms/step - loss: 0.0275 - accuracy: 0.9940 - val_loss: 5.1277 - val_accuracy: 0.7109\n",
      "Epoch 39/50\n",
      "736/736 [==============================] - 1s 2ms/step - loss: 0.0848 - accuracy: 0.9801 - val_loss: 4.1686 - val_accuracy: 0.7224\n",
      "Epoch 40/50\n",
      "736/736 [==============================] - 1s 2ms/step - loss: 0.0589 - accuracy: 0.9895 - val_loss: 3.1874 - val_accuracy: 0.7411\n",
      "Epoch 41/50\n",
      "736/736 [==============================] - 2s 2ms/step - loss: 0.0327 - accuracy: 0.9910 - val_loss: 3.4093 - val_accuracy: 0.7343\n",
      "Epoch 42/50\n",
      "736/736 [==============================] - 2s 2ms/step - loss: 0.0052 - accuracy: 0.9992 - val_loss: 3.7193 - val_accuracy: 0.7306\n",
      "Epoch 43/50\n",
      "736/736 [==============================] - 2s 2ms/step - loss: 0.0020 - accuracy: 1.0000 - val_loss: 3.6657 - val_accuracy: 0.7353\n",
      "Epoch 44/50\n",
      "736/736 [==============================] - 1s 2ms/step - loss: 0.0012 - accuracy: 1.0000 - val_loss: 4.1365 - val_accuracy: 0.7323\n",
      "Epoch 45/50\n",
      "736/736 [==============================] - 1s 2ms/step - loss: 8.7567e-04 - accuracy: 1.0000 - val_loss: 4.1110 - val_accuracy: 0.7350\n",
      "Epoch 46/50\n",
      "736/736 [==============================] - 1s 2ms/step - loss: 0.0834 - accuracy: 0.9818 - val_loss: 3.5425 - val_accuracy: 0.7285\n",
      "Epoch 47/50\n",
      "736/736 [==============================] - 2s 2ms/step - loss: 0.1026 - accuracy: 0.9801 - val_loss: 3.2872 - val_accuracy: 0.7228\n",
      "Epoch 48/50\n",
      "736/736 [==============================] - 1s 2ms/step - loss: 0.0190 - accuracy: 0.9954 - val_loss: 3.5727 - val_accuracy: 0.7353\n",
      "Epoch 49/50\n",
      "736/736 [==============================] - 2s 2ms/step - loss: 0.0144 - accuracy: 0.9971 - val_loss: 3.5460 - val_accuracy: 0.7438\n",
      "Epoch 50/50\n",
      "736/736 [==============================] - 2s 2ms/step - loss: 0.0029 - accuracy: 0.9996 - val_loss: 4.0362 - val_accuracy: 0.7408\n"
     ]
    }
   ],
   "source": [
    "cnnhistory = cnn.fit(X_xyz_norm_train, y_ohe_train, epochs=50, batch_size = 10, validation_data=(X_xyz_norm_test, y_ohe_test),callbacks=[cnn_tensorboard_callback])"
   ]
  },
  {
   "cell_type": "code",
   "execution_count": 34,
   "id": "3e6e8c1b-dd62-48e7-b994-9e32aaeea62d",
   "metadata": {
    "tags": []
   },
   "outputs": [],
   "source": [
    "# %tensorboard --logdir logs/fit/cnn/"
   ]
  },
  {
   "cell_type": "markdown",
   "id": "a63c1e2a-fd4e-4074-9bb0-9883dceeb29b",
   "metadata": {},
   "source": [
    "To run tensorboard in the cli use command ```tensorboard --logdir logs/fit/cnn/```"
   ]
  },
  {
   "cell_type": "code",
   "execution_count": 35,
   "id": "914130fb",
   "metadata": {
    "jupyter": {
     "source_hidden": true
    },
    "tags": []
   },
   "outputs": [],
   "source": [
    "# cnn.save(\"my_model\")\n",
    "# tensorflow_graph = tf.saved_model.load(\"my_model\")\n",
    "# x = np.random.uniform(size=(4, 32)).astype(np.float32)\n",
    "# predicted = tensorflow_graph(x).numpy()"
   ]
  },
  {
   "cell_type": "code",
   "execution_count": 36,
   "id": "6e1b2fec",
   "metadata": {
    "jupyter": {
     "source_hidden": true
    },
    "tags": []
   },
   "outputs": [],
   "source": [
    "# loss_values = cnnhistory.history['loss']\n",
    "# epochs = range(1, len(loss_values)+1)\n",
    "\n",
    "# plt.plot(epochs, loss_values, label='Training Loss')\n",
    "# plt.xlabel('Epochs')\n",
    "# plt.ylabel('Loss')\n",
    "# plt.legend()\n",
    "\n",
    "# plt.show()"
   ]
  },
  {
   "cell_type": "code",
   "execution_count": 37,
   "id": "3ec887f3",
   "metadata": {
    "jupyter": {
     "source_hidden": true
    },
    "tags": []
   },
   "outputs": [],
   "source": [
    "# acc_values = cnnhistory.history['accuracy']\n",
    "# epochs = range(1, len(loss_values)+1)\n",
    "\n",
    "# plt.plot(epochs, acc_values, label='Training Accuracy')\n",
    "# plt.xlabel('Epochs')\n",
    "# plt.ylabel('Accuracy')\n",
    "# plt.legend()\n",
    "\n",
    "# plt.show()"
   ]
  },
  {
   "cell_type": "code",
   "execution_count": 38,
   "id": "4dc015f9",
   "metadata": {},
   "outputs": [
    {
     "name": "stdout",
     "output_type": "stream",
     "text": [
      "[5 3 4 ... 1 1 1]\n",
      "[4. 4. 4. ... 1. 1. 1.]\n"
     ]
    },
    {
     "data": {
      "text/plain": [
       "<sklearn.metrics._plot.confusion_matrix.ConfusionMatrixDisplay at 0x1b70f38ec20>"
      ]
     },
     "execution_count": 38,
     "metadata": {},
     "output_type": "execute_result"
    },
    {
     "data": {
      "image/png": "[encoded data removed]",
      "text/plain": [
       "<Figure size 432x288 with 2 Axes>"
      ]
     },
     "metadata": {
      "needs_background": "light"
     },
     "output_type": "display_data"
    }
   ],
   "source": [
    "y_pred = np.argmax(cnn.predict(X_xyz_norm_test),axis=1)\n",
    "print(y_pred)\n",
    "# print(y_pred.shape)\n",
    "# y_test_1D = np.argmax(y_test, axis=1).T[0]\n",
    "# print(type(y_test_1D))\n",
    "print(y_test)\n",
    "# print(y_test_1D.shape)\n",
    "ConfusionMatrixDisplay.from_predictions(y_test,y_pred)"
   ]
  },
  {
   "cell_type": "markdown",
   "id": "840f505a",
   "metadata": {},
   "source": [
    "<H1>Implementing LSTM</H1>"
   ]
  },
  {
   "cell_type": "code",
   "execution_count": 39,
   "id": "274f7f9e-551c-432e-b7dd-dd0892f9e35d",
   "metadata": {},
   "outputs": [],
   "source": [
    "# LSTM\n",
    "lstm = models.Sequential()\n",
    "lstm.add(layers.LSTM(128,input_shape=input_shape))\n",
    "lstm.add(layers.Dropout(rate=0.2))\n",
    "lstm.add(layers.Dense(6,activation=\"softmax\"))"
   ]
  },
  {
   "cell_type": "code",
   "execution_count": 40,
   "id": "466356da",
   "metadata": {},
   "outputs": [
    {
     "name": "stdout",
     "output_type": "stream",
     "text": [
      "Model: \"sequential_1\"\n",
      "_________________________________________________________________\n",
      " Layer (type)                Output Shape              Param #   \n",
      "=================================================================\n",
      " lstm (LSTM)                 (None, 128)               67584     \n",
      "                                                                 \n",
      " dropout (Dropout)           (None, 128)               0         \n",
      "                                                                 \n",
      " dense_3 (Dense)             (None, 6)                 774       \n",
      "                                                                 \n",
      "=================================================================\n",
      "Total params: 68,358\n",
      "Trainable params: 68,358\n",
      "Non-trainable params: 0\n",
      "_________________________________________________________________\n"
     ]
    }
   ],
   "source": [
    "lstm.summary()"
   ]
  },
  {
   "cell_type": "code",
   "execution_count": 41,
   "id": "988ff08c",
   "metadata": {},
   "outputs": [],
   "source": [
    "lstm.compile(optimizer = \"adam\",\n",
    "            loss=\"categorical_crossentropy\",\n",
    "            metrics = \"accuracy\"\n",
    "            )"
   ]
  },
  {
   "cell_type": "code",
   "execution_count": 42,
   "id": "3e3f5783-f713-49b5-a72b-07f0519aa2d5",
   "metadata": {},
   "outputs": [],
   "source": [
    "lstm_log_dir = \"logs/fit/lstm/lstm\" + datetime.datetime.now().strftime(\"%Y%m%d-%H%M%S\")\n",
    "lstm_tensorboard_callback = TensorBoard(log_dir=lstm_log_dir, histogram_freq=1)"
   ]
  },
  {
   "cell_type": "code",
   "execution_count": 43,
   "id": "c3de4a86",
   "metadata": {
    "collapsed": true,
    "jupyter": {
     "outputs_hidden": true
    },
    "tags": []
   },
   "outputs": [
    {
     "name": "stdout",
     "output_type": "stream",
     "text": [
      "Epoch 1/50\n",
      "736/736 [==============================] - 14s 11ms/step - loss: 1.5033 - accuracy: 0.3152 - val_loss: 1.2254 - val_accuracy: 0.3767\n",
      "Epoch 2/50\n",
      "736/736 [==============================] - 8s 11ms/step - loss: 1.0012 - accuracy: 0.4786 - val_loss: 0.8874 - val_accuracy: 0.5229\n",
      "Epoch 3/50\n",
      "736/736 [==============================] - 9s 12ms/step - loss: 0.8558 - accuracy: 0.5268 - val_loss: 0.8539 - val_accuracy: 0.5524\n",
      "Epoch 4/50\n",
      "736/736 [==============================] - 9s 12ms/step - loss: 0.7528 - accuracy: 0.5913 - val_loss: 0.7741 - val_accuracy: 0.5989\n",
      "Epoch 5/50\n",
      "736/736 [==============================] - 9s 12ms/step - loss: 0.7838 - accuracy: 0.5815 - val_loss: 0.8145 - val_accuracy: 0.5735\n",
      "Epoch 6/50\n",
      "736/736 [==============================] - 8s 11ms/step - loss: 0.7034 - accuracy: 0.6030 - val_loss: 0.7496 - val_accuracy: 0.6105\n",
      "Epoch 7/50\n",
      "736/736 [==============================] - 8s 11ms/step - loss: 0.6652 - accuracy: 0.6235 - val_loss: 0.7363 - val_accuracy: 0.6033\n",
      "Epoch 8/50\n",
      "736/736 [==============================] - 8s 11ms/step - loss: 0.6457 - accuracy: 0.6299 - val_loss: 0.7729 - val_accuracy: 0.6430\n",
      "Epoch 9/50\n",
      "736/736 [==============================] - 8s 11ms/step - loss: 0.6540 - accuracy: 0.6260 - val_loss: 0.7971 - val_accuracy: 0.6091\n",
      "Epoch 10/50\n",
      "736/736 [==============================] - 8s 11ms/step - loss: 0.6435 - accuracy: 0.6296 - val_loss: 1.1327 - val_accuracy: 0.5270\n",
      "Epoch 11/50\n",
      "736/736 [==============================] - 8s 11ms/step - loss: 0.6406 - accuracy: 0.6279 - val_loss: 0.7302 - val_accuracy: 0.6220\n",
      "Epoch 12/50\n",
      "736/736 [==============================] - 8s 11ms/step - loss: 0.6225 - accuracy: 0.6340 - val_loss: 0.7244 - val_accuracy: 0.6271\n",
      "Epoch 13/50\n",
      "736/736 [==============================] - 8s 11ms/step - loss: 0.6493 - accuracy: 0.6249 - val_loss: 0.7745 - val_accuracy: 0.6152\n",
      "Epoch 14/50\n",
      "736/736 [==============================] - 8s 11ms/step - loss: 0.6306 - accuracy: 0.6280 - val_loss: 0.7689 - val_accuracy: 0.6206\n",
      "Epoch 15/50\n",
      "736/736 [==============================] - 8s 11ms/step - loss: 0.6310 - accuracy: 0.6234 - val_loss: 0.8658 - val_accuracy: 0.5887\n",
      "Epoch 16/50\n",
      "736/736 [==============================] - 8s 11ms/step - loss: 0.6258 - accuracy: 0.6355 - val_loss: 0.8582 - val_accuracy: 0.5962\n",
      "Epoch 17/50\n",
      "736/736 [==============================] - 8s 11ms/step - loss: 0.6242 - accuracy: 0.6314 - val_loss: 0.8171 - val_accuracy: 0.6050\n",
      "Epoch 18/50\n",
      "736/736 [==============================] - 8s 11ms/step - loss: 0.6159 - accuracy: 0.6368 - val_loss: 0.8429 - val_accuracy: 0.6149\n",
      "Epoch 19/50\n",
      "736/736 [==============================] - 7s 10ms/step - loss: 0.6192 - accuracy: 0.6423 - val_loss: 0.7712 - val_accuracy: 0.6111\n",
      "Epoch 20/50\n",
      "736/736 [==============================] - 7s 10ms/step - loss: 0.6366 - accuracy: 0.6307 - val_loss: 0.8577 - val_accuracy: 0.5796\n",
      "Epoch 21/50\n",
      "736/736 [==============================] - 7s 10ms/step - loss: 0.6110 - accuracy: 0.6442 - val_loss: 0.7762 - val_accuracy: 0.6373\n",
      "Epoch 22/50\n",
      "736/736 [==============================] - 7s 10ms/step - loss: 0.6075 - accuracy: 0.6476 - val_loss: 0.7364 - val_accuracy: 0.6312\n",
      "Epoch 23/50\n",
      "736/736 [==============================] - 7s 10ms/step - loss: 0.6353 - accuracy: 0.6386 - val_loss: 0.7353 - val_accuracy: 0.6376\n",
      "Epoch 24/50\n",
      "736/736 [==============================] - 7s 10ms/step - loss: 0.6291 - accuracy: 0.6319 - val_loss: 0.7345 - val_accuracy: 0.6057\n",
      "Epoch 25/50\n",
      "736/736 [==============================] - 7s 10ms/step - loss: 0.6135 - accuracy: 0.6424 - val_loss: 0.9304 - val_accuracy: 0.5748\n",
      "Epoch 26/50\n",
      "736/736 [==============================] - 7s 10ms/step - loss: 0.6134 - accuracy: 0.6330 - val_loss: 0.7640 - val_accuracy: 0.6183\n",
      "Epoch 27/50\n",
      "736/736 [==============================] - 7s 10ms/step - loss: 0.6115 - accuracy: 0.6397 - val_loss: 0.7475 - val_accuracy: 0.6159\n",
      "Epoch 28/50\n",
      "736/736 [==============================] - 7s 10ms/step - loss: 0.6098 - accuracy: 0.6378 - val_loss: 0.7303 - val_accuracy: 0.6240\n",
      "Epoch 29/50\n",
      "736/736 [==============================] - 8s 11ms/step - loss: 0.6105 - accuracy: 0.6412 - val_loss: 0.6937 - val_accuracy: 0.6250\n",
      "Epoch 30/50\n",
      "736/736 [==============================] - 8s 11ms/step - loss: 0.6095 - accuracy: 0.6476 - val_loss: 0.8028 - val_accuracy: 0.6118\n",
      "Epoch 31/50\n",
      "736/736 [==============================] - 8s 11ms/step - loss: 0.6117 - accuracy: 0.6421 - val_loss: 0.7034 - val_accuracy: 0.6359\n",
      "Epoch 32/50\n",
      "736/736 [==============================] - 8s 11ms/step - loss: 0.6019 - accuracy: 0.6559 - val_loss: 0.7089 - val_accuracy: 0.6379\n",
      "Epoch 33/50\n",
      "736/736 [==============================] - 8s 11ms/step - loss: 0.6178 - accuracy: 0.6503 - val_loss: 0.7176 - val_accuracy: 0.6423\n",
      "Epoch 34/50\n",
      "736/736 [==============================] - 8s 11ms/step - loss: 0.6108 - accuracy: 0.6446 - val_loss: 0.7703 - val_accuracy: 0.6322\n",
      "Epoch 35/50\n",
      "736/736 [==============================] - 7s 10ms/step - loss: 0.6010 - accuracy: 0.6472 - val_loss: 0.7839 - val_accuracy: 0.6200\n",
      "Epoch 36/50\n",
      "736/736 [==============================] - 7s 10ms/step - loss: 0.5955 - accuracy: 0.6576 - val_loss: 0.8528 - val_accuracy: 0.6281\n",
      "Epoch 37/50\n",
      "736/736 [==============================] - 7s 10ms/step - loss: 0.5810 - accuracy: 0.6873 - val_loss: 0.7773 - val_accuracy: 0.6227\n",
      "Epoch 38/50\n",
      "736/736 [==============================] - 7s 10ms/step - loss: 0.5973 - accuracy: 0.6753 - val_loss: 0.8357 - val_accuracy: 0.6230\n",
      "Epoch 39/50\n",
      "736/736 [==============================] - 7s 10ms/step - loss: 0.6131 - accuracy: 0.6480 - val_loss: 0.7501 - val_accuracy: 0.6345\n",
      "Epoch 40/50\n",
      "736/736 [==============================] - 7s 10ms/step - loss: 0.6007 - accuracy: 0.6549 - val_loss: 0.7099 - val_accuracy: 0.6376\n",
      "Epoch 41/50\n",
      "736/736 [==============================] - 7s 10ms/step - loss: 0.6114 - accuracy: 0.6485 - val_loss: 0.8106 - val_accuracy: 0.6359\n",
      "Epoch 42/50\n",
      "736/736 [==============================] - 7s 10ms/step - loss: 0.6060 - accuracy: 0.6503 - val_loss: 0.7535 - val_accuracy: 0.6549\n",
      "Epoch 43/50\n",
      "736/736 [==============================] - 7s 10ms/step - loss: 0.6136 - accuracy: 0.6439 - val_loss: 0.7333 - val_accuracy: 0.6451\n",
      "Epoch 44/50\n",
      "736/736 [==============================] - 7s 10ms/step - loss: 0.6084 - accuracy: 0.6470 - val_loss: 0.7417 - val_accuracy: 0.6278\n",
      "Epoch 45/50\n",
      "736/736 [==============================] - 7s 10ms/step - loss: 0.5993 - accuracy: 0.6540 - val_loss: 0.7619 - val_accuracy: 0.6362\n",
      "Epoch 46/50\n",
      "736/736 [==============================] - 7s 10ms/step - loss: 0.5993 - accuracy: 0.6538 - val_loss: 0.7669 - val_accuracy: 0.6138\n",
      "Epoch 47/50\n",
      "736/736 [==============================] - 7s 10ms/step - loss: 0.6020 - accuracy: 0.6500 - val_loss: 0.8137 - val_accuracy: 0.6305\n",
      "Epoch 48/50\n",
      "736/736 [==============================] - 7s 10ms/step - loss: 0.6015 - accuracy: 0.6522 - val_loss: 0.7926 - val_accuracy: 0.6328\n",
      "Epoch 49/50\n",
      "736/736 [==============================] - 7s 10ms/step - loss: 0.6004 - accuracy: 0.6431 - val_loss: 0.8242 - val_accuracy: 0.6183\n",
      "Epoch 50/50\n",
      "736/736 [==============================] - 7s 10ms/step - loss: 0.6046 - accuracy: 0.6446 - val_loss: 0.8023 - val_accuracy: 0.6366\n"
     ]
    }
   ],
   "source": [
    "lstmhistory = lstm.fit(X_xyz_norm_train,y_ohe_train,epochs = 50,batch_size=10,validation_data=(X_xyz_norm_test, y_ohe_test),callbacks=[lstm_tensorboard_callback])"
   ]
  },
  {
   "cell_type": "code",
   "execution_count": 44,
   "id": "c445441b-4af0-472e-b4b9-de45dc7c8536",
   "metadata": {},
   "outputs": [],
   "source": [
    "# %tensorboard --logdir logs/fit/lstm/"
   ]
  },
  {
   "cell_type": "markdown",
   "id": "3546585a-53c0-4973-af92-92203a2f80a3",
   "metadata": {},
   "source": [
    "To run tensorboard in the cli use command ```tensorboard --logdir logs/fit/lstm/```"
   ]
  },
  {
   "cell_type": "code",
   "execution_count": 45,
   "id": "87735797",
   "metadata": {},
   "outputs": [
    {
     "data": {
      "image/png": "[encoded data removed]",
      "text/plain": [
       "<Figure size 432x288 with 1 Axes>"
      ]
     },
     "metadata": {
      "needs_background": "light"
     },
     "output_type": "display_data"
    }
   ],
   "source": [
    "loss_values = lstmhistory.history['loss']\n",
    "epochs = range(1, len(loss_values)+1)\n",
    "\n",
    "plt.plot(epochs, loss_values, label='Training Loss')\n",
    "plt.xlabel('Epochs')\n",
    "plt.ylabel('Loss')\n",
    "plt.legend()\n",
    "\n",
    "plt.show()"
   ]
  },
  {
   "cell_type": "code",
   "execution_count": 46,
   "id": "cd69e1ff",
   "metadata": {},
   "outputs": [
    {
     "data": {
      "image/png": "[encoded data removed]",
      "text/plain": [
       "<Figure size 432x288 with 1 Axes>"
      ]
     },
     "metadata": {
      "needs_background": "light"
     },
     "output_type": "display_data"
    }
   ],
   "source": [
    "acc_values = lstmhistory.history['accuracy']\n",
    "epochs = range(1, len(loss_values)+1)\n",
    "\n",
    "plt.plot(epochs, acc_values, label='Training Accuracy')\n",
    "plt.xlabel('Epochs')\n",
    "plt.ylabel('Accuracy')\n",
    "plt.legend()\n",
    "\n",
    "plt.show()"
   ]
  },
  {
   "cell_type": "code",
   "execution_count": 47,
   "id": "c7b28ca8-7e57-40a1-852d-7b5ce50d5919",
   "metadata": {},
   "outputs": [
    {
     "name": "stdout",
     "output_type": "stream",
     "text": [
      "[4 5 5 ... 1 1 1]\n",
      "[4. 4. 4. ... 1. 1. 1.]\n"
     ]
    },
    {
     "data": {
      "text/plain": [
       "<sklearn.metrics._plot.confusion_matrix.ConfusionMatrixDisplay at 0x1b97dc671f0>"
      ]
     },
     "execution_count": 47,
     "metadata": {},
     "output_type": "execute_result"
    },
    {
     "data": {
      "image/png": "[encoded data removed]",
      "text/plain": [
       "<Figure size 432x288 with 2 Axes>"
      ]
     },
     "metadata": {
      "needs_background": "light"
     },
     "output_type": "display_data"
    }
   ],
   "source": [
    "y_pred = np.argmax(lstm.predict(X_xyz_norm_test),axis=1)\n",
    "print(y_pred)\n",
    "# print(y_pred.shape)\n",
    "# y_test_1D = np.argmax(y_test, axis=1).T[0]\n",
    "# print(type(y_test_1D))\n",
    "print(y_test)\n",
    "# print(y_test_1D.shape)\n",
    "ConfusionMatrixDisplay.from_predictions(y_test,y_pred)"
   ]
  },
  {
   "cell_type": "code",
   "execution_count": 48,
   "id": "a7317c6d-2700-49f3-a2f9-e9cc6e726200",
   "metadata": {},
   "outputs": [],
   "source": [
    "# %tensorboard --logdir logs/fit/lstm/"
   ]
  },
  {
   "cell_type": "markdown",
   "id": "8827ef42-e05c-4ce9-afba-07ecb4053d0c",
   "metadata": {},
   "source": [
    "To run tensorboard in the cli use command ```tensorboard --logdir logs/fit/lstm/```"
   ]
  },
  {
   "cell_type": "markdown",
   "id": "db46bcd0-963c-44a3-ae0f-af435829ff03",
   "metadata": {},
   "source": [
    "<H1>Implementing Bidirectional LSTM</H1>"
   ]
  },
  {
   "cell_type": "code",
   "execution_count": 49,
   "id": "f633ae6c",
   "metadata": {
    "tags": []
   },
   "outputs": [],
   "source": [
    "# Bidirectional LSTM\n",
    "\n",
    "bidirectional_lstm = models.Sequential()\n",
    "bidirectional_lstm.add(layers.Bidirectional(\n",
    "    layers.LSTM(128),input_shape=input_shape\n",
    "))\n",
    "bidirectional_lstm.add(layers.Dropout(rate=0.2))\n",
    "bidirectional_lstm.add(layers.Dense(6,activation=\"softmax\"))"
   ]
  },
  {
   "cell_type": "code",
   "execution_count": 50,
   "id": "c29e7ec7-2c33-4dff-b6ff-3ff1074f89d4",
   "metadata": {},
   "outputs": [
    {
     "name": "stdout",
     "output_type": "stream",
     "text": [
      "Model: \"sequential_2\"\n",
      "_________________________________________________________________\n",
      " Layer (type)                Output Shape              Param #   \n",
      "=================================================================\n",
      " bidirectional (Bidirectiona  (None, 256)              135168    \n",
      " l)                                                              \n",
      "                                                                 \n",
      " dropout_1 (Dropout)         (None, 256)               0         \n",
      "                                                                 \n",
      " dense_4 (Dense)             (None, 6)                 1542      \n",
      "                                                                 \n",
      "=================================================================\n",
      "Total params: 136,710\n",
      "Trainable params: 136,710\n",
      "Non-trainable params: 0\n",
      "_________________________________________________________________\n"
     ]
    }
   ],
   "source": [
    "bidirectional_lstm.summary()"
   ]
  },
  {
   "cell_type": "code",
   "execution_count": 51,
   "id": "33eaba9f-d814-4791-9201-018ba9341e63",
   "metadata": {},
   "outputs": [],
   "source": [
    "bidirectional_lstm.compile(optimizer = \"adam\",\n",
    "            loss=\"categorical_crossentropy\",\n",
    "            metrics = \"accuracy\"\n",
    "            )"
   ]
  },
  {
   "cell_type": "code",
   "execution_count": 52,
   "id": "3176d2f6-eb3b-4e4d-a798-31ff1c491d80",
   "metadata": {},
   "outputs": [],
   "source": [
    "bidirectional_lstm_log_dir = \"logs/fit/lstm/bidirectional\" + datetime.datetime.now().strftime(\"%Y%m%d-%H%M%S\")\n",
    "bidirectional_lstm_tensorboard_callback = TensorBoard(log_dir=lstm_log_dir, histogram_freq=1)"
   ]
  },
  {
   "cell_type": "code",
   "execution_count": 53,
   "id": "1a4262f3-6547-49fd-9481-d18101787b34",
   "metadata": {
    "collapsed": true,
    "jupyter": {
     "outputs_hidden": true
    },
    "tags": []
   },
   "outputs": [
    {
     "name": "stdout",
     "output_type": "stream",
     "text": [
      "Epoch 1/50\n",
      "736/736 [==============================] - 7s 10ms/step - loss: 0.6066 - accuracy: 0.6378 - val_loss: 0.8243 - val_accuracy: 0.6556\n",
      "Epoch 2/50\n",
      "736/736 [==============================] - 7s 10ms/step - loss: 0.5944 - accuracy: 0.6655 - val_loss: 0.8270 - val_accuracy: 0.6552\n",
      "Epoch 3/50\n",
      "736/736 [==============================] - 7s 10ms/step - loss: 0.5786 - accuracy: 0.6770 - val_loss: 0.8267 - val_accuracy: 0.7065\n",
      "Epoch 4/50\n",
      "736/736 [==============================] - 7s 10ms/step - loss: 0.5433 - accuracy: 0.7153 - val_loss: 0.8515 - val_accuracy: 0.6949\n",
      "Epoch 5/50\n",
      "736/736 [==============================] - 7s 10ms/step - loss: 0.5314 - accuracy: 0.7266 - val_loss: 0.8219 - val_accuracy: 0.7027\n",
      "Epoch 6/50\n",
      "736/736 [==============================] - 7s 10ms/step - loss: 0.5994 - accuracy: 0.6710 - val_loss: 0.9009 - val_accuracy: 0.6705\n",
      "Epoch 7/50\n",
      "736/736 [==============================] - 7s 10ms/step - loss: 0.6019 - accuracy: 0.6663 - val_loss: 0.7706 - val_accuracy: 0.6043\n",
      "Epoch 8/50\n",
      "736/736 [==============================] - 7s 10ms/step - loss: 0.5947 - accuracy: 0.6605 - val_loss: 0.8369 - val_accuracy: 0.6108\n",
      "Epoch 9/50\n",
      "736/736 [==============================] - 7s 10ms/step - loss: 0.5965 - accuracy: 0.6619 - val_loss: 0.8462 - val_accuracy: 0.6349\n",
      "Epoch 10/50\n",
      "736/736 [==============================] - 7s 10ms/step - loss: 0.5963 - accuracy: 0.6595 - val_loss: 0.8022 - val_accuracy: 0.6865\n",
      "Epoch 11/50\n",
      "736/736 [==============================] - 7s 10ms/step - loss: 0.5904 - accuracy: 0.6719 - val_loss: 0.9020 - val_accuracy: 0.6563\n",
      "Epoch 12/50\n",
      "736/736 [==============================] - 7s 10ms/step - loss: 0.5976 - accuracy: 0.6621 - val_loss: 0.8118 - val_accuracy: 0.6695\n",
      "Epoch 13/50\n",
      "736/736 [==============================] - 7s 10ms/step - loss: 0.5866 - accuracy: 0.6847 - val_loss: 0.8030 - val_accuracy: 0.7251\n",
      "Epoch 14/50\n",
      "736/736 [==============================] - 7s 10ms/step - loss: 0.5753 - accuracy: 0.6971 - val_loss: 0.6960 - val_accuracy: 0.7021\n",
      "Epoch 15/50\n",
      "736/736 [==============================] - 7s 10ms/step - loss: 0.5570 - accuracy: 0.7091 - val_loss: 0.6981 - val_accuracy: 0.6990\n",
      "Epoch 16/50\n",
      "736/736 [==============================] - 7s 10ms/step - loss: 0.4944 - accuracy: 0.7455 - val_loss: 0.6941 - val_accuracy: 0.7526\n",
      "Epoch 17/50\n",
      "736/736 [==============================] - 7s 10ms/step - loss: 0.4533 - accuracy: 0.7745 - val_loss: 0.7052 - val_accuracy: 0.7655\n",
      "Epoch 18/50\n",
      "736/736 [==============================] - 7s 10ms/step - loss: 0.4485 - accuracy: 0.7786 - val_loss: 0.6569 - val_accuracy: 0.7618\n",
      "Epoch 19/50\n",
      "736/736 [==============================] - 7s 10ms/step - loss: 0.4183 - accuracy: 0.7933 - val_loss: 0.8272 - val_accuracy: 0.7292\n",
      "Epoch 20/50\n",
      "736/736 [==============================] - 7s 10ms/step - loss: 0.4057 - accuracy: 0.7990 - val_loss: 0.7375 - val_accuracy: 0.7635\n",
      "Epoch 21/50\n",
      "736/736 [==============================] - 7s 10ms/step - loss: 0.3919 - accuracy: 0.8077 - val_loss: 0.7362 - val_accuracy: 0.7822\n",
      "Epoch 22/50\n",
      "736/736 [==============================] - 7s 10ms/step - loss: 0.3647 - accuracy: 0.8279 - val_loss: 0.7805 - val_accuracy: 0.7618\n",
      "Epoch 23/50\n",
      "736/736 [==============================] - 7s 10ms/step - loss: 0.3714 - accuracy: 0.8244 - val_loss: 0.8512 - val_accuracy: 0.7655\n",
      "Epoch 24/50\n",
      "736/736 [==============================] - 7s 10ms/step - loss: 0.3487 - accuracy: 0.8417 - val_loss: 0.7193 - val_accuracy: 0.7686\n",
      "Epoch 25/50\n",
      "736/736 [==============================] - 7s 10ms/step - loss: 0.3426 - accuracy: 0.8486 - val_loss: 0.7404 - val_accuracy: 0.7655\n",
      "Epoch 26/50\n",
      "736/736 [==============================] - 7s 10ms/step - loss: 0.3229 - accuracy: 0.8554 - val_loss: 0.7577 - val_accuracy: 0.7710\n",
      "Epoch 27/50\n",
      "736/736 [==============================] - 7s 10ms/step - loss: 0.3232 - accuracy: 0.8583 - val_loss: 0.7068 - val_accuracy: 0.7784\n",
      "Epoch 28/50\n",
      "736/736 [==============================] - 7s 10ms/step - loss: 0.3200 - accuracy: 0.8630 - val_loss: 0.7423 - val_accuracy: 0.7906\n",
      "Epoch 29/50\n",
      "736/736 [==============================] - 7s 10ms/step - loss: 0.3000 - accuracy: 0.8731 - val_loss: 0.7000 - val_accuracy: 0.7906\n",
      "Epoch 30/50\n",
      "736/736 [==============================] - 7s 10ms/step - loss: 0.2901 - accuracy: 0.8750 - val_loss: 0.7307 - val_accuracy: 0.7815\n",
      "Epoch 31/50\n",
      "736/736 [==============================] - 7s 10ms/step - loss: 0.2893 - accuracy: 0.8766 - val_loss: 0.7240 - val_accuracy: 0.7567\n",
      "Epoch 32/50\n",
      "736/736 [==============================] - 7s 10ms/step - loss: 0.2864 - accuracy: 0.8804 - val_loss: 0.5737 - val_accuracy: 0.7906\n",
      "Epoch 33/50\n",
      "736/736 [==============================] - 7s 10ms/step - loss: 0.2702 - accuracy: 0.8838 - val_loss: 0.5977 - val_accuracy: 0.7794\n",
      "Epoch 34/50\n",
      "736/736 [==============================] - 7s 10ms/step - loss: 0.2655 - accuracy: 0.8866 - val_loss: 0.6884 - val_accuracy: 0.7798\n",
      "Epoch 35/50\n",
      "736/736 [==============================] - 7s 10ms/step - loss: 0.2609 - accuracy: 0.8921 - val_loss: 0.5829 - val_accuracy: 0.8083\n",
      "Epoch 36/50\n",
      "736/736 [==============================] - 7s 10ms/step - loss: 0.2529 - accuracy: 0.8962 - val_loss: 0.6902 - val_accuracy: 0.7662\n",
      "Epoch 37/50\n",
      "736/736 [==============================] - 7s 10ms/step - loss: 0.2433 - accuracy: 0.8983 - val_loss: 0.7493 - val_accuracy: 0.7764\n",
      "Epoch 38/50\n",
      "736/736 [==============================] - 7s 10ms/step - loss: 0.2513 - accuracy: 0.8949 - val_loss: 0.8065 - val_accuracy: 0.7791\n",
      "Epoch 39/50\n",
      "736/736 [==============================] - 7s 10ms/step - loss: 0.2312 - accuracy: 0.9057 - val_loss: 0.8592 - val_accuracy: 0.7784\n",
      "Epoch 40/50\n",
      "736/736 [==============================] - 7s 10ms/step - loss: 0.2298 - accuracy: 0.9052 - val_loss: 0.9348 - val_accuracy: 0.7645\n",
      "Epoch 41/50\n",
      "736/736 [==============================] - 7s 10ms/step - loss: 0.2220 - accuracy: 0.9070 - val_loss: 0.8278 - val_accuracy: 0.7794\n",
      "Epoch 42/50\n",
      "736/736 [==============================] - 7s 10ms/step - loss: 0.2345 - accuracy: 0.8977 - val_loss: 0.9507 - val_accuracy: 0.7665\n",
      "Epoch 43/50\n",
      "736/736 [==============================] - 7s 10ms/step - loss: 0.2121 - accuracy: 0.9112 - val_loss: 0.7815 - val_accuracy: 0.8090\n",
      "Epoch 44/50\n",
      "736/736 [==============================] - 7s 10ms/step - loss: 0.2093 - accuracy: 0.9121 - val_loss: 0.7988 - val_accuracy: 0.7903\n",
      "Epoch 45/50\n",
      "736/736 [==============================] - 7s 10ms/step - loss: 0.2124 - accuracy: 0.9094 - val_loss: 0.8240 - val_accuracy: 0.7872\n",
      "Epoch 46/50\n",
      "736/736 [==============================] - 7s 10ms/step - loss: 0.2110 - accuracy: 0.9121 - val_loss: 0.8865 - val_accuracy: 0.7903\n",
      "Epoch 47/50\n",
      "736/736 [==============================] - 7s 10ms/step - loss: 0.2174 - accuracy: 0.9142 - val_loss: 0.7921 - val_accuracy: 0.7781\n",
      "Epoch 48/50\n",
      "736/736 [==============================] - 7s 10ms/step - loss: 0.2108 - accuracy: 0.9157 - val_loss: 0.7419 - val_accuracy: 0.7879\n",
      "Epoch 49/50\n",
      "736/736 [==============================] - 7s 10ms/step - loss: 0.1947 - accuracy: 0.9214 - val_loss: 0.7305 - val_accuracy: 0.7900\n",
      "Epoch 50/50\n",
      "736/736 [==============================] - 7s 10ms/step - loss: 0.1852 - accuracy: 0.9208 - val_loss: 0.8598 - val_accuracy: 0.7764\n"
     ]
    }
   ],
   "source": [
    "lstmhistory = lstm.fit(X_xyz_norm_train,y_ohe_train,epochs = 50,batch_size=10,validation_data=(X_xyz_norm_test, y_ohe_test),callbacks=[bidirectional_lstm_tensorboard_callback])"
   ]
  },
  {
   "cell_type": "code",
   "execution_count": 54,
   "id": "ad775d65",
   "metadata": {},
   "outputs": [
    {
     "name": "stdout",
     "output_type": "stream",
     "text": [
      "notebook took 835.4368 seconds to finish\n"
     ]
    }
   ],
   "source": [
    "end = time.perf_counter()\n",
    "print(f\"notebook took {end - start:0.4f} seconds to finish\")"
   ]
  }
 ],
 "metadata": {
  "kernelspec": {
   "display_name": "tf-timeseries-env",
   "language": "python",
   "name": "tf-timeseries-env"
  },
  "language_info": {
   "codemirror_mode": {
    "name": "ipython",
    "version": 3
   },
   "file_extension": ".py",
   "mimetype": "text/x-python",
   "name": "python",
   "nbconvert_exporter": "python",
   "pygments_lexer": "ipython3",
   "version": "3.10.2"
  }
 },
 "nbformat": 4,
 "nbformat_minor": 5
}
