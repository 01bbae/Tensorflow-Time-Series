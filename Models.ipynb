{
 "cells": [
  {
   "cell_type": "code",
   "execution_count": 1,
   "id": "a78ef61e",
   "metadata": {},
   "outputs": [
    {
     "data": {
      "text/plain": [
       "'2.8.0'"
      ]
     },
     "execution_count": 1,
     "metadata": {},
     "output_type": "execute_result"
    }
   ],
   "source": [
    "import numpy as np\n",
    "import pandas as pd\n",
    "import tensorflow as tf\n",
    "from tensorflow.keras import datasets, layers, models, losses, optimizers, Input, optimizers\n",
    "from matplotlib import pyplot as plt\n",
    "from tqdm.notebook import tqdm\n",
    "from time import sleep\n",
    "from sklearn.preprocessing import StandardScaler\n",
    "import time\n",
    "import pprint\n",
    "tf.__version__"
   ]
  },
  {
   "cell_type": "code",
   "execution_count": 2,
   "id": "75a254d8",
   "metadata": {
    "scrolled": true
   },
   "outputs": [
    {
     "data": {
      "text/plain": [
       "False"
      ]
     },
     "execution_count": 2,
     "metadata": {},
     "output_type": "execute_result"
    }
   ],
   "source": [
    "len(tf.config.list_physical_devices('GPU'))>0"
   ]
  },
  {
   "cell_type": "code",
   "execution_count": 3,
   "id": "5661d1f1",
   "metadata": {},
   "outputs": [
    {
     "name": "stdout",
     "output_type": "stream",
     "text": [
      "\n"
     ]
    }
   ],
   "source": [
    "device_name = tf.test.gpu_device_name()\n",
    "print(device_name)"
   ]
  },
  {
   "cell_type": "code",
   "execution_count": 4,
   "id": "96dfd861",
   "metadata": {},
   "outputs": [],
   "source": [
    "X_x_train = np.loadtxt(\"./data/X_x_train.txt\")\n",
    "X_y_train = np.loadtxt(\"./data/X_y_train.txt\")\n",
    "X_z_train = np.loadtxt(\"./data/X_z_train.txt\")\n",
    "y_train = np.loadtxt(\"./data/y_train.txt\")\n",
    "\n",
    "X_x_test = np.loadtxt(\"./data/X_x_train.txt\")\n",
    "X_y_test = np.loadtxt(\"./data/X_y_train.txt\")\n",
    "X_z_test = np.loadtxt(\"./data/X_z_train.txt\")\n",
    "y_test = np.loadtxt(\"./data/y_train.txt\")"
   ]
  },
  {
   "cell_type": "code",
   "execution_count": 5,
   "id": "8d025576",
   "metadata": {
    "scrolled": true
   },
   "outputs": [],
   "source": [
    "# for i, r in tqdm(X_x_train[:], total=X_x_train.shape[0], desc=\"printing graphs...\"):\n",
    "#     print(\"plot\" +str(i))\n",
    "#     row = X_x_train[i,:-1]\n",
    "#     y = X_x_train[i,-1:]\n",
    "#     print(label_names[int(y)-1])\n",
    "#     plt.plot(row)\n",
    "#     plt.show()\n"
   ]
  },
  {
   "cell_type": "code",
   "execution_count": 6,
   "id": "26ded89b",
   "metadata": {},
   "outputs": [],
   "source": [
    "def standard_score_normalization(x):\n",
    "    x_m = np.mean(x, axis=1).reshape(-1,1)\n",
    "    x_std = np.std(x,axis=1).reshape(-1,1)\n",
    "    return (x-x_m)/x_std"
   ]
  },
  {
   "cell_type": "code",
   "execution_count": 7,
   "id": "dd6bc501",
   "metadata": {},
   "outputs": [],
   "source": [
    "norm = StandardScaler()"
   ]
  },
  {
   "cell_type": "code",
   "execution_count": 8,
   "id": "a8f685c2",
   "metadata": {},
   "outputs": [],
   "source": [
    "X_x_train_norm = norm.fit_transform(X_x_train)\n",
    "X_y_train_norm = norm.fit_transform(X_y_train)\n",
    "X_z_train_norm = norm.fit_transform(X_y_train)\n",
    "\n",
    "X_x_test_norm = norm.fit_transform(X_x_test)\n",
    "X_y_test_norm = norm.fit_transform(X_y_test)\n",
    "X_z_test_norm = norm.fit_transform(X_z_test)"
   ]
  },
  {
   "cell_type": "markdown",
   "id": "b14cfbd5",
   "metadata": {},
   "source": [
    "### Below I'm comparing two different concatenation functions.\n",
    "\n",
    "concat_xyz is vectorizing calculations while concat2_xyz is iterating"
   ]
  },
  {
   "cell_type": "code",
   "execution_count": 9,
   "id": "fbc18999",
   "metadata": {},
   "outputs": [],
   "source": [
    "def concat_xyz(x,y,z):\n",
    "    data = np.empty((x.shape[0],x.shape[1],3))\n",
    "#     x = np.expand_dims(x, axis=1) # same as x = x[:,np.newaxis,:]\n",
    "#     y = np.expand_dims(y, axis=1)\n",
    "#     z = np.expand_dims(z, axis=1)\n",
    "    data[:,:,0] = x\n",
    "    data[:,:,1] = y\n",
    "    data[:,:,2] = z\n",
    "    return data"
   ]
  },
  {
   "cell_type": "code",
   "execution_count": 10,
   "id": "5957825d",
   "metadata": {},
   "outputs": [],
   "source": [
    "#speed test purposes\n",
    "def concat2_xyz(x,y,z):\n",
    "    data = np.empty((x.shape[0],x.shape[1],3))\n",
    "    for i, rowx,rowy, rowz in zip(range(x.shape[0]),x,y,z):\n",
    "        data[i,:,0] = rowx.reshape(1,-1)\n",
    "        data[i,:,1] = rowy.reshape(1,-1)\n",
    "        data[i,:,2] = rowz.reshape(1,-1)\n",
    "    return data"
   ]
  },
  {
   "cell_type": "code",
   "execution_count": 11,
   "id": "911dfb2f",
   "metadata": {},
   "outputs": [
    {
     "name": "stdout",
     "output_type": "stream",
     "text": [
      "concat_xyz in 0.0110 seconds\n"
     ]
    }
   ],
   "source": [
    "tic = time.perf_counter()\n",
    "X_xyz_norm_train =  concat_xyz(X_x_train_norm,X_y_train_norm, X_z_train_norm)\n",
    "X_xyz_norm_test = concat_xyz(X_x_test_norm,X_y_test_norm,X_z_test_norm)\n",
    "toc = time.perf_counter()\n",
    "print(f\"concat_xyz in {toc - tic:0.4f} seconds\")"
   ]
  },
  {
   "cell_type": "code",
   "execution_count": 12,
   "id": "06f8b17c",
   "metadata": {},
   "outputs": [
    {
     "name": "stdout",
     "output_type": "stream",
     "text": [
      "concat2_xyz in 0.0192 seconds\n"
     ]
    }
   ],
   "source": [
    "#speed test purposes\n",
    "tic = time.perf_counter()\n",
    "concat2_xyz(X_x_train_norm,X_y_train_norm, X_z_train_norm)\n",
    "concat_xyz(X_x_test_norm,X_y_test_norm,X_z_test_norm)\n",
    "toc = time.perf_counter()\n",
    "print(f\"concat2_xyz in {toc - tic:0.4f} seconds\")"
   ]
  },
  {
   "cell_type": "markdown",
   "id": "b5ffe5aa",
   "metadata": {},
   "source": [
    "#### Vectorizing calculations is faster\n"
   ]
  },
  {
   "cell_type": "code",
   "execution_count": 13,
   "id": "31aa19b4",
   "metadata": {},
   "outputs": [],
   "source": [
    "label_names = ['Walking', 'Walking upstairs', 'Walking downstairs', 'Sitting', 'Standing', 'Laying']\n",
    "num_outputs = len(label_names)"
   ]
  },
  {
   "cell_type": "code",
   "execution_count": 14,
   "id": "adef527c",
   "metadata": {},
   "outputs": [],
   "source": [
    "# one hot encoding\n",
    "\n",
    "y_train = np.eye(len(label_names))[(y_train-1).astype(int)]\n",
    "y_test = np.eye(len(label_names))[(y_train-1).astype(int)]"
   ]
  },
  {
   "cell_type": "code",
   "execution_count": 15,
   "id": "84bcd1dc",
   "metadata": {},
   "outputs": [
    {
     "data": {
      "text/plain": [
       "(7352, 128, 3)"
      ]
     },
     "execution_count": 15,
     "metadata": {},
     "output_type": "execute_result"
    }
   ],
   "source": [
    "X_xyz_norm_train.shape"
   ]
  },
  {
   "cell_type": "code",
   "execution_count": 16,
   "id": "d6d23581",
   "metadata": {},
   "outputs": [],
   "source": [
    "input_shape = X_xyz_norm_train.shape[1:]"
   ]
  },
  {
   "cell_type": "markdown",
   "id": "685dd80e",
   "metadata": {},
   "source": [
    "In TF1 placeholder would be needed to get shape of `(None, 128, 3)` but here we take `(128, 3)` as input shape instead"
   ]
  },
  {
   "cell_type": "markdown",
   "id": "2393633a",
   "metadata": {},
   "source": [
    "<H1>Implementing CNN</H1>"
   ]
  },
  {
   "cell_type": "code",
   "execution_count": 17,
   "id": "06ec22ae",
   "metadata": {},
   "outputs": [],
   "source": [
    "cnn = models.Sequential()\n",
    "cnn.add(layers.Conv1D(filters=64, kernel_size=2, activation='relu', input_shape=input_shape))\n",
    "# cnn.add(layers.MaxPool1D(pool_size=2))\n",
    "cnn.add(layers.Flatten())\n",
    "cnn.add(layers.Dense(100, activation='relu'))\n",
    "cnn.add(layers.Dense(30, activation='relu'))\n",
    "cnn.add(layers.Dense(num_outputs,activation='softmax'))"
   ]
  },
  {
   "cell_type": "code",
   "execution_count": 18,
   "id": "584f8db8",
   "metadata": {},
   "outputs": [
    {
     "name": "stdout",
     "output_type": "stream",
     "text": [
      "Model: \"sequential\"\n",
      "_________________________________________________________________\n",
      " Layer (type)                Output Shape              Param #   \n",
      "=================================================================\n",
      " conv1d (Conv1D)             (None, 127, 64)           448       \n",
      "                                                                 \n",
      " flatten (Flatten)           (None, 8128)              0         \n",
      "                                                                 \n",
      " dense (Dense)               (None, 100)               812900    \n",
      "                                                                 \n",
      " dense_1 (Dense)             (None, 30)                3030      \n",
      "                                                                 \n",
      " dense_2 (Dense)             (None, 6)                 186       \n",
      "                                                                 \n",
      "=================================================================\n",
      "Total params: 816,564\n",
      "Trainable params: 816,564\n",
      "Non-trainable params: 0\n",
      "_________________________________________________________________\n"
     ]
    }
   ],
   "source": [
    "cnn.summary()"
   ]
  },
  {
   "cell_type": "code",
   "execution_count": 19,
   "id": "e6f59b08",
   "metadata": {},
   "outputs": [],
   "source": [
    "# optimizer = tf.keras.optimizers.SGD(learning_rate=0.01)\n",
    "cnn.compile(optimizer=\"adam\",\n",
    "           loss=\"categorical_crossentropy\",\n",
    "           metrics=\"accuracy\")"
   ]
  },
  {
   "cell_type": "code",
   "execution_count": 23,
   "id": "28cfe256",
   "metadata": {},
   "outputs": [
    {
     "name": "stdout",
     "output_type": "stream",
     "text": [
      "Epoch 1/30\n",
      "736/736 [==============================] - 2s 2ms/step - loss: 0.9479 - accuracy: 0.5339\n",
      "Epoch 2/30\n",
      "736/736 [==============================] - 2s 2ms/step - loss: 0.6816 - accuracy: 0.6325\n",
      "Epoch 3/30\n",
      "736/736 [==============================] - 2s 2ms/step - loss: 0.6311 - accuracy: 0.6737\n",
      "Epoch 4/30\n",
      "736/736 [==============================] - 2s 2ms/step - loss: 0.5728 - accuracy: 0.7220\n",
      "Epoch 5/30\n",
      "736/736 [==============================] - 2s 2ms/step - loss: 0.5191 - accuracy: 0.7603\n",
      "Epoch 6/30\n",
      "736/736 [==============================] - 2s 2ms/step - loss: 0.4850 - accuracy: 0.7720\n",
      "Epoch 7/30\n",
      "736/736 [==============================] - 2s 2ms/step - loss: 0.4562 - accuracy: 0.7866\n",
      "Epoch 8/30\n",
      "736/736 [==============================] - 2s 2ms/step - loss: 0.4547 - accuracy: 0.7942\n",
      "Epoch 9/30\n",
      "736/736 [==============================] - 2s 2ms/step - loss: 0.4329 - accuracy: 0.8048\n",
      "Epoch 10/30\n",
      "736/736 [==============================] - 2s 2ms/step - loss: 0.4142 - accuracy: 0.8181\n",
      "Epoch 11/30\n",
      "736/736 [==============================] - 2s 2ms/step - loss: 0.3971 - accuracy: 0.8267\n",
      "Epoch 12/30\n",
      "736/736 [==============================] - 2s 2ms/step - loss: 0.3934 - accuracy: 0.8285\n",
      "Epoch 13/30\n",
      "736/736 [==============================] - 2s 2ms/step - loss: 0.3772 - accuracy: 0.8399\n",
      "Epoch 14/30\n",
      "736/736 [==============================] - 2s 2ms/step - loss: 0.3579 - accuracy: 0.8449\n",
      "Epoch 15/30\n",
      "736/736 [==============================] - 2s 2ms/step - loss: 0.3275 - accuracy: 0.8618\n",
      "Epoch 16/30\n",
      "736/736 [==============================] - 2s 2ms/step - loss: 0.3671 - accuracy: 0.8515\n",
      "Epoch 17/30\n",
      "736/736 [==============================] - 2s 2ms/step - loss: 0.3108 - accuracy: 0.8705\n",
      "Epoch 18/30\n",
      "736/736 [==============================] - 2s 2ms/step - loss: 0.3057 - accuracy: 0.8739\n",
      "Epoch 19/30\n",
      "736/736 [==============================] - 2s 2ms/step - loss: 0.2921 - accuracy: 0.8746\n",
      "Epoch 20/30\n",
      "736/736 [==============================] - 2s 2ms/step - loss: 0.2842 - accuracy: 0.8829\n",
      "Epoch 21/30\n",
      "736/736 [==============================] - 2s 3ms/step - loss: 0.2758 - accuracy: 0.8868\n",
      "Epoch 22/30\n",
      "736/736 [==============================] - 2s 2ms/step - loss: 0.2777 - accuracy: 0.8923\n",
      "Epoch 23/30\n",
      "736/736 [==============================] - 2s 2ms/step - loss: 0.2400 - accuracy: 0.9044\n",
      "Epoch 24/30\n",
      "736/736 [==============================] - 2s 2ms/step - loss: 0.2544 - accuracy: 0.9015\n",
      "Epoch 25/30\n",
      "736/736 [==============================] - 2s 2ms/step - loss: 0.2167 - accuracy: 0.9131\n",
      "Epoch 26/30\n",
      "736/736 [==============================] - 2s 2ms/step - loss: 0.1968 - accuracy: 0.9203\n",
      "Epoch 27/30\n",
      "736/736 [==============================] - 2s 2ms/step - loss: 0.2243 - accuracy: 0.9180\n",
      "Epoch 28/30\n",
      "736/736 [==============================] - 2s 2ms/step - loss: 0.2138 - accuracy: 0.9226\n",
      "Epoch 29/30\n",
      "736/736 [==============================] - 2s 2ms/step - loss: 0.1674 - accuracy: 0.9340\n",
      "Epoch 30/30\n",
      "736/736 [==============================] - 2s 2ms/step - loss: 0.1598 - accuracy: 0.9363\n"
     ]
    }
   ],
   "source": [
    "cnnhistory = cnn.fit(X_xyz_norm_train, y_train, epochs=30, batch_size = 10)"
   ]
  },
  {
   "cell_type": "code",
   "execution_count": 24,
   "id": "914130fb",
   "metadata": {},
   "outputs": [],
   "source": [
    "# cnn.save(\"my_model\")\n",
    "# tensorflow_graph = tf.saved_model.load(\"my_model\")\n",
    "# x = np.random.uniform(size=(4, 32)).astype(np.float32)\n",
    "# predicted = tensorflow_graph(x).numpy()"
   ]
  },
  {
   "cell_type": "code",
   "execution_count": 25,
   "id": "6e1b2fec",
   "metadata": {},
   "outputs": [
    {
     "data": {
      "image/png": "[encoded data removed]",
      "text/plain": [
       "<Figure size 432x288 with 1 Axes>"
      ]
     },
     "metadata": {
      "needs_background": "light"
     },
     "output_type": "display_data"
    }
   ],
   "source": [
    "loss_values = cnnhistory.history['loss']\n",
    "epochs = range(1, len(loss_values)+1)\n",
    "\n",
    "plt.plot(epochs, loss_values, label='Training Loss')\n",
    "plt.xlabel('Epochs')\n",
    "plt.ylabel('Loss')\n",
    "plt.legend()\n",
    "\n",
    "plt.show()"
   ]
  },
  {
   "cell_type": "code",
   "execution_count": 26,
   "id": "3ec887f3",
   "metadata": {},
   "outputs": [
    {
     "data": {
      "image/png": "[encoded data removed]",
      "text/plain": [
       "<Figure size 432x288 with 1 Axes>"
      ]
     },
     "metadata": {
      "needs_background": "light"
     },
     "output_type": "display_data"
    }
   ],
   "source": [
    "acc_values = cnnhistory.history['accuracy']\n",
    "epochs = range(1, len(loss_values)+1)\n",
    "\n",
    "plt.plot(epochs, acc_values, label='Training Accuracy')\n",
    "plt.xlabel('Epochs')\n",
    "plt.ylabel('Accuracy')\n",
    "plt.legend()\n",
    "\n",
    "plt.show()"
   ]
  },
  {
   "cell_type": "code",
   "execution_count": 27,
   "id": "43881807",
   "metadata": {},
   "outputs": [
    {
     "name": "stdout",
     "output_type": "stream",
     "text": [
      "array([[2.6025677e-05, 6.4557767e-05, 5.2852818e-07, 1.3772850e-01,\n",
      "        8.0242372e-01, 5.9756737e-02],\n",
      "       [3.7876525e-05, 3.9204540e-05, 7.1118319e-07, 4.6961582e-01,\n",
      "        5.1498961e-01, 1.5316817e-02],\n",
      "       [1.8401982e-04, 1.1497659e-04, 3.3713345e-06, 3.4160495e-02,\n",
      "        9.5804244e-01, 7.4947923e-03],\n",
      "       ...,\n",
      "       [1.6142330e-13, 1.0000000e+00, 3.4971194e-08, 1.0317560e-21,\n",
      "        6.5041261e-37, 2.4784678e-26],\n",
      "       [1.1941105e-13, 1.0000000e+00, 9.4783494e-11, 6.2027886e-26,\n",
      "        0.0000000e+00, 2.5504682e-27],\n",
      "       [4.5512552e-13, 9.0587682e-01, 9.4123140e-02, 3.8493852e-16,\n",
      "        0.0000000e+00, 3.7063656e-25]], dtype=float32)\n",
      "array([[[0., 0., 0., 0., 0., 1.],\n",
      "        [0., 0., 0., 0., 0., 1.],\n",
      "        [0., 0., 0., 0., 0., 1.],\n",
      "        [0., 0., 0., 0., 0., 1.],\n",
      "        [1., 0., 0., 0., 0., 0.],\n",
      "        [0., 0., 0., 0., 0., 1.]],\n",
      "\n",
      "       [[0., 0., 0., 0., 0., 1.],\n",
      "        [0., 0., 0., 0., 0., 1.],\n",
      "        [0., 0., 0., 0., 0., 1.],\n",
      "        [0., 0., 0., 0., 0., 1.],\n",
      "        [1., 0., 0., 0., 0., 0.],\n",
      "        [0., 0., 0., 0., 0., 1.]],\n",
      "\n",
      "       [[0., 0., 0., 0., 0., 1.],\n",
      "        [0., 0., 0., 0., 0., 1.],\n",
      "        [0., 0., 0., 0., 0., 1.],\n",
      "        [0., 0., 0., 0., 0., 1.],\n",
      "        [1., 0., 0., 0., 0., 0.],\n",
      "        [0., 0., 0., 0., 0., 1.]],\n",
      "\n",
      "       ...,\n",
      "\n",
      "       [[0., 0., 0., 0., 0., 1.],\n",
      "        [1., 0., 0., 0., 0., 0.],\n",
      "        [0., 0., 0., 0., 0., 1.],\n",
      "        [0., 0., 0., 0., 0., 1.],\n",
      "        [0., 0., 0., 0., 0., 1.],\n",
      "        [0., 0., 0., 0., 0., 1.]],\n",
      "\n",
      "       [[0., 0., 0., 0., 0., 1.],\n",
      "        [1., 0., 0., 0., 0., 0.],\n",
      "        [0., 0., 0., 0., 0., 1.],\n",
      "        [0., 0., 0., 0., 0., 1.],\n",
      "        [0., 0., 0., 0., 0., 1.],\n",
      "        [0., 0., 0., 0., 0., 1.]],\n",
      "\n",
      "       [[0., 0., 0., 0., 0., 1.],\n",
      "        [1., 0., 0., 0., 0., 0.],\n",
      "        [0., 0., 0., 0., 0., 1.],\n",
      "        [0., 0., 0., 0., 0., 1.],\n",
      "        [0., 0., 0., 0., 0., 1.],\n",
      "        [0., 0., 0., 0., 0., 1.]]])\n"
     ]
    }
   ],
   "source": [
    "y_test_pred = cnn.predict(X_xyz_norm_test)\n",
    "pprint.pprint(y_test_pred)\n",
    "pprint.pprint(y_test)"
   ]
  },
  {
   "cell_type": "code",
   "execution_count": 35,
   "id": "6004d072",
   "metadata": {},
   "outputs": [],
   "source": [
    "# tf.math.confusion_matrix(y_test,yhat)"
   ]
  },
  {
   "cell_type": "markdown",
   "id": "d85ab0db",
   "metadata": {},
   "source": [
    "<H1>Implementing LSTM</H1>"
   ]
  },
  {
   "cell_type": "code",
   "execution_count": 29,
   "id": "f633ae6c",
   "metadata": {},
   "outputs": [],
   "source": [
    "# LSTM\n",
    "\n",
    "lstm = models.Sequential()\n",
    "lstm.add(layers.Bidirectional(\n",
    "    layers.LSTM(128),input_shape=input_shape\n",
    "))\n",
    "\n",
    "lstm.add(layers.Dropout(rate=0.2))\n",
    "lstm.add(layers.Dense(6,activation=\"softmax\"))\n",
    "\n"
   ]
  },
  {
   "cell_type": "code",
   "execution_count": 30,
   "id": "061e1388",
   "metadata": {},
   "outputs": [
    {
     "name": "stdout",
     "output_type": "stream",
     "text": [
      "Model: \"sequential_1\"\n",
      "_________________________________________________________________\n",
      " Layer (type)                Output Shape              Param #   \n",
      "=================================================================\n",
      " bidirectional (Bidirectiona  (None, 256)              135168    \n",
      " l)                                                              \n",
      "                                                                 \n",
      " dropout (Dropout)           (None, 256)               0         \n",
      "                                                                 \n",
      " dense_3 (Dense)             (None, 6)                 1542      \n",
      "                                                                 \n",
      "=================================================================\n",
      "Total params: 136,710\n",
      "Trainable params: 136,710\n",
      "Non-trainable params: 0\n",
      "_________________________________________________________________\n"
     ]
    }
   ],
   "source": [
    "lstm.summary()"
   ]
  },
  {
   "cell_type": "code",
   "execution_count": 31,
   "id": "988ff08c",
   "metadata": {},
   "outputs": [],
   "source": [
    "lstm.compile(optimizer = \"adam\",\n",
    "            loss=\"categorical_crossentropy\",\n",
    "            metrics = \"accuracy\"\n",
    "            )"
   ]
  },
  {
   "cell_type": "code",
   "execution_count": 32,
   "id": "2a2f3732",
   "metadata": {},
   "outputs": [
    {
     "name": "stdout",
     "output_type": "stream",
     "text": [
      "Epoch 1/30\n",
      "736/736 [==============================] - 15s 19ms/step - loss: 1.0118 - accuracy: 0.4661\n",
      "Epoch 2/30\n",
      "736/736 [==============================] - 14s 19ms/step - loss: 0.9135 - accuracy: 0.5092\n",
      "Epoch 3/30\n",
      "736/736 [==============================] - 14s 19ms/step - loss: 0.8641 - accuracy: 0.5486\n",
      "Epoch 4/30\n",
      "736/736 [==============================] - 14s 19ms/step - loss: 0.8286 - accuracy: 0.5665\n",
      "Epoch 5/30\n",
      "736/736 [==============================] - 14s 19ms/step - loss: 0.8472 - accuracy: 0.5579\n",
      "Epoch 6/30\n",
      "736/736 [==============================] - 14s 19ms/step - loss: 0.7183 - accuracy: 0.6057\n",
      "Epoch 7/30\n",
      "736/736 [==============================] - 14s 19ms/step - loss: 0.6648 - accuracy: 0.6186\n",
      "Epoch 8/30\n",
      "736/736 [==============================] - 14s 19ms/step - loss: 0.6537 - accuracy: 0.6215\n",
      "Epoch 9/30\n",
      "736/736 [==============================] - 14s 19ms/step - loss: 0.6584 - accuracy: 0.6243\n",
      "Epoch 10/30\n",
      "736/736 [==============================] - 14s 19ms/step - loss: 0.6518 - accuracy: 0.6246\n",
      "Epoch 11/30\n",
      "736/736 [==============================] - 14s 19ms/step - loss: 0.6223 - accuracy: 0.6415\n",
      "Epoch 12/30\n",
      "736/736 [==============================] - 14s 19ms/step - loss: 0.6281 - accuracy: 0.6432\n",
      "Epoch 13/30\n",
      "736/736 [==============================] - 14s 20ms/step - loss: 0.6180 - accuracy: 0.6447\n",
      "Epoch 14/30\n",
      "736/736 [==============================] - 15s 21ms/step - loss: 0.6420 - accuracy: 0.6276\n",
      "Epoch 15/30\n",
      "736/736 [==============================] - 15s 20ms/step - loss: 0.6200 - accuracy: 0.6387\n",
      "Epoch 16/30\n",
      "736/736 [==============================] - 15s 21ms/step - loss: 0.6200 - accuracy: 0.6576\n",
      "Epoch 17/30\n",
      "736/736 [==============================] - 16s 22ms/step - loss: 0.6366 - accuracy: 0.6342\n",
      "Epoch 18/30\n",
      "736/736 [==============================] - 16s 22ms/step - loss: 0.6341 - accuracy: 0.6400\n",
      "Epoch 19/30\n",
      "736/736 [==============================] - 16s 21ms/step - loss: 0.6193 - accuracy: 0.6427\n",
      "Epoch 20/30\n",
      "736/736 [==============================] - 15s 21ms/step - loss: 0.6208 - accuracy: 0.6382\n",
      "Epoch 21/30\n",
      "736/736 [==============================] - 15s 21ms/step - loss: 0.6019 - accuracy: 0.6510\n",
      "Epoch 22/30\n",
      "736/736 [==============================] - 16s 21ms/step - loss: 0.6612 - accuracy: 0.6315\n",
      "Epoch 23/30\n",
      "736/736 [==============================] - 16s 21ms/step - loss: 0.6130 - accuracy: 0.6495\n",
      "Epoch 24/30\n",
      "736/736 [==============================] - 16s 21ms/step - loss: 0.6091 - accuracy: 0.6489\n",
      "Epoch 25/30\n",
      "736/736 [==============================] - 16s 21ms/step - loss: 0.6116 - accuracy: 0.6483\n",
      "Epoch 26/30\n",
      "736/736 [==============================] - 16s 21ms/step - loss: 0.5983 - accuracy: 0.6602\n",
      "Epoch 27/30\n",
      "736/736 [==============================] - 16s 21ms/step - loss: 0.5861 - accuracy: 0.6789\n",
      "Epoch 28/30\n",
      "736/736 [==============================] - 15s 21ms/step - loss: 0.6214 - accuracy: 0.6582\n",
      "Epoch 29/30\n",
      "736/736 [==============================] - 15s 21ms/step - loss: 0.6143 - accuracy: 0.6473\n",
      "Epoch 30/30\n",
      "736/736 [==============================] - 16s 22ms/step - loss: 0.5965 - accuracy: 0.6663\n"
     ]
    }
   ],
   "source": [
    "lstmhistory = lstm.fit(X_xyz_norm_train,y_train,epochs = 30,batch_size=10)"
   ]
  },
  {
   "cell_type": "code",
   "execution_count": 33,
   "id": "87735797",
   "metadata": {},
   "outputs": [
    {
     "data": {
      "image/png": "[encoded data removed]",
      "text/plain": [
       "<Figure size 432x288 with 1 Axes>"
      ]
     },
     "metadata": {
      "needs_background": "light"
     },
     "output_type": "display_data"
    }
   ],
   "source": [
    "loss_values = lstmhistory.history['loss']\n",
    "epochs = range(1, len(loss_values)+1)\n",
    "\n",
    "plt.plot(epochs, loss_values, label='Training Loss')\n",
    "plt.xlabel('Epochs')\n",
    "plt.ylabel('Loss')\n",
    "plt.legend()\n",
    "\n",
    "plt.show()"
   ]
  },
  {
   "cell_type": "code",
   "execution_count": 34,
   "id": "cd69e1ff",
   "metadata": {},
   "outputs": [
    {
     "data": {
      "image/png": "[encoded data removed]",
      "text/plain": [
       "<Figure size 432x288 with 1 Axes>"
      ]
     },
     "metadata": {
      "needs_background": "light"
     },
     "output_type": "display_data"
    }
   ],
   "source": [
    "acc_values = lstmhistory.history['accuracy']\n",
    "epochs = range(1, len(loss_values)+1)\n",
    "\n",
    "plt.plot(epochs, acc_values, label='Training Accuracy')\n",
    "plt.xlabel('Epochs')\n",
    "plt.ylabel('Accuracy')\n",
    "plt.legend()\n",
    "\n",
    "plt.show()"
   ]
  }
 ],
 "metadata": {
  "kernelspec": {
   "display_name": "Python 3 (ipykernel)",
   "language": "python",
   "name": "python3"
  },
  "language_info": {
   "codemirror_mode": {
    "name": "ipython",
    "version": 3
   },
   "file_extension": ".py",
   "mimetype": "text/x-python",
   "name": "python",
   "nbconvert_exporter": "python",
   "pygments_lexer": "ipython3",
   "version": "3.10.2"
  }
 },
 "nbformat": 4,
 "nbformat_minor": 5
}
