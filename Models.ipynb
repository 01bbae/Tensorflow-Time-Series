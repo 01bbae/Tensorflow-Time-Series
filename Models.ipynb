{
 "cells": [
  {
   "cell_type": "code",
   "execution_count": 1,
   "id": "a78ef61e",
   "metadata": {},
   "outputs": [
    {
     "data": {
      "text/plain": [
       "'2.8.0'"
      ]
     },
     "execution_count": 1,
     "metadata": {},
     "output_type": "execute_result"
    }
   ],
   "source": [
    "import numpy as np\n",
    "import pandas as pd\n",
    "import tensorflow as tf\n",
    "from tensorflow.keras import datasets, layers, models, losses, optimizers, Input, optimizers\n",
    "from matplotlib import pyplot as plt\n",
    "from tqdm.notebook import tqdm\n",
    "from time import sleep\n",
    "from sklearn.preprocessing import StandardScaler\n",
    "import time\n",
    "import pprint\n",
    "tf.__version__"
   ]
  },
  {
   "cell_type": "code",
   "execution_count": 2,
   "id": "ee1bbbbe",
   "metadata": {},
   "outputs": [],
   "source": [
    "start = time.perf_counter()"
   ]
  },
  {
   "cell_type": "code",
   "execution_count": 3,
   "id": "75a254d8",
   "metadata": {
    "scrolled": true
   },
   "outputs": [
    {
     "data": {
      "text/plain": [
       "True"
      ]
     },
     "execution_count": 3,
     "metadata": {},
     "output_type": "execute_result"
    }
   ],
   "source": [
    "len(tf.config.list_physical_devices('GPU'))>0"
   ]
  },
  {
   "cell_type": "code",
   "execution_count": 4,
   "id": "5661d1f1",
   "metadata": {},
   "outputs": [
    {
     "name": "stdout",
     "output_type": "stream",
     "text": [
      "/device:GPU:0\n"
     ]
    }
   ],
   "source": [
    "device_name = tf.test.gpu_device_name()\n",
    "print(device_name)"
   ]
  },
  {
   "cell_type": "code",
   "execution_count": 5,
   "id": "96dfd861",
   "metadata": {},
   "outputs": [],
   "source": [
    "X_x_train = np.loadtxt(\"./data/X_x_train.txt\")\n",
    "X_y_train = np.loadtxt(\"./data/X_y_train.txt\")\n",
    "X_z_train = np.loadtxt(\"./data/X_z_train.txt\")\n",
    "y_train = np.loadtxt(\"./data/y_train.txt\")\n",
    "\n",
    "X_x_test = np.loadtxt(\"./data/X_x_train.txt\")\n",
    "X_y_test = np.loadtxt(\"./data/X_y_train.txt\")\n",
    "X_z_test = np.loadtxt(\"./data/X_z_train.txt\")\n",
    "y_test = np.loadtxt(\"./data/y_train.txt\")"
   ]
  },
  {
   "cell_type": "code",
   "execution_count": 6,
   "id": "8d025576",
   "metadata": {
    "scrolled": true
   },
   "outputs": [],
   "source": [
    "# for i, r in tqdm(X_x_train[:], total=X_x_train.shape[0], desc=\"printing graphs...\"):\n",
    "#     print(\"plot\" +str(i))\n",
    "#     row = X_x_train[i,:-1]\n",
    "#     y = X_x_train[i,-1:]\n",
    "#     print(label_names[int(y)-1])\n",
    "#     plt.plot(row)\n",
    "#     plt.show()\n"
   ]
  },
  {
   "cell_type": "code",
   "execution_count": 7,
   "id": "26ded89b",
   "metadata": {},
   "outputs": [],
   "source": [
    "def standard_score_normalization(x):\n",
    "    x_m = np.mean(x, axis=1).reshape(-1,1)\n",
    "    x_std = np.std(x,axis=1).reshape(-1,1)\n",
    "    return (x-x_m)/x_std"
   ]
  },
  {
   "cell_type": "code",
   "execution_count": 8,
   "id": "dd6bc501",
   "metadata": {},
   "outputs": [],
   "source": [
    "norm = StandardScaler()"
   ]
  },
  {
   "cell_type": "code",
   "execution_count": 9,
   "id": "a8f685c2",
   "metadata": {},
   "outputs": [],
   "source": [
    "X_x_train_norm = norm.fit_transform(X_x_train)\n",
    "X_y_train_norm = norm.fit_transform(X_y_train)\n",
    "X_z_train_norm = norm.fit_transform(X_y_train)\n",
    "\n",
    "X_x_test_norm = norm.fit_transform(X_x_test)\n",
    "X_y_test_norm = norm.fit_transform(X_y_test)\n",
    "X_z_test_norm = norm.fit_transform(X_z_test)"
   ]
  },
  {
   "cell_type": "markdown",
   "id": "dd67c753",
   "metadata": {},
   "source": [
    "### Below I'm comparing two different concatenation functions.\n",
    "\n",
    "concat_xyz is vectorizing calculations while concat2_xyz is iterating"
   ]
  },
  {
   "cell_type": "code",
   "execution_count": 10,
   "id": "fbc18999",
   "metadata": {},
   "outputs": [],
   "source": [
    "def concat_xyz(x,y,z):\n",
    "    data = np.empty((x.shape[0],x.shape[1],3))\n",
    "#     x = np.expand_dims(x, axis=1) # same as x = x[:,np.newaxis,:]\n",
    "#     y = np.expand_dims(y, axis=1)\n",
    "#     z = np.expand_dims(z, axis=1)\n",
    "    data[:,:,0] = x\n",
    "    data[:,:,1] = y\n",
    "    data[:,:,2] = z\n",
    "    return data"
   ]
  },
  {
   "cell_type": "code",
   "execution_count": 11,
   "id": "5957825d",
   "metadata": {},
   "outputs": [],
   "source": [
    "#speed test purposes\n",
    "def concat2_xyz(x,y,z):\n",
    "    data = np.empty((x.shape[0],x.shape[1],3))\n",
    "    for i, rowx,rowy, rowz in zip(range(x.shape[0]),x,y,z):\n",
    "        data[i,:,0] = rowx.reshape(1,-1)\n",
    "        data[i,:,1] = rowy.reshape(1,-1)\n",
    "        data[i,:,2] = rowz.reshape(1,-1)\n",
    "    return data"
   ]
  },
  {
   "cell_type": "code",
   "execution_count": 12,
   "id": "911dfb2f",
   "metadata": {},
   "outputs": [
    {
     "name": "stdout",
     "output_type": "stream",
     "text": [
      "concat_xyz in 0.0113 seconds\n"
     ]
    }
   ],
   "source": [
    "tic = time.perf_counter()\n",
    "X_xyz_norm_train =  concat_xyz(X_x_train_norm,X_y_train_norm, X_z_train_norm)\n",
    "X_xyz_norm_test = concat_xyz(X_x_test_norm,X_y_test_norm,X_z_test_norm)\n",
    "toc = time.perf_counter()\n",
    "print(f\"concat_xyz in {toc - tic:0.4f} seconds\")"
   ]
  },
  {
   "cell_type": "code",
   "execution_count": 13,
   "id": "06f8b17c",
   "metadata": {},
   "outputs": [
    {
     "name": "stdout",
     "output_type": "stream",
     "text": [
      "concat2_xyz in 0.0188 seconds\n"
     ]
    }
   ],
   "source": [
    "#speed test purposes\n",
    "tic = time.perf_counter()\n",
    "concat2_xyz(X_x_train_norm,X_y_train_norm, X_z_train_norm)\n",
    "concat_xyz(X_x_test_norm,X_y_test_norm,X_z_test_norm)\n",
    "toc = time.perf_counter()\n",
    "print(f\"concat2_xyz in {toc - tic:0.4f} seconds\")"
   ]
  },
  {
   "cell_type": "markdown",
   "id": "57b58b94",
   "metadata": {},
   "source": [
    "#### Vectorizing calculations is faster\n"
   ]
  },
  {
   "cell_type": "code",
   "execution_count": 14,
   "id": "31aa19b4",
   "metadata": {},
   "outputs": [],
   "source": [
    "label_names = ['Walking', 'Walking upstairs', 'Walking downstairs', 'Sitting', 'Standing', 'Laying']\n",
    "num_outputs = len(label_names)"
   ]
  },
  {
   "cell_type": "code",
   "execution_count": 15,
   "id": "adef527c",
   "metadata": {},
   "outputs": [],
   "source": [
    "# one hot encoding\n",
    "\n",
    "y_train = np.eye(len(label_names))[(y_train-1).astype(int)]\n",
    "y_test = np.eye(len(label_names))[(y_train-1).astype(int)]"
   ]
  },
  {
   "cell_type": "code",
   "execution_count": 16,
   "id": "84bcd1dc",
   "metadata": {},
   "outputs": [
    {
     "data": {
      "text/plain": [
       "(7352, 128, 3)"
      ]
     },
     "execution_count": 16,
     "metadata": {},
     "output_type": "execute_result"
    }
   ],
   "source": [
    "X_xyz_norm_train.shape"
   ]
  },
  {
   "cell_type": "code",
   "execution_count": 17,
   "id": "d6d23581",
   "metadata": {},
   "outputs": [],
   "source": [
    "input_shape = X_xyz_norm_train.shape[1:]"
   ]
  },
  {
   "cell_type": "markdown",
   "id": "602c426b",
   "metadata": {},
   "source": [
    "In TF1 placeholder would be needed to get shape of `(None, 128, 3)` but here we take `(128, 3)` as input shape instead"
   ]
  },
  {
   "cell_type": "markdown",
   "id": "07ebb536",
   "metadata": {},
   "source": [
    "<H1>Implementing CNN</H1>"
   ]
  },
  {
   "cell_type": "code",
   "execution_count": 18,
   "id": "06ec22ae",
   "metadata": {},
   "outputs": [],
   "source": [
    "cnn = models.Sequential()\n",
    "cnn.add(layers.Conv1D(filters=64, kernel_size=2, activation='relu', input_shape=input_shape))\n",
    "# cnn.add(layers.MaxPool1D(pool_size=2))\n",
    "cnn.add(layers.Flatten())\n",
    "cnn.add(layers.Dense(100, activation='relu'))\n",
    "cnn.add(layers.Dense(30, activation='relu'))\n",
    "cnn.add(layers.Dense(num_outputs,activation='softmax'))"
   ]
  },
  {
   "cell_type": "code",
   "execution_count": 19,
   "id": "584f8db8",
   "metadata": {},
   "outputs": [
    {
     "name": "stdout",
     "output_type": "stream",
     "text": [
      "Model: \"sequential\"\n",
      "_________________________________________________________________\n",
      " Layer (type)                Output Shape              Param #   \n",
      "=================================================================\n",
      " conv1d (Conv1D)             (None, 127, 64)           448       \n",
      "                                                                 \n",
      " flatten (Flatten)           (None, 8128)              0         \n",
      "                                                                 \n",
      " dense (Dense)               (None, 100)               812900    \n",
      "                                                                 \n",
      " dense_1 (Dense)             (None, 30)                3030      \n",
      "                                                                 \n",
      " dense_2 (Dense)             (None, 6)                 186       \n",
      "                                                                 \n",
      "=================================================================\n",
      "Total params: 816,564\n",
      "Trainable params: 816,564\n",
      "Non-trainable params: 0\n",
      "_________________________________________________________________\n"
     ]
    }
   ],
   "source": [
    "cnn.summary()"
   ]
  },
  {
   "cell_type": "code",
   "execution_count": 20,
   "id": "e6f59b08",
   "metadata": {},
   "outputs": [],
   "source": [
    "# optimizer = tf.keras.optimizers.SGD(learning_rate=0.01)\n",
    "cnn.compile(optimizer=\"adam\",\n",
    "           loss=\"categorical_crossentropy\",\n",
    "           metrics=\"accuracy\")"
   ]
  },
  {
   "cell_type": "code",
   "execution_count": 21,
   "id": "28cfe256",
   "metadata": {},
   "outputs": [
    {
     "name": "stdout",
     "output_type": "stream",
     "text": [
      "Epoch 1/100\n",
      "736/736 [==============================] - 4s 1ms/step - loss: 0.9375 - accuracy: 0.5233\n",
      "Epoch 2/100\n",
      "736/736 [==============================] - 1s 1ms/step - loss: 0.6909 - accuracy: 0.6344\n",
      "Epoch 3/100\n",
      "736/736 [==============================] - 1s 1ms/step - loss: 0.6256 - accuracy: 0.6798\n",
      "Epoch 4/100\n",
      "736/736 [==============================] - 1s 1ms/step - loss: 0.5869 - accuracy: 0.7221\n",
      "Epoch 5/100\n",
      "736/736 [==============================] - 1s 1ms/step - loss: 0.5208 - accuracy: 0.7550\n",
      "Epoch 6/100\n",
      "736/736 [==============================] - 1s 1ms/step - loss: 0.4831 - accuracy: 0.7715\n",
      "Epoch 7/100\n",
      "736/736 [==============================] - 1s 1ms/step - loss: 0.4556 - accuracy: 0.7882\n",
      "Epoch 8/100\n",
      "736/736 [==============================] - 1s 1ms/step - loss: 0.4456 - accuracy: 0.8014\n",
      "Epoch 9/100\n",
      "736/736 [==============================] - 1s 1ms/step - loss: 0.4276 - accuracy: 0.8074\n",
      "Epoch 10/100\n",
      "736/736 [==============================] - 1s 1ms/step - loss: 0.4150 - accuracy: 0.8173\n",
      "Epoch 11/100\n",
      "736/736 [==============================] - 1s 1ms/step - loss: 0.3986 - accuracy: 0.8222\n",
      "Epoch 12/100\n",
      "736/736 [==============================] - 1s 1ms/step - loss: 0.3863 - accuracy: 0.8338\n",
      "Epoch 13/100\n",
      "736/736 [==============================] - 1s 1ms/step - loss: 0.3654 - accuracy: 0.8424\n",
      "Epoch 14/100\n",
      "736/736 [==============================] - 1s 1ms/step - loss: 0.3368 - accuracy: 0.8519\n",
      "Epoch 15/100\n",
      "736/736 [==============================] - 1s 1ms/step - loss: 0.3899 - accuracy: 0.8418\n",
      "Epoch 16/100\n",
      "736/736 [==============================] - 1s 1ms/step - loss: 0.3288 - accuracy: 0.8594\n",
      "Epoch 17/100\n",
      "736/736 [==============================] - 1s 1ms/step - loss: 0.3127 - accuracy: 0.8651\n",
      "Epoch 18/100\n",
      "736/736 [==============================] - 1s 1ms/step - loss: 0.2877 - accuracy: 0.8761\n",
      "Epoch 19/100\n",
      "736/736 [==============================] - 1s 1ms/step - loss: 0.2867 - accuracy: 0.8849\n",
      "Epoch 20/100\n",
      "736/736 [==============================] - 1s 1ms/step - loss: 0.2898 - accuracy: 0.8803\n",
      "Epoch 21/100\n",
      "736/736 [==============================] - 1s 1ms/step - loss: 0.2801 - accuracy: 0.8856\n",
      "Epoch 22/100\n",
      "736/736 [==============================] - 1s 1ms/step - loss: 0.2453 - accuracy: 0.9014\n",
      "Epoch 23/100\n",
      "736/736 [==============================] - 1s 1ms/step - loss: 0.2386 - accuracy: 0.9007\n",
      "Epoch 24/100\n",
      "736/736 [==============================] - 1s 1ms/step - loss: 0.2260 - accuracy: 0.9063\n",
      "Epoch 25/100\n",
      "736/736 [==============================] - 1s 1ms/step - loss: 0.2176 - accuracy: 0.9163\n",
      "Epoch 26/100\n",
      "736/736 [==============================] - 1s 1ms/step - loss: 0.2175 - accuracy: 0.9159\n",
      "Epoch 27/100\n",
      "736/736 [==============================] - 1s 1ms/step - loss: 0.1901 - accuracy: 0.9257\n",
      "Epoch 28/100\n",
      "736/736 [==============================] - 1s 1ms/step - loss: 0.1763 - accuracy: 0.9286\n",
      "Epoch 29/100\n",
      "736/736 [==============================] - 1s 1ms/step - loss: 0.1864 - accuracy: 0.9312\n",
      "Epoch 30/100\n",
      "736/736 [==============================] - 1s 1ms/step - loss: 0.1588 - accuracy: 0.9370\n",
      "Epoch 31/100\n",
      "736/736 [==============================] - 1s 1ms/step - loss: 0.1477 - accuracy: 0.9450\n",
      "Epoch 32/100\n",
      "736/736 [==============================] - 1s 1ms/step - loss: 0.1585 - accuracy: 0.9434\n",
      "Epoch 33/100\n",
      "736/736 [==============================] - 1s 1ms/step - loss: 0.1487 - accuracy: 0.9501\n",
      "Epoch 34/100\n",
      "736/736 [==============================] - 1s 1ms/step - loss: 0.1388 - accuracy: 0.9538\n",
      "Epoch 35/100\n",
      "736/736 [==============================] - 1s 1ms/step - loss: 0.1189 - accuracy: 0.9578\n",
      "Epoch 36/100\n",
      "736/736 [==============================] - 1s 2ms/step - loss: 0.1005 - accuracy: 0.9641\n",
      "Epoch 37/100\n",
      "736/736 [==============================] - 1s 1ms/step - loss: 0.1073 - accuracy: 0.9671\n",
      "Epoch 38/100\n",
      "736/736 [==============================] - 1s 1ms/step - loss: 0.0826 - accuracy: 0.9729\n",
      "Epoch 39/100\n",
      "736/736 [==============================] - 1s 1ms/step - loss: 0.0979 - accuracy: 0.9737\n",
      "Epoch 40/100\n",
      "736/736 [==============================] - 1s 1ms/step - loss: 0.0553 - accuracy: 0.9833\n",
      "Epoch 41/100\n",
      "736/736 [==============================] - 1s 1ms/step - loss: 0.0464 - accuracy: 0.9867\n",
      "Epoch 42/100\n",
      "736/736 [==============================] - 1s 1ms/step - loss: 0.1065 - accuracy: 0.9748\n",
      "Epoch 43/100\n",
      "736/736 [==============================] - 1s 1ms/step - loss: 0.0765 - accuracy: 0.9789\n",
      "Epoch 44/100\n",
      "736/736 [==============================] - 1s 1ms/step - loss: 0.0422 - accuracy: 0.9886\n",
      "Epoch 45/100\n",
      "736/736 [==============================] - 1s 1ms/step - loss: 0.0661 - accuracy: 0.9867\n",
      "Epoch 46/100\n",
      "736/736 [==============================] - 1s 1ms/step - loss: 0.0258 - accuracy: 0.9936\n",
      "Epoch 47/100\n",
      "736/736 [==============================] - 1s 1ms/step - loss: 0.1276 - accuracy: 0.9747\n",
      "Epoch 48/100\n",
      "736/736 [==============================] - 1s 1ms/step - loss: 0.0502 - accuracy: 0.9882\n",
      "Epoch 49/100\n",
      "736/736 [==============================] - 1s 1ms/step - loss: 0.0352 - accuracy: 0.9931\n",
      "Epoch 50/100\n",
      "736/736 [==============================] - 1s 1ms/step - loss: 0.0334 - accuracy: 0.9916\n",
      "Epoch 51/100\n",
      "736/736 [==============================] - 1s 1ms/step - loss: 0.0210 - accuracy: 0.9951\n",
      "Epoch 52/100\n",
      "736/736 [==============================] - 1s 1ms/step - loss: 0.0584 - accuracy: 0.9854\n",
      "Epoch 53/100\n",
      "736/736 [==============================] - 1s 1ms/step - loss: 0.0360 - accuracy: 0.9897\n",
      "Epoch 54/100\n",
      "736/736 [==============================] - 1s 1ms/step - loss: 0.0211 - accuracy: 0.9965\n",
      "Epoch 55/100\n",
      "736/736 [==============================] - 1s 1ms/step - loss: 0.0849 - accuracy: 0.9859\n",
      "Epoch 56/100\n",
      "736/736 [==============================] - 1s 1ms/step - loss: 0.0981 - accuracy: 0.9788\n",
      "Epoch 57/100\n",
      "736/736 [==============================] - 1s 1ms/step - loss: 0.0333 - accuracy: 0.9935\n",
      "Epoch 58/100\n",
      "736/736 [==============================] - 1s 1ms/step - loss: 0.0081 - accuracy: 0.9989\n",
      "Epoch 59/100\n",
      "736/736 [==============================] - 1s 1ms/step - loss: 0.0245 - accuracy: 0.9940\n",
      "Epoch 60/100\n",
      "736/736 [==============================] - 1s 1ms/step - loss: 0.0228 - accuracy: 0.9932\n",
      "Epoch 61/100\n",
      "736/736 [==============================] - 1s 1ms/step - loss: 0.0282 - accuracy: 0.9937\n",
      "Epoch 62/100\n",
      "736/736 [==============================] - 1s 1ms/step - loss: 0.0628 - accuracy: 0.9844\n",
      "Epoch 63/100\n",
      "736/736 [==============================] - 1s 1ms/step - loss: 0.0543 - accuracy: 0.9905\n",
      "Epoch 64/100\n",
      "736/736 [==============================] - 1s 1ms/step - loss: 0.0255 - accuracy: 0.9954\n",
      "Epoch 65/100\n",
      "736/736 [==============================] - 1s 1ms/step - loss: 0.0043 - accuracy: 0.9997\n",
      "Epoch 66/100\n",
      "736/736 [==============================] - 1s 1ms/step - loss: 0.0016 - accuracy: 1.0000\n",
      "Epoch 67/100\n",
      "736/736 [==============================] - 1s 1ms/step - loss: 0.0011 - accuracy: 1.0000\n",
      "Epoch 68/100\n",
      "736/736 [==============================] - 1s 1ms/step - loss: 8.4267e-04 - accuracy: 1.0000\n",
      "Epoch 69/100\n",
      "736/736 [==============================] - 1s 1ms/step - loss: 6.1963e-04 - accuracy: 1.0000\n",
      "Epoch 70/100\n",
      "736/736 [==============================] - 1s 1ms/step - loss: 0.0011 - accuracy: 0.9996\n",
      "Epoch 71/100\n",
      "736/736 [==============================] - 1s 1ms/step - loss: 0.1531 - accuracy: 0.9656\n",
      "Epoch 72/100\n",
      "736/736 [==============================] - 1s 1ms/step - loss: 0.0123 - accuracy: 0.9965\n",
      "Epoch 73/100\n",
      "736/736 [==============================] - 1s 1ms/step - loss: 0.0144 - accuracy: 0.9978\n",
      "Epoch 74/100\n",
      "736/736 [==============================] - 1s 1ms/step - loss: 0.0680 - accuracy: 0.9886\n",
      "Epoch 75/100\n",
      "736/736 [==============================] - 1s 1ms/step - loss: 0.0236 - accuracy: 0.9942\n",
      "Epoch 76/100\n",
      "736/736 [==============================] - 1s 1ms/step - loss: 0.0186 - accuracy: 0.9943\n",
      "Epoch 77/100\n",
      "736/736 [==============================] - 1s 1ms/step - loss: 0.0400 - accuracy: 0.9901\n",
      "Epoch 78/100\n",
      "736/736 [==============================] - 1s 1ms/step - loss: 0.0243 - accuracy: 0.9956\n",
      "Epoch 79/100\n",
      "736/736 [==============================] - 1s 1ms/step - loss: 0.0137 - accuracy: 0.9961\n",
      "Epoch 80/100\n",
      "736/736 [==============================] - 1s 1ms/step - loss: 0.0257 - accuracy: 0.9929\n",
      "Epoch 81/100\n",
      "736/736 [==============================] - 1s 1ms/step - loss: 0.0167 - accuracy: 0.9955\n",
      "Epoch 82/100\n",
      "736/736 [==============================] - 1s 1ms/step - loss: 0.0109 - accuracy: 0.9982\n",
      "Epoch 83/100\n",
      "736/736 [==============================] - 1s 1ms/step - loss: 0.0337 - accuracy: 0.9916\n",
      "Epoch 84/100\n",
      "736/736 [==============================] - 1s 1ms/step - loss: 0.0618 - accuracy: 0.9871\n",
      "Epoch 85/100\n",
      "736/736 [==============================] - 1s 1ms/step - loss: 0.0088 - accuracy: 0.9985\n",
      "Epoch 86/100\n",
      "736/736 [==============================] - 1s 1ms/step - loss: 0.0017 - accuracy: 0.9999\n",
      "Epoch 87/100\n",
      "736/736 [==============================] - 1s 1ms/step - loss: 6.9312e-04 - accuracy: 1.0000\n",
      "Epoch 88/100\n",
      "736/736 [==============================] - 1s 1ms/step - loss: 4.2655e-04 - accuracy: 1.0000\n",
      "Epoch 89/100\n",
      "736/736 [==============================] - 1s 1ms/step - loss: 3.3600e-04 - accuracy: 1.0000\n",
      "Epoch 90/100\n",
      "736/736 [==============================] - 1s 1ms/step - loss: 2.4365e-04 - accuracy: 1.0000\n",
      "Epoch 91/100\n",
      "736/736 [==============================] - 1s 1ms/step - loss: 1.9306e-04 - accuracy: 1.0000\n",
      "Epoch 92/100\n",
      "736/736 [==============================] - 1s 1ms/step - loss: 1.4411e-04 - accuracy: 1.0000\n",
      "Epoch 93/100\n",
      "736/736 [==============================] - 1s 1ms/step - loss: 1.0719e-04 - accuracy: 1.0000\n",
      "Epoch 94/100\n",
      "736/736 [==============================] - 1s 1ms/step - loss: 8.7079e-05 - accuracy: 1.0000\n",
      "Epoch 95/100\n",
      "736/736 [==============================] - 1s 1ms/step - loss: 6.1316e-05 - accuracy: 1.0000\n",
      "Epoch 96/100\n",
      "736/736 [==============================] - 1s 1ms/step - loss: 4.4138e-05 - accuracy: 1.0000\n",
      "Epoch 97/100\n",
      "736/736 [==============================] - 1s 1ms/step - loss: 0.1187 - accuracy: 0.9733\n",
      "Epoch 98/100\n",
      "736/736 [==============================] - 1s 1ms/step - loss: 0.0405 - accuracy: 0.9901\n",
      "Epoch 99/100\n",
      "736/736 [==============================] - 1s 1ms/step - loss: 0.0190 - accuracy: 0.9958\n",
      "Epoch 100/100\n",
      "736/736 [==============================] - 1s 1ms/step - loss: 0.0307 - accuracy: 0.9946\n"
     ]
    }
   ],
   "source": [
    "cnnhistory = cnn.fit(X_xyz_norm_train, y_train, epochs=100, batch_size = 10)"
   ]
  },
  {
   "cell_type": "code",
   "execution_count": 22,
   "id": "914130fb",
   "metadata": {},
   "outputs": [],
   "source": [
    "# cnn.save(\"my_model\")\n",
    "# tensorflow_graph = tf.saved_model.load(\"my_model\")\n",
    "# x = np.random.uniform(size=(4, 32)).astype(np.float32)\n",
    "# predicted = tensorflow_graph(x).numpy()"
   ]
  },
  {
   "cell_type": "code",
   "execution_count": 23,
   "id": "6e1b2fec",
   "metadata": {},
   "outputs": [
    {
     "data": {
      "image/png": "[encoded data removed]",
      "text/plain": [
       "<Figure size 432x288 with 1 Axes>"
      ]
     },
     "metadata": {
      "needs_background": "light"
     },
     "output_type": "display_data"
    }
   ],
   "source": [
    "loss_values = cnnhistory.history['loss']\n",
    "epochs = range(1, len(loss_values)+1)\n",
    "\n",
    "plt.plot(epochs, loss_values, label='Training Loss')\n",
    "plt.xlabel('Epochs')\n",
    "plt.ylabel('Loss')\n",
    "plt.legend()\n",
    "\n",
    "plt.show()"
   ]
  },
  {
   "cell_type": "code",
   "execution_count": 24,
   "id": "3ec887f3",
   "metadata": {},
   "outputs": [
    {
     "data": {
      "image/png": "[encoded data removed]",
      "text/plain": [
       "<Figure size 432x288 with 1 Axes>"
      ]
     },
     "metadata": {
      "needs_background": "light"
     },
     "output_type": "display_data"
    }
   ],
   "source": [
    "acc_values = cnnhistory.history['accuracy']\n",
    "epochs = range(1, len(loss_values)+1)\n",
    "\n",
    "plt.plot(epochs, acc_values, label='Training Accuracy')\n",
    "plt.xlabel('Epochs')\n",
    "plt.ylabel('Accuracy')\n",
    "plt.legend()\n",
    "\n",
    "plt.show()"
   ]
  },
  {
   "cell_type": "code",
   "execution_count": 25,
   "id": "43881807",
   "metadata": {},
   "outputs": [
    {
     "name": "stdout",
     "output_type": "stream",
     "text": [
      "array([[6.2674416e-18, 1.1517353e-16, 2.0504868e-19, 1.2353298e-05,\n",
      "        9.9982893e-01, 1.5865134e-04],\n",
      "       [9.3696127e-16, 2.6951659e-13, 1.1216037e-18, 1.4305064e-02,\n",
      "        9.8569494e-01, 3.0592877e-09],\n",
      "       [6.1417657e-13, 1.9131561e-11, 1.4100359e-14, 2.3432596e-05,\n",
      "        9.9989712e-01, 7.9360325e-05],\n",
      "       ...,\n",
      "       [2.4183854e-12, 1.0000000e+00, 4.0419676e-09, 0.0000000e+00,\n",
      "        0.0000000e+00, 6.7067713e-31],\n",
      "       [8.8178197e-12, 1.0000000e+00, 2.8490710e-08, 0.0000000e+00,\n",
      "        0.0000000e+00, 2.4869442e-26],\n",
      "       [3.5985805e-11, 2.3819868e-02, 9.7618014e-01, 5.5624333e-28,\n",
      "        0.0000000e+00, 1.8523197e-26]], dtype=float32)\n",
      "array([[[0., 0., 0., 0., 0., 1.],\n",
      "        [0., 0., 0., 0., 0., 1.],\n",
      "        [0., 0., 0., 0., 0., 1.],\n",
      "        [0., 0., 0., 0., 0., 1.],\n",
      "        [1., 0., 0., 0., 0., 0.],\n",
      "        [0., 0., 0., 0., 0., 1.]],\n",
      "\n",
      "       [[0., 0., 0., 0., 0., 1.],\n",
      "        [0., 0., 0., 0., 0., 1.],\n",
      "        [0., 0., 0., 0., 0., 1.],\n",
      "        [0., 0., 0., 0., 0., 1.],\n",
      "        [1., 0., 0., 0., 0., 0.],\n",
      "        [0., 0., 0., 0., 0., 1.]],\n",
      "\n",
      "       [[0., 0., 0., 0., 0., 1.],\n",
      "        [0., 0., 0., 0., 0., 1.],\n",
      "        [0., 0., 0., 0., 0., 1.],\n",
      "        [0., 0., 0., 0., 0., 1.],\n",
      "        [1., 0., 0., 0., 0., 0.],\n",
      "        [0., 0., 0., 0., 0., 1.]],\n",
      "\n",
      "       ...,\n",
      "\n",
      "       [[0., 0., 0., 0., 0., 1.],\n",
      "        [1., 0., 0., 0., 0., 0.],\n",
      "        [0., 0., 0., 0., 0., 1.],\n",
      "        [0., 0., 0., 0., 0., 1.],\n",
      "        [0., 0., 0., 0., 0., 1.],\n",
      "        [0., 0., 0., 0., 0., 1.]],\n",
      "\n",
      "       [[0., 0., 0., 0., 0., 1.],\n",
      "        [1., 0., 0., 0., 0., 0.],\n",
      "        [0., 0., 0., 0., 0., 1.],\n",
      "        [0., 0., 0., 0., 0., 1.],\n",
      "        [0., 0., 0., 0., 0., 1.],\n",
      "        [0., 0., 0., 0., 0., 1.]],\n",
      "\n",
      "       [[0., 0., 0., 0., 0., 1.],\n",
      "        [1., 0., 0., 0., 0., 0.],\n",
      "        [0., 0., 0., 0., 0., 1.],\n",
      "        [0., 0., 0., 0., 0., 1.],\n",
      "        [0., 0., 0., 0., 0., 1.],\n",
      "        [0., 0., 0., 0., 0., 1.]]])\n"
     ]
    }
   ],
   "source": [
    "y_test_pred = cnn.predict(X_xyz_norm_test)\n",
    "pprint.pprint(y_test_pred)\n",
    "pprint.pprint(y_test)"
   ]
  },
  {
   "cell_type": "code",
   "execution_count": 26,
   "id": "4dc015f9",
   "metadata": {},
   "outputs": [],
   "source": [
    "# tf.math.confusion_matrix(y_test,yhat)"
   ]
  },
  {
   "cell_type": "markdown",
   "id": "840f505a",
   "metadata": {},
   "source": [
    "<H1>Implementing LSTM</H1>"
   ]
  },
  {
   "cell_type": "code",
   "execution_count": 27,
   "id": "f633ae6c",
   "metadata": {},
   "outputs": [],
   "source": [
    "# LSTM\n",
    "\n",
    "lstm = models.Sequential()\n",
    "lstm.add(layers.Bidirectional(\n",
    "    layers.LSTM(128),input_shape=input_shape\n",
    "))\n",
    "\n",
    "lstm.add(layers.Dropout(rate=0.2))\n",
    "lstm.add(layers.Dense(6,activation=\"softmax\"))\n",
    "\n"
   ]
  },
  {
   "cell_type": "code",
   "execution_count": 28,
   "id": "466356da",
   "metadata": {},
   "outputs": [
    {
     "name": "stdout",
     "output_type": "stream",
     "text": [
      "Model: \"sequential_1\"\n",
      "_________________________________________________________________\n",
      " Layer (type)                Output Shape              Param #   \n",
      "=================================================================\n",
      " bidirectional (Bidirectiona  (None, 256)              135168    \n",
      " l)                                                              \n",
      "                                                                 \n",
      " dropout (Dropout)           (None, 256)               0         \n",
      "                                                                 \n",
      " dense_3 (Dense)             (None, 6)                 1542      \n",
      "                                                                 \n",
      "=================================================================\n",
      "Total params: 136,710\n",
      "Trainable params: 136,710\n",
      "Non-trainable params: 0\n",
      "_________________________________________________________________\n"
     ]
    }
   ],
   "source": [
    "lstm.summary()"
   ]
  },
  {
   "cell_type": "code",
   "execution_count": 29,
   "id": "988ff08c",
   "metadata": {},
   "outputs": [],
   "source": [
    "lstm.compile(optimizer = \"adam\",\n",
    "            loss=\"categorical_crossentropy\",\n",
    "            metrics = \"accuracy\"\n",
    "            )"
   ]
  },
  {
   "cell_type": "code",
   "execution_count": 30,
   "id": "c3de4a86",
   "metadata": {},
   "outputs": [
    {
     "name": "stdout",
     "output_type": "stream",
     "text": [
      "Epoch 1/100\n",
      "736/736 [==============================] - 12s 13ms/step - loss: 1.0143 - accuracy: 0.4634\n",
      "Epoch 2/100\n",
      "736/736 [==============================] - 9s 12ms/step - loss: 0.7964 - accuracy: 0.5730\n",
      "Epoch 3/100\n",
      "736/736 [==============================] - 9s 12ms/step - loss: 0.7940 - accuracy: 0.5854\n",
      "Epoch 4/100\n",
      "736/736 [==============================] - 9s 12ms/step - loss: 0.7003 - accuracy: 0.6085\n",
      "Epoch 5/100\n",
      "736/736 [==============================] - 9s 12ms/step - loss: 0.6849 - accuracy: 0.6204\n",
      "Epoch 6/100\n",
      "736/736 [==============================] - 9s 12ms/step - loss: 0.6553 - accuracy: 0.6247\n",
      "Epoch 7/100\n",
      "736/736 [==============================] - 9s 12ms/step - loss: 0.6285 - accuracy: 0.6359\n",
      "Epoch 8/100\n",
      "736/736 [==============================] - 9s 12ms/step - loss: 0.6323 - accuracy: 0.6446\n",
      "Epoch 9/100\n",
      "736/736 [==============================] - 9s 12ms/step - loss: 0.6329 - accuracy: 0.6363\n",
      "Epoch 10/100\n",
      "736/736 [==============================] - 9s 12ms/step - loss: 0.6248 - accuracy: 0.6401\n",
      "Epoch 11/100\n",
      "736/736 [==============================] - 9s 12ms/step - loss: 0.6244 - accuracy: 0.6295\n",
      "Epoch 12/100\n",
      "736/736 [==============================] - 9s 12ms/step - loss: 0.6205 - accuracy: 0.6428\n",
      "Epoch 13/100\n",
      "736/736 [==============================] - 9s 13ms/step - loss: 0.6328 - accuracy: 0.6381\n",
      "Epoch 14/100\n",
      "736/736 [==============================] - 9s 13ms/step - loss: 0.6160 - accuracy: 0.6413\n",
      "Epoch 15/100\n",
      "736/736 [==============================] - 9s 13ms/step - loss: 0.6058 - accuracy: 0.6472\n",
      "Epoch 16/100\n",
      "736/736 [==============================] - 9s 12ms/step - loss: 0.6216 - accuracy: 0.6508\n",
      "Epoch 17/100\n",
      "736/736 [==============================] - 9s 12ms/step - loss: 0.6121 - accuracy: 0.6416\n",
      "Epoch 18/100\n",
      "736/736 [==============================] - 9s 12ms/step - loss: 0.5988 - accuracy: 0.6673\n",
      "Epoch 19/100\n",
      "736/736 [==============================] - 9s 13ms/step - loss: 0.5999 - accuracy: 0.6615\n",
      "Epoch 20/100\n",
      "736/736 [==============================] - 9s 12ms/step - loss: 0.5929 - accuracy: 0.6704\n",
      "Epoch 21/100\n",
      "736/736 [==============================] - 9s 12ms/step - loss: 0.6085 - accuracy: 0.6617\n",
      "Epoch 22/100\n",
      "736/736 [==============================] - 9s 12ms/step - loss: 0.6298 - accuracy: 0.6488\n",
      "Epoch 23/100\n",
      "736/736 [==============================] - 9s 12ms/step - loss: 0.5994 - accuracy: 0.6629\n",
      "Epoch 24/100\n",
      "736/736 [==============================] - 10s 13ms/step - loss: 0.5966 - accuracy: 0.6541\n",
      "Epoch 25/100\n",
      "736/736 [==============================] - 9s 13ms/step - loss: 0.5986 - accuracy: 0.6500\n",
      "Epoch 26/100\n",
      "736/736 [==============================] - 9s 13ms/step - loss: 0.6057 - accuracy: 0.6473\n",
      "Epoch 27/100\n",
      "736/736 [==============================] - 9s 13ms/step - loss: 0.6092 - accuracy: 0.6530\n",
      "Epoch 28/100\n",
      "736/736 [==============================] - 10s 13ms/step - loss: 0.6048 - accuracy: 0.6479\n",
      "Epoch 29/100\n",
      "736/736 [==============================] - 10s 13ms/step - loss: 0.5954 - accuracy: 0.6567\n",
      "Epoch 30/100\n",
      "736/736 [==============================] - 9s 12ms/step - loss: 0.6149 - accuracy: 0.6561\n",
      "Epoch 31/100\n",
      "736/736 [==============================] - 10s 13ms/step - loss: 0.5941 - accuracy: 0.6700\n",
      "Epoch 32/100\n",
      "736/736 [==============================] - 9s 13ms/step - loss: 0.5872 - accuracy: 0.6729\n",
      "Epoch 33/100\n",
      "736/736 [==============================] - 9s 13ms/step - loss: 0.5896 - accuracy: 0.6609\n",
      "Epoch 34/100\n",
      "736/736 [==============================] - 9s 13ms/step - loss: 0.5966 - accuracy: 0.6610\n",
      "Epoch 35/100\n",
      "736/736 [==============================] - 10s 14ms/step - loss: 0.5829 - accuracy: 0.6912\n",
      "Epoch 36/100\n",
      "736/736 [==============================] - 10s 13ms/step - loss: 0.6070 - accuracy: 0.6530\n",
      "Epoch 37/100\n",
      "736/736 [==============================] - 10s 13ms/step - loss: 0.5916 - accuracy: 0.6548\n",
      "Epoch 38/100\n",
      "736/736 [==============================] - 9s 13ms/step - loss: 0.5789 - accuracy: 0.6801\n",
      "Epoch 39/100\n",
      "736/736 [==============================] - 10s 13ms/step - loss: 0.5860 - accuracy: 0.6647\n",
      "Epoch 40/100\n",
      "736/736 [==============================] - 9s 12ms/step - loss: 0.5913 - accuracy: 0.6801\n",
      "Epoch 41/100\n",
      "736/736 [==============================] - 9s 12ms/step - loss: 0.5703 - accuracy: 0.6976\n",
      "Epoch 42/100\n",
      "736/736 [==============================] - 9s 12ms/step - loss: 0.5764 - accuracy: 0.6882\n",
      "Epoch 43/100\n",
      "736/736 [==============================] - 9s 12ms/step - loss: 0.6173 - accuracy: 0.6582\n",
      "Epoch 44/100\n",
      "736/736 [==============================] - 9s 12ms/step - loss: 0.5881 - accuracy: 0.6718\n",
      "Epoch 45/100\n",
      "736/736 [==============================] - 9s 12ms/step - loss: 0.5725 - accuracy: 0.6844\n",
      "Epoch 46/100\n",
      "736/736 [==============================] - 9s 12ms/step - loss: 0.5785 - accuracy: 0.6793\n",
      "Epoch 47/100\n",
      "736/736 [==============================] - 9s 12ms/step - loss: 0.5964 - accuracy: 0.6699\n",
      "Epoch 48/100\n",
      "736/736 [==============================] - 9s 12ms/step - loss: 0.5818 - accuracy: 0.6923\n",
      "Epoch 49/100\n",
      "736/736 [==============================] - 9s 12ms/step - loss: 0.5733 - accuracy: 0.6850\n",
      "Epoch 50/100\n",
      "736/736 [==============================] - 9s 12ms/step - loss: 0.5696 - accuracy: 0.6912\n",
      "Epoch 51/100\n",
      "736/736 [==============================] - 9s 12ms/step - loss: 0.5541 - accuracy: 0.7016\n",
      "Epoch 52/100\n",
      "736/736 [==============================] - 9s 12ms/step - loss: 0.5679 - accuracy: 0.6994\n",
      "Epoch 53/100\n",
      "736/736 [==============================] - 9s 12ms/step - loss: 0.5613 - accuracy: 0.7043\n",
      "Epoch 54/100\n",
      "736/736 [==============================] - 9s 13ms/step - loss: 0.5502 - accuracy: 0.7133\n",
      "Epoch 55/100\n",
      "736/736 [==============================] - 9s 12ms/step - loss: 0.5660 - accuracy: 0.6885\n",
      "Epoch 56/100\n",
      "736/736 [==============================] - 9s 12ms/step - loss: 0.5738 - accuracy: 0.6891\n",
      "Epoch 57/100\n",
      "736/736 [==============================] - 9s 12ms/step - loss: 0.5382 - accuracy: 0.7091\n",
      "Epoch 58/100\n",
      "736/736 [==============================] - 9s 12ms/step - loss: 0.5308 - accuracy: 0.7247\n",
      "Epoch 59/100\n",
      "736/736 [==============================] - 9s 12ms/step - loss: 0.5222 - accuracy: 0.7228\n",
      "Epoch 60/100\n",
      "736/736 [==============================] - 9s 13ms/step - loss: 0.5329 - accuracy: 0.7323\n",
      "Epoch 61/100\n",
      "736/736 [==============================] - 9s 13ms/step - loss: 0.4925 - accuracy: 0.7661\n",
      "Epoch 62/100\n",
      "736/736 [==============================] - 9s 12ms/step - loss: 0.4914 - accuracy: 0.7576\n",
      "Epoch 63/100\n",
      "736/736 [==============================] - 9s 12ms/step - loss: 0.4573 - accuracy: 0.7875\n",
      "Epoch 64/100\n",
      "736/736 [==============================] - 9s 12ms/step - loss: 0.4474 - accuracy: 0.7920\n",
      "Epoch 65/100\n",
      "736/736 [==============================] - 9s 12ms/step - loss: 0.4225 - accuracy: 0.8108\n",
      "Epoch 66/100\n",
      "736/736 [==============================] - 9s 12ms/step - loss: 0.4289 - accuracy: 0.8002\n",
      "Epoch 67/100\n",
      "736/736 [==============================] - 9s 12ms/step - loss: 0.4116 - accuracy: 0.8134\n",
      "Epoch 68/100\n",
      "736/736 [==============================] - 9s 12ms/step - loss: 0.3965 - accuracy: 0.8211\n",
      "Epoch 69/100\n",
      "736/736 [==============================] - 9s 12ms/step - loss: 0.3885 - accuracy: 0.8297\n",
      "Epoch 70/100\n",
      "736/736 [==============================] - 9s 13ms/step - loss: 0.3717 - accuracy: 0.8358\n",
      "Epoch 71/100\n",
      "736/736 [==============================] - 9s 12ms/step - loss: 0.3896 - accuracy: 0.8300\n",
      "Epoch 72/100\n",
      "736/736 [==============================] - 9s 12ms/step - loss: 0.3621 - accuracy: 0.8417\n",
      "Epoch 73/100\n",
      "736/736 [==============================] - 9s 13ms/step - loss: 0.3495 - accuracy: 0.8517\n",
      "Epoch 74/100\n",
      "736/736 [==============================] - 10s 13ms/step - loss: 0.3363 - accuracy: 0.8553\n",
      "Epoch 75/100\n",
      "736/736 [==============================] - 10s 14ms/step - loss: 0.3324 - accuracy: 0.8557\n",
      "Epoch 76/100\n",
      "736/736 [==============================] - 10s 13ms/step - loss: 0.3258 - accuracy: 0.8589\n",
      "Epoch 77/100\n",
      "736/736 [==============================] - 10s 13ms/step - loss: 0.3302 - accuracy: 0.8570\n",
      "Epoch 78/100\n",
      "736/736 [==============================] - 10s 14ms/step - loss: 0.3305 - accuracy: 0.8587\n",
      "Epoch 79/100\n",
      "736/736 [==============================] - 10s 14ms/step - loss: 0.3214 - accuracy: 0.8649\n",
      "Epoch 80/100\n",
      "736/736 [==============================] - 11s 14ms/step - loss: 0.3181 - accuracy: 0.8629\n",
      "Epoch 81/100\n",
      "736/736 [==============================] - 12s 16ms/step - loss: 0.3076 - accuracy: 0.8653\n",
      "Epoch 82/100\n",
      "736/736 [==============================] - 11s 15ms/step - loss: 0.2954 - accuracy: 0.8727\n",
      "Epoch 83/100\n",
      "736/736 [==============================] - 11s 15ms/step - loss: 0.2925 - accuracy: 0.8764\n",
      "Epoch 84/100\n",
      "736/736 [==============================] - 11s 15ms/step - loss: 0.2944 - accuracy: 0.8735\n",
      "Epoch 85/100\n",
      "736/736 [==============================] - 11s 14ms/step - loss: 0.2886 - accuracy: 0.8777\n",
      "Epoch 86/100\n",
      "736/736 [==============================] - 10s 14ms/step - loss: 0.2863 - accuracy: 0.8792\n",
      "Epoch 87/100\n",
      "736/736 [==============================] - 10s 14ms/step - loss: 0.2892 - accuracy: 0.8774\n",
      "Epoch 88/100\n",
      "736/736 [==============================] - 10s 14ms/step - loss: 0.2747 - accuracy: 0.8828\n",
      "Epoch 89/100\n",
      "736/736 [==============================] - 11s 14ms/step - loss: 0.2771 - accuracy: 0.8828\n",
      "Epoch 90/100\n",
      "736/736 [==============================] - 10s 14ms/step - loss: 0.2700 - accuracy: 0.8857\n",
      "Epoch 91/100\n",
      "736/736 [==============================] - 11s 14ms/step - loss: 0.2741 - accuracy: 0.8832\n",
      "Epoch 92/100\n",
      "736/736 [==============================] - 10s 14ms/step - loss: 0.2723 - accuracy: 0.8815\n",
      "Epoch 93/100\n",
      "736/736 [==============================] - 10s 14ms/step - loss: 0.2592 - accuracy: 0.8893\n",
      "Epoch 94/100\n",
      "736/736 [==============================] - 10s 14ms/step - loss: 0.2576 - accuracy: 0.8925\n",
      "Epoch 95/100\n",
      "736/736 [==============================] - 10s 14ms/step - loss: 0.2547 - accuracy: 0.8913\n",
      "Epoch 96/100\n",
      "736/736 [==============================] - 10s 14ms/step - loss: 0.2455 - accuracy: 0.8993\n",
      "Epoch 97/100\n",
      "736/736 [==============================] - 10s 14ms/step - loss: 0.2457 - accuracy: 0.8950\n",
      "Epoch 98/100\n",
      "736/736 [==============================] - 10s 14ms/step - loss: 0.2457 - accuracy: 0.8940\n",
      "Epoch 99/100\n",
      "736/736 [==============================] - 10s 14ms/step - loss: 0.2341 - accuracy: 0.9000\n",
      "Epoch 100/100\n",
      "736/736 [==============================] - 10s 14ms/step - loss: 0.2295 - accuracy: 0.9057\n"
     ]
    }
   ],
   "source": [
    "lstmhistory = lstm.fit(X_xyz_norm_train,y_train,epochs = 100,batch_size=10)"
   ]
  },
  {
   "cell_type": "code",
   "execution_count": 31,
   "id": "87735797",
   "metadata": {},
   "outputs": [
    {
     "data": {
      "image/png": "[encoded data removed]",
      "text/plain": [
       "<Figure size 432x288 with 1 Axes>"
      ]
     },
     "metadata": {
      "needs_background": "light"
     },
     "output_type": "display_data"
    }
   ],
   "source": [
    "loss_values = lstmhistory.history['loss']\n",
    "epochs = range(1, len(loss_values)+1)\n",
    "\n",
    "plt.plot(epochs, loss_values, label='Training Loss')\n",
    "plt.xlabel('Epochs')\n",
    "plt.ylabel('Loss')\n",
    "plt.legend()\n",
    "\n",
    "plt.show()"
   ]
  },
  {
   "cell_type": "code",
   "execution_count": 32,
   "id": "cd69e1ff",
   "metadata": {},
   "outputs": [
    {
     "data": {
      "image/png": "[encoded data removed]",
      "text/plain": [
       "<Figure size 432x288 with 1 Axes>"
      ]
     },
     "metadata": {
      "needs_background": "light"
     },
     "output_type": "display_data"
    }
   ],
   "source": [
    "acc_values = lstmhistory.history['accuracy']\n",
    "epochs = range(1, len(loss_values)+1)\n",
    "\n",
    "plt.plot(epochs, acc_values, label='Training Accuracy')\n",
    "plt.xlabel('Epochs')\n",
    "plt.ylabel('Accuracy')\n",
    "plt.legend()\n",
    "\n",
    "plt.show()"
   ]
  },
  {
   "cell_type": "code",
   "execution_count": 33,
   "id": "ad775d65",
   "metadata": {},
   "outputs": [
    {
     "name": "stdout",
     "output_type": "stream",
     "text": [
      "notebook took 1050.4225 seconds to finish\n"
     ]
    }
   ],
   "source": [
    "end = time.perf_counter()\n",
    "print(f\"notebook took {end - start:0.4f} seconds to finish\")"
   ]
  },
  {
   "cell_type": "code",
   "execution_count": null,
   "id": "94ec33e0-a35e-4151-a6c8-2192a8bb3f42",
   "metadata": {},
   "outputs": [],
   "source": []
  },
  {
   "cell_type": "code",
   "execution_count": null,
   "id": "705d5598-e076-437e-a5fc-a6bd05cf291e",
   "metadata": {},
   "outputs": [],
   "source": []
  }
 ],
 "metadata": {
  "kernelspec": {
   "display_name": "Python 3 (ipykernel)",
   "language": "python",
   "name": "python3"
  },
  "language_info": {
   "codemirror_mode": {
    "name": "ipython",
    "version": 3
   },
   "file_extension": ".py",
   "mimetype": "text/x-python",
   "name": "python",
   "nbconvert_exporter": "python",
   "pygments_lexer": "ipython3",
   "version": "3.10.2"
  }
 },
 "nbformat": 4,
 "nbformat_minor": 5
}
